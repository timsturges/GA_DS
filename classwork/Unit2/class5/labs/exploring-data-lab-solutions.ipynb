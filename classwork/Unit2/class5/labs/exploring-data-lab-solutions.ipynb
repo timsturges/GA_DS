{
 "cells": [
  {
   "cell_type": "markdown",
   "metadata": {},
   "source": [
    "### Pandas Lab - Finding, Querying, Creating Data"
   ]
  },
  {
   "cell_type": "markdown",
   "metadata": {},
   "source": [
    "### Section 1: Selecting Data\n",
    "\n",
    "Complete the following prompts, and compare your results with the answers to confirm that you did the operation properly."
   ]
  },
  {
   "cell_type": "code",
   "execution_count": 18,
   "metadata": {},
   "outputs": [],
   "source": [
    "# load the data first - adjust to get the correct file path\n",
    "import pandas as pd\n",
    "import numpy as np\n",
    "df = pd.read_csv('../../data/titanic.csv')"
   ]
  },
  {
   "cell_type": "markdown",
   "metadata": {},
   "source": [
    "**1).** Find the average age of all passengers on board.  The answer will be 29.7"
   ]
  },
  {
   "cell_type": "code",
   "execution_count": 6,
   "metadata": {},
   "outputs": [
    {
     "data": {
      "text/plain": [
       "29.69911764705882"
      ]
     },
     "execution_count": 6,
     "metadata": {},
     "output_type": "execute_result"
    }
   ],
   "source": [
    "# Your Code Here\n",
    "df['Age'].mean()"
   ]
  },
  {
   "cell_type": "markdown",
   "metadata": {},
   "source": [
    "**2).** Find the median value of the 'Fare' and 'SibSp' columns.  The answer will be 14.45 and 0.00, respectively."
   ]
  },
  {
   "cell_type": "code",
   "execution_count": 7,
   "metadata": {},
   "outputs": [
    {
     "data": {
      "text/plain": [
       "Fare     14.4542\n",
       "SibSp     0.0000\n",
       "dtype: float64"
      ]
     },
     "execution_count": 7,
     "metadata": {},
     "output_type": "execute_result"
    }
   ],
   "source": [
    "# Your Code Here\n",
    "df[['Fare', 'SibSp']].median()"
   ]
  },
  {
   "cell_type": "markdown",
   "metadata": {},
   "source": [
    "**3).** Find the median value of *the first 100 rows* of Fare and SibSp columns.  The answer will be 15.675 and 0.00."
   ]
  },
  {
   "cell_type": "code",
   "execution_count": 8,
   "metadata": {},
   "outputs": [
    {
     "data": {
      "text/plain": [
       "Fare     15.675\n",
       "SibSp     0.000\n",
       "dtype: float64"
      ]
     },
     "execution_count": 8,
     "metadata": {},
     "output_type": "execute_result"
    }
   ],
   "source": [
    "# Your Code Here\n",
    "df[['Fare', 'SibSp']][:100].median()"
   ]
  },
  {
   "cell_type": "markdown",
   "metadata": {},
   "source": [
    "**4).** Using the .iloc command, grab the modal value of the last 4 columns in the dataset.  The result should be a 3x3 dataframe that has the values 1601, 8.05, B96 B98, and S in the first row."
   ]
  },
  {
   "cell_type": "code",
   "execution_count": 9,
   "metadata": {},
   "outputs": [
    {
     "data": {
      "text/html": [
       "<div>\n",
       "<style scoped>\n",
       "    .dataframe tbody tr th:only-of-type {\n",
       "        vertical-align: middle;\n",
       "    }\n",
       "\n",
       "    .dataframe tbody tr th {\n",
       "        vertical-align: top;\n",
       "    }\n",
       "\n",
       "    .dataframe thead th {\n",
       "        text-align: right;\n",
       "    }\n",
       "</style>\n",
       "<table border=\"1\" class=\"dataframe\">\n",
       "  <thead>\n",
       "    <tr style=\"text-align: right;\">\n",
       "      <th></th>\n",
       "      <th>Ticket</th>\n",
       "      <th>Fare</th>\n",
       "      <th>Cabin</th>\n",
       "      <th>Embarked</th>\n",
       "    </tr>\n",
       "  </thead>\n",
       "  <tbody>\n",
       "    <tr>\n",
       "      <th>0</th>\n",
       "      <td>1601</td>\n",
       "      <td>8.05</td>\n",
       "      <td>B96 B98</td>\n",
       "      <td>S</td>\n",
       "    </tr>\n",
       "    <tr>\n",
       "      <th>1</th>\n",
       "      <td>347082</td>\n",
       "      <td>NaN</td>\n",
       "      <td>C23 C25 C27</td>\n",
       "      <td>NaN</td>\n",
       "    </tr>\n",
       "    <tr>\n",
       "      <th>2</th>\n",
       "      <td>CA. 2343</td>\n",
       "      <td>NaN</td>\n",
       "      <td>G6</td>\n",
       "      <td>NaN</td>\n",
       "    </tr>\n",
       "  </tbody>\n",
       "</table>\n",
       "</div>"
      ],
      "text/plain": [
       "     Ticket  Fare        Cabin Embarked\n",
       "0      1601  8.05      B96 B98        S\n",
       "1    347082   NaN  C23 C25 C27      NaN\n",
       "2  CA. 2343   NaN           G6      NaN"
      ]
     },
     "execution_count": 9,
     "metadata": {},
     "output_type": "execute_result"
    }
   ],
   "source": [
    "# Your Code Here\n",
    "df.iloc[:, -4:].mode()"
   ]
  },
  {
   "cell_type": "markdown",
   "metadata": {},
   "source": [
    "**5).** Using the .iloc command, grab the mean value of the first 250 rows of the first 3 columns in the dataset.  The answer should be:\n",
    "    - Passengerid: 125.5\n",
    "    - Survived: 0.344\n",
    "    - Pclass: 2.416"
   ]
  },
  {
   "cell_type": "code",
   "execution_count": 10,
   "metadata": {},
   "outputs": [
    {
     "data": {
      "text/plain": [
       "PassengerId    125.500\n",
       "Survived         0.344\n",
       "Pclass           2.416\n",
       "dtype: float64"
      ]
     },
     "execution_count": 10,
     "metadata": {},
     "output_type": "execute_result"
    }
   ],
   "source": [
    "# Your Code Here\n",
    "df.iloc[:250, :3].mean()"
   ]
  },
  {
   "cell_type": "markdown",
   "metadata": {},
   "source": [
    "### Section 2: Querying Data"
   ]
  },
  {
   "cell_type": "markdown",
   "metadata": {},
   "source": [
    "**1).** How many females were on board the Titanic? Men? The answers should be 314, 577"
   ]
  },
  {
   "cell_type": "code",
   "execution_count": 11,
   "metadata": {},
   "outputs": [
    {
     "name": "stdout",
     "output_type": "stream",
     "text": [
      "# of females 314\n",
      "# of males 577\n"
     ]
    }
   ],
   "source": [
    "# Your Code Here\n",
    "num_females = df[df.Sex == 'female'].shape[0]\n",
    "num_males   = df[df.Sex == 'male'].shape[0]\n",
    "print(\"# of females\", num_females)\n",
    "print(\"# of males\", num_males)"
   ]
  },
  {
   "cell_type": "markdown",
   "metadata": {},
   "source": [
    "**2).** What was the survival rate for females on the Titanic? The answer should be 0.74"
   ]
  },
  {
   "cell_type": "code",
   "execution_count": 13,
   "metadata": {},
   "outputs": [
    {
     "data": {
      "text/plain": [
       "0.7420382165605095"
      ]
     },
     "execution_count": 13,
     "metadata": {},
     "output_type": "execute_result"
    }
   ],
   "source": [
    "# Your Code Here\n",
    "df[df.Sex == 'female']['Survived'].mean()"
   ]
  },
  {
   "cell_type": "markdown",
   "metadata": {},
   "source": [
    "**3).** What was the survival rate for Males? The answer should be 0.19"
   ]
  },
  {
   "cell_type": "code",
   "execution_count": 14,
   "metadata": {},
   "outputs": [
    {
     "data": {
      "text/plain": [
       "0.18890814558058924"
      ]
     },
     "execution_count": 14,
     "metadata": {},
     "output_type": "execute_result"
    }
   ],
   "source": [
    "# Your Code Here\n",
    "df[df.Sex == 'male']['Survived'].mean()"
   ]
  },
  {
   "cell_type": "markdown",
   "metadata": {},
   "source": [
    "**4).** What was the survival rate for passengers in either Pclass 1 or Pclass 2?  The answer should be 0.5575"
   ]
  },
  {
   "cell_type": "code",
   "execution_count": 15,
   "metadata": {},
   "outputs": [
    {
     "data": {
      "text/plain": [
       "0.5575"
      ]
     },
     "execution_count": 15,
     "metadata": {},
     "output_type": "execute_result"
    }
   ],
   "source": [
    "# Your Code Here\n",
    "df[(df.Pclass == 1) | (df.Pclass == 2)]['Survived'].mean()"
   ]
  },
  {
   "cell_type": "markdown",
   "metadata": {},
   "source": [
    "**5).** What was the survival rate if you were female and had at least 1 sibling on board? The answer should be 0.686."
   ]
  },
  {
   "cell_type": "code",
   "execution_count": 16,
   "metadata": {},
   "outputs": [
    {
     "data": {
      "text/plain": [
       "0.6857142857142857"
      ]
     },
     "execution_count": 16,
     "metadata": {},
     "output_type": "execute_result"
    }
   ],
   "source": [
    "# Your Code Here\n",
    "df[(df.Sex == 'female') & (df.SibSp >= 1)]['Survived'].mean()"
   ]
  },
  {
   "cell_type": "markdown",
   "metadata": {},
   "source": [
    "### Section 3: Creating New Data"
   ]
  },
  {
   "cell_type": "markdown",
   "metadata": {},
   "source": [
    "**1).** Create a column called 'Is_Alone' that's either True or False, depending on whether or not the column 'Family_Size' is > 0 or not."
   ]
  },
  {
   "cell_type": "code",
   "execution_count": 19,
   "metadata": {},
   "outputs": [],
   "source": [
    "# Your Code Here\n",
    "df['Family_Size'] = df.Parch + df.SibSp\n",
    "df['Is_Alone']    = np.where(df.Family_Size < 1, True, False)"
   ]
  },
  {
   "cell_type": "markdown",
   "metadata": {},
   "source": [
    "**2).** Create a column called 'Demographic' that breaks people up into the following categories:\n",
    " - Below 8 years old: 'Child'\n",
    " - 8 - 21 years old: 'Adolescent'\n",
    " - 22 - 55 years old: 'Adult'\n",
    " - 55+: 'Senior'"
   ]
  },
  {
   "cell_type": "code",
   "execution_count": 30,
   "metadata": {},
   "outputs": [],
   "source": [
    "# Your Code Here\n",
    "df['Demographic'] = pd.cut(df['Age'], bins=[df['Age'].min(), 7, 21, 55, df['Age'].max()], labels=['Child', 'Adolescent', 'Adult', 'Senior'])"
   ]
  },
  {
   "cell_type": "code",
   "execution_count": 34,
   "metadata": {},
   "outputs": [
    {
     "data": {
      "text/plain": [
       "Adult         470\n",
       "Adolescent    154\n",
       "Child          49\n",
       "Senior         40\n",
       "Name: Demographic, dtype: int64"
      ]
     },
     "execution_count": 34,
     "metadata": {},
     "output_type": "execute_result"
    }
   ],
   "source": [
    "df['Demographic'].value_counts()"
   ]
  },
  {
   "cell_type": "markdown",
   "metadata": {},
   "source": [
    "**3).** Create a column called 'Gender_Status' that returns the following values:\n",
    "\n",
    " - 'F-High' if passenger is female and passenger class is 1.\n",
    " - 'F-Low' if passenger is female and passenger class is 2 or 3\n",
    " - 'M-High' if passenger is male and passenger class is 1\n",
    " - 'M-Low' if passenger is male and passenger class is 2 or 3"
   ]
  },
  {
   "cell_type": "code",
   "execution_count": 38,
   "metadata": {},
   "outputs": [],
   "source": [
    "# Your Code Here\n",
    "conditions = [\n",
    "    (df.Sex == 'female') & (df.Pclass == 1),\n",
    "    (df.Sex == 'female') & ((df.Pclass == 2) | (df.Pclass == 3)),\n",
    "    (df.Sex == 'male') & (df.Pclass == 1),\n",
    "    (df.Sex == 'male') & ((df.Pclass == 2) | (df.Pclass == 3))\n",
    "]\n",
    "\n",
    "results = [\n",
    "    'F-High',\n",
    "    'F-Low',\n",
    "    'M-High',\n",
    "    'M-Low'\n",
    "]\n",
    "\n",
    "df['Gender_Status'] = np.select(conditions, results, 'Other')"
   ]
  },
  {
   "cell_type": "code",
   "execution_count": 39,
   "metadata": {},
   "outputs": [
    {
     "data": {
      "text/plain": [
       "M-Low     455\n",
       "F-Low     220\n",
       "M-High    122\n",
       "F-High     94\n",
       "Name: Gender_Status, dtype: int64"
      ]
     },
     "execution_count": 39,
     "metadata": {},
     "output_type": "execute_result"
    }
   ],
   "source": [
    "df['Gender_Status'].value_counts()"
   ]
  },
  {
   "cell_type": "markdown",
   "metadata": {},
   "source": [
    "**4).** Using string methods, extract the *greeting* of the persons name on board.  Ie, if someone's name is 'Ms. Madame Bovary', create a column that contains the value 'Ms.' and nothing else."
   ]
  },
  {
   "cell_type": "code",
   "execution_count": 45,
   "metadata": {},
   "outputs": [],
   "source": [
    "# Your Code Here\n",
    "df['Greeting'] = df['Name'].str.split().str[1]"
   ]
  },
  {
   "cell_type": "code",
   "execution_count": 46,
   "metadata": {},
   "outputs": [
    {
     "data": {
      "text/plain": [
       "0      Mr.\n",
       "1     Mrs.\n",
       "2    Miss.\n",
       "3     Mrs.\n",
       "4      Mr.\n",
       "Name: Greeting, dtype: object"
      ]
     },
     "execution_count": 46,
     "metadata": {},
     "output_type": "execute_result"
    }
   ],
   "source": [
    "df['Greeting'].head()"
   ]
  },
  {
   "cell_type": "code",
   "execution_count": null,
   "metadata": {},
   "outputs": [],
   "source": []
  }
 ],
 "metadata": {
  "kernelspec": {
   "display_name": "Python 3",
   "language": "python",
   "name": "python3"
  },
  "language_info": {
   "codemirror_mode": {
    "name": "ipython",
    "version": 3
   },
   "file_extension": ".py",
   "mimetype": "text/x-python",
   "name": "python",
   "nbconvert_exporter": "python",
   "pygments_lexer": "ipython3",
   "version": "3.7.1"
  }
 },
 "nbformat": 4,
 "nbformat_minor": 2
}
