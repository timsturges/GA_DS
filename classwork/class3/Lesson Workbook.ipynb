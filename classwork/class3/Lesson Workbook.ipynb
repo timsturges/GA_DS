{
 "cells": [
  {
   "cell_type": "markdown",
   "metadata": {},
   "source": [
    "### Lesson 3 Workbook"
   ]
  },
  {
   "cell_type": "markdown",
   "metadata": {},
   "source": [
    "#### Exercise 1: Conditional Logic"
   ]
  },
  {
   "cell_type": "markdown",
   "metadata": {},
   "source": [
    "**Your Task:** Take a look at the following 3-4 control flow statements, and troubleshoot why they're getting error messages, and try to fix them."
   ]
  },
  {
   "cell_type": "code",
   "execution_count": 2,
   "metadata": {},
   "outputs": [],
   "source": [
    "# Remove the error messages\n",
    "var = 23\n",
    "\n",
    "if var <= 22:\n",
    "    print(\"It's true.\")"
   ]
  },
  {
   "cell_type": "code",
   "execution_count": 5,
   "metadata": {},
   "outputs": [
    {
     "name": "stdout",
     "output_type": "stream",
     "text": [
      "It's a string\n",
      "Goodbye.\n"
     ]
    }
   ],
   "source": [
    "var2 = 'A string'\n",
    "\n",
    "if type(var2) == str:\n",
    "    print(\"It's a string\")\n",
    "    print(\"Goodbye.\")"
   ]
  },
  {
   "cell_type": "code",
   "execution_count": 9,
   "metadata": {},
   "outputs": [
    {
     "name": "stdout",
     "output_type": "stream",
     "text": [
      "They're something else.\n"
     ]
    }
   ],
   "source": [
    "var3 = 'Another string'\n",
    "var4 = True\n",
    "\n",
    "if type(var3) == str and type(var4) == str:\n",
    "    print(\"They're both strings.\")\n",
    "elif type(var3) == bool and type(var4) == bool:\n",
    "    print(\"They're booleans\")\n",
    "else:\n",
    "    print(\"They're something else.\")"
   ]
  },
  {
   "cell_type": "markdown",
   "metadata": {},
   "source": [
    "This comparison is meant to go through the following conditions:\n",
    " - Checks first to see if it's a number of any type (int or float), and prints a message confirming that it does\n",
    " - Checks second to see if it's a string, and then prints a message confirming as much\n",
    " - Checks to see if it's a boolean value, and then prints a message confirming as much\n",
    " - Finally, prints a message called 'None of the Above' if none of these are true.\n",
    " \n",
    "**The statement below is not correct**, but it does not give an error message.  Try different variable types to see how it doesn't progress the way it should.  \n",
    "\n",
    "See if you can catch the error."
   ]
  },
  {
   "cell_type": "code",
   "execution_count": 16,
   "metadata": {},
   "outputs": [
    {
     "name": "stdout",
     "output_type": "stream",
     "text": [
      "It's a string . . .\n",
      ". . . and it's totally uninteresting.\n"
     ]
    }
   ],
   "source": [
    "var5 = 'a string'\n",
    "\n",
    "if type(var5) == float:\n",
    "    print(\"It's a float.\")\n",
    "if type(var5) == int:\n",
    "    print(\"It's an int . . .\")\n",
    "    if var5 % 2 == 0:\n",
    "        print(\". . . and it's even.\")\n",
    "    else:\n",
    "        print(\". . . and it's odd.\")\n",
    "elif type(var5) == str:\n",
    "    print(\"It's a string . . .\")\n",
    "    if len(var5) < 8:\n",
    "        print(\". . . and it's totally uninteresting.\")\n",
    "    else:\n",
    "        print(\". . . and it's at least 8 characters long!\")\n",
    "elif type(var5) == bool:\n",
    "    print(\"It's a boolean.\")\n",
    "else:\n",
    "    print(\"It's something else.\")"
   ]
  },
  {
   "cell_type": "markdown",
   "metadata": {},
   "source": [
    "To build on the last exercise, extend it in the following way:\n",
    " - If the variable is a number, then check to see if it's even or odd.\n",
    "  - If it's odd, print a statement saying as much.  Ditto if it's even.\n",
    " - If the variable is a string, check to see if it's at least 8 letters long.\n",
    "  - If it is, print a statement saying as such.\n",
    "  - If it's less than 8 letters long, print something else."
   ]
  },
  {
   "cell_type": "markdown",
   "metadata": {},
   "source": [
    "**Exercise 2: Final Comparison**\n",
    "\n",
    "Imagine you are writing conditional logic to verify password integrity, and a user provides you with a password to use, and repeats it for you again to verify its authenticity (a common practice).\n",
    "\n",
    "Implement an if/else statement that properly checks for password integrity in the following ways:\n",
    " - double checks to make sure the version of the passwords are equal to one another.  If not, provide an error message.\n",
    " - If they are equal, checks to make sure the password contains both numbers and letters (hint: look at the methods isalpha() and isnumeric() for this).  If not, display an error message.\n",
    " - If they contain both numbers and letters, make sure it's at least 8 letters long.  If not, display an error message.\n",
    " - If the password meets these criteria, create a variable called permanent password, and set it equal to the password provided by the user."
   ]
  },
  {
   "cell_type": "code",
   "execution_count": 31,
   "metadata": {},
   "outputs": [
    {
     "name": "stdout",
     "output_type": "stream",
     "text": [
      "Congratulations! You've made an outstanding password, and here it is for all to see: P8ssw0rd!\n"
     ]
    }
   ],
   "source": [
    "# Your Code Here\n",
    "password_ver1 = 'P8ssw0rd!'\n",
    "password_ver2 = 'P8ssw0rd!'\n",
    "\n",
    "if password_ver1 == password_ver2:\n",
    "    if not password_ver1.isalpha() and not password_ver1.isnumeric():\n",
    "        if len(password_ver1) < 8:\n",
    "            print(\"Your password is too short. Make sure it's at least 8 characters long.\")\n",
    "        else:\n",
    "            permanent_password = password_ver1\n",
    "            print(\"Congratulations! You've made an outstanding password,\",\n",
    "                  \"and here it is for all to see:\",\n",
    "                  permanent_password)\n",
    "    else:\n",
    "        print(\"Your password is not secure enough. Make sure it contains both numbers and letters.\")\n",
    "else:\n",
    "    print(\"Your password failed the most basic check!\")"
   ]
  },
  {
   "cell_type": "markdown",
   "metadata": {},
   "source": [
    "#### Exercise 4: Lists"
   ]
  },
  {
   "cell_type": "markdown",
   "metadata": {},
   "source": [
    "Take the following list, and use it to practice various types of slices and list operations:"
   ]
  },
  {
   "cell_type": "code",
   "execution_count": 6,
   "metadata": {},
   "outputs": [],
   "source": [
    "my_list = [1, 2, 3, 38, 49, 'a string', 'another string', 'some other string', True, False, 21.8, 'yet another strin', 'the last item']"
   ]
  },
  {
   "cell_type": "markdown",
   "metadata": {},
   "source": [
    "Grab the first 10 items in the list:"
   ]
  },
  {
   "cell_type": "code",
   "execution_count": null,
   "metadata": {},
   "outputs": [],
   "source": []
  },
  {
   "cell_type": "markdown",
   "metadata": {},
   "source": [
    "Grab the last 10 items in the list:"
   ]
  },
  {
   "cell_type": "code",
   "execution_count": null,
   "metadata": {},
   "outputs": [],
   "source": []
  },
  {
   "cell_type": "markdown",
   "metadata": {},
   "source": [
    "Grab the items at index positions 3-7 in the list."
   ]
  },
  {
   "cell_type": "code",
   "execution_count": null,
   "metadata": {},
   "outputs": [],
   "source": []
  },
  {
   "cell_type": "markdown",
   "metadata": {},
   "source": [
    "Grab every third item of the list:"
   ]
  },
  {
   "cell_type": "markdown",
   "metadata": {},
   "source": []
  },
  {
   "cell_type": "markdown",
   "metadata": {},
   "source": [
    "Now, let's take a look at negative step sizes.  Run the following two lines of code to see what they do."
   ]
  },
  {
   "cell_type": "code",
   "execution_count": null,
   "metadata": {},
   "outputs": [],
   "source": [
    "my_list[2:10:-1]"
   ]
  },
  {
   "cell_type": "code",
   "execution_count": null,
   "metadata": {},
   "outputs": [],
   "source": [
    "my_list[10:2:-1]"
   ]
  },
  {
   "cell_type": "markdown",
   "metadata": {},
   "source": [
    "Can you make sense of what's happening?\n",
    "\n",
    "How would you *reverse* a list using this method?"
   ]
  },
  {
   "cell_type": "code",
   "execution_count": null,
   "metadata": {},
   "outputs": [],
   "source": [
    "# Reverse the list here\n"
   ]
  },
  {
   "cell_type": "markdown",
   "metadata": {},
   "source": [
    "**List Methods:** Now, let's take a look at different list methods that are commonly used:\n",
    " - append()\n",
    " - insert()\n",
    " - pop()\n",
    " - clear()\n",
    " - remove()\n",
    " \n",
    "Let's see if we can figure out what they do.\n",
    "\n",
    "The official documentation is here:  https://docs.python.org/3/tutorial/datastructures.html"
   ]
  },
  {
   "cell_type": "markdown",
   "metadata": {},
   "source": [
    "**Iterables:** Lists have index positions, but they're not the only data type that does this.  Broadly speaking, any data type that allows you to access its individual members by an index position is called an *iterable*, and these are fairly pervasive in python.\n",
    "\n",
    "To demonstrate what I mean, try the following:\n",
    " - assign a string to a variable name of your choice\n",
    " - using index notation try and grab the first and last letters, and various slices of the text."
   ]
  },
  {
   "cell_type": "code",
   "execution_count": null,
   "metadata": {},
   "outputs": [],
   "source": [
    "# Your Code Here\n"
   ]
  },
  {
   "cell_type": "markdown",
   "metadata": {},
   "source": [
    "#### Loops"
   ]
  },
  {
   "cell_type": "markdown",
   "metadata": {},
   "source": [
    "We'll start with the list we had at the beginning of this workshop:"
   ]
  },
  {
   "cell_type": "code",
   "execution_count": null,
   "metadata": {},
   "outputs": [],
   "source": [
    "my_list = [1, 2, 3, 38, 49, 'a string', 'another string', 'some other string', True, False, 21.8, 'yet another strin', 'the last item']"
   ]
  },
  {
   "cell_type": "markdown",
   "metadata": {},
   "source": [
    "**1).** Using a loop, print off every single item in the above list, as well as its data type.  You can do this using one or two print statements."
   ]
  },
  {
   "cell_type": "code",
   "execution_count": null,
   "metadata": {},
   "outputs": [],
   "source": [
    "# your code here\n"
   ]
  },
  {
   "cell_type": "markdown",
   "metadata": {},
   "source": [
    "**2).** Using a loop, print off every single item in the list *if it's a number of any sort*"
   ]
  },
  {
   "cell_type": "code",
   "execution_count": null,
   "metadata": {},
   "outputs": [],
   "source": [
    "# your code here\n"
   ]
  },
  {
   "cell_type": "markdown",
   "metadata": {},
   "source": [
    "**3).** Create a variable called list_sum, and use a loop to sum up the values of all of the numeric data in your list.\n",
    "\n",
    "**hint:** remember the += notation"
   ]
  },
  {
   "cell_type": "code",
   "execution_count": null,
   "metadata": {},
   "outputs": [],
   "source": [
    "# your code here\n"
   ]
  },
  {
   "cell_type": "markdown",
   "metadata": {},
   "source": [
    "**4).** Using a loop, print off the first letter of every item in your list that's a string"
   ]
  },
  {
   "cell_type": "code",
   "execution_count": null,
   "metadata": {},
   "outputs": [],
   "source": [
    "# your code here\n"
   ]
  },
  {
   "cell_type": "markdown",
   "metadata": {},
   "source": [
    "**5).** Create a variable called string_list, and use a loop to add every item in my_list that's a string that's more than 8 characters."
   ]
  },
  {
   "cell_type": "code",
   "execution_count": null,
   "metadata": {},
   "outputs": [],
   "source": [
    "# your code here\n"
   ]
  },
  {
   "cell_type": "markdown",
   "metadata": {},
   "source": [
    "#### List Comprehensions"
   ]
  },
  {
   "cell_type": "markdown",
   "metadata": {},
   "source": [
    "Use a list comprehension to recreate the results from 3 & 5 from above."
   ]
  },
  {
   "cell_type": "code",
   "execution_count": 9,
   "metadata": {},
   "outputs": [
    {
     "data": {
      "text/plain": [
       "'C:\\\\Users\\\\Jonat\\\\DAT-06-24\\\\class material\\\\Unit 1\\\\Lesson 3'"
      ]
     },
     "execution_count": 9,
     "metadata": {},
     "output_type": "execute_result"
    }
   ],
   "source": [
    "pwd"
   ]
  },
  {
   "cell_type": "code",
   "execution_count": null,
   "metadata": {},
   "outputs": [],
   "source": []
  }
 ],
 "metadata": {
  "kernelspec": {
   "display_name": "Python 3",
   "language": "python",
   "name": "python3"
  },
  "language_info": {
   "codemirror_mode": {
    "name": "ipython",
    "version": 3
   },
   "file_extension": ".py",
   "mimetype": "text/x-python",
   "name": "python",
   "nbconvert_exporter": "python",
   "pygments_lexer": "ipython3",
   "version": "3.7.1"
  }
 },
 "nbformat": 4,
 "nbformat_minor": 2
}
