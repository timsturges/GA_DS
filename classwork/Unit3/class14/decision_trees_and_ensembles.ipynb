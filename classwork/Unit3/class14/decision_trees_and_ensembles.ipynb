{
 "cells": [
  {
   "cell_type": "markdown",
   "metadata": {
    "slideshow": {
     "slide_type": "slide"
    }
   },
   "source": [
    "<img src=\"http://imgur.com/1ZcRyrc.png\" style=\"float: left; margin: 20px; height: 55px\">\n",
    " \n",
    "# Decision Trees & Ensembles\n",
    " \n",
    "_Author: Jonathan Bechtel (DC)_\n",
    "\n",
    "*Adapted from Chapter 8 of [An Introduction to Statistical Learning](http://www-bcf.usc.edu/~gareth/ISL/)*\n",
    "\n",
    "---"
   ]
  },
  {
   "cell_type": "markdown",
   "metadata": {
    "slideshow": {
     "slide_type": "slide"
    }
   },
   "source": [
    "### Why Decision Trees?\n",
    "\n",
    "- They can be applied to both regression and classification problems.\n",
    "- They are easy to explain to others (interpretable).\n",
    "- They are very popular among data scientists.\n",
    "- They are the basis for more sophisticated models.\n",
    "- They have a different way of \"thinking\" than the other models we have studied."
   ]
  },
  {
   "cell_type": "code",
   "execution_count": 99,
   "metadata": {
    "slideshow": {
     "slide_type": "slide"
    }
   },
   "outputs": [],
   "source": [
    "import pandas as pd\n",
    "import numpy as np\n",
    "df = pd.read_csv('../data/hitters.csv')\n",
    "%matplotlib inline"
   ]
  },
  {
   "cell_type": "code",
   "execution_count": 4,
   "metadata": {
    "slideshow": {
     "slide_type": "slide"
    }
   },
   "outputs": [
    {
     "data": {
      "text/html": [
       "<div>\n",
       "<style scoped>\n",
       "    .dataframe tbody tr th:only-of-type {\n",
       "        vertical-align: middle;\n",
       "    }\n",
       "\n",
       "    .dataframe tbody tr th {\n",
       "        vertical-align: top;\n",
       "    }\n",
       "\n",
       "    .dataframe thead th {\n",
       "        text-align: right;\n",
       "    }\n",
       "</style>\n",
       "<table border=\"1\" class=\"dataframe\">\n",
       "  <thead>\n",
       "    <tr style=\"text-align: right;\">\n",
       "      <th></th>\n",
       "      <th>AtBat</th>\n",
       "      <th>Hits</th>\n",
       "      <th>HmRun</th>\n",
       "      <th>Runs</th>\n",
       "      <th>RBI</th>\n",
       "      <th>Walks</th>\n",
       "      <th>Years</th>\n",
       "      <th>CAtBat</th>\n",
       "      <th>CHits</th>\n",
       "      <th>CHmRun</th>\n",
       "      <th>CRuns</th>\n",
       "      <th>CRBI</th>\n",
       "      <th>CWalks</th>\n",
       "      <th>League</th>\n",
       "      <th>Division</th>\n",
       "      <th>PutOuts</th>\n",
       "      <th>Assists</th>\n",
       "      <th>Errors</th>\n",
       "      <th>Salary</th>\n",
       "      <th>NewLeague</th>\n",
       "    </tr>\n",
       "  </thead>\n",
       "  <tbody>\n",
       "    <tr>\n",
       "      <th>0</th>\n",
       "      <td>293</td>\n",
       "      <td>66</td>\n",
       "      <td>1</td>\n",
       "      <td>30</td>\n",
       "      <td>29</td>\n",
       "      <td>14</td>\n",
       "      <td>1</td>\n",
       "      <td>293</td>\n",
       "      <td>66</td>\n",
       "      <td>1</td>\n",
       "      <td>30</td>\n",
       "      <td>29</td>\n",
       "      <td>14</td>\n",
       "      <td>A</td>\n",
       "      <td>E</td>\n",
       "      <td>446</td>\n",
       "      <td>33</td>\n",
       "      <td>20</td>\n",
       "      <td>NaN</td>\n",
       "      <td>A</td>\n",
       "    </tr>\n",
       "    <tr>\n",
       "      <th>1</th>\n",
       "      <td>315</td>\n",
       "      <td>81</td>\n",
       "      <td>7</td>\n",
       "      <td>24</td>\n",
       "      <td>38</td>\n",
       "      <td>39</td>\n",
       "      <td>14</td>\n",
       "      <td>3449</td>\n",
       "      <td>835</td>\n",
       "      <td>69</td>\n",
       "      <td>321</td>\n",
       "      <td>414</td>\n",
       "      <td>375</td>\n",
       "      <td>N</td>\n",
       "      <td>W</td>\n",
       "      <td>632</td>\n",
       "      <td>43</td>\n",
       "      <td>10</td>\n",
       "      <td>475.0</td>\n",
       "      <td>N</td>\n",
       "    </tr>\n",
       "    <tr>\n",
       "      <th>2</th>\n",
       "      <td>479</td>\n",
       "      <td>130</td>\n",
       "      <td>18</td>\n",
       "      <td>66</td>\n",
       "      <td>72</td>\n",
       "      <td>76</td>\n",
       "      <td>3</td>\n",
       "      <td>1624</td>\n",
       "      <td>457</td>\n",
       "      <td>63</td>\n",
       "      <td>224</td>\n",
       "      <td>266</td>\n",
       "      <td>263</td>\n",
       "      <td>A</td>\n",
       "      <td>W</td>\n",
       "      <td>880</td>\n",
       "      <td>82</td>\n",
       "      <td>14</td>\n",
       "      <td>480.0</td>\n",
       "      <td>A</td>\n",
       "    </tr>\n",
       "    <tr>\n",
       "      <th>3</th>\n",
       "      <td>496</td>\n",
       "      <td>141</td>\n",
       "      <td>20</td>\n",
       "      <td>65</td>\n",
       "      <td>78</td>\n",
       "      <td>37</td>\n",
       "      <td>11</td>\n",
       "      <td>5628</td>\n",
       "      <td>1575</td>\n",
       "      <td>225</td>\n",
       "      <td>828</td>\n",
       "      <td>838</td>\n",
       "      <td>354</td>\n",
       "      <td>N</td>\n",
       "      <td>E</td>\n",
       "      <td>200</td>\n",
       "      <td>11</td>\n",
       "      <td>3</td>\n",
       "      <td>500.0</td>\n",
       "      <td>N</td>\n",
       "    </tr>\n",
       "    <tr>\n",
       "      <th>4</th>\n",
       "      <td>321</td>\n",
       "      <td>87</td>\n",
       "      <td>10</td>\n",
       "      <td>39</td>\n",
       "      <td>42</td>\n",
       "      <td>30</td>\n",
       "      <td>2</td>\n",
       "      <td>396</td>\n",
       "      <td>101</td>\n",
       "      <td>12</td>\n",
       "      <td>48</td>\n",
       "      <td>46</td>\n",
       "      <td>33</td>\n",
       "      <td>N</td>\n",
       "      <td>E</td>\n",
       "      <td>805</td>\n",
       "      <td>40</td>\n",
       "      <td>4</td>\n",
       "      <td>91.5</td>\n",
       "      <td>N</td>\n",
       "    </tr>\n",
       "  </tbody>\n",
       "</table>\n",
       "</div>"
      ],
      "text/plain": [
       "   AtBat  Hits  HmRun  Runs  RBI  Walks  Years  CAtBat  CHits  CHmRun  CRuns  \\\n",
       "0    293    66      1    30   29     14      1     293     66       1     30   \n",
       "1    315    81      7    24   38     39     14    3449    835      69    321   \n",
       "2    479   130     18    66   72     76      3    1624    457      63    224   \n",
       "3    496   141     20    65   78     37     11    5628   1575     225    828   \n",
       "4    321    87     10    39   42     30      2     396    101      12     48   \n",
       "\n",
       "   CRBI  CWalks League Division  PutOuts  Assists  Errors  Salary NewLeague  \n",
       "0    29      14      A        E      446       33      20     NaN         A  \n",
       "1   414     375      N        W      632       43      10   475.0         N  \n",
       "2   266     263      A        W      880       82      14   480.0         A  \n",
       "3   838     354      N        E      200       11       3   500.0         N  \n",
       "4    46      33      N        E      805       40       4    91.5         N  "
      ]
     },
     "execution_count": 4,
     "metadata": {},
     "output_type": "execute_result"
    }
   ],
   "source": [
    "df.head()"
   ]
  },
  {
   "cell_type": "markdown",
   "metadata": {
    "slideshow": {
     "slide_type": "slide"
    }
   },
   "source": [
    "<a id=\"part-one\"></a>\n",
    "# How Much Can A Baseball Player Expect to Earn?\n",
    "\n",
    "![Salary tree](assets/salary_tree.png)"
   ]
  },
  {
   "cell_type": "markdown",
   "metadata": {
    "slideshow": {
     "slide_type": "slide"
    }
   },
   "source": [
    "![Salary tree annotated](assets/salary_tree_annotated.png)"
   ]
  },
  {
   "cell_type": "markdown",
   "metadata": {
    "slideshow": {
     "slide_type": "slide"
    }
   },
   "source": [
    "### The Above Decision Tree Is Simple, But........\n",
    "\n",
    " - You can create a node for any unique value in your dataset\n",
    " - Work equally well for categorical or numeric data\n",
    " - Decision trees made from most datasets that we actually work on are very elaborate\n",
    " - As a default, they drill down until your leaf size is 1!"
   ]
  },
  {
   "cell_type": "markdown",
   "metadata": {
    "slideshow": {
     "slide_type": "slide"
    }
   },
   "source": [
    "### Question Prompt:\n",
    "\n",
    "How Does A Decision Tree Decide Where to Make A Split? "
   ]
  },
  {
   "cell_type": "markdown",
   "metadata": {
    "slideshow": {
     "slide_type": "slide"
    }
   },
   "source": [
    "### Answer:  \n",
    "\n",
    "A metric called **information gain**. \n",
    "\n",
    "The formula for this varies, but you can intuitively think of this as the difference weighted average of the targer variable between two values."
   ]
  },
  {
   "cell_type": "markdown",
   "metadata": {
    "slideshow": {
     "slide_type": "slide"
    }
   },
   "source": [
    "### More Questions:  \n",
    "\n",
    " - Are decision trees parametric or non-parametric?\n",
    " - Are they sensitive to the scale of your data? \n",
    " - How do decision trees handle outliers in your data?\n",
    " - Does data need to be standardized for a decision tree?"
   ]
  },
  {
   "cell_type": "markdown",
   "metadata": {
    "slideshow": {
     "slide_type": "slide"
    }
   },
   "source": [
    "### Even More Questions:  \n",
    "\n",
    " - How could a decision tree go wrong?\n",
    " - What are some of its possible sensitivities?\n",
    " - How might we get around this?"
   ]
  },
  {
   "cell_type": "markdown",
   "metadata": {
    "slideshow": {
     "slide_type": "slide"
    }
   },
   "source": [
    "<a id=\"sklearn-tree\"></a>\n",
    "## Building a Regression Tree in `scikit-learn`"
   ]
  },
  {
   "cell_type": "code",
   "execution_count": 56,
   "metadata": {
    "slideshow": {
     "slide_type": "slide"
    }
   },
   "outputs": [],
   "source": [
    "# Instantiate a DecisionTreeRegressor (with random_state=1).\n",
    "from sklearn.tree import DecisionTreeRegressor\n",
    "\n",
    "tree = DecisionTreeRegressor(random_state=1, max_depth=4)"
   ]
  },
  {
   "cell_type": "markdown",
   "metadata": {
    "slideshow": {
     "slide_type": "slide"
    }
   },
   "source": [
    "### Question:\n",
    "\n",
    "What might be some ways you'd want to finetune a decision tree?"
   ]
  },
  {
   "cell_type": "code",
   "execution_count": 35,
   "metadata": {
    "slideshow": {
     "slide_type": "slide"
    }
   },
   "outputs": [
    {
     "data": {
      "text/plain": [
       "{'criterion': 'mse',\n",
       " 'max_depth': 5,\n",
       " 'max_features': None,\n",
       " 'max_leaf_nodes': None,\n",
       " 'min_impurity_decrease': 0.0,\n",
       " 'min_impurity_split': None,\n",
       " 'min_samples_leaf': 1,\n",
       " 'min_samples_split': 2,\n",
       " 'min_weight_fraction_leaf': 0.0,\n",
       " 'presort': False,\n",
       " 'random_state': 1,\n",
       " 'splitter': 'best'}"
      ]
     },
     "execution_count": 35,
     "metadata": {},
     "output_type": "execute_result"
    }
   ],
   "source": [
    "tree.get_params()"
   ]
  },
  {
   "cell_type": "markdown",
   "metadata": {
    "slideshow": {
     "slide_type": "slide"
    }
   },
   "source": [
    "### Fitting and Drawing A Tree"
   ]
  },
  {
   "cell_type": "code",
   "execution_count": 51,
   "metadata": {
    "slideshow": {
     "slide_type": "slide"
    }
   },
   "outputs": [],
   "source": [
    "# fill in missing values\n",
    "df['Salary'].fillna(df.Salary.mean(), inplace=True)\n",
    "# create x and y columns\n",
    "X = df.loc[:, df.columns != 'Salary']\n",
    "y = df['Salary']\n",
    "# create dummy variables\n",
    "X = pd.get_dummies(X)"
   ]
  },
  {
   "cell_type": "code",
   "execution_count": 53,
   "metadata": {
    "slideshow": {
     "slide_type": "slide"
    }
   },
   "outputs": [],
   "source": [
    "from sklearn.model_selection import train_test_split\n",
    "X_train, X_test, y_train, y_test = train_test_split(X, y, test_size=0.2, random_state=2019)"
   ]
  },
  {
   "cell_type": "code",
   "execution_count": 57,
   "metadata": {
    "slideshow": {
     "slide_type": "slide"
    }
   },
   "outputs": [
    {
     "data": {
      "text/plain": [
       "DecisionTreeRegressor(criterion='mse', max_depth=4, max_features=None,\n",
       "           max_leaf_nodes=None, min_impurity_decrease=0.0,\n",
       "           min_impurity_split=None, min_samples_leaf=1,\n",
       "           min_samples_split=2, min_weight_fraction_leaf=0.0,\n",
       "           presort=False, random_state=1, splitter='best')"
      ]
     },
     "execution_count": 57,
     "metadata": {},
     "output_type": "execute_result"
    }
   ],
   "source": [
    "tree.fit(X_train, y_train)"
   ]
  },
  {
   "cell_type": "markdown",
   "metadata": {
    "slideshow": {
     "slide_type": "slide"
    }
   },
   "source": [
    "### Creating a Tree Diagram"
   ]
  },
  {
   "cell_type": "code",
   "execution_count": 45,
   "metadata": {
    "slideshow": {
     "slide_type": "slide"
    }
   },
   "outputs": [],
   "source": [
    "from sklearn.tree import export_graphviz\n",
    "import IPython\n",
    "import graphviz\n",
    "import re\n",
    "\n",
    "def draw_tree(t, df, size=10, ratio=0.6, precision=0):\n",
    "    \"\"\" Draws a representation of a random forest in IPython.\n",
    "    Parameters:\n",
    "    -----------\n",
    "    t: The tree you wish to draw\n",
    "    df: The data used to train the tree. This is used to get the names of the features.\n",
    "    \"\"\"\n",
    "    s=export_graphviz(t, out_file=None, feature_names=df.columns, filled=True,\n",
    "                      special_characters=True, rotate=True, precision=precision)\n",
    "    IPython.display.display(graphviz.Source(re.sub('Tree {',\n",
    "       f'Tree {{ size={size}; ratio={ratio}', s)))"
   ]
  },
  {
   "cell_type": "code",
   "execution_count": 58,
   "metadata": {
    "slideshow": {
     "slide_type": "slide"
    }
   },
   "outputs": [
    {
     "data": {
      "image/svg+xml": [
       "<?xml version=\"1.0\" encoding=\"UTF-8\" standalone=\"no\"?>\r\n",
       "<!DOCTYPE svg PUBLIC \"-//W3C//DTD SVG 1.1//EN\"\r\n",
       " \"http://www.w3.org/Graphics/SVG/1.1/DTD/svg11.dtd\">\r\n",
       "<!-- Generated by graphviz version 2.38.0 (20140413.2041)\r\n",
       " -->\r\n",
       "<!-- Title: Tree Pages: 1 -->\r\n",
       "<svg width=\"720pt\" height=\"433pt\"\r\n",
       " viewBox=\"0.00 0.00 720.00 433.41\" xmlns=\"http://www.w3.org/2000/svg\" xmlns:xlink=\"http://www.w3.org/1999/xlink\">\r\n",
       "<g id=\"graph0\" class=\"graph\" transform=\"scale(0.440457 0.440457) rotate(0) translate(4 980)\">\r\n",
       "<title>Tree</title>\r\n",
       "<polygon fill=\"white\" stroke=\"none\" points=\"-4,4 -4,-980 1630.67,-980 1630.67,4 -4,4\"/>\r\n",
       "<!-- 0 -->\r\n",
       "<g id=\"node1\" class=\"node\"><title>0</title>\r\n",
       "<polygon fill=\"#e58139\" fill-opacity=\"0.290196\" stroke=\"black\" points=\"180.667,-564.5 74.6667,-564.5 74.6667,-496.5 180.667,-496.5 180.667,-564.5\"/>\r\n",
       "<text text-anchor=\"start\" x=\"88.1667\" y=\"-549.3\" font-family=\"Times New Roman,serif\" font-size=\"14.00\">CHits ≤ 450.0</text>\r\n",
       "<text text-anchor=\"start\" x=\"82.6667\" y=\"-534.3\" font-family=\"Times New Roman,serif\" font-size=\"14.00\">mse = 162967.0</text>\r\n",
       "<text text-anchor=\"start\" x=\"86.6667\" y=\"-519.3\" font-family=\"Times New Roman,serif\" font-size=\"14.00\">samples = 257</text>\r\n",
       "<text text-anchor=\"start\" x=\"89.6667\" y=\"-504.3\" font-family=\"Times New Roman,serif\" font-size=\"14.00\">value = 549.0</text>\r\n",
       "</g>\r\n",
       "<!-- 1 -->\r\n",
       "<g id=\"node2\" class=\"node\"><title>1</title>\r\n",
       "<polygon fill=\"#e58139\" fill-opacity=\"0.109804\" stroke=\"black\" points=\"519.167,-677.5 420.167,-677.5 420.167,-609.5 519.167,-609.5 519.167,-677.5\"/>\r\n",
       "<text text-anchor=\"start\" x=\"430.167\" y=\"-662.3\" font-family=\"Times New Roman,serif\" font-size=\"14.00\">CHits ≤ 200.0</text>\r\n",
       "<text text-anchor=\"start\" x=\"428.167\" y=\"-647.3\" font-family=\"Times New Roman,serif\" font-size=\"14.00\">mse = 33297.0</text>\r\n",
       "<text text-anchor=\"start\" x=\"428.667\" y=\"-632.3\" font-family=\"Times New Roman,serif\" font-size=\"14.00\">samples = 112</text>\r\n",
       "<text text-anchor=\"start\" x=\"431.667\" y=\"-617.3\" font-family=\"Times New Roman,serif\" font-size=\"14.00\">value = 282.0</text>\r\n",
       "</g>\r\n",
       "<!-- 0&#45;&gt;1 -->\r\n",
       "<g id=\"edge1\" class=\"edge\"><title>0&#45;&gt;1</title>\r\n",
       "<path fill=\"none\" stroke=\"black\" d=\"M180.675,-547.785C242.605,-568.368 345.756,-602.65 410.341,-624.115\"/>\r\n",
       "<polygon fill=\"black\" stroke=\"black\" points=\"409.378,-627.483 419.971,-627.316 411.586,-620.841 409.378,-627.483\"/>\r\n",
       "<text text-anchor=\"middle\" x=\"397.621\" y=\"-634.816\" font-family=\"Times New Roman,serif\" font-size=\"14.00\">True</text>\r\n",
       "</g>\r\n",
       "<!-- 14 -->\r\n",
       "<g id=\"node15\" class=\"node\"><title>14</title>\r\n",
       "<polygon fill=\"#e58139\" fill-opacity=\"0.431373\" stroke=\"black\" points=\"522.667,-451.5 416.667,-451.5 416.667,-383.5 522.667,-383.5 522.667,-451.5\"/>\r\n",
       "<text text-anchor=\"start\" x=\"430.167\" y=\"-436.3\" font-family=\"Times New Roman,serif\" font-size=\"14.00\">AtBat ≤ 422.0</text>\r\n",
       "<text text-anchor=\"start\" x=\"424.667\" y=\"-421.3\" font-family=\"Times New Roman,serif\" font-size=\"14.00\">mse = 165137.0</text>\r\n",
       "<text text-anchor=\"start\" x=\"428.667\" y=\"-406.3\" font-family=\"Times New Roman,serif\" font-size=\"14.00\">samples = 145</text>\r\n",
       "<text text-anchor=\"start\" x=\"431.667\" y=\"-391.3\" font-family=\"Times New Roman,serif\" font-size=\"14.00\">value = 756.0</text>\r\n",
       "</g>\r\n",
       "<!-- 0&#45;&gt;14 -->\r\n",
       "<g id=\"edge14\" class=\"edge\"><title>0&#45;&gt;14</title>\r\n",
       "<path fill=\"none\" stroke=\"black\" d=\"M180.675,-513.215C241.543,-492.985 342.232,-459.521 406.986,-438\"/>\r\n",
       "<polygon fill=\"black\" stroke=\"black\" points=\"408.278,-441.259 416.664,-434.783 406.07,-434.616 408.278,-441.259\"/>\r\n",
       "<text text-anchor=\"middle\" x=\"394.313\" y=\"-419.883\" font-family=\"Times New Roman,serif\" font-size=\"14.00\">False</text>\r\n",
       "</g>\r\n",
       "<!-- 2 -->\r\n",
       "<g id=\"node3\" class=\"node\"><title>2</title>\r\n",
       "<polygon fill=\"#e58139\" fill-opacity=\"0.062745\" stroke=\"black\" points=\"861.167,-816.5 762.167,-816.5 762.167,-748.5 861.167,-748.5 861.167,-816.5\"/>\r\n",
       "<text text-anchor=\"start\" x=\"780.667\" y=\"-801.3\" font-family=\"Times New Roman,serif\" font-size=\"14.00\">Hits ≤ 21.0</text>\r\n",
       "<text text-anchor=\"start\" x=\"770.167\" y=\"-786.3\" font-family=\"Times New Roman,serif\" font-size=\"14.00\">mse = 33869.0</text>\r\n",
       "<text text-anchor=\"start\" x=\"774.167\" y=\"-771.3\" font-family=\"Times New Roman,serif\" font-size=\"14.00\">samples = 60</text>\r\n",
       "<text text-anchor=\"start\" x=\"773.667\" y=\"-756.3\" font-family=\"Times New Roman,serif\" font-size=\"14.00\">value = 210.0</text>\r\n",
       "</g>\r\n",
       "<!-- 1&#45;&gt;2 -->\r\n",
       "<g id=\"edge2\" class=\"edge\"><title>1&#45;&gt;2</title>\r\n",
       "<path fill=\"none\" stroke=\"black\" d=\"M519.38,-663.415C580.985,-688.601 686.927,-731.912 752.649,-758.781\"/>\r\n",
       "<polygon fill=\"black\" stroke=\"black\" points=\"751.462,-762.077 762.043,-762.622 754.111,-755.598 751.462,-762.077\"/>\r\n",
       "</g>\r\n",
       "<!-- 9 -->\r\n",
       "<g id=\"node10\" class=\"node\"><title>9</title>\r\n",
       "<polygon fill=\"#e58139\" fill-opacity=\"0.164706\" stroke=\"black\" points=\"861.167,-677.5 762.167,-677.5 762.167,-609.5 861.167,-609.5 861.167,-677.5\"/>\r\n",
       "<text text-anchor=\"start\" x=\"777.167\" y=\"-662.3\" font-family=\"Times New Roman,serif\" font-size=\"14.00\">Runs ≤ 25.0</text>\r\n",
       "<text text-anchor=\"start\" x=\"770.167\" y=\"-647.3\" font-family=\"Times New Roman,serif\" font-size=\"14.00\">mse = 19761.0</text>\r\n",
       "<text text-anchor=\"start\" x=\"774.167\" y=\"-632.3\" font-family=\"Times New Roman,serif\" font-size=\"14.00\">samples = 52</text>\r\n",
       "<text text-anchor=\"start\" x=\"773.667\" y=\"-617.3\" font-family=\"Times New Roman,serif\" font-size=\"14.00\">value = 365.0</text>\r\n",
       "</g>\r\n",
       "<!-- 1&#45;&gt;9 -->\r\n",
       "<g id=\"edge9\" class=\"edge\"><title>1&#45;&gt;9</title>\r\n",
       "<path fill=\"none\" stroke=\"black\" d=\"M519.38,-643.5C580.732,-643.5 686.059,-643.5 751.839,-643.5\"/>\r\n",
       "<polygon fill=\"black\" stroke=\"black\" points=\"752.043,-647 762.043,-643.5 752.043,-640 752.043,-647\"/>\r\n",
       "</g>\r\n",
       "<!-- 3 -->\r\n",
       "<g id=\"node4\" class=\"node\"><title>3</title>\r\n",
       "<polygon fill=\"#e58139\" fill-opacity=\"0.345098\" stroke=\"black\" points=\"1205.17,-912.5 1106.17,-912.5 1106.17,-844.5 1205.17,-844.5 1205.17,-912.5\"/>\r\n",
       "<text text-anchor=\"start\" x=\"1114.67\" y=\"-897.3\" font-family=\"Times New Roman,serif\" font-size=\"14.00\">CAtBat ≤ 24.0</text>\r\n",
       "<text text-anchor=\"start\" x=\"1114.17\" y=\"-882.3\" font-family=\"Times New Roman,serif\" font-size=\"14.00\">mse = 27659.0</text>\r\n",
       "<text text-anchor=\"start\" x=\"1121.67\" y=\"-867.3\" font-family=\"Times New Roman,serif\" font-size=\"14.00\">samples = 4</text>\r\n",
       "<text text-anchor=\"start\" x=\"1117.67\" y=\"-852.3\" font-family=\"Times New Roman,serif\" font-size=\"14.00\">value = 632.0</text>\r\n",
       "</g>\r\n",
       "<!-- 2&#45;&gt;3 -->\r\n",
       "<g id=\"edge3\" class=\"edge\"><title>2&#45;&gt;3</title>\r\n",
       "<path fill=\"none\" stroke=\"black\" d=\"M861.304,-796.153C923.136,-813.509 1029.79,-843.447 1096.05,-862.046\"/>\r\n",
       "<polygon fill=\"black\" stroke=\"black\" points=\"1095.35,-865.484 1105.92,-864.817 1097.24,-858.745 1095.35,-865.484\"/>\r\n",
       "</g>\r\n",
       "<!-- 6 -->\r\n",
       "<g id=\"node7\" class=\"node\"><title>6</title>\r\n",
       "<polygon fill=\"#e58139\" fill-opacity=\"0.043137\" stroke=\"black\" points=\"1205.17,-816.5 1106.17,-816.5 1106.17,-748.5 1205.17,-748.5 1205.17,-816.5\"/>\r\n",
       "<text text-anchor=\"start\" x=\"1115.67\" y=\"-801.3\" font-family=\"Times New Roman,serif\" font-size=\"14.00\">Assists ≤ 36.0</text>\r\n",
       "<text text-anchor=\"start\" x=\"1114.17\" y=\"-786.3\" font-family=\"Times New Roman,serif\" font-size=\"14.00\">mse = 20663.0</text>\r\n",
       "<text text-anchor=\"start\" x=\"1118.17\" y=\"-771.3\" font-family=\"Times New Roman,serif\" font-size=\"14.00\">samples = 56</text>\r\n",
       "<text text-anchor=\"start\" x=\"1117.67\" y=\"-756.3\" font-family=\"Times New Roman,serif\" font-size=\"14.00\">value = 179.0</text>\r\n",
       "</g>\r\n",
       "<!-- 2&#45;&gt;6 -->\r\n",
       "<g id=\"edge6\" class=\"edge\"><title>2&#45;&gt;6</title>\r\n",
       "<path fill=\"none\" stroke=\"black\" d=\"M861.304,-782.5C923.009,-782.5 1029.35,-782.5 1095.64,-782.5\"/>\r\n",
       "<polygon fill=\"black\" stroke=\"black\" points=\"1095.92,-786 1105.92,-782.5 1095.92,-779 1095.92,-786\"/>\r\n",
       "</g>\r\n",
       "<!-- 4 -->\r\n",
       "<g id=\"node5\" class=\"node\"><title>4</title>\r\n",
       "<polygon fill=\"#e58139\" fill-opacity=\"0.541176\" stroke=\"black\" points=\"1544.67,-976 1452.67,-976 1452.67,-923 1544.67,-923 1544.67,-976\"/>\r\n",
       "<text text-anchor=\"start\" x=\"1470.67\" y=\"-960.8\" font-family=\"Times New Roman,serif\" font-size=\"14.00\">mse = 0.0</text>\r\n",
       "<text text-anchor=\"start\" x=\"1464.67\" y=\"-945.8\" font-family=\"Times New Roman,serif\" font-size=\"14.00\">samples = 1</text>\r\n",
       "<text text-anchor=\"start\" x=\"1460.67\" y=\"-930.8\" font-family=\"Times New Roman,serif\" font-size=\"14.00\">value = 920.0</text>\r\n",
       "</g>\r\n",
       "<!-- 3&#45;&gt;4 -->\r\n",
       "<g id=\"edge4\" class=\"edge\"><title>3&#45;&gt;4</title>\r\n",
       "<path fill=\"none\" stroke=\"black\" d=\"M1205.52,-888.673C1268.19,-901.721 1376.61,-924.295 1442.28,-937.968\"/>\r\n",
       "<polygon fill=\"black\" stroke=\"black\" points=\"1441.93,-941.471 1452.44,-940.083 1443.36,-934.618 1441.93,-941.471\"/>\r\n",
       "</g>\r\n",
       "<!-- 5 -->\r\n",
       "<g id=\"node6\" class=\"node\"><title>5</title>\r\n",
       "<polygon fill=\"#e58139\" fill-opacity=\"0.282353\" stroke=\"black\" points=\"1544.67,-905 1452.67,-905 1452.67,-852 1544.67,-852 1544.67,-905\"/>\r\n",
       "<text text-anchor=\"start\" x=\"1470.67\" y=\"-889.8\" font-family=\"Times New Roman,serif\" font-size=\"14.00\">mse = 0.0</text>\r\n",
       "<text text-anchor=\"start\" x=\"1464.67\" y=\"-874.8\" font-family=\"Times New Roman,serif\" font-size=\"14.00\">samples = 3</text>\r\n",
       "<text text-anchor=\"start\" x=\"1460.67\" y=\"-859.8\" font-family=\"Times New Roman,serif\" font-size=\"14.00\">value = 536.0</text>\r\n",
       "</g>\r\n",
       "<!-- 3&#45;&gt;5 -->\r\n",
       "<g id=\"edge5\" class=\"edge\"><title>3&#45;&gt;5</title>\r\n",
       "<path fill=\"none\" stroke=\"black\" d=\"M1205.52,-878.5C1268.19,-878.5 1376.61,-878.5 1442.28,-878.5\"/>\r\n",
       "<polygon fill=\"black\" stroke=\"black\" points=\"1442.44,-882 1452.44,-878.5 1442.44,-875 1442.44,-882\"/>\r\n",
       "</g>\r\n",
       "<!-- 7 -->\r\n",
       "<g id=\"node8\" class=\"node\"><title>7</title>\r\n",
       "<polygon fill=\"#e58139\" fill-opacity=\"0.066667\" stroke=\"black\" points=\"1548.17,-834 1449.17,-834 1449.17,-781 1548.17,-781 1548.17,-834\"/>\r\n",
       "<text text-anchor=\"start\" x=\"1457.17\" y=\"-818.8\" font-family=\"Times New Roman,serif\" font-size=\"14.00\">mse = 28623.0</text>\r\n",
       "<text text-anchor=\"start\" x=\"1461.17\" y=\"-803.8\" font-family=\"Times New Roman,serif\" font-size=\"14.00\">samples = 35</text>\r\n",
       "<text text-anchor=\"start\" x=\"1460.67\" y=\"-788.8\" font-family=\"Times New Roman,serif\" font-size=\"14.00\">value = 216.0</text>\r\n",
       "</g>\r\n",
       "<!-- 6&#45;&gt;7 -->\r\n",
       "<g id=\"edge7\" class=\"edge\"><title>6&#45;&gt;7</title>\r\n",
       "<path fill=\"none\" stroke=\"black\" d=\"M1205.52,-786.082C1267.06,-790.593 1372.69,-798.338 1438.67,-803.174\"/>\r\n",
       "<polygon fill=\"black\" stroke=\"black\" points=\"1438.67,-806.684 1448.9,-803.925 1439.18,-799.703 1438.67,-806.684\"/>\r\n",
       "</g>\r\n",
       "<!-- 8 -->\r\n",
       "<g id=\"node9\" class=\"node\"><title>8</title>\r\n",
       "<polygon fill=\"none\" stroke=\"black\" points=\"1544.67,-763 1452.67,-763 1452.67,-710 1544.67,-710 1544.67,-763\"/>\r\n",
       "<text text-anchor=\"start\" x=\"1460.67\" y=\"-747.8\" font-family=\"Times New Roman,serif\" font-size=\"14.00\">mse = 1441.0</text>\r\n",
       "<text text-anchor=\"start\" x=\"1461.17\" y=\"-732.8\" font-family=\"Times New Roman,serif\" font-size=\"14.00\">samples = 21</text>\r\n",
       "<text text-anchor=\"start\" x=\"1460.67\" y=\"-717.8\" font-family=\"Times New Roman,serif\" font-size=\"14.00\">value = 118.0</text>\r\n",
       "</g>\r\n",
       "<!-- 6&#45;&gt;8 -->\r\n",
       "<g id=\"edge8\" class=\"edge\"><title>6&#45;&gt;8</title>\r\n",
       "<path fill=\"none\" stroke=\"black\" d=\"M1205.52,-775.909C1268.19,-767.456 1376.61,-752.83 1442.28,-743.972\"/>\r\n",
       "<polygon fill=\"black\" stroke=\"black\" points=\"1443,-747.407 1452.44,-742.601 1442.06,-740.47 1443,-747.407\"/>\r\n",
       "</g>\r\n",
       "<!-- 10 -->\r\n",
       "<g id=\"node11\" class=\"node\"><title>10</title>\r\n",
       "<polygon fill=\"#e58139\" fill-opacity=\"0.282353\" stroke=\"black\" points=\"1201.67,-710 1109.67,-710 1109.67,-657 1201.67,-657 1201.67,-710\"/>\r\n",
       "<text text-anchor=\"start\" x=\"1127.67\" y=\"-694.8\" font-family=\"Times New Roman,serif\" font-size=\"14.00\">mse = 0.0</text>\r\n",
       "<text text-anchor=\"start\" x=\"1121.67\" y=\"-679.8\" font-family=\"Times New Roman,serif\" font-size=\"14.00\">samples = 6</text>\r\n",
       "<text text-anchor=\"start\" x=\"1117.67\" y=\"-664.8\" font-family=\"Times New Roman,serif\" font-size=\"14.00\">value = 536.0</text>\r\n",
       "</g>\r\n",
       "<!-- 9&#45;&gt;10 -->\r\n",
       "<g id=\"edge10\" class=\"edge\"><title>9&#45;&gt;10</title>\r\n",
       "<path fill=\"none\" stroke=\"black\" d=\"M861.304,-649.189C924.147,-656.539 1033.29,-669.304 1099.26,-677.02\"/>\r\n",
       "<polygon fill=\"black\" stroke=\"black\" points=\"1099.13,-680.528 1109.47,-678.214 1099.94,-673.576 1099.13,-680.528\"/>\r\n",
       "</g>\r\n",
       "<!-- 11 -->\r\n",
       "<g id=\"node12\" class=\"node\"><title>11</title>\r\n",
       "<polygon fill=\"#e58139\" fill-opacity=\"0.152941\" stroke=\"black\" points=\"1209.17,-638.5 1102.17,-638.5 1102.17,-570.5 1209.17,-570.5 1209.17,-638.5\"/>\r\n",
       "<text text-anchor=\"start\" x=\"1110.17\" y=\"-623.3\" font-family=\"Times New Roman,serif\" font-size=\"14.00\">CWalks ≤ 174.0</text>\r\n",
       "<text text-anchor=\"start\" x=\"1114.17\" y=\"-608.3\" font-family=\"Times New Roman,serif\" font-size=\"14.00\">mse = 18014.0</text>\r\n",
       "<text text-anchor=\"start\" x=\"1118.17\" y=\"-593.3\" font-family=\"Times New Roman,serif\" font-size=\"14.00\">samples = 46</text>\r\n",
       "<text text-anchor=\"start\" x=\"1117.67\" y=\"-578.3\" font-family=\"Times New Roman,serif\" font-size=\"14.00\">value = 342.0</text>\r\n",
       "</g>\r\n",
       "<!-- 9&#45;&gt;11 -->\r\n",
       "<g id=\"edge11\" class=\"edge\"><title>9&#45;&gt;11</title>\r\n",
       "<path fill=\"none\" stroke=\"black\" d=\"M861.304,-637.954C921.783,-631.057 1025.15,-619.27 1091.64,-611.687\"/>\r\n",
       "<polygon fill=\"black\" stroke=\"black\" points=\"1092.45,-615.118 1101.99,-610.507 1091.65,-608.163 1092.45,-615.118\"/>\r\n",
       "</g>\r\n",
       "<!-- 12 -->\r\n",
       "<g id=\"node13\" class=\"node\"><title>12</title>\r\n",
       "<polygon fill=\"#e58139\" fill-opacity=\"0.133333\" stroke=\"black\" points=\"1548.17,-692 1449.17,-692 1449.17,-639 1548.17,-639 1548.17,-692\"/>\r\n",
       "<text text-anchor=\"start\" x=\"1457.17\" y=\"-676.8\" font-family=\"Times New Roman,serif\" font-size=\"14.00\">mse = 15012.0</text>\r\n",
       "<text text-anchor=\"start\" x=\"1461.17\" y=\"-661.8\" font-family=\"Times New Roman,serif\" font-size=\"14.00\">samples = 39</text>\r\n",
       "<text text-anchor=\"start\" x=\"1460.67\" y=\"-646.8\" font-family=\"Times New Roman,serif\" font-size=\"14.00\">value = 318.0</text>\r\n",
       "</g>\r\n",
       "<!-- 11&#45;&gt;12 -->\r\n",
       "<g id=\"edge12\" class=\"edge\"><title>11&#45;&gt;12</title>\r\n",
       "<path fill=\"none\" stroke=\"black\" d=\"M1209.2,-613.898C1271.27,-625.001 1374.24,-643.421 1438.91,-654.989\"/>\r\n",
       "<polygon fill=\"black\" stroke=\"black\" points=\"1438.48,-658.468 1448.94,-656.784 1439.72,-651.578 1438.48,-658.468\"/>\r\n",
       "</g>\r\n",
       "<!-- 13 -->\r\n",
       "<g id=\"node14\" class=\"node\"><title>13</title>\r\n",
       "<polygon fill=\"#e58139\" fill-opacity=\"0.243137\" stroke=\"black\" points=\"1548.17,-621 1449.17,-621 1449.17,-568 1548.17,-568 1548.17,-621\"/>\r\n",
       "<text text-anchor=\"start\" x=\"1457.17\" y=\"-605.8\" font-family=\"Times New Roman,serif\" font-size=\"14.00\">mse = 13485.0</text>\r\n",
       "<text text-anchor=\"start\" x=\"1464.67\" y=\"-590.8\" font-family=\"Times New Roman,serif\" font-size=\"14.00\">samples = 7</text>\r\n",
       "<text text-anchor=\"start\" x=\"1460.67\" y=\"-575.8\" font-family=\"Times New Roman,serif\" font-size=\"14.00\">value = 477.0</text>\r\n",
       "</g>\r\n",
       "<!-- 11&#45;&gt;13 -->\r\n",
       "<g id=\"edge13\" class=\"edge\"><title>11&#45;&gt;13</title>\r\n",
       "<path fill=\"none\" stroke=\"black\" d=\"M1209.2,-602.959C1271.27,-601.139 1374.24,-598.119 1438.91,-596.223\"/>\r\n",
       "<polygon fill=\"black\" stroke=\"black\" points=\"1439.05,-599.721 1448.94,-595.929 1438.84,-592.724 1439.05,-599.721\"/>\r\n",
       "</g>\r\n",
       "<!-- 15 -->\r\n",
       "<g id=\"node16\" class=\"node\"><title>15</title>\r\n",
       "<polygon fill=\"#e58139\" fill-opacity=\"0.286275\" stroke=\"black\" points=\"861.167,-451.5 762.167,-451.5 762.167,-383.5 861.167,-383.5 861.167,-451.5\"/>\r\n",
       "<text text-anchor=\"start\" x=\"774.167\" y=\"-436.3\" font-family=\"Times New Roman,serif\" font-size=\"14.00\">Walks ≤ 44.0</text>\r\n",
       "<text text-anchor=\"start\" x=\"770.167\" y=\"-421.3\" font-family=\"Times New Roman,serif\" font-size=\"14.00\">mse = 44577.0</text>\r\n",
       "<text text-anchor=\"start\" x=\"774.167\" y=\"-406.3\" font-family=\"Times New Roman,serif\" font-size=\"14.00\">samples = 65</text>\r\n",
       "<text text-anchor=\"start\" x=\"773.667\" y=\"-391.3\" font-family=\"Times New Roman,serif\" font-size=\"14.00\">value = 541.0</text>\r\n",
       "</g>\r\n",
       "<!-- 14&#45;&gt;15 -->\r\n",
       "<g id=\"edge15\" class=\"edge\"><title>14&#45;&gt;15</title>\r\n",
       "<path fill=\"none\" stroke=\"black\" d=\"M522.675,-417.5C584.477,-417.5 687.333,-417.5 751.942,-417.5\"/>\r\n",
       "<polygon fill=\"black\" stroke=\"black\" points=\"751.971,-421 761.971,-417.5 751.971,-414 751.971,-421\"/>\r\n",
       "</g>\r\n",
       "<!-- 22 -->\r\n",
       "<g id=\"node23\" class=\"node\"><title>22</title>\r\n",
       "<polygon fill=\"#e58139\" fill-opacity=\"0.549020\" stroke=\"black\" points=\"864.667,-245.5 758.667,-245.5 758.667,-177.5 864.667,-177.5 864.667,-245.5\"/>\r\n",
       "<text text-anchor=\"start\" x=\"772.167\" y=\"-230.3\" font-family=\"Times New Roman,serif\" font-size=\"14.00\">CRBI ≤ 370.0</text>\r\n",
       "<text text-anchor=\"start\" x=\"766.667\" y=\"-215.3\" font-family=\"Times New Roman,serif\" font-size=\"14.00\">mse = 195195.0</text>\r\n",
       "<text text-anchor=\"start\" x=\"774.167\" y=\"-200.3\" font-family=\"Times New Roman,serif\" font-size=\"14.00\">samples = 80</text>\r\n",
       "<text text-anchor=\"start\" x=\"773.667\" y=\"-185.3\" font-family=\"Times New Roman,serif\" font-size=\"14.00\">value = 930.0</text>\r\n",
       "</g>\r\n",
       "<!-- 14&#45;&gt;22 -->\r\n",
       "<g id=\"edge22\" class=\"edge\"><title>14&#45;&gt;22</title>\r\n",
       "<path fill=\"none\" stroke=\"black\" d=\"M522.675,-385.989C583.793,-348.959 685.059,-287.603 749.782,-248.389\"/>\r\n",
       "<polygon fill=\"black\" stroke=\"black\" points=\"751.925,-251.183 758.664,-243.008 748.297,-245.196 751.925,-251.183\"/>\r\n",
       "</g>\r\n",
       "<!-- 16 -->\r\n",
       "<g id=\"node17\" class=\"node\"><title>16</title>\r\n",
       "<polygon fill=\"#e58139\" fill-opacity=\"0.258824\" stroke=\"black\" points=\"1205.17,-494.5 1106.17,-494.5 1106.17,-426.5 1205.17,-426.5 1205.17,-494.5\"/>\r\n",
       "<text text-anchor=\"start\" x=\"1124.17\" y=\"-479.3\" font-family=\"Times New Roman,serif\" font-size=\"14.00\">RBI ≤ 57.0</text>\r\n",
       "<text text-anchor=\"start\" x=\"1114.17\" y=\"-464.3\" font-family=\"Times New Roman,serif\" font-size=\"14.00\">mse = 28126.0</text>\r\n",
       "<text text-anchor=\"start\" x=\"1118.17\" y=\"-449.3\" font-family=\"Times New Roman,serif\" font-size=\"14.00\">samples = 53</text>\r\n",
       "<text text-anchor=\"start\" x=\"1117.67\" y=\"-434.3\" font-family=\"Times New Roman,serif\" font-size=\"14.00\">value = 500.0</text>\r\n",
       "</g>\r\n",
       "<!-- 15&#45;&gt;16 -->\r\n",
       "<g id=\"edge16\" class=\"edge\"><title>15&#45;&gt;16</title>\r\n",
       "<path fill=\"none\" stroke=\"black\" d=\"M861.304,-423.615C923.009,-431.373 1029.35,-444.744 1095.64,-453.078\"/>\r\n",
       "<polygon fill=\"black\" stroke=\"black\" points=\"1095.56,-456.596 1105.92,-454.371 1096.44,-449.651 1095.56,-456.596\"/>\r\n",
       "</g>\r\n",
       "<!-- 19 -->\r\n",
       "<g id=\"node20\" class=\"node\"><title>19</title>\r\n",
       "<polygon fill=\"#e58139\" fill-opacity=\"0.407843\" stroke=\"black\" points=\"1205.17,-408.5 1106.17,-408.5 1106.17,-340.5 1205.17,-340.5 1205.17,-408.5\"/>\r\n",
       "<text text-anchor=\"start\" x=\"1116.17\" y=\"-393.3\" font-family=\"Times New Roman,serif\" font-size=\"14.00\">AtBat ≤ 272.0</text>\r\n",
       "<text text-anchor=\"start\" x=\"1114.17\" y=\"-378.3\" font-family=\"Times New Roman,serif\" font-size=\"14.00\">mse = 77624.0</text>\r\n",
       "<text text-anchor=\"start\" x=\"1118.17\" y=\"-363.3\" font-family=\"Times New Roman,serif\" font-size=\"14.00\">samples = 12</text>\r\n",
       "<text text-anchor=\"start\" x=\"1117.67\" y=\"-348.3\" font-family=\"Times New Roman,serif\" font-size=\"14.00\">value = 721.0</text>\r\n",
       "</g>\r\n",
       "<!-- 15&#45;&gt;19 -->\r\n",
       "<g id=\"edge19\" class=\"edge\"><title>15&#45;&gt;19</title>\r\n",
       "<path fill=\"none\" stroke=\"black\" d=\"M861.304,-411.385C923.009,-403.627 1029.35,-390.256 1095.64,-381.922\"/>\r\n",
       "<polygon fill=\"black\" stroke=\"black\" points=\"1096.44,-385.349 1105.92,-380.629 1095.56,-378.404 1096.44,-385.349\"/>\r\n",
       "</g>\r\n",
       "<!-- 17 -->\r\n",
       "<g id=\"node18\" class=\"node\"><title>17</title>\r\n",
       "<polygon fill=\"#e58139\" fill-opacity=\"0.243137\" stroke=\"black\" points=\"1548.17,-550 1449.17,-550 1449.17,-497 1548.17,-497 1548.17,-550\"/>\r\n",
       "<text text-anchor=\"start\" x=\"1457.17\" y=\"-534.8\" font-family=\"Times New Roman,serif\" font-size=\"14.00\">mse = 24230.0</text>\r\n",
       "<text text-anchor=\"start\" x=\"1461.17\" y=\"-519.8\" font-family=\"Times New Roman,serif\" font-size=\"14.00\">samples = 49</text>\r\n",
       "<text text-anchor=\"start\" x=\"1460.67\" y=\"-504.8\" font-family=\"Times New Roman,serif\" font-size=\"14.00\">value = 480.0</text>\r\n",
       "</g>\r\n",
       "<!-- 16&#45;&gt;17 -->\r\n",
       "<g id=\"edge17\" class=\"edge\"><title>16&#45;&gt;17</title>\r\n",
       "<path fill=\"none\" stroke=\"black\" d=\"M1205.52,-469.526C1267.06,-480.894 1372.69,-500.411 1438.67,-512.599\"/>\r\n",
       "<polygon fill=\"black\" stroke=\"black\" points=\"1438.43,-516.115 1448.9,-514.49 1439.7,-509.232 1438.43,-516.115\"/>\r\n",
       "</g>\r\n",
       "<!-- 18 -->\r\n",
       "<g id=\"node19\" class=\"node\"><title>18</title>\r\n",
       "<polygon fill=\"#e58139\" fill-opacity=\"0.423529\" stroke=\"black\" points=\"1544.67,-479 1452.67,-479 1452.67,-426 1544.67,-426 1544.67,-479\"/>\r\n",
       "<text text-anchor=\"start\" x=\"1460.67\" y=\"-463.8\" font-family=\"Times New Roman,serif\" font-size=\"14.00\">mse = 9130.0</text>\r\n",
       "<text text-anchor=\"start\" x=\"1464.67\" y=\"-448.8\" font-family=\"Times New Roman,serif\" font-size=\"14.00\">samples = 4</text>\r\n",
       "<text text-anchor=\"start\" x=\"1460.67\" y=\"-433.8\" font-family=\"Times New Roman,serif\" font-size=\"14.00\">value = 749.0</text>\r\n",
       "</g>\r\n",
       "<!-- 16&#45;&gt;18 -->\r\n",
       "<g id=\"edge18\" class=\"edge\"><title>16&#45;&gt;18</title>\r\n",
       "<path fill=\"none\" stroke=\"black\" d=\"M1205.52,-459.354C1268.19,-457.884 1376.61,-455.34 1442.28,-453.799\"/>\r\n",
       "<polygon fill=\"black\" stroke=\"black\" points=\"1442.52,-457.295 1452.44,-453.561 1442.36,-450.297 1442.52,-457.295\"/>\r\n",
       "</g>\r\n",
       "<!-- 20 -->\r\n",
       "<g id=\"node21\" class=\"node\"><title>20</title>\r\n",
       "<polygon fill=\"#e58139\" fill-opacity=\"0.713725\" stroke=\"black\" points=\"1548.17,-408 1449.17,-408 1449.17,-355 1548.17,-355 1548.17,-408\"/>\r\n",
       "<text text-anchor=\"start\" x=\"1457.17\" y=\"-392.8\" font-family=\"Times New Roman,serif\" font-size=\"14.00\">mse = 15625.0</text>\r\n",
       "<text text-anchor=\"start\" x=\"1464.67\" y=\"-377.8\" font-family=\"Times New Roman,serif\" font-size=\"14.00\">samples = 2</text>\r\n",
       "<text text-anchor=\"start\" x=\"1457.67\" y=\"-362.8\" font-family=\"Times New Roman,serif\" font-size=\"14.00\">value = 1175.0</text>\r\n",
       "</g>\r\n",
       "<!-- 19&#45;&gt;20 -->\r\n",
       "<g id=\"edge20\" class=\"edge\"><title>19&#45;&gt;20</title>\r\n",
       "<path fill=\"none\" stroke=\"black\" d=\"M1205.52,-375.503C1267.06,-376.766 1372.69,-378.935 1438.67,-380.289\"/>\r\n",
       "<polygon fill=\"black\" stroke=\"black\" points=\"1438.83,-383.793 1448.9,-380.499 1438.97,-376.794 1438.83,-383.793\"/>\r\n",
       "</g>\r\n",
       "<!-- 21 -->\r\n",
       "<g id=\"node22\" class=\"node\"><title>21</title>\r\n",
       "<polygon fill=\"#e58139\" fill-opacity=\"0.345098\" stroke=\"black\" points=\"1548.17,-337 1449.17,-337 1449.17,-284 1548.17,-284 1548.17,-337\"/>\r\n",
       "<text text-anchor=\"start\" x=\"1457.17\" y=\"-321.8\" font-family=\"Times New Roman,serif\" font-size=\"14.00\">mse = 40511.0</text>\r\n",
       "<text text-anchor=\"start\" x=\"1461.17\" y=\"-306.8\" font-family=\"Times New Roman,serif\" font-size=\"14.00\">samples = 10</text>\r\n",
       "<text text-anchor=\"start\" x=\"1460.67\" y=\"-291.8\" font-family=\"Times New Roman,serif\" font-size=\"14.00\">value = 630.0</text>\r\n",
       "</g>\r\n",
       "<!-- 19&#45;&gt;21 -->\r\n",
       "<g id=\"edge21\" class=\"edge\"><title>19&#45;&gt;21</title>\r\n",
       "<path fill=\"none\" stroke=\"black\" d=\"M1205.52,-365.33C1267.06,-353.782 1372.69,-333.955 1438.67,-321.574\"/>\r\n",
       "<polygon fill=\"black\" stroke=\"black\" points=\"1439.72,-324.937 1448.9,-319.653 1438.43,-318.057 1439.72,-324.937\"/>\r\n",
       "</g>\r\n",
       "<!-- 23 -->\r\n",
       "<g id=\"node24\" class=\"node\"><title>23</title>\r\n",
       "<polygon fill=\"#e58139\" fill-opacity=\"0.407843\" stroke=\"black\" points=\"1205.17,-245.5 1106.17,-245.5 1106.17,-177.5 1205.17,-177.5 1205.17,-245.5\"/>\r\n",
       "<text text-anchor=\"start\" x=\"1118.17\" y=\"-230.3\" font-family=\"Times New Roman,serif\" font-size=\"14.00\">Walks ≤ 96.0</text>\r\n",
       "<text text-anchor=\"start\" x=\"1114.17\" y=\"-215.3\" font-family=\"Times New Roman,serif\" font-size=\"14.00\">mse = 74214.0</text>\r\n",
       "<text text-anchor=\"start\" x=\"1118.17\" y=\"-200.3\" font-family=\"Times New Roman,serif\" font-size=\"14.00\">samples = 33</text>\r\n",
       "<text text-anchor=\"start\" x=\"1117.67\" y=\"-185.3\" font-family=\"Times New Roman,serif\" font-size=\"14.00\">value = 723.0</text>\r\n",
       "</g>\r\n",
       "<!-- 22&#45;&gt;23 -->\r\n",
       "<g id=\"edge23\" class=\"edge\"><title>22&#45;&gt;23</title>\r\n",
       "<path fill=\"none\" stroke=\"black\" d=\"M864.981,-211.5C927.236,-211.5 1030.9,-211.5 1095.88,-211.5\"/>\r\n",
       "<polygon fill=\"black\" stroke=\"black\" points=\"1095.96,-215 1105.96,-211.5 1095.96,-208 1095.96,-215\"/>\r\n",
       "</g>\r\n",
       "<!-- 26 -->\r\n",
       "<g id=\"node27\" class=\"node\"><title>26</title>\r\n",
       "<polygon fill=\"#e58139\" fill-opacity=\"0.647059\" stroke=\"black\" points=\"1208.67,-131.5 1102.67,-131.5 1102.67,-63.5 1208.67,-63.5 1208.67,-131.5\"/>\r\n",
       "<text text-anchor=\"start\" x=\"1118.17\" y=\"-116.3\" font-family=\"Times New Roman,serif\" font-size=\"14.00\">Walks ≤ 74.0</text>\r\n",
       "<text text-anchor=\"start\" x=\"1110.67\" y=\"-101.3\" font-family=\"Times New Roman,serif\" font-size=\"14.00\">mse = 228603.0</text>\r\n",
       "<text text-anchor=\"start\" x=\"1118.17\" y=\"-86.3\" font-family=\"Times New Roman,serif\" font-size=\"14.00\">samples = 47</text>\r\n",
       "<text text-anchor=\"start\" x=\"1114.67\" y=\"-71.3\" font-family=\"Times New Roman,serif\" font-size=\"14.00\">value = 1076.0</text>\r\n",
       "</g>\r\n",
       "<!-- 22&#45;&gt;26 -->\r\n",
       "<g id=\"edge26\" class=\"edge\"><title>22&#45;&gt;26</title>\r\n",
       "<path fill=\"none\" stroke=\"black\" d=\"M864.981,-194.062C926.296,-173.624 1027.78,-139.795 1092.91,-118.087\"/>\r\n",
       "<polygon fill=\"black\" stroke=\"black\" points=\"1094.26,-121.326 1102.64,-114.843 1092.04,-114.685 1094.26,-121.326\"/>\r\n",
       "</g>\r\n",
       "<!-- 24 -->\r\n",
       "<g id=\"node25\" class=\"node\"><title>24</title>\r\n",
       "<polygon fill=\"#e58139\" fill-opacity=\"0.388235\" stroke=\"black\" points=\"1548.17,-266 1449.17,-266 1449.17,-213 1548.17,-213 1548.17,-266\"/>\r\n",
       "<text text-anchor=\"start\" x=\"1457.17\" y=\"-250.8\" font-family=\"Times New Roman,serif\" font-size=\"14.00\">mse = 51724.0</text>\r\n",
       "<text text-anchor=\"start\" x=\"1461.17\" y=\"-235.8\" font-family=\"Times New Roman,serif\" font-size=\"14.00\">samples = 32</text>\r\n",
       "<text text-anchor=\"start\" x=\"1460.67\" y=\"-220.8\" font-family=\"Times New Roman,serif\" font-size=\"14.00\">value = 695.0</text>\r\n",
       "</g>\r\n",
       "<!-- 23&#45;&gt;24 -->\r\n",
       "<g id=\"edge24\" class=\"edge\"><title>23&#45;&gt;24</title>\r\n",
       "<path fill=\"none\" stroke=\"black\" d=\"M1205.52,-215.512C1267.06,-220.564 1372.69,-229.238 1438.67,-234.655\"/>\r\n",
       "<polygon fill=\"black\" stroke=\"black\" points=\"1438.65,-238.166 1448.9,-235.496 1439.22,-231.189 1438.65,-238.166\"/>\r\n",
       "</g>\r\n",
       "<!-- 25 -->\r\n",
       "<g id=\"node26\" class=\"node\"><title>25</title>\r\n",
       "<polygon fill=\"#e58139\" stroke=\"black\" points=\"1547.67,-195 1449.67,-195 1449.67,-142 1547.67,-142 1547.67,-195\"/>\r\n",
       "<text text-anchor=\"start\" x=\"1470.67\" y=\"-179.8\" font-family=\"Times New Roman,serif\" font-size=\"14.00\">mse = 0.0</text>\r\n",
       "<text text-anchor=\"start\" x=\"1464.67\" y=\"-164.8\" font-family=\"Times New Roman,serif\" font-size=\"14.00\">samples = 1</text>\r\n",
       "<text text-anchor=\"start\" x=\"1457.67\" y=\"-149.8\" font-family=\"Times New Roman,serif\" font-size=\"14.00\">value = 1600.0</text>\r\n",
       "</g>\r\n",
       "<!-- 23&#45;&gt;25 -->\r\n",
       "<g id=\"edge25\" class=\"edge\"><title>23&#45;&gt;25</title>\r\n",
       "<path fill=\"none\" stroke=\"black\" d=\"M1205.52,-205.339C1267.23,-197.558 1373.29,-184.183 1439.23,-175.869\"/>\r\n",
       "<polygon fill=\"black\" stroke=\"black\" points=\"1439.97,-179.304 1449.45,-174.58 1439.09,-172.359 1439.97,-179.304\"/>\r\n",
       "</g>\r\n",
       "<!-- 27 -->\r\n",
       "<g id=\"node28\" class=\"node\"><title>27</title>\r\n",
       "<polygon fill=\"#e58139\" fill-opacity=\"0.560784\" stroke=\"black\" points=\"1551.67,-124 1445.67,-124 1445.67,-71 1551.67,-71 1551.67,-124\"/>\r\n",
       "<text text-anchor=\"start\" x=\"1453.67\" y=\"-108.8\" font-family=\"Times New Roman,serif\" font-size=\"14.00\">mse = 132752.0</text>\r\n",
       "<text text-anchor=\"start\" x=\"1461.17\" y=\"-93.8\" font-family=\"Times New Roman,serif\" font-size=\"14.00\">samples = 36</text>\r\n",
       "<text text-anchor=\"start\" x=\"1460.67\" y=\"-78.8\" font-family=\"Times New Roman,serif\" font-size=\"14.00\">value = 948.0</text>\r\n",
       "</g>\r\n",
       "<!-- 26&#45;&gt;27 -->\r\n",
       "<g id=\"edge27\" class=\"edge\"><title>26&#45;&gt;27</title>\r\n",
       "<path fill=\"none\" stroke=\"black\" d=\"M1208.83,-97.5C1269.75,-97.5 1370.45,-97.5 1435.4,-97.5\"/>\r\n",
       "<polygon fill=\"black\" stroke=\"black\" points=\"1435.51,-101 1445.51,-97.5 1435.51,-94.0001 1435.51,-101\"/>\r\n",
       "</g>\r\n",
       "<!-- 28 -->\r\n",
       "<g id=\"node29\" class=\"node\"><title>28</title>\r\n",
       "<polygon fill=\"#e58139\" fill-opacity=\"0.929412\" stroke=\"black\" points=\"1551.67,-53 1445.67,-53 1445.67,-0 1551.67,-0 1551.67,-53\"/>\r\n",
       "<text text-anchor=\"start\" x=\"1453.67\" y=\"-37.8\" font-family=\"Times New Roman,serif\" font-size=\"14.00\">mse = 311686.0</text>\r\n",
       "<text text-anchor=\"start\" x=\"1461.17\" y=\"-22.8\" font-family=\"Times New Roman,serif\" font-size=\"14.00\">samples = 11</text>\r\n",
       "<text text-anchor=\"start\" x=\"1457.67\" y=\"-7.8\" font-family=\"Times New Roman,serif\" font-size=\"14.00\">value = 1496.0</text>\r\n",
       "</g>\r\n",
       "<!-- 26&#45;&gt;28 -->\r\n",
       "<g id=\"edge28\" class=\"edge\"><title>26&#45;&gt;28</title>\r\n",
       "<path fill=\"none\" stroke=\"black\" d=\"M1208.83,-86.6393C1269.75,-73.9549 1370.45,-52.9889 1435.4,-39.4638\"/>\r\n",
       "<polygon fill=\"black\" stroke=\"black\" points=\"1436.43,-42.8244 1445.51,-37.3594 1435.01,-35.9714 1436.43,-42.8244\"/>\r\n",
       "</g>\r\n",
       "</g>\r\n",
       "</svg>\r\n"
      ],
      "text/plain": [
       "<graphviz.files.Source at 0x152b9058c88>"
      ]
     },
     "metadata": {},
     "output_type": "display_data"
    }
   ],
   "source": [
    "draw_tree(tree, X_train)"
   ]
  },
  {
   "cell_type": "markdown",
   "metadata": {
    "slideshow": {
     "slide_type": "slide"
    }
   },
   "source": [
    "### Group Exercise:\n",
    "\n",
    "For our dataset, find the **ideal number of samples per leaf** for our training set using 10-fold cross validation.  \n",
    "\n",
    "Test out these possible values: 1, 5, 10, 25, 50.\n",
    "\n",
    "Write down the number of leaves that returned the best r_squared value, as well as the r_squared value itself."
   ]
  },
  {
   "cell_type": "markdown",
   "metadata": {
    "slideshow": {
     "slide_type": "slide"
    }
   },
   "source": [
    "### Random Forests & Decision Tree Ensembles"
   ]
  },
  {
   "cell_type": "markdown",
   "metadata": {
    "slideshow": {
     "slide_type": "slide"
    }
   },
   "source": [
    "### What is Ensembling?\n",
    "\n",
    "**Ensemble learning (or \"ensembling\")** is the process of combining several predictive models in order to produce a combined model that is more accurate than any individual model. "
   ]
  },
  {
   "cell_type": "markdown",
   "metadata": {
    "slideshow": {
     "slide_type": "slide"
    }
   },
   "source": [
    "**The big idea:** If you have a collection of individually imperfect (and independent) models, the \"one-off\" mistakes made by each model are probably not going to be made by the rest of the models, and thus the mistakes will be discarded when you average the models.\n",
    "\n",
    "There are two basic **methods for ensembling:**\n",
    "\n",
    "- Manually ensembling your individual models.\n",
    "- Using a model that ensembles for you."
   ]
  },
  {
   "cell_type": "markdown",
   "metadata": {
    "slideshow": {
     "slide_type": "slide"
    }
   },
   "source": [
    "<a id=\"part-one\"></a>\n",
    "## Part 1: Manual Ensembling\n",
    "\n",
    "What makes an effective manual ensemble?\n",
    "\n",
    "- Different types of **models**.\n",
    "- Different combinations of **features**.\n",
    "- Different **tuning parameters**."
   ]
  },
  {
   "cell_type": "markdown",
   "metadata": {
    "slideshow": {
     "slide_type": "slide"
    }
   },
   "source": [
    "![Machine learning flowchart](assets/crowdflower_ensembling.jpg)\n",
    "\n",
    "*Machine learning flowchart created by the [winner](https://github.com/ChenglongChen/Kaggle_CrowdFlower) of Kaggle's [CrowdFlower competition](https://www.kaggle.com/c/crowdflower-search-relevance)*."
   ]
  },
  {
   "cell_type": "markdown",
   "metadata": {
    "slideshow": {
     "slide_type": "slide"
    }
   },
   "source": [
    "<a id=\"part-two\"></a>\n",
    "## Part 2: Bagging\n",
    "\n",
    "The primary weakness of **decision trees** is that they don't tend to have the best predictive accuracy. This is partially because of **high variance**, meaning that different splits in the training data can lead to very different trees.\n",
    "\n",
    "**Bagging** is a general-purpose procedure for reducing the variance of a machine learning method but is particularly useful for decision trees. Bagging is short for **bootstrap aggregation**, meaning the aggregation of bootstrap samples.\n",
    "\n",
    "A **bootstrap sample** is a random sample with replacement. So, it has the same size as the original sample but might duplicate some of the original observations."
   ]
  },
  {
   "cell_type": "markdown",
   "metadata": {
    "slideshow": {
     "slide_type": "slide"
    }
   },
   "source": [
    "**How does bagging work (for decision trees)?**\n",
    "\n",
    "1. Grow N trees using X bootstrap samples from the training data.\n",
    "2. Train each tree on its bootstrap sample and make predictions.\n",
    "3. Take the average of all the tree values for your final prediction.\n",
    "\n",
    "Bagging increases predictive accuracy by **reducing the variance**, similar to how cross-validation reduces the variance associated with train/test split (for estimating out-of-sample error) by splitting many times an averaging the results."
   ]
  },
  {
   "cell_type": "markdown",
   "metadata": {
    "slideshow": {
     "slide_type": "slide"
    }
   },
   "source": [
    "### Using RandomForests With Scikit Learn"
   ]
  },
  {
   "cell_type": "code",
   "execution_count": 47,
   "metadata": {
    "slideshow": {
     "slide_type": "slide"
    }
   },
   "outputs": [],
   "source": [
    "from sklearn.ensemble import RandomForestRegressor\n",
    "rf = RandomForestRegressor()"
   ]
  },
  {
   "cell_type": "markdown",
   "metadata": {
    "slideshow": {
     "slide_type": "slide"
    }
   },
   "source": [
    "### How Might We Finetune A Random Forest?"
   ]
  },
  {
   "cell_type": "markdown",
   "metadata": {
    "slideshow": {
     "slide_type": "slide"
    }
   },
   "source": [
    " - number of trees (estimators)\n",
    " - number of features to sample at each split (unique to random forests)\n",
    " - how to grow each individual tree (similar to a decision tree itself"
   ]
  },
  {
   "cell_type": "markdown",
   "metadata": {
    "slideshow": {
     "slide_type": "slide"
    }
   },
   "source": [
    "#### Choosing the Best Number of Features at Each Split\n",
    "\n",
    "You generally have four different choices:\n",
    " - manually define the number of features you want to use\n",
    " - manually define the percentage of features you want to use\n",
    " - **sqrt**:  the square root of the total number of features\n",
    " - **log2**:  the log of the number of features that you want to use\n",
    " \n",
    "These are all specified with the `max_features` parameter in a Random Forest.\n",
    "\n",
    "Generally, a smaller number of features is a better safeguard against overfitting."
   ]
  },
  {
   "cell_type": "code",
   "execution_count": 48,
   "metadata": {
    "slideshow": {
     "slide_type": "slide"
    }
   },
   "outputs": [
    {
     "data": {
      "text/plain": [
       "{'bootstrap': True,\n",
       " 'criterion': 'mse',\n",
       " 'max_depth': None,\n",
       " 'max_features': 'auto',\n",
       " 'max_leaf_nodes': None,\n",
       " 'min_impurity_decrease': 0.0,\n",
       " 'min_impurity_split': None,\n",
       " 'min_samples_leaf': 1,\n",
       " 'min_samples_split': 2,\n",
       " 'min_weight_fraction_leaf': 0.0,\n",
       " 'n_estimators': 'warn',\n",
       " 'n_jobs': None,\n",
       " 'oob_score': False,\n",
       " 'random_state': None,\n",
       " 'verbose': 0,\n",
       " 'warm_start': False}"
      ]
     },
     "execution_count": 48,
     "metadata": {},
     "output_type": "execute_result"
    }
   ],
   "source": [
    "rf.get_params()"
   ]
  },
  {
   "cell_type": "code",
   "execution_count": 50,
   "metadata": {
    "slideshow": {
     "slide_type": "slide"
    }
   },
   "outputs": [
    {
     "data": {
      "text/plain": [
       "[DecisionTreeRegressor(criterion='mse', max_depth=None, max_features='auto',\n",
       "            max_leaf_nodes=None, min_impurity_decrease=0.0,\n",
       "            min_impurity_split=None, min_samples_leaf=1,\n",
       "            min_samples_split=2, min_weight_fraction_leaf=0.0,\n",
       "            presort=False, random_state=413304388, splitter='best'),\n",
       " DecisionTreeRegressor(criterion='mse', max_depth=None, max_features='auto',\n",
       "            max_leaf_nodes=None, min_impurity_decrease=0.0,\n",
       "            min_impurity_split=None, min_samples_leaf=1,\n",
       "            min_samples_split=2, min_weight_fraction_leaf=0.0,\n",
       "            presort=False, random_state=1289530102, splitter='best'),\n",
       " DecisionTreeRegressor(criterion='mse', max_depth=None, max_features='auto',\n",
       "            max_leaf_nodes=None, min_impurity_decrease=0.0,\n",
       "            min_impurity_split=None, min_samples_leaf=1,\n",
       "            min_samples_split=2, min_weight_fraction_leaf=0.0,\n",
       "            presort=False, random_state=1058019337, splitter='best'),\n",
       " DecisionTreeRegressor(criterion='mse', max_depth=None, max_features='auto',\n",
       "            max_leaf_nodes=None, min_impurity_decrease=0.0,\n",
       "            min_impurity_split=None, min_samples_leaf=1,\n",
       "            min_samples_split=2, min_weight_fraction_leaf=0.0,\n",
       "            presort=False, random_state=1055892830, splitter='best'),\n",
       " DecisionTreeRegressor(criterion='mse', max_depth=None, max_features='auto',\n",
       "            max_leaf_nodes=None, min_impurity_decrease=0.0,\n",
       "            min_impurity_split=None, min_samples_leaf=1,\n",
       "            min_samples_split=2, min_weight_fraction_leaf=0.0,\n",
       "            presort=False, random_state=212820763, splitter='best'),\n",
       " DecisionTreeRegressor(criterion='mse', max_depth=None, max_features='auto',\n",
       "            max_leaf_nodes=None, min_impurity_decrease=0.0,\n",
       "            min_impurity_split=None, min_samples_leaf=1,\n",
       "            min_samples_split=2, min_weight_fraction_leaf=0.0,\n",
       "            presort=False, random_state=253577285, splitter='best'),\n",
       " DecisionTreeRegressor(criterion='mse', max_depth=None, max_features='auto',\n",
       "            max_leaf_nodes=None, min_impurity_decrease=0.0,\n",
       "            min_impurity_split=None, min_samples_leaf=1,\n",
       "            min_samples_split=2, min_weight_fraction_leaf=0.0,\n",
       "            presort=False, random_state=561828377, splitter='best'),\n",
       " DecisionTreeRegressor(criterion='mse', max_depth=None, max_features='auto',\n",
       "            max_leaf_nodes=None, min_impurity_decrease=0.0,\n",
       "            min_impurity_split=None, min_samples_leaf=1,\n",
       "            min_samples_split=2, min_weight_fraction_leaf=0.0,\n",
       "            presort=False, random_state=748741614, splitter='best'),\n",
       " DecisionTreeRegressor(criterion='mse', max_depth=None, max_features='auto',\n",
       "            max_leaf_nodes=None, min_impurity_decrease=0.0,\n",
       "            min_impurity_split=None, min_samples_leaf=1,\n",
       "            min_samples_split=2, min_weight_fraction_leaf=0.0,\n",
       "            presort=False, random_state=87038649, splitter='best'),\n",
       " DecisionTreeRegressor(criterion='mse', max_depth=None, max_features='auto',\n",
       "            max_leaf_nodes=None, min_impurity_decrease=0.0,\n",
       "            min_impurity_split=None, min_samples_leaf=1,\n",
       "            min_samples_split=2, min_weight_fraction_leaf=0.0,\n",
       "            presort=False, random_state=1715043403, splitter='best')]"
      ]
     },
     "execution_count": 50,
     "metadata": {},
     "output_type": "execute_result"
    }
   ],
   "source": [
    "rf.fit(X, y)\n",
    "rf.estimators_"
   ]
  },
  {
   "cell_type": "markdown",
   "metadata": {
    "slideshow": {
     "slide_type": "slide"
    }
   },
   "source": [
    "### Group Activity:  \n",
    "\n",
    "Using 10-fold cross-validation, find the best value to use for the 'max_features' parameter on our training set.\n",
    "\n",
    "Test between these three values:  \n",
    " - 1/2 of all features\n",
    " - the square root of all features\n",
    " - the log of all features\n",
    " \n",
    "Look at the RandomForest documentation if you have any questions:  https://scikit-learn.org/stable/modules/generated/sklearn.ensemble.RandomForestRegressor.html#sklearn.ensemble.RandomForestRegressor\n",
    "\n",
    "Write the value that gave you the best results, as well as the r_squared value on your nameplate."
   ]
  },
  {
   "cell_type": "markdown",
   "metadata": {
    "slideshow": {
     "slide_type": "slide"
    }
   },
   "source": [
    "### Our Very First Kaggle Competition!"
   ]
  },
  {
   "cell_type": "markdown",
   "metadata": {
    "slideshow": {
     "slide_type": "slide"
    }
   },
   "source": [
    "We're going to spend the rest of class making our first submission to a Kaggle competition.  \n",
    "\n",
    "You can use this competition as the basis for homework 3 if you choose.  \n",
    "\n",
    "The dataset we're going to be working with is the Ames, Iowa housing dataset.  Information about it can be found here:  https://www.kaggle.com/c/house-prices-advanced-regression-techniques/overview\n",
    "\n",
    "We're going to create a baseline submission using a Random Forest."
   ]
  },
  {
   "cell_type": "code",
   "execution_count": 93,
   "metadata": {
    "slideshow": {
     "slide_type": "slide"
    }
   },
   "outputs": [],
   "source": [
    "train = pd.read_csv('../data/iowa_housing/train.csv', usecols=[1, 17, 18, 19, 43, 44, 46, 49, 50, 70, 77, 80])\n",
    "test  = pd.read_csv('../data/iowa_housing/test.csv', usecols=[1, 17, 18, 19, 43, 44, 46, 49, 50, 70, 77])"
   ]
  },
  {
   "cell_type": "code",
   "execution_count": 89,
   "metadata": {
    "slideshow": {
     "slide_type": "slide"
    }
   },
   "outputs": [
    {
     "data": {
      "text/html": [
       "<div>\n",
       "<style scoped>\n",
       "    .dataframe tbody tr th:only-of-type {\n",
       "        vertical-align: middle;\n",
       "    }\n",
       "\n",
       "    .dataframe tbody tr th {\n",
       "        vertical-align: top;\n",
       "    }\n",
       "\n",
       "    .dataframe thead th {\n",
       "        text-align: right;\n",
       "    }\n",
       "</style>\n",
       "<table border=\"1\" class=\"dataframe\">\n",
       "  <thead>\n",
       "    <tr style=\"text-align: right;\">\n",
       "      <th></th>\n",
       "      <th>MSSubClass</th>\n",
       "      <th>OverallQual</th>\n",
       "      <th>OverallCond</th>\n",
       "      <th>YearBuilt</th>\n",
       "      <th>1stFlrSF</th>\n",
       "      <th>2ndFlrSF</th>\n",
       "      <th>GrLivArea</th>\n",
       "      <th>FullBath</th>\n",
       "      <th>HalfBath</th>\n",
       "      <th>ScreenPorch</th>\n",
       "      <th>YrSold</th>\n",
       "      <th>SalePrice</th>\n",
       "    </tr>\n",
       "  </thead>\n",
       "  <tbody>\n",
       "    <tr>\n",
       "      <th>0</th>\n",
       "      <td>60</td>\n",
       "      <td>7</td>\n",
       "      <td>5</td>\n",
       "      <td>2003</td>\n",
       "      <td>856</td>\n",
       "      <td>854</td>\n",
       "      <td>1710</td>\n",
       "      <td>2</td>\n",
       "      <td>1</td>\n",
       "      <td>0</td>\n",
       "      <td>2008</td>\n",
       "      <td>208500</td>\n",
       "    </tr>\n",
       "    <tr>\n",
       "      <th>1</th>\n",
       "      <td>20</td>\n",
       "      <td>6</td>\n",
       "      <td>8</td>\n",
       "      <td>1976</td>\n",
       "      <td>1262</td>\n",
       "      <td>0</td>\n",
       "      <td>1262</td>\n",
       "      <td>2</td>\n",
       "      <td>0</td>\n",
       "      <td>0</td>\n",
       "      <td>2007</td>\n",
       "      <td>181500</td>\n",
       "    </tr>\n",
       "    <tr>\n",
       "      <th>2</th>\n",
       "      <td>60</td>\n",
       "      <td>7</td>\n",
       "      <td>5</td>\n",
       "      <td>2001</td>\n",
       "      <td>920</td>\n",
       "      <td>866</td>\n",
       "      <td>1786</td>\n",
       "      <td>2</td>\n",
       "      <td>1</td>\n",
       "      <td>0</td>\n",
       "      <td>2008</td>\n",
       "      <td>223500</td>\n",
       "    </tr>\n",
       "    <tr>\n",
       "      <th>3</th>\n",
       "      <td>70</td>\n",
       "      <td>7</td>\n",
       "      <td>5</td>\n",
       "      <td>1915</td>\n",
       "      <td>961</td>\n",
       "      <td>756</td>\n",
       "      <td>1717</td>\n",
       "      <td>1</td>\n",
       "      <td>0</td>\n",
       "      <td>0</td>\n",
       "      <td>2006</td>\n",
       "      <td>140000</td>\n",
       "    </tr>\n",
       "    <tr>\n",
       "      <th>4</th>\n",
       "      <td>60</td>\n",
       "      <td>8</td>\n",
       "      <td>5</td>\n",
       "      <td>2000</td>\n",
       "      <td>1145</td>\n",
       "      <td>1053</td>\n",
       "      <td>2198</td>\n",
       "      <td>2</td>\n",
       "      <td>1</td>\n",
       "      <td>0</td>\n",
       "      <td>2008</td>\n",
       "      <td>250000</td>\n",
       "    </tr>\n",
       "  </tbody>\n",
       "</table>\n",
       "</div>"
      ],
      "text/plain": [
       "   MSSubClass  OverallQual  OverallCond  YearBuilt  1stFlrSF  2ndFlrSF  \\\n",
       "0          60            7            5       2003       856       854   \n",
       "1          20            6            8       1976      1262         0   \n",
       "2          60            7            5       2001       920       866   \n",
       "3          70            7            5       1915       961       756   \n",
       "4          60            8            5       2000      1145      1053   \n",
       "\n",
       "   GrLivArea  FullBath  HalfBath  ScreenPorch  YrSold  SalePrice  \n",
       "0       1710         2         1            0    2008     208500  \n",
       "1       1262         2         0            0    2007     181500  \n",
       "2       1786         2         1            0    2008     223500  \n",
       "3       1717         1         0            0    2006     140000  \n",
       "4       2198         2         1            0    2008     250000  "
      ]
     },
     "execution_count": 89,
     "metadata": {},
     "output_type": "execute_result"
    }
   ],
   "source": [
    "train.head()"
   ]
  },
  {
   "cell_type": "code",
   "execution_count": 94,
   "metadata": {
    "slideshow": {
     "slide_type": "slide"
    }
   },
   "outputs": [
    {
     "data": {
      "text/html": [
       "<div>\n",
       "<style scoped>\n",
       "    .dataframe tbody tr th:only-of-type {\n",
       "        vertical-align: middle;\n",
       "    }\n",
       "\n",
       "    .dataframe tbody tr th {\n",
       "        vertical-align: top;\n",
       "    }\n",
       "\n",
       "    .dataframe thead th {\n",
       "        text-align: right;\n",
       "    }\n",
       "</style>\n",
       "<table border=\"1\" class=\"dataframe\">\n",
       "  <thead>\n",
       "    <tr style=\"text-align: right;\">\n",
       "      <th></th>\n",
       "      <th>MSSubClass</th>\n",
       "      <th>OverallQual</th>\n",
       "      <th>OverallCond</th>\n",
       "      <th>YearBuilt</th>\n",
       "      <th>1stFlrSF</th>\n",
       "      <th>2ndFlrSF</th>\n",
       "      <th>GrLivArea</th>\n",
       "      <th>FullBath</th>\n",
       "      <th>HalfBath</th>\n",
       "      <th>ScreenPorch</th>\n",
       "      <th>YrSold</th>\n",
       "    </tr>\n",
       "  </thead>\n",
       "  <tbody>\n",
       "    <tr>\n",
       "      <th>0</th>\n",
       "      <td>20</td>\n",
       "      <td>5</td>\n",
       "      <td>6</td>\n",
       "      <td>1961</td>\n",
       "      <td>896</td>\n",
       "      <td>0</td>\n",
       "      <td>896</td>\n",
       "      <td>1</td>\n",
       "      <td>0</td>\n",
       "      <td>120</td>\n",
       "      <td>2010</td>\n",
       "    </tr>\n",
       "    <tr>\n",
       "      <th>1</th>\n",
       "      <td>20</td>\n",
       "      <td>6</td>\n",
       "      <td>6</td>\n",
       "      <td>1958</td>\n",
       "      <td>1329</td>\n",
       "      <td>0</td>\n",
       "      <td>1329</td>\n",
       "      <td>1</td>\n",
       "      <td>1</td>\n",
       "      <td>0</td>\n",
       "      <td>2010</td>\n",
       "    </tr>\n",
       "    <tr>\n",
       "      <th>2</th>\n",
       "      <td>60</td>\n",
       "      <td>5</td>\n",
       "      <td>5</td>\n",
       "      <td>1997</td>\n",
       "      <td>928</td>\n",
       "      <td>701</td>\n",
       "      <td>1629</td>\n",
       "      <td>2</td>\n",
       "      <td>1</td>\n",
       "      <td>0</td>\n",
       "      <td>2010</td>\n",
       "    </tr>\n",
       "    <tr>\n",
       "      <th>3</th>\n",
       "      <td>60</td>\n",
       "      <td>6</td>\n",
       "      <td>6</td>\n",
       "      <td>1998</td>\n",
       "      <td>926</td>\n",
       "      <td>678</td>\n",
       "      <td>1604</td>\n",
       "      <td>2</td>\n",
       "      <td>1</td>\n",
       "      <td>0</td>\n",
       "      <td>2010</td>\n",
       "    </tr>\n",
       "    <tr>\n",
       "      <th>4</th>\n",
       "      <td>120</td>\n",
       "      <td>8</td>\n",
       "      <td>5</td>\n",
       "      <td>1992</td>\n",
       "      <td>1280</td>\n",
       "      <td>0</td>\n",
       "      <td>1280</td>\n",
       "      <td>2</td>\n",
       "      <td>0</td>\n",
       "      <td>144</td>\n",
       "      <td>2010</td>\n",
       "    </tr>\n",
       "  </tbody>\n",
       "</table>\n",
       "</div>"
      ],
      "text/plain": [
       "   MSSubClass  OverallQual  OverallCond  YearBuilt  1stFlrSF  2ndFlrSF  \\\n",
       "0          20            5            6       1961       896         0   \n",
       "1          20            6            6       1958      1329         0   \n",
       "2          60            5            5       1997       928       701   \n",
       "3          60            6            6       1998       926       678   \n",
       "4         120            8            5       1992      1280         0   \n",
       "\n",
       "   GrLivArea  FullBath  HalfBath  ScreenPorch  YrSold  \n",
       "0        896         1         0          120    2010  \n",
       "1       1329         1         1            0    2010  \n",
       "2       1629         2         1            0    2010  \n",
       "3       1604         2         1            0    2010  \n",
       "4       1280         2         0          144    2010  "
      ]
     },
     "execution_count": 94,
     "metadata": {},
     "output_type": "execute_result"
    }
   ],
   "source": [
    "test.head()"
   ]
  },
  {
   "cell_type": "code",
   "execution_count": 95,
   "metadata": {
    "slideshow": {
     "slide_type": "slide"
    }
   },
   "outputs": [
    {
     "data": {
      "text/plain": [
       "MSSubClass     0\n",
       "OverallQual    0\n",
       "OverallCond    0\n",
       "YearBuilt      0\n",
       "1stFlrSF       0\n",
       "2ndFlrSF       0\n",
       "GrLivArea      0\n",
       "FullBath       0\n",
       "HalfBath       0\n",
       "ScreenPorch    0\n",
       "YrSold         0\n",
       "SalePrice      0\n",
       "dtype: int64"
      ]
     },
     "execution_count": 95,
     "metadata": {},
     "output_type": "execute_result"
    }
   ],
   "source": [
    "train.isnull().sum()"
   ]
  },
  {
   "cell_type": "code",
   "execution_count": 96,
   "metadata": {
    "slideshow": {
     "slide_type": "slide"
    }
   },
   "outputs": [
    {
     "data": {
      "text/plain": [
       "MSSubClass     0\n",
       "OverallQual    0\n",
       "OverallCond    0\n",
       "YearBuilt      0\n",
       "1stFlrSF       0\n",
       "2ndFlrSF       0\n",
       "GrLivArea      0\n",
       "FullBath       0\n",
       "HalfBath       0\n",
       "ScreenPorch    0\n",
       "YrSold         0\n",
       "dtype: int64"
      ]
     },
     "execution_count": 96,
     "metadata": {},
     "output_type": "execute_result"
    }
   ],
   "source": [
    "test.isnull().sum()"
   ]
  },
  {
   "cell_type": "code",
   "execution_count": 97,
   "metadata": {
    "slideshow": {
     "slide_type": "slide"
    }
   },
   "outputs": [],
   "source": [
    "X_train, y_train = train.loc[:, train.columns != 'SalePrice'], np.log(train['SalePrice'])"
   ]
  },
  {
   "cell_type": "code",
   "execution_count": 101,
   "metadata": {
    "slideshow": {
     "slide_type": "slide"
    }
   },
   "outputs": [
    {
     "data": {
      "image/png": "[encoded data removed]",
      "text/plain": [
       "<Figure size 432x288 with 1 Axes>"
      ]
     },
     "metadata": {
      "needs_background": "light"
     },
     "output_type": "display_data"
    }
   ],
   "source": [
    "y_train.hist();"
   ]
  },
  {
   "cell_type": "code",
   "execution_count": 109,
   "metadata": {
    "slideshow": {
     "slide_type": "slide"
    }
   },
   "outputs": [],
   "source": [
    "def rmse(estimator, X, y):\n",
    "    preds  = estimator.predict(X)\n",
    "    error = np.sqrt(np.mean((preds - y)**2))\n",
    "    return error"
   ]
  },
  {
   "cell_type": "code",
   "execution_count": 110,
   "metadata": {
    "slideshow": {
     "slide_type": "slide"
    }
   },
   "outputs": [
    {
     "name": "stderr",
     "output_type": "stream",
     "text": [
      "C:\\Users\\Jonat\\Anaconda\\lib\\site-packages\\sklearn\\ensemble\\forest.py:246: FutureWarning: The default value of n_estimators will change from 10 in version 0.20 to 100 in 0.22.\n",
      "  \"10 in version 0.20 to 100 in 0.22.\", FutureWarning)\n",
      "C:\\Users\\Jonat\\Anaconda\\lib\\site-packages\\sklearn\\ensemble\\forest.py:246: FutureWarning: The default value of n_estimators will change from 10 in version 0.20 to 100 in 0.22.\n",
      "  \"10 in version 0.20 to 100 in 0.22.\", FutureWarning)\n",
      "C:\\Users\\Jonat\\Anaconda\\lib\\site-packages\\sklearn\\ensemble\\forest.py:246: FutureWarning: The default value of n_estimators will change from 10 in version 0.20 to 100 in 0.22.\n",
      "  \"10 in version 0.20 to 100 in 0.22.\", FutureWarning)\n",
      "C:\\Users\\Jonat\\Anaconda\\lib\\site-packages\\sklearn\\ensemble\\forest.py:246: FutureWarning: The default value of n_estimators will change from 10 in version 0.20 to 100 in 0.22.\n",
      "  \"10 in version 0.20 to 100 in 0.22.\", FutureWarning)\n",
      "C:\\Users\\Jonat\\Anaconda\\lib\\site-packages\\sklearn\\ensemble\\forest.py:246: FutureWarning: The default value of n_estimators will change from 10 in version 0.20 to 100 in 0.22.\n",
      "  \"10 in version 0.20 to 100 in 0.22.\", FutureWarning)\n",
      "C:\\Users\\Jonat\\Anaconda\\lib\\site-packages\\sklearn\\ensemble\\forest.py:246: FutureWarning: The default value of n_estimators will change from 10 in version 0.20 to 100 in 0.22.\n",
      "  \"10 in version 0.20 to 100 in 0.22.\", FutureWarning)\n",
      "C:\\Users\\Jonat\\Anaconda\\lib\\site-packages\\sklearn\\ensemble\\forest.py:246: FutureWarning: The default value of n_estimators will change from 10 in version 0.20 to 100 in 0.22.\n",
      "  \"10 in version 0.20 to 100 in 0.22.\", FutureWarning)\n",
      "C:\\Users\\Jonat\\Anaconda\\lib\\site-packages\\sklearn\\ensemble\\forest.py:246: FutureWarning: The default value of n_estimators will change from 10 in version 0.20 to 100 in 0.22.\n",
      "  \"10 in version 0.20 to 100 in 0.22.\", FutureWarning)\n",
      "C:\\Users\\Jonat\\Anaconda\\lib\\site-packages\\sklearn\\ensemble\\forest.py:246: FutureWarning: The default value of n_estimators will change from 10 in version 0.20 to 100 in 0.22.\n",
      "  \"10 in version 0.20 to 100 in 0.22.\", FutureWarning)\n",
      "C:\\Users\\Jonat\\Anaconda\\lib\\site-packages\\sklearn\\ensemble\\forest.py:246: FutureWarning: The default value of n_estimators will change from 10 in version 0.20 to 100 in 0.22.\n",
      "  \"10 in version 0.20 to 100 in 0.22.\", FutureWarning)\n",
      "C:\\Users\\Jonat\\Anaconda\\lib\\site-packages\\sklearn\\ensemble\\forest.py:246: FutureWarning: The default value of n_estimators will change from 10 in version 0.20 to 100 in 0.22.\n",
      "  \"10 in version 0.20 to 100 in 0.22.\", FutureWarning)\n",
      "C:\\Users\\Jonat\\Anaconda\\lib\\site-packages\\sklearn\\ensemble\\forest.py:246: FutureWarning: The default value of n_estimators will change from 10 in version 0.20 to 100 in 0.22.\n",
      "  \"10 in version 0.20 to 100 in 0.22.\", FutureWarning)\n",
      "C:\\Users\\Jonat\\Anaconda\\lib\\site-packages\\sklearn\\ensemble\\forest.py:246: FutureWarning: The default value of n_estimators will change from 10 in version 0.20 to 100 in 0.22.\n",
      "  \"10 in version 0.20 to 100 in 0.22.\", FutureWarning)\n",
      "C:\\Users\\Jonat\\Anaconda\\lib\\site-packages\\sklearn\\ensemble\\forest.py:246: FutureWarning: The default value of n_estimators will change from 10 in version 0.20 to 100 in 0.22.\n",
      "  \"10 in version 0.20 to 100 in 0.22.\", FutureWarning)\n",
      "C:\\Users\\Jonat\\Anaconda\\lib\\site-packages\\sklearn\\ensemble\\forest.py:246: FutureWarning: The default value of n_estimators will change from 10 in version 0.20 to 100 in 0.22.\n",
      "  \"10 in version 0.20 to 100 in 0.22.\", FutureWarning)\n",
      "C:\\Users\\Jonat\\Anaconda\\lib\\site-packages\\sklearn\\ensemble\\forest.py:246: FutureWarning: The default value of n_estimators will change from 10 in version 0.20 to 100 in 0.22.\n",
      "  \"10 in version 0.20 to 100 in 0.22.\", FutureWarning)\n",
      "C:\\Users\\Jonat\\Anaconda\\lib\\site-packages\\sklearn\\ensemble\\forest.py:246: FutureWarning: The default value of n_estimators will change from 10 in version 0.20 to 100 in 0.22.\n",
      "  \"10 in version 0.20 to 100 in 0.22.\", FutureWarning)\n",
      "C:\\Users\\Jonat\\Anaconda\\lib\\site-packages\\sklearn\\ensemble\\forest.py:246: FutureWarning: The default value of n_estimators will change from 10 in version 0.20 to 100 in 0.22.\n",
      "  \"10 in version 0.20 to 100 in 0.22.\", FutureWarning)\n",
      "C:\\Users\\Jonat\\Anaconda\\lib\\site-packages\\sklearn\\ensemble\\forest.py:246: FutureWarning: The default value of n_estimators will change from 10 in version 0.20 to 100 in 0.22.\n",
      "  \"10 in version 0.20 to 100 in 0.22.\", FutureWarning)\n",
      "C:\\Users\\Jonat\\Anaconda\\lib\\site-packages\\sklearn\\ensemble\\forest.py:246: FutureWarning: The default value of n_estimators will change from 10 in version 0.20 to 100 in 0.22.\n",
      "  \"10 in version 0.20 to 100 in 0.22.\", FutureWarning)\n",
      "C:\\Users\\Jonat\\Anaconda\\lib\\site-packages\\sklearn\\ensemble\\forest.py:246: FutureWarning: The default value of n_estimators will change from 10 in version 0.20 to 100 in 0.22.\n",
      "  \"10 in version 0.20 to 100 in 0.22.\", FutureWarning)\n",
      "C:\\Users\\Jonat\\Anaconda\\lib\\site-packages\\sklearn\\ensemble\\forest.py:246: FutureWarning: The default value of n_estimators will change from 10 in version 0.20 to 100 in 0.22.\n",
      "  \"10 in version 0.20 to 100 in 0.22.\", FutureWarning)\n",
      "C:\\Users\\Jonat\\Anaconda\\lib\\site-packages\\sklearn\\ensemble\\forest.py:246: FutureWarning: The default value of n_estimators will change from 10 in version 0.20 to 100 in 0.22.\n",
      "  \"10 in version 0.20 to 100 in 0.22.\", FutureWarning)\n",
      "C:\\Users\\Jonat\\Anaconda\\lib\\site-packages\\sklearn\\ensemble\\forest.py:246: FutureWarning: The default value of n_estimators will change from 10 in version 0.20 to 100 in 0.22.\n",
      "  \"10 in version 0.20 to 100 in 0.22.\", FutureWarning)\n",
      "C:\\Users\\Jonat\\Anaconda\\lib\\site-packages\\sklearn\\ensemble\\forest.py:246: FutureWarning: The default value of n_estimators will change from 10 in version 0.20 to 100 in 0.22.\n",
      "  \"10 in version 0.20 to 100 in 0.22.\", FutureWarning)\n",
      "C:\\Users\\Jonat\\Anaconda\\lib\\site-packages\\sklearn\\ensemble\\forest.py:246: FutureWarning: The default value of n_estimators will change from 10 in version 0.20 to 100 in 0.22.\n",
      "  \"10 in version 0.20 to 100 in 0.22.\", FutureWarning)\n",
      "C:\\Users\\Jonat\\Anaconda\\lib\\site-packages\\sklearn\\ensemble\\forest.py:246: FutureWarning: The default value of n_estimators will change from 10 in version 0.20 to 100 in 0.22.\n",
      "  \"10 in version 0.20 to 100 in 0.22.\", FutureWarning)\n",
      "C:\\Users\\Jonat\\Anaconda\\lib\\site-packages\\sklearn\\ensemble\\forest.py:246: FutureWarning: The default value of n_estimators will change from 10 in version 0.20 to 100 in 0.22.\n",
      "  \"10 in version 0.20 to 100 in 0.22.\", FutureWarning)\n",
      "C:\\Users\\Jonat\\Anaconda\\lib\\site-packages\\sklearn\\ensemble\\forest.py:246: FutureWarning: The default value of n_estimators will change from 10 in version 0.20 to 100 in 0.22.\n",
      "  \"10 in version 0.20 to 100 in 0.22.\", FutureWarning)\n",
      "C:\\Users\\Jonat\\Anaconda\\lib\\site-packages\\sklearn\\ensemble\\forest.py:246: FutureWarning: The default value of n_estimators will change from 10 in version 0.20 to 100 in 0.22.\n",
      "  \"10 in version 0.20 to 100 in 0.22.\", FutureWarning)\n",
      "C:\\Users\\Jonat\\Anaconda\\lib\\site-packages\\sklearn\\ensemble\\forest.py:246: FutureWarning: The default value of n_estimators will change from 10 in version 0.20 to 100 in 0.22.\n",
      "  \"10 in version 0.20 to 100 in 0.22.\", FutureWarning)\n",
      "C:\\Users\\Jonat\\Anaconda\\lib\\site-packages\\sklearn\\ensemble\\forest.py:246: FutureWarning: The default value of n_estimators will change from 10 in version 0.20 to 100 in 0.22.\n",
      "  \"10 in version 0.20 to 100 in 0.22.\", FutureWarning)\n",
      "C:\\Users\\Jonat\\Anaconda\\lib\\site-packages\\sklearn\\ensemble\\forest.py:246: FutureWarning: The default value of n_estimators will change from 10 in version 0.20 to 100 in 0.22.\n",
      "  \"10 in version 0.20 to 100 in 0.22.\", FutureWarning)\n",
      "C:\\Users\\Jonat\\Anaconda\\lib\\site-packages\\sklearn\\ensemble\\forest.py:246: FutureWarning: The default value of n_estimators will change from 10 in version 0.20 to 100 in 0.22.\n",
      "  \"10 in version 0.20 to 100 in 0.22.\", FutureWarning)\n",
      "C:\\Users\\Jonat\\Anaconda\\lib\\site-packages\\sklearn\\ensemble\\forest.py:246: FutureWarning: The default value of n_estimators will change from 10 in version 0.20 to 100 in 0.22.\n",
      "  \"10 in version 0.20 to 100 in 0.22.\", FutureWarning)\n",
      "C:\\Users\\Jonat\\Anaconda\\lib\\site-packages\\sklearn\\ensemble\\forest.py:246: FutureWarning: The default value of n_estimators will change from 10 in version 0.20 to 100 in 0.22.\n",
      "  \"10 in version 0.20 to 100 in 0.22.\", FutureWarning)\n",
      "C:\\Users\\Jonat\\Anaconda\\lib\\site-packages\\sklearn\\ensemble\\forest.py:246: FutureWarning: The default value of n_estimators will change from 10 in version 0.20 to 100 in 0.22.\n",
      "  \"10 in version 0.20 to 100 in 0.22.\", FutureWarning)\n",
      "C:\\Users\\Jonat\\Anaconda\\lib\\site-packages\\sklearn\\ensemble\\forest.py:246: FutureWarning: The default value of n_estimators will change from 10 in version 0.20 to 100 in 0.22.\n",
      "  \"10 in version 0.20 to 100 in 0.22.\", FutureWarning)\n",
      "C:\\Users\\Jonat\\Anaconda\\lib\\site-packages\\sklearn\\ensemble\\forest.py:246: FutureWarning: The default value of n_estimators will change from 10 in version 0.20 to 100 in 0.22.\n",
      "  \"10 in version 0.20 to 100 in 0.22.\", FutureWarning)\n",
      "C:\\Users\\Jonat\\Anaconda\\lib\\site-packages\\sklearn\\ensemble\\forest.py:246: FutureWarning: The default value of n_estimators will change from 10 in version 0.20 to 100 in 0.22.\n",
      "  \"10 in version 0.20 to 100 in 0.22.\", FutureWarning)\n"
     ]
    },
    {
     "name": "stderr",
     "output_type": "stream",
     "text": [
      "C:\\Users\\Jonat\\Anaconda\\lib\\site-packages\\sklearn\\ensemble\\forest.py:246: FutureWarning: The default value of n_estimators will change from 10 in version 0.20 to 100 in 0.22.\n",
      "  \"10 in version 0.20 to 100 in 0.22.\", FutureWarning)\n",
      "C:\\Users\\Jonat\\Anaconda\\lib\\site-packages\\sklearn\\ensemble\\forest.py:246: FutureWarning: The default value of n_estimators will change from 10 in version 0.20 to 100 in 0.22.\n",
      "  \"10 in version 0.20 to 100 in 0.22.\", FutureWarning)\n",
      "C:\\Users\\Jonat\\Anaconda\\lib\\site-packages\\sklearn\\ensemble\\forest.py:246: FutureWarning: The default value of n_estimators will change from 10 in version 0.20 to 100 in 0.22.\n",
      "  \"10 in version 0.20 to 100 in 0.22.\", FutureWarning)\n",
      "C:\\Users\\Jonat\\Anaconda\\lib\\site-packages\\sklearn\\ensemble\\forest.py:246: FutureWarning: The default value of n_estimators will change from 10 in version 0.20 to 100 in 0.22.\n",
      "  \"10 in version 0.20 to 100 in 0.22.\", FutureWarning)\n",
      "C:\\Users\\Jonat\\Anaconda\\lib\\site-packages\\sklearn\\ensemble\\forest.py:246: FutureWarning: The default value of n_estimators will change from 10 in version 0.20 to 100 in 0.22.\n",
      "  \"10 in version 0.20 to 100 in 0.22.\", FutureWarning)\n",
      "C:\\Users\\Jonat\\Anaconda\\lib\\site-packages\\sklearn\\ensemble\\forest.py:246: FutureWarning: The default value of n_estimators will change from 10 in version 0.20 to 100 in 0.22.\n",
      "  \"10 in version 0.20 to 100 in 0.22.\", FutureWarning)\n",
      "C:\\Users\\Jonat\\Anaconda\\lib\\site-packages\\sklearn\\ensemble\\forest.py:246: FutureWarning: The default value of n_estimators will change from 10 in version 0.20 to 100 in 0.22.\n",
      "  \"10 in version 0.20 to 100 in 0.22.\", FutureWarning)\n",
      "C:\\Users\\Jonat\\Anaconda\\lib\\site-packages\\sklearn\\ensemble\\forest.py:246: FutureWarning: The default value of n_estimators will change from 10 in version 0.20 to 100 in 0.22.\n",
      "  \"10 in version 0.20 to 100 in 0.22.\", FutureWarning)\n",
      "C:\\Users\\Jonat\\Anaconda\\lib\\site-packages\\sklearn\\ensemble\\forest.py:246: FutureWarning: The default value of n_estimators will change from 10 in version 0.20 to 100 in 0.22.\n",
      "  \"10 in version 0.20 to 100 in 0.22.\", FutureWarning)\n",
      "C:\\Users\\Jonat\\Anaconda\\lib\\site-packages\\sklearn\\ensemble\\forest.py:246: FutureWarning: The default value of n_estimators will change from 10 in version 0.20 to 100 in 0.22.\n",
      "  \"10 in version 0.20 to 100 in 0.22.\", FutureWarning)\n",
      "C:\\Users\\Jonat\\Anaconda\\lib\\site-packages\\sklearn\\ensemble\\forest.py:246: FutureWarning: The default value of n_estimators will change from 10 in version 0.20 to 100 in 0.22.\n",
      "  \"10 in version 0.20 to 100 in 0.22.\", FutureWarning)\n",
      "C:\\Users\\Jonat\\Anaconda\\lib\\site-packages\\sklearn\\ensemble\\forest.py:246: FutureWarning: The default value of n_estimators will change from 10 in version 0.20 to 100 in 0.22.\n",
      "  \"10 in version 0.20 to 100 in 0.22.\", FutureWarning)\n",
      "C:\\Users\\Jonat\\Anaconda\\lib\\site-packages\\sklearn\\ensemble\\forest.py:246: FutureWarning: The default value of n_estimators will change from 10 in version 0.20 to 100 in 0.22.\n",
      "  \"10 in version 0.20 to 100 in 0.22.\", FutureWarning)\n",
      "C:\\Users\\Jonat\\Anaconda\\lib\\site-packages\\sklearn\\ensemble\\forest.py:246: FutureWarning: The default value of n_estimators will change from 10 in version 0.20 to 100 in 0.22.\n",
      "  \"10 in version 0.20 to 100 in 0.22.\", FutureWarning)\n",
      "C:\\Users\\Jonat\\Anaconda\\lib\\site-packages\\sklearn\\ensemble\\forest.py:246: FutureWarning: The default value of n_estimators will change from 10 in version 0.20 to 100 in 0.22.\n",
      "  \"10 in version 0.20 to 100 in 0.22.\", FutureWarning)\n",
      "C:\\Users\\Jonat\\Anaconda\\lib\\site-packages\\sklearn\\ensemble\\forest.py:246: FutureWarning: The default value of n_estimators will change from 10 in version 0.20 to 100 in 0.22.\n",
      "  \"10 in version 0.20 to 100 in 0.22.\", FutureWarning)\n",
      "C:\\Users\\Jonat\\Anaconda\\lib\\site-packages\\sklearn\\ensemble\\forest.py:246: FutureWarning: The default value of n_estimators will change from 10 in version 0.20 to 100 in 0.22.\n",
      "  \"10 in version 0.20 to 100 in 0.22.\", FutureWarning)\n",
      "C:\\Users\\Jonat\\Anaconda\\lib\\site-packages\\sklearn\\ensemble\\forest.py:246: FutureWarning: The default value of n_estimators will change from 10 in version 0.20 to 100 in 0.22.\n",
      "  \"10 in version 0.20 to 100 in 0.22.\", FutureWarning)\n",
      "C:\\Users\\Jonat\\Anaconda\\lib\\site-packages\\sklearn\\ensemble\\forest.py:246: FutureWarning: The default value of n_estimators will change from 10 in version 0.20 to 100 in 0.22.\n",
      "  \"10 in version 0.20 to 100 in 0.22.\", FutureWarning)\n",
      "C:\\Users\\Jonat\\Anaconda\\lib\\site-packages\\sklearn\\ensemble\\forest.py:246: FutureWarning: The default value of n_estimators will change from 10 in version 0.20 to 100 in 0.22.\n",
      "  \"10 in version 0.20 to 100 in 0.22.\", FutureWarning)\n"
     ]
    }
   ],
   "source": [
    "from sklearn.model_selection import cross_val_score\n",
    "\n",
    "rf = RandomForestRegressor()\n",
    "\n",
    "samples_per_leaf = [1, 5, 10, 15, 25, 50]\n",
    "rf_scores = []\n",
    "\n",
    "\n",
    "for num_samples in samples_per_leaf:\n",
    "    rf.set_params(min_samples_leaf=num_samples)\n",
    "    scores = cross_val_score(estimator=rf, X=X_train, y=y_train, scoring=rmse, cv=10)\n",
    "    rf_scores.append((np.mean(scores), num_samples))"
   ]
  },
  {
   "cell_type": "code",
   "execution_count": 111,
   "metadata": {
    "slideshow": {
     "slide_type": "slide"
    }
   },
   "outputs": [
    {
     "data": {
      "text/plain": [
       "[(0.16126770455635717, 1),\n",
       " (0.16352814951246772, 5),\n",
       " (0.16738241158857056, 10),\n",
       " (0.1725119480282356, 15),\n",
       " (0.1808560938458545, 25),\n",
       " (0.19672265278385395, 50)]"
      ]
     },
     "execution_count": 111,
     "metadata": {},
     "output_type": "execute_result"
    }
   ],
   "source": [
    "rf_scores"
   ]
  },
  {
   "cell_type": "code",
   "execution_count": 112,
   "metadata": {
    "slideshow": {
     "slide_type": "slide"
    }
   },
   "outputs": [
    {
     "data": {
      "text/plain": [
       "RandomForestRegressor(bootstrap=True, criterion='mse', max_depth=None,\n",
       "           max_features='auto', max_leaf_nodes=None,\n",
       "           min_impurity_decrease=0.0, min_impurity_split=None,\n",
       "           min_samples_leaf=1, min_samples_split=2,\n",
       "           min_weight_fraction_leaf=0.0, n_estimators='warn', n_jobs=None,\n",
       "           oob_score=False, random_state=None, verbose=0, warm_start=False)"
      ]
     },
     "execution_count": 112,
     "metadata": {},
     "output_type": "execute_result"
    }
   ],
   "source": [
    "rf.set_params(min_samples_leaf=1)"
   ]
  },
  {
   "cell_type": "code",
   "execution_count": 114,
   "metadata": {
    "slideshow": {
     "slide_type": "slide"
    }
   },
   "outputs": [
    {
     "name": "stderr",
     "output_type": "stream",
     "text": [
      "C:\\Users\\Jonat\\Anaconda\\lib\\site-packages\\sklearn\\ensemble\\forest.py:246: FutureWarning: The default value of n_estimators will change from 10 in version 0.20 to 100 in 0.22.\n",
      "  \"10 in version 0.20 to 100 in 0.22.\", FutureWarning)\n"
     ]
    },
    {
     "data": {
      "text/plain": [
       "RandomForestRegressor(bootstrap=True, criterion='mse', max_depth=None,\n",
       "           max_features='auto', max_leaf_nodes=None,\n",
       "           min_impurity_decrease=0.0, min_impurity_split=None,\n",
       "           min_samples_leaf=1, min_samples_split=2,\n",
       "           min_weight_fraction_leaf=0.0, n_estimators=10, n_jobs=None,\n",
       "           oob_score=False, random_state=None, verbose=0, warm_start=False)"
      ]
     },
     "execution_count": 114,
     "metadata": {},
     "output_type": "execute_result"
    }
   ],
   "source": [
    "rf.fit(X_train, y_train)"
   ]
  },
  {
   "cell_type": "code",
   "execution_count": 115,
   "metadata": {
    "slideshow": {
     "slide_type": "slide"
    }
   },
   "outputs": [],
   "source": [
    "test['Prediction'] = rf.predict(test)"
   ]
  },
  {
   "cell_type": "code",
   "execution_count": 122,
   "metadata": {
    "slideshow": {
     "slide_type": "slide"
    }
   },
   "outputs": [
    {
     "data": {
      "text/plain": [
       "0       122498.293047\n",
       "1       148197.426447\n",
       "2       147142.108850\n",
       "3       173153.600422\n",
       "4       201704.188870\n",
       "5       185589.118111\n",
       "6       159573.548677\n",
       "7       176754.963248\n",
       "8       184204.667526\n",
       "9       109100.270930\n",
       "10      197009.647187\n",
       "11       87649.544984\n",
       "12       86220.036701\n",
       "13      153082.657381\n",
       "14      151926.277047\n",
       "15      387204.209328\n",
       "16      253002.990816\n",
       "17      322023.165699\n",
       "18      275446.802285\n",
       "19      480285.884718\n",
       "20      325410.937482\n",
       "21      211354.697964\n",
       "22      174362.400175\n",
       "23      171578.945860\n",
       "24      169892.403521\n",
       "25      213828.247286\n",
       "26      374679.809211\n",
       "27      259215.957022\n",
       "28      194802.694732\n",
       "29      204800.544409\n",
       "            ...      \n",
       "1429     76002.053893\n",
       "1430    151104.236540\n",
       "1431     60696.603962\n",
       "1432    128929.486732\n",
       "1433     42767.783326\n",
       "1434    303367.543460\n",
       "1435    271294.865095\n",
       "1436    188030.431575\n",
       "1437    163411.849672\n",
       "1438    247622.908078\n",
       "1439    157330.406795\n",
       "1440    167957.771864\n",
       "1441    176283.232794\n",
       "1442    360880.343259\n",
       "1443    323438.655723\n",
       "1444    131710.682782\n",
       "1445    188893.558126\n",
       "1446    119408.354318\n",
       "1447    122733.183842\n",
       "1448    157844.172510\n",
       "1449     83371.155546\n",
       "1450     87505.515111\n",
       "1451    154235.217432\n",
       "1452     79154.199569\n",
       "1453     79154.199569\n",
       "1454     94222.764592\n",
       "1455     79154.199569\n",
       "1456    146474.249636\n",
       "1457    122803.659043\n",
       "1458    241373.915692\n",
       "Name: Prediction, Length: 1459, dtype: float64"
      ]
     },
     "execution_count": 122,
     "metadata": {},
     "output_type": "execute_result"
    }
   ],
   "source": [
    "np.exp(test.Prediction)"
   ]
  },
  {
   "cell_type": "code",
   "execution_count": 124,
   "metadata": {
    "slideshow": {
     "slide_type": "slide"
    }
   },
   "outputs": [],
   "source": [
    "output = pd.DataFrame({\n",
    "    'Id'       : np.arange(1461, 2920),\n",
    "    'SalePrice': np.exp(test.Prediction)\n",
    "})"
   ]
  },
  {
   "cell_type": "code",
   "execution_count": 125,
   "metadata": {
    "slideshow": {
     "slide_type": "slide"
    }
   },
   "outputs": [
    {
     "data": {
      "text/html": [
       "<div>\n",
       "<style scoped>\n",
       "    .dataframe tbody tr th:only-of-type {\n",
       "        vertical-align: middle;\n",
       "    }\n",
       "\n",
       "    .dataframe tbody tr th {\n",
       "        vertical-align: top;\n",
       "    }\n",
       "\n",
       "    .dataframe thead th {\n",
       "        text-align: right;\n",
       "    }\n",
       "</style>\n",
       "<table border=\"1\" class=\"dataframe\">\n",
       "  <thead>\n",
       "    <tr style=\"text-align: right;\">\n",
       "      <th></th>\n",
       "      <th>Id</th>\n",
       "      <th>SalePrice</th>\n",
       "    </tr>\n",
       "  </thead>\n",
       "  <tbody>\n",
       "    <tr>\n",
       "      <th>0</th>\n",
       "      <td>1461</td>\n",
       "      <td>122498.293047</td>\n",
       "    </tr>\n",
       "    <tr>\n",
       "      <th>1</th>\n",
       "      <td>1462</td>\n",
       "      <td>148197.426447</td>\n",
       "    </tr>\n",
       "    <tr>\n",
       "      <th>2</th>\n",
       "      <td>1463</td>\n",
       "      <td>147142.108850</td>\n",
       "    </tr>\n",
       "    <tr>\n",
       "      <th>3</th>\n",
       "      <td>1464</td>\n",
       "      <td>173153.600422</td>\n",
       "    </tr>\n",
       "    <tr>\n",
       "      <th>4</th>\n",
       "      <td>1465</td>\n",
       "      <td>201704.188870</td>\n",
       "    </tr>\n",
       "  </tbody>\n",
       "</table>\n",
       "</div>"
      ],
      "text/plain": [
       "     Id      SalePrice\n",
       "0  1461  122498.293047\n",
       "1  1462  148197.426447\n",
       "2  1463  147142.108850\n",
       "3  1464  173153.600422\n",
       "4  1465  201704.188870"
      ]
     },
     "execution_count": 125,
     "metadata": {},
     "output_type": "execute_result"
    }
   ],
   "source": [
    "output.head()"
   ]
  },
  {
   "cell_type": "code",
   "execution_count": 127,
   "metadata": {
    "slideshow": {
     "slide_type": "slide"
    }
   },
   "outputs": [],
   "source": [
    "output.to_csv('../data/iowa_housing/sample_predictions.csv', index=False)"
   ]
  },
  {
   "cell_type": "markdown",
   "metadata": {
    "slideshow": {
     "slide_type": "slide"
    }
   },
   "source": [
    "### Random Forest Interpretation\n",
    "\n",
    " - They don't give you coefficients, but there are a number of other useful ways to interpret Random Forests\n",
    " - **Most imortant:**  feature_importances_"
   ]
  },
  {
   "cell_type": "code",
   "execution_count": 129,
   "metadata": {
    "slideshow": {
     "slide_type": "slide"
    }
   },
   "outputs": [
    {
     "data": {
      "text/plain": [
       "array([0.016597  , 0.58447791, 0.03077789, 0.0812437 , 0.08116656,\n",
       "       0.0194591 , 0.16260999, 0.00461332, 0.00358211, 0.00237258,\n",
       "       0.01309984])"
      ]
     },
     "execution_count": 129,
     "metadata": {},
     "output_type": "execute_result"
    }
   ],
   "source": [
    "rf.feature_importances_"
   ]
  },
  {
   "cell_type": "code",
   "execution_count": 130,
   "metadata": {
    "slideshow": {
     "slide_type": "slide"
    }
   },
   "outputs": [
    {
     "data": {
      "text/html": [
       "<div>\n",
       "<style scoped>\n",
       "    .dataframe tbody tr th:only-of-type {\n",
       "        vertical-align: middle;\n",
       "    }\n",
       "\n",
       "    .dataframe tbody tr th {\n",
       "        vertical-align: top;\n",
       "    }\n",
       "\n",
       "    .dataframe thead th {\n",
       "        text-align: right;\n",
       "    }\n",
       "</style>\n",
       "<table border=\"1\" class=\"dataframe\">\n",
       "  <thead>\n",
       "    <tr style=\"text-align: right;\">\n",
       "      <th></th>\n",
       "      <th>Feature</th>\n",
       "      <th>Importance</th>\n",
       "    </tr>\n",
       "  </thead>\n",
       "  <tbody>\n",
       "    <tr>\n",
       "      <th>1</th>\n",
       "      <td>OverallQual</td>\n",
       "      <td>0.584478</td>\n",
       "    </tr>\n",
       "    <tr>\n",
       "      <th>6</th>\n",
       "      <td>GrLivArea</td>\n",
       "      <td>0.162610</td>\n",
       "    </tr>\n",
       "    <tr>\n",
       "      <th>3</th>\n",
       "      <td>YearBuilt</td>\n",
       "      <td>0.081244</td>\n",
       "    </tr>\n",
       "    <tr>\n",
       "      <th>4</th>\n",
       "      <td>1stFlrSF</td>\n",
       "      <td>0.081167</td>\n",
       "    </tr>\n",
       "    <tr>\n",
       "      <th>2</th>\n",
       "      <td>OverallCond</td>\n",
       "      <td>0.030778</td>\n",
       "    </tr>\n",
       "    <tr>\n",
       "      <th>5</th>\n",
       "      <td>2ndFlrSF</td>\n",
       "      <td>0.019459</td>\n",
       "    </tr>\n",
       "    <tr>\n",
       "      <th>0</th>\n",
       "      <td>MSSubClass</td>\n",
       "      <td>0.016597</td>\n",
       "    </tr>\n",
       "    <tr>\n",
       "      <th>10</th>\n",
       "      <td>YrSold</td>\n",
       "      <td>0.013100</td>\n",
       "    </tr>\n",
       "    <tr>\n",
       "      <th>7</th>\n",
       "      <td>FullBath</td>\n",
       "      <td>0.004613</td>\n",
       "    </tr>\n",
       "    <tr>\n",
       "      <th>8</th>\n",
       "      <td>HalfBath</td>\n",
       "      <td>0.003582</td>\n",
       "    </tr>\n",
       "    <tr>\n",
       "      <th>9</th>\n",
       "      <td>ScreenPorch</td>\n",
       "      <td>0.002373</td>\n",
       "    </tr>\n",
       "  </tbody>\n",
       "</table>\n",
       "</div>"
      ],
      "text/plain": [
       "        Feature  Importance\n",
       "1   OverallQual    0.584478\n",
       "6     GrLivArea    0.162610\n",
       "3     YearBuilt    0.081244\n",
       "4      1stFlrSF    0.081167\n",
       "2   OverallCond    0.030778\n",
       "5      2ndFlrSF    0.019459\n",
       "0    MSSubClass    0.016597\n",
       "10       YrSold    0.013100\n",
       "7      FullBath    0.004613\n",
       "8      HalfBath    0.003582\n",
       "9   ScreenPorch    0.002373"
      ]
     },
     "execution_count": 130,
     "metadata": {},
     "output_type": "execute_result"
    }
   ],
   "source": [
    "features = pd.DataFrame({\n",
    "    'Feature': X_train.columns,\n",
    "    'Importance': rf.feature_importances_\n",
    "}).sort_values(by='Importance', ascending=False)\n",
    "features"
   ]
  },
  {
   "cell_type": "markdown",
   "metadata": {
    "slideshow": {
     "slide_type": "slide"
    }
   },
   "source": [
    "### How Is This Attribute Derived?\n",
    "\n",
    "Takes the following steps:\n",
    " - for every column in training set:\n",
    "  - randomizes values for that column\n",
    "  - subtracts the difference between the new score and original score\n",
    " - calculates proportion of difference in values"
   ]
  }
 ],
 "metadata": {
  "anaconda-cloud": {},
  "celltoolbar": "Slideshow",
  "kernelspec": {
   "display_name": "Python 3",
   "language": "python",
   "name": "python3"
  },
  "language_info": {
   "codemirror_mode": {
    "name": "ipython",
    "version": 3
   },
   "file_extension": ".py",
   "mimetype": "text/x-python",
   "name": "python",
   "nbconvert_exporter": "python",
   "pygments_lexer": "ipython3",
   "version": "3.7.1"
  }
 },
 "nbformat": 4,
 "nbformat_minor": 1
}
