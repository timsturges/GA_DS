{
 "cells": [
  {
   "cell_type": "markdown",
   "metadata": {
    "slideshow": {
     "slide_type": "slide"
    }
   },
   "source": [
    "<img src=\"http://imgur.com/1ZcRyrc.png\" style=\"float: left; margin: 20px; height: 55px\">\n",
    "\n",
    "# Experiments and Hypothesis Testing\n",
    "\n",
    "_Authors: Alexander Egorenkov (DC)_\n",
    "\n",
    "---"
   ]
  },
  {
   "cell_type": "code",
   "execution_count": 13,
   "metadata": {
    "slideshow": {
     "slide_type": "slide"
    }
   },
   "outputs": [],
   "source": [
    "# Imports\n",
    "import pandas as pd\n",
    "import numpy as np\n",
    "import seaborn as sns\n",
    "import matplotlib.pyplot as plt\n",
    "import statsmodels.api as sm\n",
    "\n",
    "# This allows plots to appear directly in the notebook.\n",
    "%matplotlib inline\n",
    "plt.style.use('fivethirtyeight') "
   ]
  },
  {
   "cell_type": "code",
   "execution_count": 6,
   "metadata": {
    "slideshow": {
     "slide_type": "slide"
    }
   },
   "outputs": [
    {
     "data": {
      "text/html": [
       "<div>\n",
       "<style scoped>\n",
       "    .dataframe tbody tr th:only-of-type {\n",
       "        vertical-align: middle;\n",
       "    }\n",
       "\n",
       "    .dataframe tbody tr th {\n",
       "        vertical-align: top;\n",
       "    }\n",
       "\n",
       "    .dataframe thead th {\n",
       "        text-align: right;\n",
       "    }\n",
       "</style>\n",
       "<table border=\"1\" class=\"dataframe\">\n",
       "  <thead>\n",
       "    <tr style=\"text-align: right;\">\n",
       "      <th></th>\n",
       "      <th>TV</th>\n",
       "      <th>radio</th>\n",
       "      <th>newspaper</th>\n",
       "      <th>sales</th>\n",
       "    </tr>\n",
       "  </thead>\n",
       "  <tbody>\n",
       "    <tr>\n",
       "      <th>1</th>\n",
       "      <td>230.1</td>\n",
       "      <td>37.8</td>\n",
       "      <td>69.2</td>\n",
       "      <td>22.1</td>\n",
       "    </tr>\n",
       "    <tr>\n",
       "      <th>2</th>\n",
       "      <td>44.5</td>\n",
       "      <td>39.3</td>\n",
       "      <td>45.1</td>\n",
       "      <td>10.4</td>\n",
       "    </tr>\n",
       "    <tr>\n",
       "      <th>3</th>\n",
       "      <td>17.2</td>\n",
       "      <td>45.9</td>\n",
       "      <td>69.3</td>\n",
       "      <td>9.3</td>\n",
       "    </tr>\n",
       "    <tr>\n",
       "      <th>4</th>\n",
       "      <td>151.5</td>\n",
       "      <td>41.3</td>\n",
       "      <td>58.5</td>\n",
       "      <td>18.5</td>\n",
       "    </tr>\n",
       "    <tr>\n",
       "      <th>5</th>\n",
       "      <td>180.8</td>\n",
       "      <td>10.8</td>\n",
       "      <td>58.4</td>\n",
       "      <td>12.9</td>\n",
       "    </tr>\n",
       "  </tbody>\n",
       "</table>\n",
       "</div>"
      ],
      "text/plain": [
       "      TV  radio  newspaper  sales\n",
       "1  230.1   37.8       69.2   22.1\n",
       "2   44.5   39.3       45.1   10.4\n",
       "3   17.2   45.9       69.3    9.3\n",
       "4  151.5   41.3       58.5   18.5\n",
       "5  180.8   10.8       58.4   12.9"
      ]
     },
     "execution_count": 6,
     "metadata": {},
     "output_type": "execute_result"
    }
   ],
   "source": [
    "# Read data into a DataFrame.\n",
    "\n",
    "# We use index_col to tell Pandas that the first column in the data has row labels.\n",
    "data = pd.read_csv('../data/advertising.csv', index_col=0)\n",
    "data.head() "
   ]
  },
  {
   "cell_type": "markdown",
   "metadata": {
    "slideshow": {
     "slide_type": "slide"
    }
   },
   "source": [
    "<a id=\"introduction-to-hypothesis-testing\"></a>\n",
    "## Introduction to Hypothesis Testing\n",
    "---\n",
    "\n",
    "**Objective**: Test a hypothesis within a sample case study.\n",
    "\n",
    "You'll remember that we've worked previously on descriptive statistics such as mean and variance. How would we tell if there is a difference between our groups? How would we know if this difference was real or if our finding is simply the result of chance?\n",
    "\n",
    "For example, if we are working on sales data, how would we know if there was a difference between the buying patterns of men and women at Acme, Inc.? Hypothesis testing!\n",
    "\n",
    "> **Note:** In this course, hypothesis testing is primarily used to assess foundational models such as linear and logistic regression."
   ]
  },
  {
   "cell_type": "markdown",
   "metadata": {
    "slideshow": {
     "slide_type": "slide"
    }
   },
   "source": [
    "### Hypothesis Testing Steps\n",
    "\n",
    "Generally speaking, we start with a **null hypothesis** and an **alternative hypothesis**, which is the opposite of the null. Then, you check whether the data support rejecting your null hypothesis or fail to reject the null hypothesis.\n",
    "\n",
    "For example:\n",
    "\n",
    "    Null hypothesis: There is no relationship between gender and sales.\n",
    "    Alternative hypothesis: There is a relationship between gender and sales.\n",
    "\n",
    "Note that \"failing to reject\" the null hypothesis is not the same as \"accepting\" it. Your alternative hypothesis may indeed be true, but you don't necessarily have enough data to show that yet.\n",
    "\n",
    "This distinction is important for helping you avoid overstating your findings. You should only state what your data and analysis can truly represent."
   ]
  },
  {
   "cell_type": "markdown",
   "metadata": {
    "slideshow": {
     "slide_type": "skip"
    }
   },
   "source": [
    "<a id=\"validate-your-findings\"></a>\n",
    "### Validate Your Findings"
   ]
  },
  {
   "cell_type": "markdown",
   "metadata": {
    "slideshow": {
     "slide_type": "slide"
    }
   },
   "source": [
    "#### How Do We Tell if the Association We Observed is Statistically Significant?\n",
    "\n",
    "Statistical significance is the likelihood that a result or relationship is caused by something other than mere random chance. Statistical hypothesis testing is traditionally employed to determine whether or not a result is statistically significant.\n",
    "\n",
    "We might ask: **How likely is the effect observed to be true, assuming the null hypothesis is true?** If the probability of our observation occurring by chance is less than 5 percent (supposing the null hypothesis), then we reject the null hypothesis. Note that the 5 percent value is in many ways arbitrary — many statisticians require even higher confidence levels.\n",
    "\n",
    "The probability of our observations occurring by chance, given the null hypothesis, is the **pvalue** ($p$).\n",
    "\n",
    "---\n",
    "\n",
    "**Example:** Suppose you flip a coin three times and get three heads in a row. These three flips are our observations.\n",
    "\n",
    "+ We want to know whether or not the coin is fair. So, we select the **null hypothesis: The coin is fair.**\n",
    "+ Now, let's suppose the null hypothesis is true. Three heads in a row occurs with a chance of $1/2^3 \\approx 12.5\\%$.\n",
    "+ Because there is a reasonable ($> 5\\%$) chance of three heads occuring naturally, we do not reject the null hypothesis.\n",
    "+ So, **we conclude** that we do not have enough data to tell whether or not the coin is fair ($p = 0.125$).\n",
    "\n",
    "---\n",
    "\n",
    "In other words, we say that something is NOT statistically significant if there is a less than 5 percent chance that our finding was caused by chance alone (assuming the null hypothesis is true)."
   ]
  },
  {
   "cell_type": "markdown",
   "metadata": {
    "slideshow": {
     "slide_type": "slide"
    }
   },
   "source": [
    "<a id=\"confidence-intervals\"></a>\n",
    "### Confidence Intervals\n",
    "\n",
    "A closely related concept is **confidence intervals**. A 95 percent confidence interval can be interpreted like so: under infinite sampling of the population, we would expect that the true value of the parameter we are estimating to fall within that range 95% of the time."
   ]
  },
  {
   "cell_type": "markdown",
   "metadata": {
    "slideshow": {
     "slide_type": "slide"
    }
   },
   "source": [
    "Keep in mind that we only have a **single sample of data** and not the **entire population of the data**. The \"true\" effect/difference is either within this interval or it is not. We have no firm knowledge, however, that our single estimate of the \"true\" effect/difference is close or not to the \"truth\". The confidence interval around our estimate tells us, with a given sample size and level of confidence, the range in which future estimates are likely to fall.\n",
    "\n",
    "Note that using 95 percent confidence intervals is just a convention. You can create 90 percent confidence intervals (which will be more liberal), 99 percent confidence intervals (which will be more conservative), or whatever intervals you prefer.\n"
   ]
  },
  {
   "cell_type": "markdown",
   "metadata": {
    "slideshow": {
     "slide_type": "slide"
    }
   },
   "source": [
    "<a id=\"error-types\"></a>\n",
    "### Error Types\n",
    "\n",
    "Statisticians often classify errors not just as errors but as one of two specific types of errors — type I and type II.\n",
    "\n",
    "+ **Type I errors** are false positives.\n",
    "    - Machine learning: Our model falsely predicts \"positive.\" (The prediction is incorrect.)\n",
    "    - Statistics: Incorrect rejection of a true null hypothesis.\n",
    "\n",
    "\n",
    "+ **Type II errors** are false negatives.\n",
    "    - Machine learning: Our model falsely predicts \"negative.\" (The prediction is incorrect.)\n",
    "    - Statistics: Incorrectly retaining a false null hypothesis."
   ]
  },
  {
   "cell_type": "markdown",
   "metadata": {
    "slideshow": {
     "slide_type": "slide"
    }
   },
   "source": [
    "Understanding these errors can be especially beneficial when designing models. For example, we might decide that type I errors are OK but type II errors are not. We can then optimize our model appropriately.\n",
    "\n",
    "> **Example:** Suppose we make a model for airline security in which we predict whether or not a weapon is present (\"positive\"). In this case, we would much rather have type I errors (falsely predict a weapon) than type II errors (falsely predict no weapon).\n",
    "\n",
    "> **Example:** Suppose we make a model for the criminal justice system in which we whether or not a defendant is guilty (\"positive\"). In this case, we would much rather have type II errors (falsely predict innocent) than type I errors (falsely predict guilty).\n",
    "\n",
    "Can you phrase these examples in terms of null hypotheses?"
   ]
  },
  {
   "cell_type": "markdown",
   "metadata": {
    "slideshow": {
     "slide_type": "slide"
    }
   },
   "source": [
    "### The Test Statistic\n",
    "\n",
    "A standardized measure of communicating how far away you are from the group average.  \n",
    "\n",
    "In a normal distribution, this is communicated as the standard deviation or standard error."
   ]
  },
  {
   "cell_type": "code",
   "execution_count": 1,
   "metadata": {
    "slideshow": {
     "slide_type": "slide"
    }
   },
   "outputs": [
    {
     "data": {
      "image/jpeg": "[encoded data removed]",
      "text/plain": [
       "<IPython.core.display.Image object>"
      ]
     },
     "execution_count": 1,
     "metadata": {},
     "output_type": "execute_result"
    }
   ],
   "source": [
    "from IPython.display import Image\n",
    "Image(filename='z-score.jpg')"
   ]
  },
  {
   "cell_type": "markdown",
   "metadata": {
    "slideshow": {
     "slide_type": "slide"
    }
   },
   "source": [
    "### Group Activity:  Were The Amounts Spent on Newspaper and Radio Ads Significantly Different From One Another?"
   ]
  },
  {
   "cell_type": "markdown",
   "metadata": {
    "slideshow": {
     "slide_type": "slide"
    }
   },
   "source": [
    "#### Going to do Two Things:\n",
    "\n",
    " - perform a comparison of means using the normal distribution / z-test\n",
    " - report the test statistic and the p-value from your result"
   ]
  },
  {
   "cell_type": "code",
   "execution_count": 17,
   "metadata": {
    "slideshow": {
     "slide_type": "slide"
    }
   },
   "outputs": [
    {
     "data": {
      "text/plain": [
       "(-3.911403345381785, 9.176137849809707e-05)"
      ]
     },
     "execution_count": 17,
     "metadata": {},
     "output_type": "execute_result"
    }
   ],
   "source": [
    "sm.stats.ztest(data['radio'], data['newspaper'])"
   ]
  },
  {
   "cell_type": "markdown",
   "metadata": {
    "slideshow": {
     "slide_type": "slide"
    }
   },
   "source": [
    "### Inferring Normality \n",
    "\n",
    " - aka -- how do we know our data is acceptably normal in the 1st place?"
   ]
  },
  {
   "cell_type": "markdown",
   "metadata": {
    "slideshow": {
     "slide_type": "slide"
    }
   },
   "source": [
    "### Inferring Subjectively:\n",
    " - histograms\n",
    " - boxplots\n",
    " - qqplots (very useful)\n",
    " \n",
    "### Inferring Analytically:\n",
    " - shapiro-wilk test\n",
    " - kolmogorov-smirnov test"
   ]
  },
  {
   "cell_type": "code",
   "execution_count": 22,
   "metadata": {
    "slideshow": {
     "slide_type": "slide"
    }
   },
   "outputs": [
    {
     "data": {
      "image/png": "[encoded data removed]",
      "text/plain": [
       "<Figure size 864x432 with 2 Axes>"
      ]
     },
     "metadata": {},
     "output_type": "display_data"
    }
   ],
   "source": [
    "data[['radio', 'newspaper']].hist(sharey=True, figsize=(12, 6));"
   ]
  },
  {
   "cell_type": "code",
   "execution_count": 24,
   "metadata": {
    "scrolled": true,
    "slideshow": {
     "slide_type": "slide"
    }
   },
   "outputs": [
    {
     "data": {
      "image/png": "[encoded data removed]",
      "text/plain": [
       "<Figure size 864x432 with 1 Axes>"
      ]
     },
     "metadata": {},
     "output_type": "display_data"
    }
   ],
   "source": [
    "data[['radio', 'newspaper']].boxplot(figsize=(12, 6));"
   ]
  },
  {
   "cell_type": "code",
   "execution_count": 35,
   "metadata": {
    "scrolled": true,
    "slideshow": {
     "slide_type": "slide"
    }
   },
   "outputs": [
    {
     "data": {
      "image/png": "[encoded data removed]",
      "text/plain": [
       "<Figure size 432x288 with 1 Axes>"
      ]
     },
     "metadata": {},
     "output_type": "display_data"
    }
   ],
   "source": [
    "from statsmodels.graphics.gofplots import qqplot\n",
    "x = qqplot(data['radio'])"
   ]
  },
  {
   "cell_type": "code",
   "execution_count": 34,
   "metadata": {
    "slideshow": {
     "slide_type": "slide"
    }
   },
   "outputs": [
    {
     "data": {
      "image/png": "[encoded data removed]",
      "text/plain": [
       "<Figure size 432x288 with 1 Axes>"
      ]
     },
     "metadata": {},
     "output_type": "display_data"
    }
   ],
   "source": [
    "x = qqplot(data['newspaper'])"
   ]
  },
  {
   "cell_type": "markdown",
   "metadata": {
    "slideshow": {
     "slide_type": "slide"
    }
   },
   "source": [
    "### Shapiro Wilk\n",
    "\n",
    " - Most commonly used test for normality\n",
    " - Considered the most reliable\n",
    " - Accuracy might begin to taper off with sample sizes > 2000\n",
    " - Tests null hypothesis that the data is normal\n",
    " \n",
    "#### Returns two values:\n",
    "\n",
    " - test statistic\n",
    " - p value, representing chance that the data is normal"
   ]
  },
  {
   "cell_type": "markdown",
   "metadata": {
    "slideshow": {
     "slide_type": "slide"
    }
   },
   "source": [
    "### Your Turn:  What is the Test Statistic and p-value for the Shapiro-Wilk Test on the Radio Column?"
   ]
  },
  {
   "cell_type": "code",
   "execution_count": 47,
   "metadata": {
    "slideshow": {
     "slide_type": "slide"
    }
   },
   "outputs": [
    {
     "name": "stdout",
     "output_type": "stream",
     "text": [
      "Shapiro test statistic:  0.9440046548843384 P-vlaue:  5.196915822125447e-07\n"
     ]
    }
   ],
   "source": [
    "from scipy.stats import shapiro\n",
    "\n",
    "test_statistic, p_value = shapiro(data['radio'])\n",
    "print(\"Shapiro test statistic: \", test_statistic, \"P-vlaue: \", p_value)"
   ]
  },
  {
   "cell_type": "markdown",
   "metadata": {
    "slideshow": {
     "slide_type": "slide"
    }
   },
   "source": [
    "### Kolmogorov-Smirnov\n",
    "\n",
    " - Flexible test that can be used to test for adherence to ANY distribution\n",
    " - A bit more relaxed in how it makes assumptions about data\n",
    " - More conservative in the way it generates p-values\n",
    " - requires **standardized** data\n",
    " \n",
    "#### Returns two values:\n",
    "\n",
    " - test statistic\n",
    " - p value, representing chance that the data fits the specified distribution of choice"
   ]
  },
  {
   "cell_type": "markdown",
   "metadata": {
    "slideshow": {
     "slide_type": "slide"
    }
   },
   "source": [
    "### Your Turn:  What is the Test Statistic and p-value for the Kolmogorov-Smirnov Test on the Radio Column?\n",
    "\n",
    "### Do Two Things:\n",
    "\n",
    " - Standardize your data by subtracting that column from its mean and dividing by its standard deviation\n",
    " - use the describe() method to verify that its average is (practially) zero, and variance is 1.\n",
    " - run the kstest from scipy to get the results for your test statistic and p-value\n",
    " - write your test statistic and p-value on your name plate"
   ]
  },
  {
   "cell_type": "code",
   "execution_count": 48,
   "metadata": {
    "slideshow": {
     "slide_type": "slide"
    }
   },
   "outputs": [
    {
     "name": "stdout",
     "output_type": "stream",
     "text": [
      "KS Test Statistic:  0.08395825811656044 P Value:  0.11261277203399489\n"
     ]
    }
   ],
   "source": [
    "from scipy.stats import kstest\n",
    "\n",
    "radio_data = (data['radio'] - data['radio'].mean()) / data['radio'].std()\n",
    "test_stat, p_value = kstest(radio_data, cdf='norm')\n",
    "print(\"KS Test Statistic: \", test_stat, \"P Value: \", p_value)"
   ]
  },
  {
   "cell_type": "markdown",
   "metadata": {
    "slideshow": {
     "slide_type": "slide"
    }
   },
   "source": [
    "## Class Challenge: A/B Testing Hypothesis Tests\n",
    "\n",
    "<a id=\"scenario\"></a>\n",
    "\n",
    "---\n",
    "\n",
    "### Scenario\n",
    "\n",
    "You are a data science team working for a web-based company and you are planning to roll out a new website design. One of two competing designs were presented to random samples of users, and their ultimate purchase total was recorded (if any).\n",
    "\n",
    "Your task is to determine which of the two designs yields higher total purchases and if the result is statistically significant."
   ]
  },
  {
   "cell_type": "code",
   "execution_count": 49,
   "metadata": {
    "slideshow": {
     "slide_type": "slide"
    }
   },
   "outputs": [
    {
     "data": {
      "text/html": [
       "<div>\n",
       "<style scoped>\n",
       "    .dataframe tbody tr th:only-of-type {\n",
       "        vertical-align: middle;\n",
       "    }\n",
       "\n",
       "    .dataframe tbody tr th {\n",
       "        vertical-align: top;\n",
       "    }\n",
       "\n",
       "    .dataframe thead th {\n",
       "        text-align: right;\n",
       "    }\n",
       "</style>\n",
       "<table border=\"1\" class=\"dataframe\">\n",
       "  <thead>\n",
       "    <tr style=\"text-align: right;\">\n",
       "      <th></th>\n",
       "      <th>A</th>\n",
       "      <th>B</th>\n",
       "    </tr>\n",
       "  </thead>\n",
       "  <tbody>\n",
       "    <tr>\n",
       "      <th>0</th>\n",
       "      <td>16.782089</td>\n",
       "      <td>0.000000</td>\n",
       "    </tr>\n",
       "    <tr>\n",
       "      <th>1</th>\n",
       "      <td>13.230268</td>\n",
       "      <td>0.000000</td>\n",
       "    </tr>\n",
       "    <tr>\n",
       "      <th>2</th>\n",
       "      <td>18.464874</td>\n",
       "      <td>0.000000</td>\n",
       "    </tr>\n",
       "    <tr>\n",
       "      <th>3</th>\n",
       "      <td>24.045298</td>\n",
       "      <td>0.000000</td>\n",
       "    </tr>\n",
       "    <tr>\n",
       "      <th>4</th>\n",
       "      <td>14.886829</td>\n",
       "      <td>21.396978</td>\n",
       "    </tr>\n",
       "  </tbody>\n",
       "</table>\n",
       "</div>"
      ],
      "text/plain": [
       "           A          B\n",
       "0  16.782089   0.000000\n",
       "1  13.230268   0.000000\n",
       "2  18.464874   0.000000\n",
       "3  24.045298   0.000000\n",
       "4  14.886829  21.396978"
      ]
     },
     "execution_count": 49,
     "metadata": {},
     "output_type": "execute_result"
    }
   ],
   "source": [
    "# Generate some data and randomize.\n",
    "\n",
    "# Some people bought nothing, the others bought \n",
    "# with some distribution.\n",
    "data1 = [0] * 50\n",
    "data1.extend(np.random.normal(14, 4, 150))\n",
    "np.random.shuffle(data1)\n",
    "\n",
    "# The second design hooked less people, \n",
    "# but those that were hooked bought more stuff.\n",
    "data2 = [0] * 100\n",
    "data2.extend(np.random.normal(20, 5, 100))\n",
    "np.random.shuffle(data2)\n",
    "\n",
    "# Make a DataFrame.\n",
    "df = pd.DataFrame()\n",
    "df[\"A\"] = data1\n",
    "df[\"B\"] = data2\n",
    "\n",
    "df.head() "
   ]
  },
  {
   "cell_type": "markdown",
   "metadata": {
    "slideshow": {
     "slide_type": "slide"
    }
   },
   "source": [
    "### Group Activity:\n",
    "\n",
    "Recreate the following steps we just took on the advertising dataset to determine whether or not the groups of spending are different, and perform the following:\n",
    "\n",
    " - perform a z-test to compare the means\n",
    " - visualize column A & B in the following way:\n",
    "   - boxplot\n",
    "   - qqplot\n",
    "   - histogram\n",
    " - run a shapiro wilk test and kstest to get their test statistics"
   ]
  },
  {
   "cell_type": "code",
   "execution_count": 54,
   "metadata": {
    "slideshow": {
     "slide_type": "slide"
    }
   },
   "outputs": [
    {
     "data": {
      "text/plain": [
       "(0.660035191599837, 0.5092312461837722)"
      ]
     },
     "execution_count": 54,
     "metadata": {},
     "output_type": "execute_result"
    }
   ],
   "source": [
    "sm.stats.ztest(df['A'], df['B'])"
   ]
  },
  {
   "cell_type": "code",
   "execution_count": 51,
   "metadata": {
    "slideshow": {
     "slide_type": "slide"
    }
   },
   "outputs": [
    {
     "data": {
      "image/png": "[encoded data removed]",
      "text/plain": [
       "<Figure size 864x432 with 2 Axes>"
      ]
     },
     "metadata": {},
     "output_type": "display_data"
    }
   ],
   "source": [
    "df.hist(sharey=True, figsize=(12, 6));"
   ]
  },
  {
   "cell_type": "code",
   "execution_count": 53,
   "metadata": {
    "slideshow": {
     "slide_type": "slide"
    }
   },
   "outputs": [
    {
     "data": {
      "image/png": "[encoded data removed]",
      "text/plain": [
       "<Figure size 720x432 with 1 Axes>"
      ]
     },
     "metadata": {},
     "output_type": "display_data"
    }
   ],
   "source": [
    "# generate boxplots\n",
    "df.boxplot(figsize=(10, 6));"
   ]
  },
  {
   "cell_type": "markdown",
   "metadata": {
    "slideshow": {
     "slide_type": "skip"
    }
   },
   "source": [
    "#### Make a box plot of the two groups:"
   ]
  },
  {
   "cell_type": "code",
   "execution_count": 83,
   "metadata": {
    "scrolled": true,
    "slideshow": {
     "slide_type": "slide"
    }
   },
   "outputs": [
    {
     "data": {
      "image/png": "[encoded data removed]",
      "text/plain": [
       "<Figure size 432x288 with 1 Axes>"
      ]
     },
     "metadata": {},
     "output_type": "display_data"
    }
   ],
   "source": [
    "x = qqplot(df['A'])"
   ]
  },
  {
   "cell_type": "code",
   "execution_count": 59,
   "metadata": {
    "slideshow": {
     "slide_type": "slide"
    }
   },
   "outputs": [
    {
     "data": {
      "image/png": "[encoded data removed]",
      "text/plain": [
       "<Figure size 432x288 with 1 Axes>"
      ]
     },
     "metadata": {},
     "output_type": "display_data"
    }
   ],
   "source": [
    "x = qqplot(df[df.A > 0]['A'])"
   ]
  },
  {
   "cell_type": "code",
   "execution_count": 85,
   "metadata": {
    "slideshow": {
     "slide_type": "slide"
    }
   },
   "outputs": [
    {
     "data": {
      "image/png": "[encoded data removed]",
      "text/plain": [
       "<Figure size 432x288 with 1 Axes>"
      ]
     },
     "metadata": {},
     "output_type": "display_data"
    }
   ],
   "source": [
    "x = qqplot(df['B'])"
   ]
  },
  {
   "cell_type": "code",
   "execution_count": 60,
   "metadata": {
    "scrolled": true,
    "slideshow": {
     "slide_type": "slide"
    }
   },
   "outputs": [
    {
     "data": {
      "image/png": "[encoded data removed]",
      "text/plain": [
       "<Figure size 432x288 with 1 Axes>"
      ]
     },
     "metadata": {},
     "output_type": "display_data"
    }
   ],
   "source": [
    "x = qqplot(df[df.B > 0]['B'])"
   ]
  },
  {
   "cell_type": "code",
   "execution_count": 62,
   "metadata": {
    "slideshow": {
     "slide_type": "slide"
    }
   },
   "outputs": [
    {
     "name": "stdout",
     "output_type": "stream",
     "text": [
      "0.8830593228340149 2.378112463896631e-11\n"
     ]
    }
   ],
   "source": [
    "test_stat, p_value = shapiro(df['A'])\n",
    "print(test_stat, p_value)"
   ]
  },
  {
   "cell_type": "code",
   "execution_count": 63,
   "metadata": {
    "slideshow": {
     "slide_type": "slide"
    }
   },
   "outputs": [
    {
     "name": "stdout",
     "output_type": "stream",
     "text": [
      "0.984200656414032 0.08374284952878952\n"
     ]
    }
   ],
   "source": [
    "test_stat, p_value = shapiro(df[df.A > 0]['A'])\n",
    "print(test_stat, p_value)"
   ]
  },
  {
   "cell_type": "code",
   "execution_count": 72,
   "metadata": {
    "slideshow": {
     "slide_type": "slide"
    }
   },
   "outputs": [
    {
     "name": "stdout",
     "output_type": "stream",
     "text": [
      "0.07408774424294062 0.36694034684151555\n"
     ]
    }
   ],
   "source": [
    "shifted_data = df[df.A > 0]['A']\n",
    "shifted_data = (shifted_data - shifted_data.mean()) / shifted_data.std()\n",
    "test_stat, p_value = kstest(shifted_data, cdf='norm')\n",
    "print(test_stat, p_value)"
   ]
  },
  {
   "cell_type": "markdown",
   "metadata": {
    "slideshow": {
     "slide_type": "slide"
    }
   },
   "source": [
    "### Moving Beyond Normality\n",
    "\n",
    "The bell curve has its limitations.  Makes lots of assumptions that don't always play out in the field.  \n",
    "\n",
    "What are alternatives?"
   ]
  },
  {
   "cell_type": "markdown",
   "metadata": {
    "slideshow": {
     "slide_type": "slide"
    }
   },
   "source": [
    "<a id=\"statistical-tests\"></a>\n",
    "### Statistical Tests\n",
    "\n",
    "#### Parametric Tests: \n",
    "* [t-test](https://en.wikipedia.org/wiki/Student%27s_t-test)\n",
    "* [ANOVA](https://en.wikipedia.org/wiki/Analysis_of_variance)\n",
    "\n",
    "#### Non-Parametric Tests:\n",
    "* [Mann-Whitney test](https://en.wikipedia.org/wiki/Mann%E2%80%93Whitney_U_test)\n",
    "* [Kruskall-Wallis Test](https://en.wikipedia.org/wiki/Kruskal%E2%80%93Wallis_one-way_analysis_of_variance)\n",
    "\n",
    "**Each test makes various assumptions:**\n",
    "* ANOVA assumes the residuals are normally distributed and data have equal variances.\n",
    "* The Welch t-test assumes normal distributions but not necessarily equal variances and more effectively accounts for small sample sizes.\n",
    "* The Mann-Whitney test assumes nothing about the distributions but requires at least 20 data points in each set, producing a weaker p value.\n",
    "* The Kruskall-Wallis Test is used to compare means between 2 or more groups.  Essentially a non-parametric one way ANOVA.\n",
    "\n",
    "Typically you need to choose the most appropriate test. Tests that make more assumptions are more discriminating (producing stronger p values) but can be misleading with data sets that don't satisfy the assumptions."
   ]
  },
  {
   "cell_type": "markdown",
   "metadata": {
    "slideshow": {
     "slide_type": "slide"
    }
   },
   "source": [
    "### Student's T Test:\n",
    "\n",
    " - Similar to normal, but does not assume that you know the variance of the population\n",
    " - In practice, this is usually true\n",
    "  - Still built on the assumption of normality -- just unknown variance\n",
    "  - Tends to be more useful with smaller sample sizes\n",
    "  - T-test statistics are often used to evaluate regression results, which will be discussed on Monday."
   ]
  },
  {
   "cell_type": "markdown",
   "metadata": {
    "slideshow": {
     "slide_type": "slide"
    }
   },
   "source": [
    "### Your Turn -- Find the t-test statistic and p-value for the last exercise we just concluded.  How does it change, if at all?"
   ]
  },
  {
   "cell_type": "code",
   "execution_count": 77,
   "metadata": {
    "slideshow": {
     "slide_type": "slide"
    }
   },
   "outputs": [
    {
     "name": "stdout",
     "output_type": "stream",
     "text": [
      "0.6600351915998371 0.5096698782470357\n"
     ]
    }
   ],
   "source": [
    "from scipy.stats import ttest_ind\n",
    "test_stat, p_value = ttest_ind(df['A'], df['B'], equal_var=False)\n",
    "print(test_stat, p_value)"
   ]
  },
  {
   "cell_type": "markdown",
   "metadata": {
    "slideshow": {
     "slide_type": "slide"
    }
   },
   "source": [
    "#### ANOVA\n",
    "\n",
    "Stands for ANalysis Of  VAriance.\n",
    "\n",
    " - Also used to compare means\n",
    " - Can be used to compare *multiple* groups\n",
    " - Uses the F-distribution to perform its calculations -- essentially a comparison of variances\n",
    "  - Has an assumption of equal *variances* between groups"
   ]
  },
  {
   "cell_type": "markdown",
   "metadata": {
    "slideshow": {
     "slide_type": "slide"
    }
   },
   "source": [
    "Comes in a few different flavors:\n",
    "\n",
    " - One way ANOVA:\n",
    "  - most common:  used for comparing means across 2 or more groups\n",
    "  - Essentially an extension of the student's t-test:  makes no assumptions about variance\n",
    "  \n",
    " - Other flavors:\n",
    "  - **Factorial ANOVA:** compare means subject to different variables.\n",
    "   - ie, when people are male/female or ethnicity black/white/hispanic, do their values for some such measure differ?\n",
    "  - **Repeated Measures ANOVA:** When a certain group of people does the same thing over and over again, are the results significantly different? "
   ]
  },
  {
   "cell_type": "markdown",
   "metadata": {
    "slideshow": {
     "slide_type": "slide"
    }
   },
   "source": [
    "### Kruskal-Wallis Test\n",
    "\n",
    "Non-paramentric version of ANOVA test.\n",
    "\n",
    "Similar story to other versions of this dichotomy:\n",
    " - parametric tests are more accurate when fitted to appropriate data\n",
    "  - quicker to pick up a signal\n",
    "  - more error prone when data is noisy\n",
    "  \n",
    "Kruskall-Wallis is more relaxed in the assumptions that it makes, can be applied indiscriminately to data of all types."
   ]
  },
  {
   "cell_type": "markdown",
   "metadata": {
    "collapsed": true,
    "slideshow": {
     "slide_type": "slide"
    }
   },
   "source": [
    "### Your Turn:  \n",
    "\n",
    " - Using the original advertising dataset, use a one way ANOVA + Kruskall-Wallis test to determine whether or not the amount spent on the different advertising channels are significantly different or not.  \n",
    " \n",
    "Write the larger test statistic on the whiteboard, with its associated test."
   ]
  },
  {
   "cell_type": "code",
   "execution_count": 94,
   "metadata": {
    "slideshow": {
     "slide_type": "slide"
    }
   },
   "outputs": [
    {
     "name": "stdout",
     "output_type": "stream",
     "text": [
      "358.8514595342596 4.552931539744962e-103\n"
     ]
    }
   ],
   "source": [
    "from scipy.stats import f_oneway\n",
    "\n",
    "test_stat, p_value = f_oneway(data['radio'], data['TV'], data['newspaper'])\n",
    "print(test_stat, p_value)"
   ]
  },
  {
   "cell_type": "code",
   "execution_count": 96,
   "metadata": {
    "slideshow": {
     "slide_type": "slide"
    }
   },
   "outputs": [
    {
     "name": "stdout",
     "output_type": "stream",
     "text": [
      "257.66637166931656 1.1180424828789922e-56\n"
     ]
    }
   ],
   "source": [
    "from scipy.stats import kruskal\n",
    "\n",
    "test_stat, p_value = kruskal(data['radio'], data['TV'], data['newspaper'])\n",
    "print(test_stat, p_value)"
   ]
  },
  {
   "cell_type": "markdown",
   "metadata": {
    "slideshow": {
     "slide_type": "slide"
    }
   },
   "source": [
    "### Statistical Significance vs. Statistical Importance\n",
    "\n",
    " -- Ie, should you always care about statistically significant p values?"
   ]
  },
  {
   "cell_type": "markdown",
   "metadata": {
    "slideshow": {
     "slide_type": "slide"
    }
   },
   "source": [
    "### Effect Size -- A Scale Independent Way of Comparing Values\n",
    "\n",
    "P-values are partially derived from the **size** of your dataset.  This means that larger sample sizes will require smaller differences between them to generate p-values < .05.  \n",
    "\n",
    "Lots of times this generates means-testing results that are significant, but not important.  \n",
    "\n",
    "Ie, if two groups of data are .3% different from each other with a p-value of .023, should we still care?"
   ]
  },
  {
   "cell_type": "markdown",
   "metadata": {
    "slideshow": {
     "slide_type": "slide"
    }
   },
   "source": [
    "Effect size is a way of comparing differences between groups that is **scale independent**.  This is very useful for reporting alongside a p-value, because they often communicate different things.\n",
    "\n",
    "An effect size often accords with our intuitions about differences between groups more frequently than p-values often do.\n",
    "\n",
    "**Downer**:  The python statistics libraries do NOT regularly include an effect size with their functions, so you'll have to calculate them yourselves."
   ]
  },
  {
   "cell_type": "markdown",
   "metadata": {
    "slideshow": {
     "slide_type": "slide"
    }
   },
   "source": [
    "### Most Commonly Used Measure for Effect Size:  Cohen's D"
   ]
  },
  {
   "cell_type": "markdown",
   "metadata": {
    "slideshow": {
     "slide_type": "slide"
    }
   },
   "source": [
    "### Cohen's D\n",
    "\n",
    "$$ \\frac{\\mu_{1} - \\mu_{2}}{\\sigma_{pooled}} $$"
   ]
  },
  {
   "cell_type": "markdown",
   "metadata": {
    "slideshow": {
     "slide_type": "slide"
    }
   },
   "source": [
    "Pooled standard deviation for two groups:\n",
    "\n",
    "$$ \\sigma_{pooled} = \\sqrt{\\frac{(n_1 - 1)\\sigma_1^2 + (n_2 - 1)\\sigma_2^2}{2}} $$"
   ]
  },
  {
   "cell_type": "markdown",
   "metadata": {
    "slideshow": {
     "slide_type": "slide"
    }
   },
   "source": [
    "### Important Details:  \n",
    "\n",
    " - This measurement is reported in standard deviations, which is helpful since you maintain the same units of measurement\n",
    " \n",
    " - Rough guide for how to interpret effect sizes:\n",
    "  - **< 0.1**: Small effect\n",
    "  - **0.1 < Cohen's D < 0.4**: Medium effect\n",
    "  - **>0.4**: Large effect"
   ]
  },
  {
   "cell_type": "markdown",
   "metadata": {
    "slideshow": {
     "slide_type": "slide"
    }
   },
   "source": [
    "### Challenge:\n",
    "\n",
    "Can you write a function that measures the Cohen's D metric when comparing two groups? \n",
    "\n",
    "Is very useful when reporting results of statistical analysis."
   ]
  }
 ],
 "metadata": {
  "celltoolbar": "Slideshow",
  "kernelspec": {
   "display_name": "Python 3",
   "language": "python",
   "name": "python3"
  },
  "language_info": {
   "codemirror_mode": {
    "name": "ipython",
    "version": 3
   },
   "file_extension": ".py",
   "mimetype": "text/x-python",
   "name": "python",
   "nbconvert_exporter": "python",
   "pygments_lexer": "ipython3",
   "version": "3.7.1"
  }
 },
 "nbformat": 4,
 "nbformat_minor": 1
}
