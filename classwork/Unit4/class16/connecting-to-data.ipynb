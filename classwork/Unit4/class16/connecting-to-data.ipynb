{
 "cells": [
  {
   "cell_type": "markdown",
   "metadata": {
    "slideshow": {
     "slide_type": "slide"
    }
   },
   "source": [
    "### Connecting Pandas to Data\n",
    "\n",
    " - Databases\n",
    " - Accessing API's"
   ]
  },
  {
   "cell_type": "markdown",
   "metadata": {
    "slideshow": {
     "slide_type": "slide"
    }
   },
   "source": [
    "#### Basic Process Happens in 3 Steps:\n",
    "\n",
    " - import database connector\n",
    " - establish connection to database\n",
    " - load a query into a pandas dataframe"
   ]
  },
  {
   "cell_type": "markdown",
   "metadata": {
    "slideshow": {
     "slide_type": "slide"
    }
   },
   "source": [
    "#### Big Benefit of Using Database Connections:\n",
    "\n",
    "Saves you from having to load the file into memory.  When you do queries, joins, etc, all of this is done on the database server, making it easier to accommodate larger inputs of data."
   ]
  },
  {
   "cell_type": "markdown",
   "metadata": {
    "slideshow": {
     "slide_type": "slide"
    }
   },
   "source": [
    "**Run This Line:** `conda install -c anaconda mysql-connector-python`"
   ]
  },
  {
   "cell_type": "markdown",
   "metadata": {
    "slideshow": {
     "slide_type": "slide"
    }
   },
   "source": [
    "**Go to this website:** https://rfam.readthedocs.io/en/latest/database.html"
   ]
  },
  {
   "cell_type": "code",
   "execution_count": 3,
   "metadata": {
    "slideshow": {
     "slide_type": "slide"
    }
   },
   "outputs": [],
   "source": [
    "import pandas as pd\n",
    "import mysql.connector as sql"
   ]
  },
  {
   "cell_type": "code",
   "execution_count": null,
   "metadata": {
    "slideshow": {
     "slide_type": "slide"
    }
   },
   "outputs": [],
   "source": [
    "connector = sql.connect(user=username_here, password=password_here, port=port_number, database=database_name, host=host_address)"
   ]
  },
  {
   "cell_type": "markdown",
   "metadata": {
    "slideshow": {
     "slide_type": "slide"
    }
   },
   "source": [
    "### Your Turn:  \n",
    "\n",
    "Using the information given on the rfam website, go ahead and establish a connection in a manner analogous to the previous slide.\n",
    "\n",
    "If you **don't** get an error message, then you did it correctly."
   ]
  },
  {
   "cell_type": "code",
   "execution_count": 5,
   "metadata": {
    "slideshow": {
     "slide_type": "slide"
    }
   },
   "outputs": [],
   "source": [
    "connector = sql.connect(user='rfamro', password=None, port=4497, database='Rfam', host='mysql-rfam-public.ebi.ac.uk')"
   ]
  },
  {
   "cell_type": "markdown",
   "metadata": {
    "slideshow": {
     "slide_type": "slide"
    }
   },
   "source": [
    "`pd.read_sql_query`:  most common pandas method for reading in sql databases.\n",
    "\n",
    " - Takes two arguments:\n",
    "   - your SQL query\n",
    "   - information about your database connection\n",
    "   \n",
    "`df = pd.read_sql_query('Your_SQL_query_here', connector)`"
   ]
  },
  {
   "cell_type": "code",
   "execution_count": 6,
   "metadata": {
    "slideshow": {
     "slide_type": "slide"
    }
   },
   "outputs": [],
   "source": [
    "df = pd.read_sql_query('SELECT * FROM taxonomy', connector)"
   ]
  },
  {
   "cell_type": "code",
   "execution_count": 7,
   "metadata": {
    "slideshow": {
     "slide_type": "slide"
    }
   },
   "outputs": [
    {
     "data": {
      "text/html": [
       "<div>\n",
       "<style scoped>\n",
       "    .dataframe tbody tr th:only-of-type {\n",
       "        vertical-align: middle;\n",
       "    }\n",
       "\n",
       "    .dataframe tbody tr th {\n",
       "        vertical-align: top;\n",
       "    }\n",
       "\n",
       "    .dataframe thead th {\n",
       "        text-align: right;\n",
       "    }\n",
       "</style>\n",
       "<table border=\"1\" class=\"dataframe\">\n",
       "  <thead>\n",
       "    <tr style=\"text-align: right;\">\n",
       "      <th></th>\n",
       "      <th>ncbi_id</th>\n",
       "      <th>species</th>\n",
       "      <th>tax_string</th>\n",
       "      <th>tree_display_name</th>\n",
       "      <th>align_display_name</th>\n",
       "    </tr>\n",
       "  </thead>\n",
       "  <tbody>\n",
       "    <tr>\n",
       "      <th>0</th>\n",
       "      <td>7</td>\n",
       "      <td>Azorhizobium caulinodans</td>\n",
       "      <td>Bacteria; Proteobacteria; Alphaproteobacteria;...</td>\n",
       "      <td>Azorhizobium_caulinodans</td>\n",
       "      <td>Azorhizobium_caulinodans[7]</td>\n",
       "    </tr>\n",
       "    <tr>\n",
       "      <th>1</th>\n",
       "      <td>9</td>\n",
       "      <td>Buchnera aphidicola</td>\n",
       "      <td>Bacteria; Proteobacteria; Gammaproteobacteria;...</td>\n",
       "      <td>Buchnera_aphidicola</td>\n",
       "      <td>Buchnera_aphidicola[9]</td>\n",
       "    </tr>\n",
       "    <tr>\n",
       "      <th>2</th>\n",
       "      <td>11</td>\n",
       "      <td>[Cellvibrio] gilvus</td>\n",
       "      <td>Bacteria; Actinobacteria; Actinobacteridae; Ac...</td>\n",
       "      <td>[Cellvibrio]_gilvus</td>\n",
       "      <td>[Cellvibrio]_gilvus[11]</td>\n",
       "    </tr>\n",
       "    <tr>\n",
       "      <th>3</th>\n",
       "      <td>14</td>\n",
       "      <td>Dictyoglomus thermophilum</td>\n",
       "      <td>Bacteria; Dictyoglomi; Dictyoglomales; Dictyog...</td>\n",
       "      <td>Dictyoglomus_thermophilum</td>\n",
       "      <td>Dictyoglomus_thermophilum[14]</td>\n",
       "    </tr>\n",
       "    <tr>\n",
       "      <th>4</th>\n",
       "      <td>17</td>\n",
       "      <td>Methylophilus methylotrophus</td>\n",
       "      <td>Bacteria; Proteobacteria; Betaproteobacteria; ...</td>\n",
       "      <td>Methylophilus_methylotrophus</td>\n",
       "      <td>Methylophilus_methylotr..[17]</td>\n",
       "    </tr>\n",
       "  </tbody>\n",
       "</table>\n",
       "</div>"
      ],
      "text/plain": [
       "   ncbi_id                       species  \\\n",
       "0        7      Azorhizobium caulinodans   \n",
       "1        9           Buchnera aphidicola   \n",
       "2       11           [Cellvibrio] gilvus   \n",
       "3       14     Dictyoglomus thermophilum   \n",
       "4       17  Methylophilus methylotrophus   \n",
       "\n",
       "                                          tax_string  \\\n",
       "0  Bacteria; Proteobacteria; Alphaproteobacteria;...   \n",
       "1  Bacteria; Proteobacteria; Gammaproteobacteria;...   \n",
       "2  Bacteria; Actinobacteria; Actinobacteridae; Ac...   \n",
       "3  Bacteria; Dictyoglomi; Dictyoglomales; Dictyog...   \n",
       "4  Bacteria; Proteobacteria; Betaproteobacteria; ...   \n",
       "\n",
       "              tree_display_name             align_display_name  \n",
       "0      Azorhizobium_caulinodans    Azorhizobium_caulinodans[7]  \n",
       "1           Buchnera_aphidicola         Buchnera_aphidicola[9]  \n",
       "2           [Cellvibrio]_gilvus        [Cellvibrio]_gilvus[11]  \n",
       "3     Dictyoglomus_thermophilum  Dictyoglomus_thermophilum[14]  \n",
       "4  Methylophilus_methylotrophus  Methylophilus_methylotr..[17]  "
      ]
     },
     "execution_count": 7,
     "metadata": {},
     "output_type": "execute_result"
    }
   ],
   "source": [
    "df.head()"
   ]
  },
  {
   "cell_type": "markdown",
   "metadata": {
    "slideshow": {
     "slide_type": "slide"
    }
   },
   "source": [
    "<img src=\"http://imgur.com/1ZcRyrc.png\" style=\"float: left; margin: 20px; height: 55px\">\n",
    "\n",
    "# Introduction to Web Services and APIs\n",
    "\n",
    "_Author: Dave Yerrington (SF)_\n",
    "\n",
    "---\n",
    "![](assets/opening.png)"
   ]
  },
  {
   "cell_type": "markdown",
   "metadata": {
    "slideshow": {
     "slide_type": "slide"
    }
   },
   "source": [
    "<a id='what-is-api'></a>\n",
    "## What is an API?\n",
    "\n",
    "---\n",
    "\n",
    "An **API (Application Programming Interface)** is a set of routines, protocols, and tools for building software applications. It specifies how software components should interact.\n",
    "\n",
    "In programming, we also use many interfaces. The interface we use to a programming library is its function calls. For example:\n",
    "\n",
    "- **Matplotlib `plot()`**: We don't care how the `plot()` function works. All that we expect is that calling this function (with appropriate parameters) will plot the data and return a graphic. In fact, how the function works can completely change from version to version. \n",
    "\n",
    "#### Web APIs\n",
    "\n",
    "- **How does this extend to the web?** A Web API is a list of function calls that are made to remote servers. The function call is sent by encoding it as a URL (technically, as an HTTP request -- we'll discuss these later!). The function call typically returns a string of text (e.g. JSON)."
   ]
  },
  {
   "cell_type": "markdown",
   "metadata": {
    "slideshow": {
     "slide_type": "slide"
    }
   },
   "source": [
    "<a name=\"api-calls\"></a>\n",
    "## Making API calls\n",
    "\n",
    "---\n",
    "\n",
    "API calls are really a fancy term for making _HTTP requests_ (in the context of web APIs) to a server and sending/receiving structured data from that endpoint (URL). We are still communicating with URLs, however instead of receiving a string of HTML, we receive data.\n",
    "\n",
    "[Representational state transfer (REST)](https://spring.io/understanding/REST) is the most common architecture style for passing information to and from these API endpoints."
   ]
  },
  {
   "cell_type": "markdown",
   "metadata": {
    "slideshow": {
     "slide_type": "slide"
    }
   },
   "source": [
    "<a id='http'></a>\n",
    "## HTTP\n",
    "\n",
    "---\n",
    "\n",
    "**HTTP (HyperText Transfer Protocol)** is a protocol - a system of rules - that determines how web pages (see:'hypertext') get sent (see:'transferred') from one place to another. Among other things, it defines the format of the messages passed between HTTP clients and HTTP servers.\n",
    "\n",
    "Since the web is a service, it works through a combination of **clients** (that _make_ requests) and **servers** (that _receive_ requests).\n"
   ]
  },
  {
   "cell_type": "markdown",
   "metadata": {
    "slideshow": {
     "slide_type": "slide"
    }
   },
   "source": [
    "### HTTP and web servers\n",
    "\n",
    "All _web servers_ receive _HTTP requests_ and generate _HTTP responses_. Often web servers are just the middleman, passing HTTP requests and responses between the client and web application. Two of the most popular _HTTP or Web servers_ are [Apache](http://httpd.apache.org/) and [Nginx](http://nginx.com/), But there are many different [web servers](https://www.tutorialspoint.com/internet_technologies/web_servers.htm) out there."
   ]
  },
  {
   "cell_type": "markdown",
   "metadata": {
    "slideshow": {
     "slide_type": "slide"
    }
   },
   "source": [
    "<a id='web-app'></a>\n",
    "## Web applications\n",
    "\n",
    "---\n",
    "\n",
    "Web applications are programs that run on a web server. They process the HTTP requests that the server receives and generate HTTP responses.\n",
    "\n",
    "![HTTP Request and Response](assets/request-response.png)"
   ]
  },
  {
   "cell_type": "markdown",
   "metadata": {
    "slideshow": {
     "slide_type": "slide"
    }
   },
   "source": [
    "How does the server know what the request is asking for? This is specified by the URL, a special kind of path that specifies where a resource can be found on the web.\n",
    "\n",
    "![URL](./assets/http1-url-structure.png)"
   ]
  },
  {
   "cell_type": "markdown",
   "metadata": {
    "slideshow": {
     "slide_type": "slide"
    }
   },
   "source": [
    "<a name=\"demo-http\"></a>\n",
    "## Demo: HTTP\n",
    "\n",
    "* In Chrome, open up Chrome Inspector (*command + option + 'i', or ctrl + click and select 'inspect element'*).\n",
    "* Select the Network tab. It should look something like this:\n",
    "\n",
    "![Chrome Inspector](./assets/chrome_inspector.png)\n",
    "\n",
    "* Next, go to the URL https://generalassemb.ly/"
   ]
  },
  {
   "cell_type": "markdown",
   "metadata": {
    "slideshow": {
     "slide_type": "slide"
    }
   },
   "source": [
    "<a id='ind-http'></a>\n",
    "\n",
    "## Independent practice: HTTP\n",
    "\n",
    "---\n",
    "\n",
    "\n",
    "### Go to your favorite website(s) (safe for work), inspect the protocol from the Chrome network inspection tool (cmd-opt-i)\n",
    "\n",
    "#### Research and Explain:\n",
    " - 200 request status\n",
    " - 202 request status\n",
    " - 204 request status\n",
    " - 302 request status\n",
    " - 404 request status"
   ]
  },
  {
   "cell_type": "markdown",
   "metadata": {
    "slideshow": {
     "slide_type": "slide"
    }
   },
   "source": [
    "<a id='response-types'></a>\n",
    "### Response types overview\n",
    "\n",
    "|Code|Reason|\n",
    "|:---|:-----|\n",
    "|200| OK\n",
    "|301| Moved Permanently\n",
    "|302| Moved Temporarily\n",
    "|307| Temporary Redirect\n",
    "|400| Bad Request\n",
    "|403| Forbidden\n",
    "|404| Not Found\n",
    "|500| Internal Server Error"
   ]
  },
  {
   "cell_type": "markdown",
   "metadata": {
    "slideshow": {
     "slide_type": "slide"
    }
   },
   "source": [
    "<a id='http-request'></a>\n",
    "## HTTP Request\n",
    "\n",
    "---\n",
    "\n",
    "First, notice that every HTTP request is ultimately plain text -- it is human-readable! This is convenient, but it makes requests larger.\n",
    "\n",
    "The first word in the request line, _GET_, is the **HTTP method**.\n",
    "\n",
    "![HTTP Request](./assets/http_request.jpeg \"HTTP Request\")\n",
    "\n",
    "<a id='request-methods'></a>\n",
    "### HTTP Request methods:\n",
    "\n",
    "* **`GET`** => Retrieve a resource.  \n",
    "* **`POST`** => Create a resource.  \n",
    "* **`PATCH`** (_or **`PUT`**, but **`PATCH`** is recommended_) => Update an existing resource.  \n",
    "* **`DELETE`** => Delete a resource.  \n",
    "* **`HEAD`** => Retrieve the headers for a resource.\n",
    "\n",
    "Of these, **`GET`** and **`POST`** are the most widely used."
   ]
  },
  {
   "cell_type": "markdown",
   "metadata": {
    "slideshow": {
     "slide_type": "slide"
    }
   },
   "source": [
    "<a name=\"json\"></a>\n",
    "## JSON\n",
    "\n",
    "---\n",
    "\n",
    "JSON is short for _JavaScript Object Notation_, and is a way to store information in an organized, easy-to-access manner. In a nutshell, it gives us a human-readable collection of data that we can access in a really logical manner.\n",
    "\n",
    "It is very important to realize that JSON is just plain text that you can edit in a text editor. It is called JSON because a JSON string is valid JavaScript code. Because of this, JSON has become very popular with JavaScript programmers for talking with APIs.\n",
    "\n",
    "**JSON is built on two structures:**\n",
    "* A collection of name/value pairs. In various languages, this is realized as an object, record, structure, dictionary, hash table, keyed list, or associative array.\n",
    "* An ordered list of values. In most languages, this is realized as an array, vector, list, or sequence.\n",
    "\n",
    "These are universal data structures. Virtually all modern programming languages support them in one form or another. It makes sense that a data format that is interchangeable with programming languages also be based on these structures."
   ]
  },
  {
   "cell_type": "markdown",
   "metadata": {
    "slideshow": {
     "slide_type": "slide"
    }
   },
   "source": [
    "<a name=\"ind-practice\"></a>\n",
    "## Validating JSON \n",
    "\n",
    "---\n",
    "\n",
    "JSON is very simple to use if correctly structured. One of the resources to validate JSON and check if the syntax is correct is [JSON Viewer](http://codebeautify.org/jsonviewer).\n",
    "\n",
    "For this exercise, copy the [JSON data from the code folder](./code/test.json) and insert it in the web app above. Then, click \"Beautify\"."
   ]
  },
  {
   "cell_type": "markdown",
   "metadata": {
    "slideshow": {
     "slide_type": "slide"
    }
   },
   "source": [
    "### Core Concept Check\n",
    "\n",
    " - What does this remind you of?\n",
    " - How is it different from what we'd normally see in Python?"
   ]
  },
  {
   "cell_type": "markdown",
   "metadata": {
    "slideshow": {
     "slide_type": "slide"
    }
   },
   "source": [
    "<a name=\"guided-practice\"></a>\n",
    "## Guided practice: Pulling data from APIs\n",
    "\n",
    "---\n",
    "\n",
    "Recall that APIs are methods and data formats to tell people how to \"talk\" to a system. We will walk through a couple of examples."
   ]
  },
  {
   "cell_type": "markdown",
   "metadata": {
    "slideshow": {
     "slide_type": "slide"
    }
   },
   "source": [
    "### The Requests Library\n",
    "\n",
    " - Extremely useful tool for accessing data from the web\n",
    " - Inititates a `GET` request very easily using http\n",
    " - Allows you to easily access information from a web page\n",
    " - Handy for retrieving data from API's or scraping the web"
   ]
  },
  {
   "cell_type": "code",
   "execution_count": 8,
   "metadata": {
    "slideshow": {
     "slide_type": "slide"
    }
   },
   "outputs": [],
   "source": [
    "import requests\n",
    "\n",
    "URL = 'https://generalassemb.ly'\n",
    "\n",
    "req = requests.get(URL)"
   ]
  },
  {
   "cell_type": "code",
   "execution_count": 9,
   "metadata": {
    "slideshow": {
     "slide_type": "slide"
    }
   },
   "outputs": [
    {
     "data": {
      "text/plain": [
       "<Response [200]>"
      ]
     },
     "execution_count": 9,
     "metadata": {},
     "output_type": "execute_result"
    }
   ],
   "source": [
    "# this is our new request object\n",
    "req"
   ]
  },
  {
   "cell_type": "code",
   "execution_count": 11,
   "metadata": {
    "slideshow": {
     "slide_type": "slide"
    }
   },
   "outputs": [
    {
     "data": {
      "text/plain": [
       "200"
      ]
     },
     "execution_count": 11,
     "metadata": {},
     "output_type": "execute_result"
    }
   ],
   "source": [
    "# we can check its status code\n",
    "req.status_code"
   ]
  },
  {
   "cell_type": "code",
   "execution_count": 13,
   "metadata": {
    "slideshow": {
     "slide_type": "slide"
    }
   },
   "outputs": [
    {
     "data": {
      "text/plain": [
       "'utf-8'"
      ]
     },
     "execution_count": 13,
     "metadata": {},
     "output_type": "execute_result"
    }
   ],
   "source": [
    "# and the encoding used in the content of our request\n",
    "req.encoding"
   ]
  },
  {
   "cell_type": "code",
   "execution_count": 14,
   "metadata": {
    "slideshow": {
     "slide_type": "slide"
    }
   },
   "outputs": [
    {
     "data": {
      "text/plain": [
       "'<!DOCTYPE html>\\n<html class=\\'no-js\\' lang=\\'en\\'>\\n<head>\\n<script src=\"https://cdn.cookielaw.org/consent/4f740341-5e77-436b-9272-34eefbc7a4e4.js\"></script>\\n<script src=\"//s3.amazonaws.com/static-assets.generalassemb.ly/cookie-consent/current/cookie-consent.js\"></script>\\n<script>\\n  if (!window.cookieConsent) {\\n    window.cookieConsent = new CookieConsent()\\n    window.cookieConsent.initBrowser()\\n  }\\n</script>\\n\\n<meta charset=\\'utf-8\\'>\\n<meta content=\\'initial-scale=1.0, width=device-width\\' name=\\'viewport\\'>\\n<meta content=\\'IE=Edge\\' http-equiv=\\'X-UA-Compatible\\'>\\n<script type=\"text/javascript\">window.NREUM||(NREUM={});NREUM.info={\"beacon\":\"bam.nr-data.net\",\"errorBeacon\":\"bam.nr-data.net\",\"licenseKey\":\"44a7295480\",\"applicationID\":\"63471370\",\"transactionName\":\"dg1aRxMMCghUEBlKR1QWXVBOCwkJVA==\",\"queueTime\":2,\"applicationTime\":147,\"agent\":\"\"}</script>\\n<script type=\"text/javascript\">(window.NREUM||(NREUM={})).loader_config={xpid:\"VQAPVFJWCRAGV1VVBgIAVg==\"};window.NREUM||(NREUM={}),__nr_require=function(t,n,e){function r(e){if(!n[e]){var o=n[e]={exports:{}};t[e][0].call(o.exports,function(n){var o=t[e][1][n];return r(o||n)},o,o.exports)}return n[e].exports}if(\"function\"==typeof __nr_require)return __nr_require;for(var o=0;o<e.length;o++)r(e[o]);return r}({1:[function(t,n,e){function r(t){try{s.console&&console.log(t)}catch(n){}}var o,i=t(\"ee\"),a=t(18),s={};try{o=localStorage.getItem(\"__nr_flags\").split(\",\"),console&&\"function\"==typeof console.log&&(s.console=!0,o.indexOf(\"dev\")!==-1&&(s.dev=!0),o.indexOf(\"nr_dev\")!==-1&&(s.nrDev=!0))}catch(c){}s.nrDev&&i.on(\"internal-error\",function(t){r(t.stack)}),s.dev&&i.on(\"fn-err\",function(t,n,e){r(e.stack)}),s.dev&&(r(\"NR AGENT IN DEVELOPMENT MODE\"),r(\"flags: \"+a(s,function(t,n){return t}).join(\", \")))},{}],2:[function(t,n,e){function r(t,n,e,r,s){try{p?p-=1:o(s||new UncaughtException(t,n,e),!0)}catch(f){try{i(\"ierr\",[f,c.now(),!0])}catch(d){}}return\"function\"==typeof u&&u.apply(this,a(arguments))}function UncaughtException(t,n,e){this.message=t||\"Uncaught error with no additional information\",this.sourceURL=n,this.line=e}function o(t,n){var e=n?null:c.now();i(\"err\",[t,e])}var i=t(\"handle\"),a=t(19),s=t(\"ee\"),c=t(\"loader\"),f=t(\"gos\"),u=window.onerror,d=!1,l=\"nr@seenError\",p=0;c.features.err=!0,t(1),window.onerror=r;try{throw new Error}catch(h){\"stack\"in h&&(t(8),t(7),\"addEventListener\"in window&&t(5),c.xhrWrappable&&t(9),d=!0)}s.on(\"fn-start\",function(t,n,e){d&&(p+=1)}),s.on(\"fn-err\",function(t,n,e){d&&!e[l]&&(f(e,l,function(){return!0}),this.thrown=!0,o(e))}),s.on(\"fn-end\",function(){d&&!this.thrown&&p>0&&(p-=1)}),s.on(\"internal-error\",function(t){i(\"ierr\",[t,c.now(),!0])})},{}],3:[function(t,n,e){t(\"loader\").features.ins=!0},{}],4:[function(t,n,e){function r(t){}if(window.performance&&window.performance.timing&&window.performance.getEntriesByType){var o=t(\"ee\"),i=t(\"handle\"),a=t(8),s=t(7),c=\"learResourceTimings\",f=\"addEventListener\",u=\"resourcetimingbufferfull\",d=\"bstResource\",l=\"resource\",p=\"-start\",h=\"-end\",m=\"fn\"+p,w=\"fn\"+h,v=\"bstTimer\",y=\"pushState\",g=t(\"loader\");g.features.stn=!0,t(6);var x=NREUM.o.EV;o.on(m,function(t,n){var e=t[0];e instanceof x&&(this.bstStart=g.now())}),o.on(w,function(t,n){var e=t[0];e instanceof x&&i(\"bst\",[e,n,this.bstStart,g.now()])}),a.on(m,function(t,n,e){this.bstStart=g.now(),this.bstType=e}),a.on(w,function(t,n){i(v,[n,this.bstStart,g.now(),this.bstType])}),s.on(m,function(){this.bstStart=g.now()}),s.on(w,function(t,n){i(v,[n,this.bstStart,g.now(),\"requestAnimationFrame\"])}),o.on(y+p,function(t){this.time=g.now(),this.startPath=location.pathname+location.hash}),o.on(y+h,function(t){i(\"bstHist\",[location.pathname+location.hash,this.startPath,this.time])}),f in window.performance&&(window.performance[\"c\"+c]?window.performance[f](u,function(t){i(d,[window.performance.getEntriesByType(l)]),window.performance[\"c\"+c]()},!1):window.performance[f](\"webkit\"+u,function(t){i(d,[window.performance.getEntriesByType(l)]),window.performance[\"webkitC\"+c]()},!1)),document[f](\"scroll\",r,{passive:!0}),document[f](\"keypress\",r,!1),document[f](\"click\",r,!1)}},{}],5:[function(t,n,e){function r(t){for(var n=t;n&&!n.hasOwnProperty(u);)n=Object.getPrototypeOf(n);n&&o(n)}function o(t){s.inPlace(t,[u,d],\"-\",i)}function i(t,n){return t[1]}var a=t(\"ee\").get(\"events\"),s=t(21)(a,!0),c=t(\"gos\"),f=XMLHttpRequest,u=\"addEventListener\",d=\"removeEventListener\";n.exports=a,\"getPrototypeOf\"in Object?(r(document),r(window),r(f.prototype)):f.prototype.hasOwnProperty(u)&&(o(window),o(f.prototype)),a.on(u+\"-start\",function(t,n){var e=t[1],r=c(e,\"nr@wrapped\",function(){function t(){if(\"function\"==typeof e.handleEvent)return e.handleEvent.apply(e,arguments)}var n={object:t,\"function\":e}[typeof e];return n?s(n,\"fn-\",null,n.name||\"anonymous\"):e});this.wrapped=t[1]=r}),a.on(d+\"-start\",function(t){t[1]=this.wrapped||t[1]})},{}],6:[function(t,n,e){var r=t(\"ee\").get(\"history\"),o=t(21)(r);n.exports=r;var i=window.history&&window.history.constructor&&window.history.constructor.prototype,a=window.history;i&&i.pushState&&i.replaceState&&(a=i),o.inPlace(a,[\"pushState\",\"replaceState\"],\"-\")},{}],7:[function(t,n,e){var r=t(\"ee\").get(\"raf\"),o=t(21)(r),i=\"equestAnimationFrame\";n.exports=r,o.inPlace(window,[\"r\"+i,\"mozR\"+i,\"webkitR\"+i,\"msR\"+i],\"raf-\"),r.on(\"raf-start\",function(t){t[0]=o(t[0],\"fn-\")})},{}],8:[function(t,n,e){function r(t,n,e){t[0]=a(t[0],\"fn-\",null,e)}function o(t,n,e){this.method=e,this.timerDuration=isNaN(t[1])?0:+t[1],t[0]=a(t[0],\"fn-\",this,e)}var i=t(\"ee\").get(\"timer\"),a=t(21)(i),s=\"setTimeout\",c=\"setInterval\",f=\"clearTimeout\",u=\"-start\",d=\"-\";n.exports=i,a.inPlace(window,[s,\"setImmediate\"],s+d),a.inPlace(window,[c],c+d),a.inPlace(window,[f,\"clearImmediate\"],f+d),i.on(c+u,r),i.on(s+u,o)},{}],9:[function(t,n,e){function r(t,n){d.inPlace(n,[\"onreadystatechange\"],\"fn-\",s)}function o(){var t=this,n=u.context(t);t.readyState>3&&!n.resolved&&(n.resolved=!0,u.emit(\"xhr-resolved\",[],t)),d.inPlace(t,y,\"fn-\",s)}function i(t){g.push(t),h&&(b?b.then(a):w?w(a):(E=-E,R.data=E))}function a(){for(var t=0;t<g.length;t++)r([],g[t]);g.length&&(g=[])}function s(t,n){return n}function c(t,n){for(var e in t)n[e]=t[e];return n}t(5);var f=t(\"ee\"),u=f.get(\"xhr\"),d=t(21)(u),l=NREUM.o,p=l.XHR,h=l.MO,m=l.PR,w=l.SI,v=\"readystatechange\",y=[\"onload\",\"onerror\",\"onabort\",\"onloadstart\",\"onloadend\",\"onprogress\",\"ontimeout\"],g=[];n.exports=u;var x=window.XMLHttpRequest=function(t){var n=new p(t);try{u.emit(\"new-xhr\",[n],n),n.addEventListener(v,o,!1)}catch(e){try{u.emit(\"internal-error\",[e])}catch(r){}}return n};if(c(p,x),x.prototype=p.prototype,d.inPlace(x.prototype,[\"open\",\"send\"],\"-xhr-\",s),u.on(\"send-xhr-start\",function(t,n){r(t,n),i(n)}),u.on(\"open-xhr-start\",r),h){var b=m&&m.resolve();if(!w&&!m){var E=1,R=document.createTextNode(E);new h(a).observe(R,{characterData:!0})}}else f.on(\"fn-end\",function(t){t[0]&&t[0].type===v||a()})},{}],10:[function(t,n,e){function r(){var t=window.NREUM,n=t.info.accountID||null,e=t.info.agentID||null,r=t.info.trustKey||null,i=\"btoa\"in window&&\"function\"==typeof window.btoa;if(!n||!e||!i)return null;var a={v:[0,1],d:{ty:\"Browser\",ac:n,ap:e,id:o.generateCatId(),tr:o.generateCatId(),ti:Date.now()}};return r&&n!==r&&(a.d.tk=r),btoa(JSON.stringify(a))}var o=t(16);n.exports={generateTraceHeader:r}},{}],11:[function(t,n,e){function r(t){var n=this.params,e=this.metrics;if(!this.ended){this.ended=!0;for(var r=0;r<p;r++)t.removeEventListener(l[r],this.listener,!1);n.aborted||(e.duration=s.now()-this.startTime,this.loadCaptureCalled||4!==t.readyState?null==n.status&&(n.status=0):a(this,t),e.cbTime=this.cbTime,d.emit(\"xhr-done\",[t],t),c(\"xhr\",[n,e,this.startTime]))}}function o(t,n){var e=t.responseType;if(\"json\"===e&&null!==n)return n;var r=\"arraybuffer\"===e||\"blob\"===e||\"json\"===e?t.response:t.responseText;return w(r)}function i(t,n){var e=f(n),r=t.params;r.host=e.hostname+\":\"+e.port,r.pathname=e.pathname,t.sameOrigin=e.sameOrigin}function a(t,n){t.params.status=n.status;var e=o(n,t.lastSize);if(e&&(t.metrics.rxSize=e),t.sameOrigin){var r=n.getResponseHeader(\"X-NewRelic-App-Data\");r&&(t.params.cat=r.split(\", \").pop())}t.loadCaptureCalled=!0}var s=t(\"loader\");if(s.xhrWrappable){var c=t(\"handle\"),f=t(12),u=t(10).generateTraceHeader,d=t(\"ee\"),l=[\"load\",\"error\",\"abort\",\"timeout\"],p=l.length,h=t(\"id\"),m=t(15),w=t(14),v=window.XMLHttpRequest;s.features.xhr=!0,t(9),d.on(\"new-xhr\",function(t){var n=this;n.totalCbs=0,n.called=0,n.cbTime=0,n.end=r,n.ended=!1,n.xhrGuids={},n.lastSize=null,n.loadCaptureCalled=!1,t.addEventListener(\"load\",function(e){a(n,t)},!1),m&&(m>34||m<10)||window.opera||t.addEventListener(\"progress\",function(t){n.lastSize=t.loaded},!1)}),d.on(\"open-xhr-start\",function(t){this.params={method:t[0]},i(this,t[1]),this.metrics={}}),d.on(\"open-xhr-end\",function(t,n){\"loader_config\"in NREUM&&\"xpid\"in NREUM.loader_config&&this.sameOrigin&&n.setRequestHeader(\"X-NewRelic-ID\",NREUM.loader_config.xpid);var e=!1;if(\"init\"in NREUM&&\"distributed_tracing\"in NREUM.init&&(e=!!NREUM.init.distributed_tracing.enabled),e&&this.sameOrigin){var r=u();r&&n.setRequestHeader(\"newrelic\",r)}}),d.on(\"send-xhr-start\",function(t,n){var e=this.metrics,r=t[0],o=this;if(e&&r){var i=w(r);i&&(e.txSize=i)}this.startTime=s.now(),this.listener=function(t){try{\"abort\"!==t.type||o.loadCaptureCalled||(o.params.aborted=!0),(\"load\"!==t.type||o.called===o.totalCbs&&(o.onloadCalled||\"function\"!=typeof n.onload))&&o.end(n)}catch(e){try{d.emit(\"internal-error\",[e])}catch(r){}}};for(var a=0;a<p;a++)n.addEventListener(l[a],this.listener,!1)}),d.on(\"xhr-cb-time\",function(t,n,e){this.cbTime+=t,n?this.onloadCalled=!0:this.called+=1,this.called!==this.totalCbs||!this.onloadCalled&&\"function\"==typeof e.onload||this.end(e)}),d.on(\"xhr-load-added\",function(t,n){var e=\"\"+h(t)+!!n;this.xhrGuids&&!this.xhrGuids[e]&&(this.xhrGuids[e]=!0,this.totalCbs+=1)}),d.on(\"xhr-load-removed\",function(t,n){var e=\"\"+h(t)+!!n;this.xhrGuids&&this.xhrGuids[e]&&(delete this.xhrGuids[e],this.totalCbs-=1)}),d.on(\"addEventListener-end\",function(t,n){n instanceof v&&\"load\"===t[0]&&d.emit(\"xhr-load-added\",[t[1],t[2]],n)}),d.on(\"removeEventListener-end\",function(t,n){n instanceof v&&\"load\"===t[0]&&d.emit(\"xhr-load-removed\",[t[1],t[2]],n)}),d.on(\"fn-start\",function(t,n,e){n instanceof v&&(\"onload\"===e&&(this.onload=!0),(\"load\"===(t[0]&&t[0].type)||this.onload)&&(this.xhrCbStart=s.now()))}),d.on(\"fn-end\",function(t,n){this.xhrCbStart&&d.emit(\"xhr-cb-time\",[s.now()-this.xhrCbStart,this.onload,n],n)})}},{}],12:[function(t,n,e){n.exports=function(t){var n=document.createElement(\"a\"),e=window.location,r={};n.href=t,r.port=n.port;var o=n.href.split(\"://\");!r.port&&o[1]&&(r.port=o[1].split(\"/\")[0].split(\"@\").pop().split(\":\")[1]),r.port&&\"0\"!==r.port||(r.port=\"https\"===o[0]?\"443\":\"80\"),r.hostname=n.hostname||e.hostname,r.pathname=n.pathname,r.protocol=o[0],\"/\"!==r.pathname.charAt(0)&&(r.pathname=\"/\"+r.pathname);var i=!n.protocol||\":\"===n.protocol||n.protocol===e.protocol,a=n.hostname===document.domain&&n.port===e.port;return r.sameOrigin=i&&(!n.hostname||a),r}},{}],13:[function(t,n,e){function r(){}function o(t,n,e){return function(){return i(t,[f.now()].concat(s(arguments)),n?null:this,e),n?void 0:this}}var i=t(\"handle\"),a=t(18),s=t(19),c=t(\"ee\").get(\"tracer\"),f=t(\"loader\"),u=NREUM;\"undefined\"==typeof window.newrelic&&(newrelic=u);var d=[\"setPageViewName\",\"setCustomAttribute\",\"setErrorHandler\",\"finished\",\"addToTrace\",\"inlineHit\",\"addRelease\"],l=\"api-\",p=l+\"ixn-\";a(d,function(t,n){u[n]=o(l+n,!0,\"api\")}),u.addPageAction=o(l+\"addPageAction\",!0),u.setCurrentRouteName=o(l+\"routeName\",!0),n.exports=newrelic,u.interaction=function(){return(new r).get()};var h=r.prototype={createTracer:function(t,n){var e={},r=this,o=\"function\"==typeof n;return i(p+\"tracer\",[f.now(),t,e],r),function(){if(c.emit((o?\"\":\"no-\")+\"fn-start\",[f.now(),r,o],e),o)try{return n.apply(this,arguments)}catch(t){throw c.emit(\"fn-err\",[arguments,this,t],e),t}finally{c.emit(\"fn-end\",[f.now()],e)}}}};a(\"actionText,setName,setAttribute,save,ignore,onEnd,getContext,end,get\".split(\",\"),function(t,n){h[n]=o(p+n)}),newrelic.noticeError=function(t,n){\"string\"==typeof t&&(t=new Error(t)),i(\"err\",[t,f.now(),!1,n])}},{}],14:[function(t,n,e){n.exports=function(t){if(\"string\"==typeof t&&t.length)return t.length;if(\"object\"==typeof t){if(\"undefined\"!=typeof ArrayBuffer&&t instanceof ArrayBuffer&&t.byteLength)return t.byteLength;if(\"undefined\"!=typeof Blob&&t instanceof Blob&&t.size)return t.size;if(!(\"undefined\"!=typeof FormData&&t instanceof FormData))try{return JSON.stringify(t).length}catch(n){return}}}},{}],15:[function(t,n,e){var r=0,o=navigator.userAgent.match(/Firefox[\\\\/\\\\s](\\\\d+\\\\.\\\\d+)/);o&&(r=+o[1]),n.exports=r},{}],16:[function(t,n,e){function r(){function t(){return n?15&n[e++]:16*Math.random()|0}var n=null,e=0,r=window.crypto||window.msCrypto;r&&r.getRandomValues&&(n=r.getRandomValues(new Uint8Array(31)));for(var o,i=\"xxxxxxxx-xxxx-4xxx-yxxx-xxxxxxxxxxxx\",a=\"\",s=0;s<i.length;s++)o=i[s],\"x\"===o?a+=t().toString(16):\"y\"===o?(o=3&t()|8,a+=o.toString(16)):a+=o;return a}function o(){function t(){return n?15&n[e++]:16*Math.random()|0}var n=null,e=0,r=window.crypto||window.msCrypto;r&&r.getRandomValues&&Uint8Array&&(n=r.getRandomValues(new Uint8Array(31)));for(var o=[],i=0;i<16;i++)o.push(t().toString(16));return o.join(\"\")}n.exports={generateUuid:r,generateCatId:o}},{}],17:[function(t,n,e){function r(t,n){if(!o)return!1;if(t!==o)return!1;if(!n)return!0;if(!i)return!1;for(var e=i.split(\".\"),r=n.split(\".\"),a=0;a<r.length;a++)if(r[a]!==e[a])return!1;return!0}var o=null,i=null,a=/Version\\\\/(\\\\S+)\\\\s+Safari/;if(navigator.userAgent){var s=navigator.userAgent,c=s.match(a);c&&s.indexOf(\"Chrome\")===-1&&s.indexOf(\"Chromium\")===-1&&(o=\"Safari\",i=c[1])}n.exports={agent:o,version:i,match:r}},{}],18:[function(t,n,e){function r(t,n){var e=[],r=\"\",i=0;for(r in t)o.call(t,r)&&(e[i]=n(r,t[r]),i+=1);return e}var o=Object.prototype.hasOwnProperty;n.exports=r},{}],19:[function(t,n,e){function r(t,n,e){n||(n=0),\"undefined\"==typeof e&&(e=t?t.length:0);for(var r=-1,o=e-n||0,i=Array(o<0?0:o);++r<o;)i[r]=t[n+r];return i}n.exports=r},{}],20:[function(t,n,e){n.exports={exists:\"undefined\"!=typeof window.performance&&window.performance.timing&&\"undefined\"!=typeof window.performance.timing.navigationStart}},{}],21:[function(t,n,e){function r(t){return!(t&&t instanceof Function&&t.apply&&!t[a])}var o=t(\"ee\"),i=t(19),a=\"nr@original\",s=Object.prototype.hasOwnProperty,c=!1;n.exports=function(t,n){function e(t,n,e,o){function nrWrapper(){var r,a,s,c;try{a=this,r=i(arguments),s=\"function\"==typeof e?e(r,a):e||{}}catch(f){l([f,\"\",[r,a,o],s])}u(n+\"start\",[r,a,o],s);try{return c=t.apply(a,r)}catch(d){throw u(n+\"err\",[r,a,d],s),d}finally{u(n+\"end\",[r,a,c],s)}}return r(t)?t:(n||(n=\"\"),nrWrapper[a]=t,d(t,nrWrapper),nrWrapper)}function f(t,n,o,i){o||(o=\"\");var a,s,c,f=\"-\"===o.charAt(0);for(c=0;c<n.length;c++)s=n[c],a=t[s],r(a)||(t[s]=e(a,f?s+o:o,i,s))}function u(e,r,o){if(!c||n){var i=c;c=!0;try{t.emit(e,r,o,n)}catch(a){l([a,e,r,o])}c=i}}function d(t,n){if(Object.defineProperty&&Object.keys)try{var e=Object.keys(t);return e.forEach(function(e){Object.defineProperty(n,e,{get:function(){return t[e]},set:function(n){return t[e]=n,n}})}),n}catch(r){l([r])}for(var o in t)s.call(t,o)&&(n[o]=t[o]);return n}function l(n){try{t.emit(\"internal-error\",n)}catch(e){}}return t||(t=o),e.inPlace=f,e.flag=a,e}},{}],ee:[function(t,n,e){function r(){}function o(t){function n(t){return t&&t instanceof r?t:t?c(t,s,i):i()}function e(e,r,o,i){if(!l.aborted||i){t&&t(e,r,o);for(var a=n(o),s=m(e),c=s.length,f=0;f<c;f++)s[f].apply(a,r);var d=u[g[e]];return d&&d.push([x,e,r,a]),a}}function p(t,n){y[t]=m(t).concat(n)}function h(t,n){var e=y[t];if(e)for(var r=0;r<e.length;r++)e[r]===n&&e.splice(r,1)}function m(t){return y[t]||[]}function w(t){return d[t]=d[t]||o(e)}function v(t,n){f(t,function(t,e){n=n||\"feature\",g[e]=n,n in u||(u[n]=[])})}var y={},g={},x={on:p,addEventListener:p,removeEventListener:h,emit:e,get:w,listeners:m,context:n,buffer:v,abort:a,aborted:!1};return x}function i(){return new r}function a(){(u.api||u.feature)&&(l.aborted=!0,u=l.backlog={})}var s=\"nr@context\",c=t(\"gos\"),f=t(18),u={},d={},l=n.exports=o();l.backlog=u},{}],gos:[function(t,n,e){function r(t,n,e){if(o.call(t,n))return t[n];var r=e();if(Object.defineProperty&&Object.keys)try{return Object.defineProperty(t,n,{value:r,writable:!0,enumerable:!1}),r}catch(i){}return t[n]=r,r}var o=Object.prototype.hasOwnProperty;n.exports=r},{}],handle:[function(t,n,e){function r(t,n,e,r){o.buffer([t],r),o.emit(t,n,e)}var o=t(\"ee\").get(\"handle\");n.exports=r,r.ee=o},{}],id:[function(t,n,e){function r(t){var n=typeof t;return!t||\"object\"!==n&&\"function\"!==n?-1:t===window?0:a(t,i,function(){return o++})}var o=1,i=\"nr@id\",a=t(\"gos\");n.exports=r},{}],loader:[function(t,n,e){function r(){if(!E++){var t=b.info=NREUM.info,n=p.getElementsByTagName(\"script\")[0];if(setTimeout(u.abort,3e4),!(t&&t.licenseKey&&t.applicationID&&n))return u.abort();f(g,function(n,e){t[n]||(t[n]=e)}),c(\"mark\",[\"onload\",a()+b.offset],null,\"api\");var e=p.createElement(\"script\");e.src=\"https://\"+t.agent,n.parentNode.insertBefore(e,n)}}function o(){\"complete\"===p.readyState&&i()}function i(){c(\"mark\",[\"domContent\",a()+b.offset],null,\"api\")}function a(){return R.exists&&performance.now?Math.round(performance.now()):(s=Math.max((new Date).getTime(),s))-b.offset}var s=(new Date).getTime(),c=t(\"handle\"),f=t(18),u=t(\"ee\"),d=t(17),l=window,p=l.document,h=\"addEventListener\",m=\"attachEvent\",w=l.XMLHttpRequest,v=w&&w.prototype;NREUM.o={ST:setTimeout,SI:l.setImmediate,CT:clearTimeout,XHR:w,REQ:l.Request,EV:l.Event,PR:l.Promise,MO:l.MutationObserver};var y=\"\"+location,g={beacon:\"bam.nr-data.net\",errorBeacon:\"bam.nr-data.net\",agent:\"js-agent.newrelic.com/nr-1130.min.js\"},x=w&&v&&v[h]&&!/CriOS/.test(navigator.userAgent),b=n.exports={offset:s,now:a,origin:y,features:{},xhrWrappable:x,userAgent:d};t(13),p[h]?(p[h](\"DOMContentLoaded\",i,!1),l[h](\"load\",r,!1)):(p[m](\"onreadystatechange\",o),l[m](\"onload\",r)),c(\"mark\",[\"firstbyte\",s],null,\"api\");var E=0,R=t(20)},{}]},{},[\"loader\",2,11,4,3]);</script>\\n<meta name=\"csrf-param\" content=\"authenticity_token\" />\\n<meta name=\"csrf-token\" content=\"IaPH1qO7Skv+xQGovWhqc9HhhZ1KU4MJcluts5+sVa1qik303r/S6O0io5++srs+bjGIoPQy+OsUzN4ZEC53MQ==\" />\\n<title>Coding Bootcamps, Data Science, UX, Business | General Assembly</title>\\n<meta name=\"description\" content=\"Master new skills in design, marketing, technology, and data — online or at our campuses around the world.\" />\\n<link rel=\"canonical\" href=\"https://generalassemb.ly/\" />\\n<meta property=\"og:type\" content=\"website\" />\\n<meta property=\"og:title\" content=\"Coding Bootcamps, Data Science, UX, Business | General Assembly\" />\\n<meta property=\"og:description\" content=\"Master new skills in design, marketing, technology, and data — online or at our campuses around the world.\" />\\n<meta property=\"og:image\" content=\"https://ga-shop-production-herokuapp-com.global.ssl.fastly.net/assets/images/logo_1200_by_627_1QIVL.jpg\" />\\n<meta property=\"og:url\" content=\"https://generalassemb.ly/\" />\\n<meta name=\"twitter:card\" content=\"summary_large_image\" />\\n<meta name=\"twitter:site\" content=\"@ga\" />\\n<meta name=\"twitter:title\" content=\"Coding Bootcamps, Data Science, UX, Business | General Assembly\" />\\n<meta name=\"twitter:description\" content=\"Master new skills in design, marketing, technology, and data — online or at our campuses around the world.\" />\\n<meta name=\"twitter:image\" content=\"https://ga-shop-production-herokuapp-com.global.ssl.fastly.net/assets/images/logo_560_by_300_5ISWE.jpg\" />\\n<meta name=\"twitter:url\" content=\"https://generalassemb.ly/\" />\\n<link rel=\"shortcut icon\" type=\"image/x-icon\" href=\"https://ga-shop-production-herokuapp-com.global.ssl.fastly.net/assets/images/favicon_1gyC3.ico\" />\\n<link rel=\"apple-touch-icon\" type=\"image/png\" href=\"https://ga-shop-production-herokuapp-com.global.ssl.fastly.net/assets/images/apple-touch-icon_Zb6Ub.png\" />\\n<meta content=\\'apple-touch-icon.png\\' name=\\'msapplication-TileImage\\'>\\n\\n<script src=\\'//js.honeybadger.io/v0.4/honeybadger.min.js\\'></script>\\n<script>\\n  Honeybadger.configure({\\n    api_key: \"47424e93\",\\n    environment: \"production\"\\n  });\\n</script>\\n\\n<script>\\n  window.appConfig = {\\n    assetPath: \"https://ga-shop-production-herokuapp-com.global.ssl.fastly.net/assets/\",\\n    api: {\\n      canspam: \"https://generalassemb.ly/canspam?token=3f7f65e55120421a\",\\n      marketingWebhooks: \"https://generalassemb.ly/prospects\",\\n      coreLeadsV2: \"/api/v2/leads.json\",\\n      coreAttendeesV2: \"/api/v2/attendees.json\"\\n    },\\n    optimizelyModalTestId: 8245558564\\n  }\\n</script>\\n\\n<script async src=\\'//cdn.optimizely.com/js/392850087.js\\'></script>\\n<script>\\n  OPTIMIZELY_USER_ID = \\'ae65f974-ee6d-4a33-8db1-09db38c40377\\';\\n  OPTIMIZELY_DATA = null;\\n</script>\\n\\n<meta content=\\'7dc9da01bd1d54afbb191ba94edbba29\\' name=\\'p:domain_verify\\'>\\n\\n\\n<script type=\\'application/ld+json\\'>\\n{\\n  \"@context\": \"http://schema.org\",\\n  \"@type\": \"WebSite\",\\n  \"url\": \"https://generalassemb.ly\",\\n  \"name\": \"General Assembly\",\\n  \"alternateName\": \"generalassemb.ly\"\\n}\\n</script>\\n\\n<script src=\"https://ga-shop-production-herokuapp-com.global.ssl.fastly.net/assets/modernizr.min-46b4b51566755a51e64b9956c0d6d4585a825fe11bab1cafa9f0551d3b8c742e.js\"></script>\\n\\n<!--[if lte IE 8]><link rel=\"stylesheet\" media=\"screen\" href=\"https://ga-shop-production-herokuapp-com.global.ssl.fastly.net/assets/legacy-ie-165ea3df97f11d03b58ae2e199961b740b69d8b525a576d2fca98a12b8806672.css\" /><![endif]-->\\n<!--[if gt IE 8]><!--><link rel=\"stylesheet\" media=\"screen\" href=\"https://ga-shop-production-herokuapp-com.global.ssl.fastly.net/assets/application-c02dd150054e5b3508748b3bdc31fd8e35455491a906ee62e968082e9c064c0e.css\" /><!--<![endif]-->\\n\\n<link rel=\"stylesheet\" media=\"screen\" href=\"https://ga-navi-production-herokuapp-com.global.ssl.fastly.net/assets/application-75ae4d3bb840739594b5edfe83a39656a2f488c2772505ae9eb0564eedf6f42a.css\" />\\n</head>\\n<body>\\n<script>\\n  var gtmAttributes = {\\n    \\'userId\\': \\'\\',\\n    \\'metroId\\': \\'1\\',\\n    \\'metroSlug\\': \\'new-york-city\\',\\n    \\'programId\\': \\'\\',\\n    \\'programAbbr\\': \\'\\',\\n    \\'programName\\': \\'\\',\\n    \\'programFormat\\': \\'\\',\\n    \\'instanceId\\': \\'\\',\\n    \\'instanceType\\': \\'\\',\\n    \\'VISITOR_COOKIE_NAME\\': \\'\\',\\n  \\n    \\'GOOGLE_ANALYTICS_ID\\': \\'UA-18018358-1\\',\\n    \\'DEACTIVATE_GOOGLE_ANALYTICS\\': false,\\n  \\n    \\'HOTJAR_SITE_ID\\': \\'55734\\',\\n  \\n    \\'KISSMETRICS_KEY\\': \\'f543fde6e50e7692c56bc84f0cdbee0d1b2384ad\\',\\n  \\n    \\'SAILTHRU_CUSTOMER_ID\\': \\'d617256082f7c492f37283fe0f25c6e8\\',\\n  \\n    \\'SNOWPLOW_APPLICATION\\': \\'WebSiteOld\\',\\n    \\'SNOWPLOW_COLLECTOR_URL\\': \\'sp.generalassemb.ly\\',\\n    \\'SNOWPLOW_DISABLE_FORM_TRACKING\\': \\'false\\',\\n    \\'SNOWPLOW_DISABLE_ERROR_TRACKING\\': \\'true\\'\\n  }\\n  \\n  if (window.dataLayer) {\\n    window.dataLayer.push(gtmAttributes)\\n  } else {\\n    window.dataLayer = [gtmAttributes]\\n  }\\n</script>\\n<!-- Google Tag Manager -->\\n<noscript><iframe src=\"//www.googletagmanager.com/ns.html?id=GTM-NJGJ5C\"\\nheight=\"0\" width=\"0\" style=\"display:none;visibility:hidden\"></iframe></noscript>\\n<script>(function(w,d,s,l,i){w[l]=w[l]||[];w[l].push({\\'gtm.start\\':\\nnew Date().getTime(),event:\\'gtm.js\\'});var f=d.getElementsByTagName(s)[0],\\nj=d.createElement(s),dl=l!=\\'dataLayer\\'?\\'&l=\\'+l:\\'\\';j.async=true;j.src=\\n\\'//www.googletagmanager.com/gtm.js?id=\\'+i+dl;f.parentNode.insertBefore(j,f);\\n})(window,document,\\'script\\',\\'dataLayer\\',\\'GTM-NJGJ5C\\');</script>\\n<!-- End Google Tag Manager -->\\n\\n<!--[if lt IE 9]><p class=\\'old-browser-warning\\'>\\nWARNING: You are using an <strong>outdated</strong> browser. Please\\n<a href=\\'http://browsehappy.com\\' target=\\'_blank\\' title=\\'Upgrade your browser\\'>upgrade your browser</a>\\nto improve your experience.\\n</p><![endif]-->\\n\\n<a class=\\'skipnav\\' data-skipnav href=\\'#main\\'>Skip to main content</a>\\n<script src=\"//s3.amazonaws.com/static-assets.generalassemb.ly/cookie-consent/current/cookie-consent.js\"></script>\\n<script>\\n  if (!window.cookieConsent) {\\n    window.cookieConsent = new CookieConsent()\\n    window.cookieConsent.initBrowser()\\n  }\\n</script>\\n\\n<script>\\n  window._GA_announcements_enabled = false\\n  window._GA_announcements_items = []\\n  window._GA_announcements_exclusions = []\\n</script>\\n\\n<nav class=\\'navi\\' data-navi>\\n<div class=\\'navi_announcements\\'></div>\\n<div class=\\'navi_banner-container\\'>\\n<div class=\\'navi_banner\\'>\\n<a class=\"navi_banner_logo\" href=\"https://generalassemb.ly\">General Assembly</a>\\n<a id=\"hamburger\" class=\"navi_banner_menu_toggle\" href=\"https://generalassemb.ly\">Toggle Menu</a>\\n</div>\\n<ul class=\\'navi_menu\\'>\\n<li class=\\'navi_menu_item js-item-dropdown on-campus\\'>\\n<a class=\"navi_menu_item_link -has-dropdown\" data-analytics-event=\"oncampus\" href=\"https://generalassemb.ly/education\">On Campus</a>\\n<div class=\\'navi_menu_dropdown\\'>\\n<div class=\\'navi_menu_col-4\\'>\\n<ul class=\\'navi_menu_dropdown\\'>\\n<li class=\\'navi_menu_dropdown_item\\'>\\n<a class=\"navi_menu_dropdown_heading -has-nested-dropdown\" href=\"https://generalassemb.ly/education?format=immersives\">Full-Time Courses</a>\\n<ul class=\\'navi_menu_dropdown_nested-dropdown\\'>\\n<li>\\n<a class=\"navi_menu_dropdown_link\" href=\"https://generalassemb.ly/education/software-engineering-immersive\">Software Engineering Immersive</a>\\n</li>\\n<li>\\n<a class=\"navi_menu_dropdown_link\" href=\"https://generalassemb.ly/education/user-experience-design-immersive\">User Experience Design Immersive</a>\\n</li>\\n<li>\\n<a class=\"navi_menu_dropdown_link\" href=\"https://generalassemb.ly/education/data-science-immersive\">Data Science Immersive</a>\\n</li>\\n<li>\\n<a class=\"navi_menu_dropdown_link\" href=\"https://generalassemb.ly/education/digital-marketing-immersive\">Digital Marketing Immersive</a>\\n</li>\\n</ul>\\n</li>\\n</ul>\\n</div>\\n<div class=\\'navi_menu_col-4\\'>\\n<ul class=\\'navi_menu_dropdown\\'>\\n<li class=\\'navi_menu_dropdown_item\\'>\\n<a class=\"navi_menu_dropdown_heading -has-nested-dropdown\" href=\"https://generalassemb.ly/education?format=courses\">Part-Time Courses</a>\\n<ul class=\\'navi_menu_dropdown_nested-dropdown\\'>\\n<li>\\n<a class=\"navi_menu_dropdown_link\" href=\"https://generalassemb.ly/education/python-programming\">Python Programming</a>\\n</li>\\n<li>\\n<a class=\"navi_menu_dropdown_link\" href=\"https://generalassemb.ly/education/user-experience-design\">User Experience Design</a>\\n</li>\\n<li>\\n<a class=\"navi_menu_dropdown_link\" href=\"https://generalassemb.ly/education/data-analytics\">Data Analytics</a>\\n</li>\\n<li>\\n<a class=\"navi_menu_dropdown_link\" href=\"https://generalassemb.ly/education/digital-marketing\">Digital Marketing</a>\\n</li>\\n<li>\\n<a class=\"navi_menu_dropdown_link\" href=\"https://generalassemb.ly/education/data-science\">Data Science</a>\\n</li>\\n<li>\\n<a class=\"navi_menu_dropdown_link\" href=\"https://generalassemb.ly/education/product-management\">Product Management</a>\\n</li>\\n<li>\\n<a class=\"navi_menu_dropdown_link\" href=\"https://generalassemb.ly/education/visual-design\">Visual Design</a>\\n</li>\\n<li>\\n<a class=\"navi_menu_dropdown_link\" href=\"https://generalassemb.ly/education/front-end-web-development\">Front-End Web Development</a>\\n</li>\\n<li>\\n<a class=\"navi_menu_dropdown_link\" href=\"https://generalassemb.ly/education/javascript-development\">JavaScript Development</a>\\n</li>\\n<li>\\n<a class=\"navi_menu_dropdown_link\" href=\"https://generalassemb.ly/education/react-development\">React Development</a>\\n</li>\\n</ul>\\n</li>\\n</ul>\\n</div>\\n<div class=\\'navi_menu_col-4\\'>\\n<ul class=\\'navi_menu_dropdown\\'>\\n<li class=\\'navi_menu_dropdown_item\\'>\\n<a class=\"navi_menu_dropdown_heading -has-nested-dropdown\" href=\"https://generalassemb.ly/education?format=classes-workshops\">Classes &amp; Workshops</a>\\n<ul class=\\'navi_menu_dropdown_nested-dropdown\\'>\\n<li>\\n<a class=\"navi_menu_dropdown_link\" href=\"https://generalassemb.ly/education?format=classes-workshops\">View All Upcoming</a>\\n</li>\\n</ul>\\n</li>\\n<li class=\\'navi_menu_dropdown_item\\'>\\n<a class=\"navi_menu_dropdown_heading -has-nested-dropdown\" href=\"https://generalassemb.ly/education?format=events\">Events</a>\\n<ul class=\\'navi_menu_dropdown_nested-dropdown\\'>\\n<li>\\n<a class=\"navi_menu_dropdown_link\" href=\"https://generalassemb.ly/education?format=events\">View All Upcoming</a>\\n</li>\\n</ul>\\n</li>\\n</ul>\\n</div>\\n</div>\\n</li>\\n<li class=\\'navi_menu_item js-item-dropdown online\\'>\\n<a class=\"navi_menu_item_link -has-dropdown\" data-analytics-event=\"online\" href=\"https://generalassemb.ly/education?where=online\">Online</a>\\n<div class=\\'navi_menu_dropdown\\'>\\n<div class=\\'navi_menu_col-6\\'>\\n<ul class=\\'navi_menu_dropdown\\'>\\n<li class=\\'navi_menu_dropdown_item\\'>\\n<a class=\"navi_menu_dropdown_heading -has-nested-dropdown\" href=\"https://generalassemb.ly/education?where=online#full-time\">Full-Time Courses</a>\\n<ul class=\\'navi_menu_dropdown_nested-dropdown\\'>\\n<li>\\n<a class=\"navi_menu_dropdown_link\" href=\"https://generalassemb.ly/education/software-engineering-immersive-remote\">Software Engineering Immersive Remote</a>\\n</li>\\n</ul>\\n</li>\\n<li class=\\'navi_menu_dropdown_item\\'>\\n<a class=\"navi_menu_dropdown_heading -has-nested-dropdown\" href=\"https://generalassemb.ly/education?format=courses\">Part-Time Courses</a>\\n<ul class=\\'navi_menu_dropdown_nested-dropdown\\'>\\n<li>\\n<a class=\"navi_menu_dropdown_link\" href=\"https://generalassemb.ly/education/software-engineering-immersive-remote-flex\">Software Engineering Immersive (Flex)</a>\\n</li>\\n<li>\\n<a class=\"navi_menu_dropdown_link\" href=\"https://generalassemb.ly/education/python-programming?where=online\">Python Programming</a>\\n</li>\\n<li>\\n<a class=\"navi_menu_dropdown_link\" href=\"https://generalassemb.ly/education/user-experience-design?where=online\">User Experience Design</a>\\n</li>\\n<li>\\n<a class=\"navi_menu_dropdown_link\" href=\"https://generalassemb.ly/education/data-analytics?where=online\">Data Analytics</a>\\n</li>\\n<li>\\n<a class=\"navi_menu_dropdown_link\" href=\"https://generalassemb.ly/education/digital-marketing?where=online\">Digital Marketing</a>\\n</li>\\n<li>\\n<a class=\"navi_menu_dropdown_link\" href=\"https://generalassemb.ly/education/data-science?where=online\">Data Science</a>\\n</li>\\n<li>\\n<a class=\"navi_menu_dropdown_link\" href=\"https://generalassemb.ly/education/product-management?where=online\">Product Management</a>\\n</li>\\n<li>\\n<a class=\"navi_menu_dropdown_link\" href=\"https://generalassemb.ly/education/visual-design?where=online\">Visual Design</a>\\n</li>\\n<li>\\n<a class=\"navi_menu_dropdown_link\" href=\"https://generalassemb.ly/education/front-end-web-development?where=online\">Front-End Web Development</a>\\n</li>\\n<li>\\n<a class=\"navi_menu_dropdown_link\" href=\"https://generalassemb.ly/education/javascript-development?where=online\">JavaScript Development</a>\\n</li>\\n<li>\\n<a class=\"navi_menu_dropdown_link\" href=\"https://generalassemb.ly/education/react-development?where=online\">React Development</a>\\n</li>\\n</ul>\\n</li>\\n</ul>\\n</div>\\n<div class=\\'navi_menu_col-6\\'>\\n<ul class=\\'navi_menu_dropdown\\'>\\n<li class=\\'navi_menu_dropdown_item\\'>\\n<a class=\"navi_menu_dropdown_heading -has-nested-dropdown\" href=\"https://generalassemb.ly/education?where=online#part-time\">On Demand Learning Paths</a>\\n<ul class=\\'navi_menu_dropdown_nested-dropdown\\'>\\n<li>\\n<a class=\"navi_menu_dropdown_link\" href=\"https://generalassemb.ly/education/learn-data-analysis-online\">Data Analysis</a>\\n</li>\\n<li>\\n<a class=\"navi_menu_dropdown_link\" href=\"https://generalassemb.ly/education/learn-user-experience-design-online\">User Experience Design</a>\\n</li>\\n<li>\\n<a class=\"navi_menu_dropdown_link\" href=\"https://generalassemb.ly/education/learn-html-css-web-design-online\">HTML, CSS &amp; Web Design</a>\\n</li>\\n<li>\\n<a class=\"navi_menu_dropdown_link\" href=\"https://generalassemb.ly/education/learn-digital-marketing-online\">Digital Marketing</a>\\n</li>\\n<li>\\n<a class=\"navi_menu_dropdown_link\" href=\"https://generalassemb.ly/education/learn-javascript-online\">JavaScript Development</a>\\n</li>\\n</ul>\\n</li>\\n<li class=\\'navi_menu_dropdown_item\\'>\\n<a class=\"navi_menu_dropdown_heading -has-nested-dropdown\" href=\"https://generalassemb.ly/education?where=online#catalog-results\">Short-Form Offerings</a>\\n<ul class=\\'navi_menu_dropdown_nested-dropdown\\'>\\n<li>\\n<a class=\"navi_menu_dropdown_link\" href=\"https://generalassemb.ly/education?where=online#catalog-results\">Classes &amp; Workshops</a>\\n</li>\\n<li>\\n<a class=\"navi_menu_dropdown_link\" href=\"https://dash.generalassemb.ly\">Free - Learn to Code</a>\\n</li>\\n</ul>\\n</li>\\n</ul>\\n</div>\\n</div>\\n</li>\\n<li class=\\'navi_menu_item js-item-dropdown topics\\'>\\n<a class=\"navi_menu_item_link -has-dropdown\" data-analytics-event=\"topics\" href=\"https://generalassemb.ly/browse\">Topics</a>\\n<div class=\\'navi_menu_dropdown\\'>\\n<div class=\\'navi_menu_col-6\\'>\\n<ul class=\\'navi_menu_dropdown\\'>\\n<li class=\\'navi_menu_dropdown_item\\'>\\n<a class=\"navi_menu_dropdown_heading -has-nested-dropdown\" href=\"https://generalassemb.ly/coding\">Coding</a>\\n<ul class=\\'navi_menu_dropdown_nested-dropdown\\'>\\n<li>\\n<a class=\"navi_menu_dropdown_link\" href=\"https://generalassemb.ly/coding/front-end-web-development\">Front-End Web Development</a>\\n</li>\\n<li>\\n<a class=\"navi_menu_dropdown_link\" href=\"https://generalassemb.ly/coding/full-stack-web-development\">Full-Stack Web Development</a>\\n</li>\\n<li>\\n<a class=\"navi_menu_dropdown_link\" href=\"https://generalassemb.ly/coding/ios-and-android-development\">iOS &amp; Android Development</a>\\n</li>\\n</ul>\\n</li>\\n<li class=\\'navi_menu_dropdown_item\\'>\\n<a class=\"navi_menu_dropdown_heading -has-nested-dropdown\" href=\"https://generalassemb.ly/design\">Design</a>\\n<ul class=\\'navi_menu_dropdown_nested-dropdown\\'>\\n<li>\\n<a class=\"navi_menu_dropdown_link\" href=\"https://generalassemb.ly/design/user-experience-design\">User Experience Design</a>\\n</li>\\n<li>\\n<a class=\"navi_menu_dropdown_link\" href=\"https://generalassemb.ly/design/visual-design\">Visual Design</a>\\n</li>\\n</ul>\\n</li>\\n<li class=\\'navi_menu_dropdown_item\\'>\\n<a class=\"navi_menu_dropdown_heading -has-nested-dropdown\" href=\"https://generalassemb.ly/data\">Data</a>\\n<ul class=\\'navi_menu_dropdown_nested-dropdown\\'>\\n<li>\\n<a class=\"navi_menu_dropdown_link\" href=\"https://generalassemb.ly/data/data-science\">Data Science</a>\\n</li>\\n<li>\\n<a class=\"navi_menu_dropdown_link\" href=\"https://generalassemb.ly/data/data-analysis\">Data Analysis</a>\\n</li>\\n</ul>\\n</li>\\n</ul>\\n</div>\\n<div class=\\'navi_menu_col-6\\'>\\n<ul class=\\'navi_menu_dropdown\\'>\\n<li class=\\'navi_menu_dropdown_item\\'>\\n<a class=\"navi_menu_dropdown_heading -has-nested-dropdown\" href=\"https://generalassemb.ly/marketing\">Marketing</a>\\n<ul class=\\'navi_menu_dropdown_nested-dropdown\\'>\\n<li>\\n<a class=\"navi_menu_dropdown_link\" href=\"https://generalassemb.ly/marketing/digital-marketing\">Digital Marketing</a>\\n</li>\\n</ul>\\n</li>\\n<li class=\\'navi_menu_dropdown_item\\'>\\n<a class=\"navi_menu_dropdown_heading -has-nested-dropdown\" href=\"https://generalassemb.ly/business\">Business</a>\\n<ul class=\\'navi_menu_dropdown_nested-dropdown\\'>\\n<li>\\n<a class=\"navi_menu_dropdown_link\" href=\"https://generalassemb.ly/business/product-management\">Product Management</a>\\n</li>\\n<li>\\n<a class=\"navi_menu_dropdown_link\" href=\"https://generalassemb.ly/business/startups-entrepreneurship\">Startups &amp; Entrepreneurship</a>\\n</li>\\n</ul>\\n</li>\\n<li class=\\'navi_menu_dropdown_item\\'>\\n<a class=\"navi_menu_dropdown_heading -has-nested-dropdown\" href=\"https://generalassemb.ly/career-development\">Career Development</a>\\n<ul class=\\'navi_menu_dropdown_nested-dropdown\\'>\\n<li>\\n<a class=\"navi_menu_dropdown_link\" href=\"https://generalassemb.ly/career-development/professional-skills\">Professional Skills</a>\\n</li>\\n</ul>\\n</li>\\n</ul>\\n</div>\\n</div>\\n</li>\\n<li class=\\'navi_menu_item js-item-dropdown locations\\'>\\n<a class=\"navi_menu_item_link -has-dropdown\" data-analytics-event=\"locations\" href=\"https://generalassemb.ly/locations\">Locations</a>\\n<div class=\\'navi_menu_dropdown\\'>\\n<div class=\\'navi_menu_col-7\\'>\\n<ul class=\\'navi_menu_dropdown\\'>\\n<li class=\\'navi_menu_dropdown_item\\'>\\n<a class=\"navi_menu_dropdown_heading -has-nested-dropdown\" href=\"https://generalassemb.ly/locations#north-america\">North America</a>\\n<div class=\\'navi_menu_col-4 north_america_col\\'>\\n<ul class=\\'navi_menu_dropdown_nested-dropdown\\'>\\n<li>\\n<a class=\"navi_menu_dropdown_link\" href=\"https://generalassemb.ly/locations/atlanta\">Atlanta</a>\\n</li>\\n<li>\\n<a class=\"navi_menu_dropdown_link\" href=\"https://generalassemb.ly/locations/austin\">Austin</a>\\n</li>\\n<li>\\n<a class=\"navi_menu_dropdown_link\" href=\"https://generalassemb.ly/locations/boston\">Boston</a>\\n</li>\\n<li>\\n<a class=\"navi_menu_dropdown_link\" href=\"https://generalassemb.ly/locations/chicago\">Chicago</a>\\n</li>\\n<li>\\n<a class=\"navi_menu_dropdown_link\" href=\"https://generalassemb.ly/locations/dallas\">Dallas</a>\\n</li>\\n<li>\\n<a class=\"navi_menu_dropdown_link\" href=\"https://generalassemb.ly/locations/denver\">Denver</a>\\n</li>\\n</ul>\\n</div>\\n<div class=\\'navi_menu_col-4 north_america_col\\'>\\n<ul class=\\'navi_menu_dropdown_nested-dropdown\\'>\\n<li>\\n<a class=\"navi_menu_dropdown_link\" href=\"https://generalassemb.ly/locations/houston\">Houston</a>\\n</li>\\n<li>\\n<a class=\"navi_menu_dropdown_link\" href=\"https://generalassemb.ly/locations/los-angeles\">Los Angeles</a>\\n</li>\\n<li>\\n<a class=\"navi_menu_dropdown_link\" href=\"https://generalassemb.ly/locations/new-york-city\">New York City</a>\\n</li>\\n<li>\\n<a class=\"navi_menu_dropdown_link\" href=\"https://generalassemb.ly/locations/orlando\">Orlando</a>\\n</li>\\n<li>\\n<a class=\"navi_menu_dropdown_link\" href=\"https://generalassemb.ly/locations/phoenix\">Phoenix</a>\\n</li>\\n<li>\\n<a class=\"navi_menu_dropdown_link\" href=\"https://generalassemb.ly/locations/providence\">Providence</a>\\n</li>\\n</ul>\\n</div>\\n<div class=\\'navi_menu_col-4 north_america_col\\'>\\n<ul class=\\'navi_menu_dropdown_nested-dropdown\\'>\\n<li>\\n<a class=\"navi_menu_dropdown_link\" href=\"https://generalassemb.ly/locations/san-diego\">San Diego</a>\\n</li>\\n<li>\\n<a class=\"navi_menu_dropdown_link\" href=\"https://generalassemb.ly/locations/san-francisco\">San Francisco</a>\\n</li>\\n<li>\\n<a class=\"navi_menu_dropdown_link\" href=\"https://generalassemb.ly/locations/seattle\">Seattle</a>\\n</li>\\n<li>\\n<a class=\"navi_menu_dropdown_link\" href=\"https://generalassemb.ly/locations/stamford\">Stamford</a>\\n</li>\\n<li>\\n<a class=\"navi_menu_dropdown_link\" href=\"https://generalassemb.ly/locations/toronto\">Toronto</a>\\n</li>\\n<li>\\n<a class=\"navi_menu_dropdown_link\" href=\"https://generalassemb.ly/locations/washington-dc\">Washington D.C.</a>\\n</li>\\n</ul>\\n</div>\\n</li>\\n</ul>\\n</div>\\n<div class=\\'navi_menu_col-5\\'>\\n<div class=\\'navi_menu_col-4\\'>\\n<ul class=\\'navi_menu_dropdown\\'>\\n<li class=\\'navi_menu_dropdown_item\\'>\\n<a class=\"navi_menu_dropdown_heading -has-nested-dropdown\" href=\"https://generalassemb.ly/locations#europe\">Europe</a>\\n<ul class=\\'navi_menu_dropdown_nested-dropdown -padding-bottom\\'>\\n<li>\\n<a class=\"navi_menu_dropdown_link\" href=\"https://generalassemb.ly/locations/london\">London</a>\\n</li>\\n<li>\\n<a class=\"navi_menu_dropdown_link\" href=\"https://generalassemb.ly/locations/paris\">Paris</a>\\n</li>\\n</ul>\\n</li>\\n</ul>\\n</div>\\n<div class=\\'navi_menu_col-4\\'>\\n<ul class=\\'navi_menu_dropdown\\'>\\n<li class=\\'navi_menu_dropdown_item\\'>\\n<a class=\"navi_menu_dropdown_heading -has-nested-dropdown\" href=\"https://generalassemb.ly/locations#asia\">Asia</a>\\n<ul class=\\'navi_menu_dropdown_nested-dropdown -padding-bottom\\'>\\n<li>\\n<a class=\"navi_menu_dropdown_link\" href=\"https://generalassemb.ly/locations/singapore\">Singapore</a>\\n</li>\\n</ul>\\n</li>\\n</ul>\\n</div>\\n<div class=\\'navi_menu_col-4\\'>\\n<ul class=\\'navi_menu_dropdown\\'>\\n<li class=\\'navi_menu_dropdown_item\\'>\\n<a class=\"navi_menu_dropdown_heading -has-nested-dropdown\" href=\"https://generalassemb.ly/locations#australia\">Australia</a>\\n<ul class=\\'navi_menu_dropdown_nested-dropdown -padding-bottom\\'>\\n<li>\\n<a class=\"navi_menu_dropdown_link\" href=\"https://generalassemb.ly/locations/melbourne\">Melbourne</a>\\n</li>\\n<li>\\n<a class=\"navi_menu_dropdown_link\" href=\"https://generalassemb.ly/locations/sydney\">Sydney</a>\\n</li>\\n</ul>\\n</li>\\n</ul>\\n</div>\\n</div>\\n</div>\\n</li>\\n<li class=\\'navi_menu_item js-item-dropdown companies\\'>\\n<a class=\"navi_menu_item_link -has-dropdown\" data-analytics-event=\"forcompanies\" href=\"https://generalassemb.ly/corporate-digital-training\">For Companies</a>\\n<div class=\\'navi_menu_dropdown\\'>\\n<div class=\\'navi_menu_col-6\\'>\\n<ul class=\\'navi_menu_dropdown\\'>\\n<li class=\\'navi_menu_dropdown_item\\'>\\n<a class=\"navi_menu_dropdown_heading -has-nested-dropdown\" href=\"https://generalassemb.ly/corporate-digital-training\">Business Solutions</a>\\n<ul class=\\'navi_menu_dropdown_nested-dropdown\\'>\\n<li>\\n<a class=\"navi_menu_dropdown_link\" href=\"https://generalassemb.ly/corporate-digital-training/talent-acquisition\">Acquire Talent</a>\\n</li>\\n<li>\\n<a class=\"navi_menu_dropdown_link\" href=\"https://generalassemb.ly/corporate-digital-training/onboarding-process\">Onboard Talent</a>\\n</li>\\n<li>\\n<a class=\"navi_menu_dropdown_link\" href=\"https://generalassemb.ly/corporate-digital-training/upskill-training\">Upskill Talent</a>\\n</li>\\n<li>\\n<a class=\"navi_menu_dropdown_link\" href=\"https://generalassemb.ly/corporate-digital-training/talent-assessment\">Benchmark Talent</a>\\n</li>\\n<li>\\n<a class=\"navi_menu_dropdown_link\" href=\"https://generalassemb.ly/corporate-digital-training/reskilling\">Reskill Talent</a>\\n</li>\\n<li>\\n<a class=\"navi_menu_dropdown_link\" href=\"https://generalassemb.ly/corporate-digital-training/request-more-information\">Contact Us</a>\\n</li>\\n</ul>\\n</li>\\n</ul>\\n</div>\\n<div class=\\'navi_menu_col-6\\'>\\n<ul class=\\'navi_menu_dropdown\\'>\\n<li class=\\'navi_menu_dropdown_item\\'>\\n<a class=\"navi_menu_dropdown_heading -has-nested-dropdown\" href=\"https://generalassemb.ly/demand-learning-path-hub\">Online Learning</a>\\n<ul class=\\'navi_menu_dropdown_nested-dropdown\\'>\\n<li>\\n<a class=\"navi_menu_dropdown_link\" href=\"https://generalassemb.ly/corporate-digital-training/digital-marketing\">Digital Marketing</a>\\n</li>\\n<li>\\n<a class=\"navi_menu_dropdown_link\" href=\"https://generalassemb.ly/corporate-digital-training/data-analysis\">Data Analysis</a>\\n</li>\\n<li>\\n<a class=\"navi_menu_dropdown_link\" href=\"https://generalassemb.ly/corporate-digital-training/ux-design\">User Experience Design</a>\\n</li>\\n<li>\\n<a class=\"navi_menu_dropdown_link\" href=\"https://generalassemb.ly/corporate-digital-training/digital-foundations\">Digital Foundations</a>\\n</li>\\n</ul>\\n</li>\\n</ul>\\n</div>\\n</div>\\n</li>\\n<li class=\\'navi_menu_item js-item-dropdown about\\'>\\n<a class=\"navi_menu_item_link -has-dropdown\" data-analytics-event=\"about\" href=\"https://generalassemb.ly/why-ga-is-worth-it\">About</a>\\n<div class=\\'navi_menu_dropdown\\'>\\n<ul class=\\'navi_menu_dropdown\\'>\\n<li class=\\'navi_menu_dropdown_item\\'>\\n<a class=\"navi_menu_dropdown_link -with-border\" href=\"https://generalassemb.ly/why-ga-is-worth-it\">Why GA?</a>\\n</li>\\n<li class=\\'navi_menu_dropdown_item\\'>\\n<a class=\"navi_menu_dropdown_link -with-border\" href=\"https://generalassemb.ly/about\">Our Story</a>\\n</li>\\n<li class=\\'navi_menu_dropdown_item\\'>\\n<a class=\"navi_menu_dropdown_link -with-border\" href=\"https://generalassemb.ly/how-we-work/social-impact\">Our Impact</a>\\n</li>\\n<li class=\\'navi_menu_dropdown_item\\'>\\n<a class=\"navi_menu_dropdown_link -with-border\" href=\"https://theindex.generalassemb.ly\">Blog</a>\\n</li>\\n</ul>\\n</div>\\n</li>\\n<li class=\\'navi_menu_item highlight\\'>\\n<a class=\"navi_menu_item_link\" data-analytics-event=\"find-your-course\" href=\"https://generalassemb.ly/findyourcourse\">Find Your Course</a>\\n</li>\\n<li class=\\'navi_menu_item -account js-item-dropdown\\'>\\n<a class=\"navi_menu_item_link -no-dropdown\" data-analytics-event=\"account\" href=\"https://generalassemb.ly/shop/auth/generalassembly\">Sign In</a>\\n\\n</li>\\n</ul>\\n</div>\\n</nav>\\n\\n<div id=\\'main\\' role=\\'main\\'>\\n\\n<div id=\"js-react-on-rails-context\" style=\"display:none\" data-rails-context=\"{&quot;inMailer&quot;:false,&quot;i18nLocale&quot;:&quot;en&quot;,&quot;i18nDefaultLocale&quot;:&quot;en&quot;,&quot;href&quot;:&quot;https://generalassemb.ly/&quot;,&quot;location&quot;:&quot;/&quot;,&quot;scheme&quot;:&quot;https&quot;,&quot;host&quot;:&quot;generalassemb.ly&quot;,&quot;port&quot;:null,&quot;pathname&quot;:&quot;/&quot;,&quot;search&quot;:null,&quot;httpAcceptLanguage&quot;:null,&quot;serverSide&quot;:false}\"></div>\\n<div class=\"js-react-on-rails-component\" style=\"display:none\" data-component-name=\"Home\" data-props=\"{&quot;cms_components&quot;:{&quot;facts&quot;:{&quot;component_id&quot;:4,&quot;component_name&quot;:&quot;facts&quot;,&quot;title&quot;:&quot;Our Global Community&quot;,&quot;facts&quot;:[{&quot;link&quot;:&quot;https://generalassemb.ly/locations&quot;,&quot;label&quot;:&quot;Campuses Worldwide&quot;,&quot;number&quot;:&quot;20&quot;},{&quot;link&quot;:&quot;https://generalassemb.ly/alumni&quot;,&quot;label&quot;:&quot;Full- \\\\u0026 Part-Time Alumni&quot;,&quot;number&quot;:&quot;40,000&quot;},{&quot;link&quot;:&quot;https://generalassemb.ly/teach-at-ga&quot;,&quot;label&quot;:&quot;Expert Instructors&quot;,&quot;number&quot;:&quot;250+&quot;},{&quot;link&quot;:&quot;https://generalassemb.ly/talent&quot;,&quot;label&quot;:&quot;Hiring Partners&quot;,&quot;number&quot;:&quot;10,000+&quot;},{&quot;link&quot;:&quot;&quot;,&quot;label&quot;:&quot;&quot;,&quot;number&quot;:&quot;&quot;}],&quot;cta&quot;:{&quot;copy&quot;:&quot;&quot;,&quot;link&quot;:&quot;&quot;},&quot;analytics_metro&quot;:&quot;new-york-city&quot;,&quot;metadata&quot;:{&quot;page_name&quot;:&quot;home&quot;,&quot;page_variation_name&quot;:&quot;default&quot;,&quot;page_version_id&quot;:61}},&quot;featured_links&quot;:{&quot;component_id&quot;:3,&quot;component_name&quot;:&quot;featured_links&quot;,&quot;title&quot;:&quot;A Path to Success&quot;,&quot;anchor_text_one&quot;:&quot;Get funded: Your employer may pay for your course. Learn how.&quot;,&quot;link_one&quot;:&quot;https://generalassemb.ly/employer-sponsorship&quot;,&quot;anchor_text_two&quot;:&quot;Job placement: Read our third-party verified outcomes report.&quot;,&quot;link_two&quot;:&quot;https://generalassemb.ly/blog/general-assemblys-first-student-outcomes-report/&quot;,&quot;analytics_metro&quot;:&quot;new-york-city&quot;,&quot;metadata&quot;:{&quot;page_name&quot;:&quot;home&quot;,&quot;page_variation_name&quot;:&quot;default&quot;,&quot;page_version_id&quot;:61}},&quot;masthead&quot;:{&quot;component_id&quot;:3,&quot;component_name&quot;:&quot;masthead&quot;,&quot;title&quot;:&quot;Pursue a Career You Love&quot;,&quot;subtitle&quot;:&quot;Explore innovative courses in design, marketing, technology, and data — online and on campuses worldwide.&quot;,&quot;cta_copy&quot;:&quot;Browse Courses&quot;,&quot;cta_link&quot;:&quot;/browse&quot;,&quot;image_url&quot;:&quot;https://ga-shop.s3.amazonaws.com/production/store/masthead/3/image/standard-f3fe18d50a.jpg&quot;,&quot;analytics_metro&quot;:&quot;new-york-city&quot;,&quot;metadata&quot;:{&quot;page_name&quot;:&quot;home&quot;,&quot;page_variation_name&quot;:&quot;default&quot;,&quot;page_version_id&quot;:61}},&quot;spotlight_one&quot;:{&quot;component_id&quot;:20,&quot;component_name&quot;:&quot;spotlight&quot;,&quot;title&quot;:&quot;Why General Assembly? &quot;,&quot;subtitle&quot;:&quot;Discover what a GA education could do for your career.&quot;,&quot;link&quot;:&quot;https://generalassemb.ly/why-ga-is-worth-it&quot;,&quot;image_url&quot;:&quot;https://ga-shop.s3.amazonaws.com/production/store/spotlight/20/image/standard-48caa92a3dc5c5f4eac51a95ce186fe3.jpg&quot;,&quot;analytics_metro&quot;:&quot;new-york-city&quot;,&quot;metadata&quot;:{&quot;page_name&quot;:&quot;home&quot;,&quot;page_variation_name&quot;:&quot;default&quot;,&quot;page_version_id&quot;:61}},&quot;spotlight_two&quot;:{&quot;component_id&quot;:21,&quot;component_name&quot;:&quot;spotlight&quot;,&quot;title&quot;:&quot;How to Get a Job at a Startup&quot;,&quot;subtitle&quot;:&quot;Why startups are the future of the economy, and how to break in.&quot;,&quot;link&quot;:&quot;https://generalassemb.ly/get/how-to-get-a-job-at-a-startup&quot;,&quot;image_url&quot;:&quot;https://ga-shop.s3.amazonaws.com/production/store/spotlight/21/image/standard-6e1b9fbad965f10587d6fb37cce72dc9.jpg&quot;,&quot;analytics_metro&quot;:&quot;new-york-city&quot;,&quot;metadata&quot;:{&quot;page_name&quot;:&quot;home&quot;,&quot;page_variation_name&quot;:&quot;default&quot;,&quot;page_version_id&quot;:61}},&quot;submasthead&quot;:{&quot;component_id&quot;:4,&quot;component_name&quot;:&quot;submasthead&quot;,&quot;citation_author&quot;:&quot;Shannon Winter&quot;,&quot;citation_subtitle&quot;:&quot;Marketing Manager, Visual Design Alum&quot;,&quot;cta_copy&quot;:&quot;Learn How to Get Funded&quot;,&quot;cta_link&quot;:&quot;/employer-sponsorship&quot;,&quot;image_url&quot;:&quot;https://ga-shop.s3.amazonaws.com/production/store/submasthead/4/image/standard-11ede6276f.jpg&quot;,&quot;quote&quot;:&quot;I told my manager I wanted to learn design and shared ways it could be helpful in my current role. He responded right away, said, ‘This is awesome,’ and my company paid for the course.&quot;,&quot;title&quot;:&quot;Employer-Sponsored Education&quot;,&quot;analytics_metro&quot;:&quot;new-york-city&quot;,&quot;metadata&quot;:{&quot;page_name&quot;:&quot;home&quot;,&quot;page_variation_name&quot;:&quot;default&quot;,&quot;page_version_id&quot;:61}}},&quot;current_metro_name&quot;:&quot;New York City&quot;,&quot;component_name&quot;:&quot;home&quot;,&quot;component_id&quot;:61,&quot;topics&quot;:[{&quot;attributes&quot;:{&quot;id&quot;:1,&quot;name&quot;:&quot;Business&quot;,&quot;asset_folder&quot;:&quot;business&quot;,&quot;slug&quot;:&quot;business&quot;,&quot;archived&quot;:false,&quot;subtopics&quot;:[{&quot;attributes&quot;:{&quot;id&quot;:2,&quot;name&quot;:&quot;Product Management&quot;,&quot;asset_folder&quot;:&quot;product_management&quot;,&quot;slug&quot;:&quot;product-management&quot;,&quot;archived&quot;:false,&quot;created_at&quot;:&quot;2013-03-11T20:25:13Z&quot;,&quot;updated_at&quot;:&quot;2017-03-28T01:31:26Z&quot;,&quot;topic_id&quot;:1,&quot;url&quot;:&quot;/business/product-management&quot;},&quot;persisted&quot;:true},{&quot;attributes&quot;:{&quot;id&quot;:15,&quot;name&quot;:&quot;Startups \\\\u0026 Entrepreneurship&quot;,&quot;asset_folder&quot;:&quot;startups_and_entrepreneurship&quot;,&quot;slug&quot;:&quot;startups-entrepreneurship&quot;,&quot;archived&quot;:false,&quot;created_at&quot;:&quot;2017-03-28T01:31:26Z&quot;,&quot;updated_at&quot;:&quot;2017-05-11T14:35:05Z&quot;,&quot;topic_id&quot;:1,&quot;url&quot;:&quot;/business/startups-entrepreneurship&quot;},&quot;persisted&quot;:true}],&quot;created_at&quot;:&quot;2013-03-11T20:25:13Z&quot;,&quot;updated_at&quot;:&quot;2015-11-19T18:55:03Z&quot;,&quot;url&quot;:&quot;/business&quot;},&quot;persisted&quot;:true},{&quot;attributes&quot;:{&quot;id&quot;:9,&quot;name&quot;:&quot;Career Development&quot;,&quot;asset_folder&quot;:&quot;career_development&quot;,&quot;slug&quot;:&quot;career-development&quot;,&quot;archived&quot;:false,&quot;subtopics&quot;:[{&quot;attributes&quot;:{&quot;id&quot;:19,&quot;name&quot;:&quot;Professional Skills&quot;,&quot;asset_folder&quot;:&quot;professional_skills&quot;,&quot;slug&quot;:&quot;professional-skills&quot;,&quot;archived&quot;:false,&quot;created_at&quot;:&quot;2017-03-28T01:31:26Z&quot;,&quot;updated_at&quot;:&quot;2017-03-28T01:31:26Z&quot;,&quot;topic_id&quot;:9,&quot;url&quot;:&quot;/career-development/professional-skills&quot;},&quot;persisted&quot;:true}],&quot;created_at&quot;:&quot;2015-11-19T18:55:03Z&quot;,&quot;updated_at&quot;:&quot;2017-03-28T01:31:26Z&quot;,&quot;url&quot;:&quot;/career-development&quot;},&quot;persisted&quot;:true},{&quot;attributes&quot;:{&quot;id&quot;:6,&quot;name&quot;:&quot;Coding&quot;,&quot;asset_folder&quot;:&quot;coding&quot;,&quot;slug&quot;:&quot;coding&quot;,&quot;archived&quot;:false,&quot;subtopics&quot;:[{&quot;attributes&quot;:{&quot;id&quot;:10,&quot;name&quot;:&quot;Full-Stack Web Development&quot;,&quot;asset_folder&quot;:&quot;full_stack_web_development&quot;,&quot;slug&quot;:&quot;full-stack-web-development&quot;,&quot;archived&quot;:false,&quot;created_at&quot;:&quot;2017-03-28T01:31:26Z&quot;,&quot;updated_at&quot;:&quot;2017-03-28T01:31:26Z&quot;,&quot;topic_id&quot;:6,&quot;url&quot;:&quot;/coding/full-stack-web-development&quot;},&quot;persisted&quot;:true},{&quot;attributes&quot;:{&quot;id&quot;:11,&quot;name&quot;:&quot;Front-End Web Development&quot;,&quot;asset_folder&quot;:&quot;front_end_web_development&quot;,&quot;slug&quot;:&quot;front-end-web-development&quot;,&quot;archived&quot;:false,&quot;created_at&quot;:&quot;2017-03-28T01:31:26Z&quot;,&quot;updated_at&quot;:&quot;2017-03-28T01:31:26Z&quot;,&quot;topic_id&quot;:6,&quot;url&quot;:&quot;/coding/front-end-web-development&quot;},&quot;persisted&quot;:true},{&quot;attributes&quot;:{&quot;id&quot;:5,&quot;name&quot;:&quot;iOS \\\\u0026 Android Development&quot;,&quot;asset_folder&quot;:&quot;ios_and_android_development&quot;,&quot;slug&quot;:&quot;ios-android-development&quot;,&quot;archived&quot;:false,&quot;created_at&quot;:&quot;2013-03-11T20:25:13Z&quot;,&quot;updated_at&quot;:&quot;2017-05-11T14:35:05Z&quot;,&quot;topic_id&quot;:6,&quot;url&quot;:&quot;/coding/ios-android-development&quot;},&quot;persisted&quot;:true}],&quot;created_at&quot;:&quot;2013-03-11T20:25:13Z&quot;,&quot;updated_at&quot;:&quot;2015-11-19T18:55:03Z&quot;,&quot;url&quot;:&quot;/coding&quot;},&quot;persisted&quot;:true},{&quot;attributes&quot;:{&quot;id&quot;:8,&quot;name&quot;:&quot;Data&quot;,&quot;asset_folder&quot;:&quot;data&quot;,&quot;slug&quot;:&quot;data&quot;,&quot;archived&quot;:false,&quot;subtopics&quot;:[{&quot;attributes&quot;:{&quot;id&quot;:17,&quot;name&quot;:&quot;Data Science&quot;,&quot;asset_folder&quot;:&quot;data_science&quot;,&quot;slug&quot;:&quot;data-science&quot;,&quot;archived&quot;:false,&quot;created_at&quot;:&quot;2017-03-28T01:31:26Z&quot;,&quot;updated_at&quot;:&quot;2017-03-28T01:31:26Z&quot;,&quot;topic_id&quot;:8,&quot;url&quot;:&quot;/data/data-science&quot;},&quot;persisted&quot;:true},{&quot;attributes&quot;:{&quot;id&quot;:18,&quot;name&quot;:&quot;Data Analysis&quot;,&quot;asset_folder&quot;:&quot;data_analysis&quot;,&quot;slug&quot;:&quot;data-analysis&quot;,&quot;archived&quot;:false,&quot;created_at&quot;:&quot;2017-03-28T01:31:26Z&quot;,&quot;updated_at&quot;:&quot;2017-03-28T01:31:26Z&quot;,&quot;topic_id&quot;:8,&quot;url&quot;:&quot;/data/data-analysis&quot;},&quot;persisted&quot;:true}],&quot;created_at&quot;:&quot;2013-03-11T20:25:13Z&quot;,&quot;updated_at&quot;:&quot;2015-11-19T18:55:03Z&quot;,&quot;url&quot;:&quot;/data&quot;},&quot;persisted&quot;:true},{&quot;attributes&quot;:{&quot;id&quot;:4,&quot;name&quot;:&quot;Design&quot;,&quot;asset_folder&quot;:&quot;ux_and_design&quot;,&quot;slug&quot;:&quot;design&quot;,&quot;archived&quot;:false,&quot;subtopics&quot;:[{&quot;attributes&quot;:{&quot;id&quot;:12,&quot;name&quot;:&quot;User Experience Design&quot;,&quot;asset_folder&quot;:&quot;user_experience_design&quot;,&quot;slug&quot;:&quot;user-experience-design&quot;,&quot;archived&quot;:false,&quot;created_at&quot;:&quot;2017-03-28T01:31:26Z&quot;,&quot;updated_at&quot;:&quot;2017-03-28T01:31:26Z&quot;,&quot;topic_id&quot;:4,&quot;url&quot;:&quot;/design/user-experience-design&quot;},&quot;persisted&quot;:true},{&quot;attributes&quot;:{&quot;id&quot;:13,&quot;name&quot;:&quot;Visual Design&quot;,&quot;asset_folder&quot;:&quot;visual_design&quot;,&quot;slug&quot;:&quot;visual-design&quot;,&quot;archived&quot;:false,&quot;created_at&quot;:&quot;2017-03-28T01:31:26Z&quot;,&quot;updated_at&quot;:&quot;2017-03-28T01:31:26Z&quot;,&quot;topic_id&quot;:4,&quot;url&quot;:&quot;/design/visual-design&quot;},&quot;persisted&quot;:true}],&quot;created_at&quot;:&quot;2013-03-11T20:25:13Z&quot;,&quot;updated_at&quot;:&quot;2017-05-11T14:35:05Z&quot;,&quot;url&quot;:&quot;/design&quot;},&quot;persisted&quot;:true},{&quot;attributes&quot;:{&quot;id&quot;:14,&quot;name&quot;:&quot;Marketing&quot;,&quot;asset_folder&quot;:&quot;marketing&quot;,&quot;slug&quot;:&quot;marketing&quot;,&quot;archived&quot;:false,&quot;subtopics&quot;:[{&quot;attributes&quot;:{&quot;id&quot;:7,&quot;name&quot;:&quot;Digital Marketing&quot;,&quot;asset_folder&quot;:&quot;digital_marketing&quot;,&quot;slug&quot;:&quot;digital-marketing&quot;,&quot;archived&quot;:false,&quot;created_at&quot;:&quot;2013-03-11T20:25:13Z&quot;,&quot;updated_at&quot;:&quot;2017-03-28T01:31:26Z&quot;,&quot;topic_id&quot;:14,&quot;url&quot;:&quot;/marketing/digital-marketing&quot;},&quot;persisted&quot;:true}],&quot;created_at&quot;:&quot;2017-03-28T01:31:26Z&quot;,&quot;updated_at&quot;:&quot;2017-03-28T01:31:26Z&quot;,&quot;url&quot;:&quot;/marketing&quot;},&quot;persisted&quot;:true}],&quot;events&quot;:[{&quot;title&quot;:&quot;Deep Reinforcement Applications in Healthcare and Environmental Policy&quot;,&quot;url&quot;:&quot;/education/deep-reinforcement-applications-in-healthcare-and-environmental-policy/new-york-city/85693&quot;,&quot;thumbnail_url&quot;:&quot;https://ga-core.s3.amazonaws.com/production/uploads/program/default_image/12371/thumb_Data_Search_Magnifying_Glass.jpg&quot;,&quot;formatted_start_date&quot;:&quot;Tuesday, 13 August&quot;,&quot;location&quot;:&quot;GA NYC (Manhattan), HQ&quot;},{&quot;title&quot;:&quot;Storytelling Skills: Wow Your Crowd&quot;,&quot;url&quot;:&quot;/education/storytelling-skills-wow-your-crowd/new-york-city/75706&quot;,&quot;thumbnail_url&quot;:&quot;https://ga-core.s3.amazonaws.com/production/uploads/program/default_image/74/thumb_course_Storytelling_Skills-_Wow_Your_Crowd.jpeg&quot;,&quot;formatted_start_date&quot;:&quot;Tuesday, 13 August&quot;,&quot;location&quot;:&quot;GA NYC (Manhattan), Classrooms&quot;},{&quot;title&quot;:&quot;Content Marketing For Beginners&quot;,&quot;url&quot;:&quot;/education/content-marketing-for-beginners/new-york-city/80985&quot;,&quot;thumbnail_url&quot;:&quot;https://ga-core.s3.amazonaws.com/production/uploads/program/default_image/2890/thumb_Sales_Finance_Growth_Hand_Dirt.jpg&quot;,&quot;formatted_start_date&quot;:&quot;Tuesday, 13 August&quot;,&quot;location&quot;:&quot;GA NYC (Manhattan), Classrooms&quot;},{&quot;title&quot;:&quot;Python for Data Bootcamp&quot;,&quot;url&quot;:&quot;/education/python-for-data-bootcamp/new-york-city/76674&quot;,&quot;thumbnail_url&quot;:&quot;https://ga-core.s3.amazonaws.com/production/uploads/program/default_image/4935/thumb_thumb_DAT_Python.jpeg&quot;,&quot;formatted_start_date&quot;:&quot;Wednesday, 14 August&quot;,&quot;location&quot;:&quot;GA NYC (Manhattan), Classrooms&quot;}],&quot;metro_switcher_form&quot;:{&quot;metro_switcher&quot;:true,&quot;metro_selected_slug&quot;:&quot;new-york-city&quot;,&quot;metro_selected&quot;:&quot;New York City&quot;,&quot;metros&quot;:[{&quot;id&quot;:13,&quot;name&quot;:&quot;Atlanta&quot;,&quot;slug&quot;:&quot;atlanta&quot;},{&quot;id&quot;:11,&quot;name&quot;:&quot;Austin&quot;,&quot;slug&quot;:&quot;austin&quot;},{&quot;id&quot;:7,&quot;name&quot;:&quot;Boston&quot;,&quot;slug&quot;:&quot;boston&quot;},{&quot;id&quot;:15,&quot;name&quot;:&quot;Chicago&quot;,&quot;slug&quot;:&quot;chicago&quot;},{&quot;id&quot;:17,&quot;name&quot;:&quot;Dallas&quot;,&quot;slug&quot;:&quot;dallas&quot;},{&quot;id&quot;:19,&quot;name&quot;:&quot;Denver&quot;,&quot;slug&quot;:&quot;denver&quot;},{&quot;id&quot;:71,&quot;name&quot;:&quot;Houston&quot;,&quot;slug&quot;:&quot;houston&quot;},{&quot;id&quot;:3,&quot;name&quot;:&quot;London&quot;,&quot;slug&quot;:&quot;london&quot;},{&quot;id&quot;:8,&quot;name&quot;:&quot;Los Angeles&quot;,&quot;slug&quot;:&quot;los-angeles&quot;},{&quot;id&quot;:9,&quot;name&quot;:&quot;Melbourne&quot;,&quot;slug&quot;:&quot;melbourne&quot;},{&quot;id&quot;:1,&quot;name&quot;:&quot;New York City&quot;,&quot;slug&quot;:&quot;new-york-city&quot;},{&quot;id&quot;:30,&quot;name&quot;:&quot;Orlando&quot;,&quot;slug&quot;:&quot;orlando&quot;},{&quot;id&quot;:70,&quot;name&quot;:&quot;Paris&quot;,&quot;slug&quot;:&quot;paris&quot;},{&quot;id&quot;:31,&quot;name&quot;:&quot;Phoenix&quot;,&quot;slug&quot;:&quot;phoenix&quot;},{&quot;id&quot;:24,&quot;name&quot;:&quot;Providence&quot;,&quot;slug&quot;:&quot;providence&quot;},{&quot;id&quot;:25,&quot;name&quot;:&quot;San Diego&quot;,&quot;slug&quot;:&quot;san-diego&quot;},{&quot;id&quot;:2,&quot;name&quot;:&quot;San Francisco&quot;,&quot;slug&quot;:&quot;san-francisco&quot;},{&quot;id&quot;:14,&quot;name&quot;:&quot;Seattle&quot;,&quot;slug&quot;:&quot;seattle&quot;},{&quot;id&quot;:18,&quot;name&quot;:&quot;Singapore&quot;,&quot;slug&quot;:&quot;singapore&quot;},{&quot;id&quot;:36,&quot;name&quot;:&quot;Stamford&quot;,&quot;slug&quot;:&quot;stamford&quot;},{&quot;id&quot;:5,&quot;name&quot;:&quot;Sydney&quot;,&quot;slug&quot;:&quot;sydney&quot;},{&quot;id&quot;:21,&quot;name&quot;:&quot;Toronto&quot;,&quot;slug&quot;:&quot;toronto&quot;},{&quot;id&quot;:10,&quot;name&quot;:&quot;Washington, D.C.&quot;,&quot;slug&quot;:&quot;washington-dc&quot;},{&quot;id&quot;:16,&quot;name&quot;:&quot;Online&quot;,&quot;slug&quot;:&quot;online&quot;}],&quot;anchor&quot;:&quot;events&quot;},&quot;analytics_metro&quot;:&quot;new-york-city&quot;,&quot;metadata&quot;:{&quot;page_name&quot;:&quot;home&quot;,&quot;page_variation_name&quot;:&quot;default&quot;,&quot;page_version_id&quot;:61}}\" data-trace=\"false\" data-dom-id=\"react-home\"></div>\\n    <div id=\"react-home\"><div data-component=\"Home\" data-reactroot=\"\" data-reactid=\"1\" data-react-checksum=\"-1255041883\"><div class=\"home-feature\" data-reactid=\"2\"><div class=\"home-feature_background\" data-reactid=\"3\"></div><div class=\"g-row\" data-reactid=\"4\"><div class=\"g-column\" data-reactid=\"5\"><div class=\"Masthead__masthead g-row medium-flex medium-on-bottom\" data-component=\"Masthead\" data-reactid=\"6\"><div class=\"masthead_details_container g-row medium-flex\" data-reactid=\"7\"><div class=\"headline\" data-reactid=\"8\"><h1 data-reactid=\"9\">We are the future of work.</h1></div><div class=\"g-column medium-6\" data-reactid=\"10\"><div class=\"Masthead__masthead_details\" data-reactid=\"11\"><h1 class=\"individuals\" data-reactid=\"12\">Individuals</h1><div class=\"g-row xsmall-collapse small-collapse medium-collapse\" data-reactid=\"13\"><img alt=\"Pursue a Career You Love\" class=\"Masthead__masthead_details_small_image\" src=\"/assets/images/individuals_3MfPB.jpg\" data-reactid=\"14\"/></div><p data-reactid=\"15\">Get ahead with expert-led training in coding, data, design, digital marketing, and more — on campus and online.</p><p id=\"homepage-cta-button\" data-reactid=\"16\"><a class=\"button -fluid\" href=\"/browse\" data-reactid=\"17\">Browse Courses</a></p></div></div><div class=\"g-column medium-6 xsmall-hide medium-show\" data-reactid=\"18\"><div class=\"Masthead__masthead_details\" data-reactid=\"19\"><h1 class=\"companies\" data-reactid=\"20\">Companies</h1><p data-reactid=\"21\">Transform your workforce with intensive training, assessments, and an exclusive hiring pipeline.</p><p id=\"homepage-cta-button\" data-reactid=\"22\"><a class=\"button -fluid\" href=\"/corporate-digital-training\" data-reactid=\"23\">Get Started</a></p></div></div></div></div><div class=\"g-column medium-hide\" data-reactid=\"24\"><div class=\"g-row\" data-reactid=\"25\"><div class=\"g-column\" data-reactid=\"26\"><div class=\"home-spotlights\" data-reactid=\"27\"><div class=\"g-row\" data-reactid=\"28\"><div class=\"g-column xsmall-6\" data-reactid=\"29\"><div class=\"Spotlight__spotlight___149TS\" data-reactid=\"30\"><a href=\"https://generalassemb.ly/why-ga-is-worth-it\" data-reactid=\"31\"><img alt=\"Why General Assembly? \" src=\"https://ga-shop.s3.amazonaws.com/production/store/spotlight/20/image/standard-48caa92a3dc5c5f4eac51a95ce186fe3.jpg\" data-reactid=\"32\"/></a><a href=\"https://generalassemb.ly/why-ga-is-worth-it\" data-reactid=\"33\"><h3 data-reactid=\"34\">Why General Assembly? </h3><p data-reactid=\"35\">Discover what a GA education could do for your career.</p></a></div></div><div class=\"g-column xsmall-6\" data-reactid=\"36\"><div class=\"Spotlight__spotlight___149TS\" data-reactid=\"37\"><a href=\"https://generalassemb.ly/get/how-to-get-a-job-at-a-startup\" data-reactid=\"38\"><img alt=\"How to Get a Job at a Startup\" src=\"https://ga-shop.s3.amazonaws.com/production/store/spotlight/21/image/standard-6e1b9fbad965f10587d6fb37cce72dc9.jpg\" data-reactid=\"39\"/></a><a href=\"https://generalassemb.ly/get/how-to-get-a-job-at-a-startup\" data-reactid=\"40\"><h3 data-reactid=\"41\">How to Get a Job at a Startup</h3><p data-reactid=\"42\">Why startups are the future of the economy, and how to break in.</p></a></div></div></div></div></div><div class=\"g-column\" data-reactid=\"43\"><div class=\"FeaturedLinks__featured_links___9Wb4b\" data-reactid=\"44\"><div class=\"FeaturedLinks__featured_links_title_wrapper___3uOux\" data-reactid=\"45\"><h3 data-reactid=\"46\">A Path to Success</h3></div><ul data-reactid=\"47\"><li data-reactid=\"48\"><a href=\"https://generalassemb.ly/employer-sponsorship\" data-reactid=\"49\">Get funded: Your employer may pay for your course. Learn how.</a></li><li data-reactid=\"50\"><a href=\"https://generalassemb.ly/blog/general-assemblys-first-student-outcomes-report/\" data-reactid=\"51\">Job placement: Read our third-party verified outcomes report.</a></li></ul></div></div></div></div></div></div></div><div class=\"content-area home-content-area -arrow-down -light-grey u-text-center\" data-reactid=\"52\"><div class=\"home-courses\" data-reactid=\"53\"><h2 data-reactid=\"54\">Start Learning</h2><div class=\"g-row\" data-reactid=\"55\"><div class=\"g-column u-text-left\" data-reactid=\"56\"><div class=\"courses-grid\" data-reactid=\"57\"><div class=\"g-row medium-flex\" style=\"flex-wrap:wrap;\" data-reactid=\"58\"><div class=\"g-column large-4 medium-6\" data-reactid=\"59\"><div class=\"courses-grid_item\" id=\"gen282-courses-grid-item\" data-reactid=\"60\"><a href=\"/education/software-engineering-immersive/\" data-reactid=\"61\"><div class=\"gen282-learn-now\" data-reactid=\"62\">$0 Upfront Options</div><h3 id=\"gen282-h3\" data-reactid=\"63\"><span class=\"course-name\" data-reactid=\"64\">Software Engineering Immersive</span><div class=\"cro-img\" id=\"gen282-img-wrapper\" data-reactid=\"65\"><div id=\"gen282-yellow-img-background\" data-reactid=\"66\"><span id=\"gen282-yellow-left\" data-reactid=\"67\"><!-- react-text: 68 -->Free<!-- /react-text --><br data-reactid=\"69\"/><!-- react-text: 70 -->Prep Course<!-- /react-text --></span><span id=\"gen282-yellow-right\" data-reactid=\"71\"><!-- react-text: 72 -->Flexible<!-- /react-text --><br data-reactid=\"73\"/><!-- react-text: 74 -->Financing<!-- /react-text --></span></div><img alt=\"Software Engineering Immersive\" src=\"/assets/images/software-engineering-immersive_YXOxD.gif\" data-reactid=\"75\"/></div><span class=\"byline\" data-reactid=\"76\">ON CAMPUS | FULL TIME</span></h3><p id=\"gen282-p\" data-reactid=\"77\">Break into a high-growth, high-pay career. Dive into computer science, get fluent in key frameworks and stacks, build rich apps, and more.</p><div class=\"courses-grid_item_arrow_container\" data-reactid=\"78\"><span class=\"courses-grid_item_arrow\" data-reactid=\"79\"></span></div></a></div></div><div class=\"g-column large-4 medium-6\" data-reactid=\"80\"><div class=\"courses-grid_item\" data-reactid=\"81\"><a href=\"/education/user-experience-design-immersive\" data-reactid=\"82\"><div class=\"gen282-learn-now\" data-reactid=\"83\">$0 Upfront Options</div><h3 data-reactid=\"84\"><span class=\"course-name\" data-reactid=\"85\">UX Design Immersive</span><div class=\"cro-img\" data-reactid=\"86\"><img alt=\"UX Design Immersive\" src=\"/assets/images/user-experience-design-immersive_2-s2P.svg\" data-reactid=\"87\"/></div><span class=\"byline\" data-reactid=\"88\">ON CAMPUS | FULL TIME</span></h3><p data-reactid=\"89\">Begin a career in UX with a grounding in research and design skills, from personas to prototypes. Build a portfolio rich with innovative insights.</p><div class=\"courses-grid_item_arrow_container\" data-reactid=\"90\"><span class=\"courses-grid_item_arrow\" data-reactid=\"91\"></span></div></a></div></div><div class=\"g-column large-4 medium-6\" data-reactid=\"92\"><div class=\"courses-grid_item\" data-reactid=\"93\"><a href=\"/education/data-science-immersive\" data-reactid=\"94\"><div class=\"gen282-learn-now\" data-reactid=\"95\">$0 Upfront Options</div><h3 data-reactid=\"96\"><span class=\"course-name\" data-reactid=\"97\">Data Science Immersive</span><div class=\"cro-img\" data-reactid=\"98\"><img alt=\"Data Science Immersive\" src=\"/assets/images/data-science-immersive_4mbRh.svg\" data-reactid=\"99\"/></div><span class=\"byline\" data-reactid=\"100\">ON CAMPUS | FULL TIME</span></h3><p data-reactid=\"101\">Master the basics of machine learning to forecast what&#x27;s next: predict patterns from large datasets using Python.</p><div class=\"courses-grid_item_arrow_container\" data-reactid=\"102\"><span class=\"courses-grid_item_arrow\" data-reactid=\"103\"></span></div></a></div></div><div class=\"g-column large-4 medium-6\" data-reactid=\"104\"><div class=\"courses-grid_item\" data-reactid=\"105\"><a href=\"/education/front-end-web-development\" data-reactid=\"106\"><h3 data-reactid=\"107\"><span class=\"course-name\" data-reactid=\"108\">Front-End Web Development</span><div class=\"cro-img\" data-reactid=\"109\"><img alt=\"Front-End Web Development\" src=\"/assets/images/front-end-web-development_3dKB4.svg\" data-reactid=\"110\"/></div><span class=\"byline\" data-reactid=\"111\">ON CAMPUS | PART TIME</span></h3><p data-reactid=\"112\">Use HTML5, CSS3, JavaScript, jQuery, GitHub and Sublime Text to program and lay out a fully responsive, interactive website.</p><div class=\"courses-grid_item_arrow_container\" data-reactid=\"113\"><span class=\"courses-grid_item_arrow\" data-reactid=\"114\"></span></div></a></div></div><div class=\"g-column large-4 medium-6\" data-reactid=\"115\"><div class=\"courses-grid_item\" data-reactid=\"116\"><a href=\"/education/product-management\" data-reactid=\"117\"><h3 data-reactid=\"118\"><span class=\"course-name\" data-reactid=\"119\">Product Management</span><div class=\"cro-img\" data-reactid=\"120\"><img alt=\"Product Management\" src=\"/assets/images/product-management_Z_HpF.svg\" data-reactid=\"121\"/></div><span class=\"byline\" data-reactid=\"122\">ON CAMPUS | PART TIME</span></h3><p data-reactid=\"123\">Guide a product through its lifecycle via lean methodologies that yield viable, market-ready products that anticipate user needs.</p><div class=\"courses-grid_item_arrow_container\" data-reactid=\"124\"><span class=\"courses-grid_item_arrow\" data-reactid=\"125\"></span></div></a></div></div><div class=\"g-column large-4 medium-6\" data-reactid=\"126\"><div class=\"courses-grid_item\" data-reactid=\"127\"><a href=\"/education/data-analytics\" data-reactid=\"128\"><h3 data-reactid=\"129\"><span class=\"course-name\" data-reactid=\"130\">Data Analytics</span><div class=\"cro-img\" data-reactid=\"131\"><img alt=\"Data Analytics\" src=\"/assets/images/data-analytics_1cju9.svg\" data-reactid=\"132\"/></div><span class=\"byline\" data-reactid=\"133\">ON CAMPUS | PART TIME</span></h3><p data-reactid=\"134\">Learn to present and communicate data-driven insights via SQL, Excel, and Tableau. Create data visualizations and dashboards.</p><div class=\"courses-grid_item_arrow_container\" data-reactid=\"135\"><span class=\"courses-grid_item_arrow\" data-reactid=\"136\"></span></div></a></div></div></div></div></div></div><a class=\"button\" href=\"/education\" data-reactid=\"137\">Browse Courses</a></div></div><div class=\"content-area home-content-area -arrow-down -white u-text-center\" data-reactid=\"138\"><div class=\"home-paths\" data-reactid=\"139\"><h2 data-reactid=\"140\">Choose Your Path</h2><div class=\"g-row\" data-reactid=\"141\"><div class=\"home-paths_list\" data-reactid=\"142\"><div class=\"g-column medium-4\" data-reactid=\"143\"><div class=\"home-paths_list_item\" data-reactid=\"144\"><a class=\"home-paths_list_item_image_block full_time\" href=\"/education?format=immersives\" data-reactid=\"145\">Full-Time</a><h3 data-reactid=\"146\"><a href=\"/education?format=immersives\" data-reactid=\"147\">Full-Time</a></h3><p data-reactid=\"148\">Challenge yourself and change your career with an 10-13 week immersive learning experience.</p><a class=\"button -small\" href=\"/education?format=immersives\" data-reactid=\"149\"><!-- react-text: 150 -->View <!-- /react-text --><!-- react-text: 151 -->Full-Time<!-- /react-text --><!-- react-text: 152 --> Courses<!-- /react-text --></a></div></div><div class=\"g-column medium-4\" data-reactid=\"153\"><div class=\"home-paths_list_item\" data-reactid=\"154\"><a class=\"home-paths_list_item_image_block part_time\" href=\"/education?format=courses\" data-reactid=\"155\">Part-Time</a><h3 data-reactid=\"156\"><a href=\"/education?format=courses\" data-reactid=\"157\">Part-Time</a></h3><p data-reactid=\"158\">Enhance your professional potential. Learn in-demand skills in evening, weekend, or 1-week accelerated courses.</p><a class=\"button -small\" href=\"/education?format=courses\" data-reactid=\"159\"><!-- react-text: 160 -->View <!-- /react-text --><!-- react-text: 161 -->Part-Time<!-- /react-text --><!-- react-text: 162 --> Courses<!-- /react-text --></a></div></div><div class=\"g-column medium-4\" data-reactid=\"163\"><div class=\"home-paths_list_item\" data-reactid=\"164\"><a class=\"home-paths_list_item_image_block online\" href=\"/education?where=online\" data-reactid=\"165\">Online</a><h3 data-reactid=\"166\"><a href=\"/education?where=online\" data-reactid=\"167\">Online</a></h3><p data-reactid=\"168\">Learn at any level, anywhere. Explore full-time training and flexible part-time classes.</p><a class=\"button -small\" href=\"/education?where=online\" data-reactid=\"169\"><!-- react-text: 170 -->View <!-- /react-text --><!-- react-text: 171 -->Online<!-- /react-text --><!-- react-text: 172 --> Courses<!-- /react-text --></a></div></div></div></div></div><div class=\"home-funding\" data-reactid=\"173\"><h2 data-reactid=\"174\">Fund Your Future</h2><div class=\"g-row u-text-left\" data-reactid=\"175\"><div class=\"funding-option-list\" data-reactid=\"176\"><div class=\"g-column xlarge-10 xlarge-centered\" data-reactid=\"177\"><div class=\"g-row\" data-reactid=\"178\"><div class=\"g-column medium-3\" data-reactid=\"179\"><div class=\"home-funding_option\" data-reactid=\"180\"><div class=\"g-row\" data-reactid=\"181\"><div class=\"g-column xsmall-12 u-text-center\" data-reactid=\"182\"><a class=\"home-funding_option_image_block catalyst\" href=\"/financing/catalyst-income-share-agreement\" data-reactid=\"183\">Catalyst Program</a><h3 data-reactid=\"184\"><a href=\"/financing/catalyst-income-share-agreement\" data-reactid=\"185\">Catalyst Program</a></h3><p data-reactid=\"186\">Find out how you can learn now, and pay after you&#x27;re hired.</p><a class=\"button -light -small\" href=\"/financing/catalyst-income-share-agreement\" data-reactid=\"187\">Apply Now</a></div></div></div></div><div class=\"g-column medium-3\" data-reactid=\"188\"><div class=\"home-funding_option\" data-reactid=\"189\"><div class=\"g-row\" data-reactid=\"190\"><div class=\"g-column xsmall-12 u-text-center\" data-reactid=\"191\"><a class=\"home-funding_option_image_block payment_plans\" href=\"/how-we-work/financing\" data-reactid=\"192\">Payment Plans</a><h3 data-reactid=\"193\"><a href=\"/how-we-work/financing\" data-reactid=\"194\">Payment Plans</a></h3><p data-reactid=\"195\">Discover easy, low-cost payment plans to finance your education.</p><a class=\"button -light -small\" href=\"/how-we-work/financing\" data-reactid=\"196\">Apply Now</a></div></div></div></div><div class=\"g-column medium-3\" data-reactid=\"197\"><div class=\"home-funding_option\" data-reactid=\"198\"><div class=\"g-row\" data-reactid=\"199\"><div class=\"g-column xsmall-12 u-text-center\" data-reactid=\"200\"><a class=\"home-funding_option_image_block scholarship\" href=\"https://learn.generalassemb.ly/women-in-technology-scholarship/\" data-reactid=\"201\">Scholarship for Women</a><h3 data-reactid=\"202\"><a href=\"https://learn.generalassemb.ly/women-in-technology-scholarship/\" data-reactid=\"203\">Scholarship for Women</a></h3><p data-reactid=\"204\">Get cash towards tuition for eligible courses with See Her Excel.</p><a class=\"button -light -small\" href=\"https://learn.generalassemb.ly/women-in-technology-scholarship/\" data-reactid=\"205\">Apply Now</a></div></div></div></div><div class=\"g-column medium-3\" data-reactid=\"206\"><div class=\"home-funding_option\" data-reactid=\"207\"><div class=\"g-row\" data-reactid=\"208\"><div class=\"g-column xsmall-12 u-text-center\" data-reactid=\"209\"><a class=\"home-funding_option_image_block employer_sponsorship\" href=\"/employer-sponsorship\" data-reactid=\"210\">Employer Sponsorship</a><h3 data-reactid=\"211\"><a href=\"/employer-sponsorship\" data-reactid=\"212\">Employer Sponsorship</a></h3><p data-reactid=\"213\">Learn how to request tuition reimbursement from your employer.</p><a class=\"button -light -small\" href=\"/employer-sponsorship\" data-reactid=\"214\">Apply Now</a></div></div></div></div></div></div></div></div></div></div><div class=\"content-area home-content-area -arrow-down -light-grey\" data-reactid=\"215\"><div id=\"events\" class=\"home-events\" data-reactid=\"216\"><h2 data-reactid=\"217\"><!-- react-text: 218 -->Upcoming Events in <!-- /react-text --><span data-reactid=\"219\">New York City</span></h2><div class=\"MetroSwitcher__metro_switcher___4I8at\" data-reactid=\"220\"><h4 class=\"MetroSwitcher__metro_switcher_title___28qGo\" data-metro-toggle=\"true\" data-reactid=\"221\"><!-- react-text: 222 -->New York City<!-- /react-text --><span class=\"MetroSwitcher__metro_switcher_button___doiGd\" data-metro-toggle=\"true\" data-reactid=\"223\"></span></h4><ul class=\"MetroSwitcher__metro_switcher_list___1ugWH\" data-reactid=\"224\"><li class=\"MetroSwitcher__metro_switcher_list_item___1rG4s\" data-reactid=\"225\">Atlanta</li><li class=\"MetroSwitcher__metro_switcher_list_item___1rG4s\" data-reactid=\"226\">Austin</li><li class=\"MetroSwitcher__metro_switcher_list_item___1rG4s\" data-reactid=\"227\">Boston</li><li class=\"MetroSwitcher__metro_switcher_list_item___1rG4s\" data-reactid=\"228\">Chicago</li><li class=\"MetroSwitcher__metro_switcher_list_item___1rG4s\" data-reactid=\"229\">Dallas</li><li class=\"MetroSwitcher__metro_switcher_list_item___1rG4s\" data-reactid=\"230\">Denver</li><li class=\"MetroSwitcher__metro_switcher_list_item___1rG4s\" data-reactid=\"231\">Houston</li><li class=\"MetroSwitcher__metro_switcher_list_item___1rG4s\" data-reactid=\"232\">London</li><li class=\"MetroSwitcher__metro_switcher_list_item___1rG4s\" data-reactid=\"233\">Los Angeles</li><li class=\"MetroSwitcher__metro_switcher_list_item___1rG4s\" data-reactid=\"234\">Melbourne</li><li class=\"MetroSwitcher__metro_switcher_list_item___1rG4s\" data-reactid=\"235\">New York City</li><li class=\"MetroSwitcher__metro_switcher_list_item___1rG4s\" data-reactid=\"236\">Orlando</li><li class=\"MetroSwitcher__metro_switcher_list_item___1rG4s\" data-reactid=\"237\">Paris</li><li class=\"MetroSwitcher__metro_switcher_list_item___1rG4s\" data-reactid=\"238\">Phoenix</li><li class=\"MetroSwitcher__metro_switcher_list_item___1rG4s\" data-reactid=\"239\">Providence</li><li class=\"MetroSwitcher__metro_switcher_list_item___1rG4s\" data-reactid=\"240\">San Diego</li><li class=\"MetroSwitcher__metro_switcher_list_item___1rG4s\" data-reactid=\"241\">San Francisco</li><li class=\"MetroSwitcher__metro_switcher_list_item___1rG4s\" data-reactid=\"242\">Seattle</li><li class=\"MetroSwitcher__metro_switcher_list_item___1rG4s\" data-reactid=\"243\">Singapore</li><li class=\"MetroSwitcher__metro_switcher_list_item___1rG4s\" data-reactid=\"244\">Stamford</li><li class=\"MetroSwitcher__metro_switcher_list_item___1rG4s\" data-reactid=\"245\">Sydney</li><li class=\"MetroSwitcher__metro_switcher_list_item___1rG4s\" data-reactid=\"246\">Toronto</li><li class=\"MetroSwitcher__metro_switcher_list_item___1rG4s\" data-reactid=\"247\">Washington, D.C.</li><li class=\"MetroSwitcher__metro_switcher_list_item___1rG4s\" data-reactid=\"248\">Online</li></ul></div><div class=\"g-row\" data-reactid=\"249\"><div class=\"g-column xlarge-10 xlarge-centered\" data-reactid=\"250\"><div class=\"home-events_list\" data-reactid=\"251\"><div class=\"g-row medium-flex home-events_list_wrapper\" data-reactid=\"252\"><div class=\"g-column xsmall-centered medium-6\" data-reactid=\"253\"><a class=\"EventPanel__event_panel___2BPre\" href=\"/education/deep-reinforcement-applications-in-healthcare-and-environmental-policy/new-york-city/85693\" data-reactid=\"254\"><div class=\"g-row EventPanel__event_panel_wrapper___1XRx4\" data-reactid=\"255\"><div class=\"g-column xsmall-hide medium-show medium-4\" data-reactid=\"256\"><img src=\"https://ga-core.s3.amazonaws.com/production/uploads/program/default_image/12371/thumb_Data_Search_Magnifying_Glass.jpg\" alt=\"Deep Reinforcement Applications in Healthcare and Environmental Policy\" data-reactid=\"257\"/></div><div class=\"g-column xsmall-12 medium-8\" data-reactid=\"258\"><h3 class=\"EventPanel__event_panel_title___3MimU\" data-reactid=\"259\">Deep Reinforcement Applications in Healthcare and Environmental Policy</h3><p class=\"EventPanel__event_panel_date___32D50\" data-reactid=\"260\"><!-- react-text: 261 -->Tuesday, 13 August<!-- /react-text --></p></div></div><div class=\"EventPanel__event_panel_arrow_container___3pjY3\" data-reactid=\"262\"><span class=\"EventPanel__event_panel_arrow___1BSm6\" data-reactid=\"263\"></span></div></a></div><div class=\"g-column xsmall-centered medium-6\" data-reactid=\"264\"><a class=\"EventPanel__event_panel___2BPre\" href=\"/education/storytelling-skills-wow-your-crowd/new-york-city/75706\" data-reactid=\"265\"><div class=\"g-row EventPanel__event_panel_wrapper___1XRx4\" data-reactid=\"266\"><div class=\"g-column xsmall-hide medium-show medium-4\" data-reactid=\"267\"><img src=\"https://ga-core.s3.amazonaws.com/production/uploads/program/default_image/74/thumb_course_Storytelling_Skills-_Wow_Your_Crowd.jpeg\" alt=\"Storytelling Skills: Wow Your Crowd\" data-reactid=\"268\"/></div><div class=\"g-column xsmall-12 medium-8\" data-reactid=\"269\"><h3 class=\"EventPanel__event_panel_title___3MimU\" data-reactid=\"270\">Storytelling Skills: Wow Your Crowd</h3><p class=\"EventPanel__event_panel_date___32D50\" data-reactid=\"271\"><!-- react-text: 272 -->Tuesday, 13 August<!-- /react-text --></p></div></div><div class=\"EventPanel__event_panel_arrow_container___3pjY3\" data-reactid=\"273\"><span class=\"EventPanel__event_panel_arrow___1BSm6\" data-reactid=\"274\"></span></div></a></div><div class=\"g-column xsmall-centered medium-6\" data-reactid=\"275\"><a class=\"EventPanel__event_panel___2BPre\" href=\"/education/content-marketing-for-beginners/new-york-city/80985\" data-reactid=\"276\"><div class=\"g-row EventPanel__event_panel_wrapper___1XRx4\" data-reactid=\"277\"><div class=\"g-column xsmall-hide medium-show medium-4\" data-reactid=\"278\"><img src=\"https://ga-core.s3.amazonaws.com/production/uploads/program/default_image/2890/thumb_Sales_Finance_Growth_Hand_Dirt.jpg\" alt=\"Content Marketing For Beginners\" data-reactid=\"279\"/></div><div class=\"g-column xsmall-12 medium-8\" data-reactid=\"280\"><h3 class=\"EventPanel__event_panel_title___3MimU\" data-reactid=\"281\">Content Marketing For Beginners</h3><p class=\"EventPanel__event_panel_date___32D50\" data-reactid=\"282\"><!-- react-text: 283 -->Tuesday, 13 August<!-- /react-text --></p></div></div><div class=\"EventPanel__event_panel_arrow_container___3pjY3\" data-reactid=\"284\"><span class=\"EventPanel__event_panel_arrow___1BSm6\" data-reactid=\"285\"></span></div></a></div><div class=\"g-column xsmall-centered medium-6\" data-reactid=\"286\"><a class=\"EventPanel__event_panel___2BPre\" href=\"/education/python-for-data-bootcamp/new-york-city/76674\" data-reactid=\"287\"><div class=\"g-row EventPanel__event_panel_wrapper___1XRx4\" data-reactid=\"288\"><div class=\"g-column xsmall-hide medium-show medium-4\" data-reactid=\"289\"><img src=\"https://ga-core.s3.amazonaws.com/production/uploads/program/default_image/4935/thumb_thumb_DAT_Python.jpeg\" alt=\"Python for Data Bootcamp\" data-reactid=\"290\"/></div><div class=\"g-column xsmall-12 medium-8\" data-reactid=\"291\"><h3 class=\"EventPanel__event_panel_title___3MimU\" data-reactid=\"292\">Python for Data Bootcamp</h3><p class=\"EventPanel__event_panel_date___32D50\" data-reactid=\"293\"><!-- react-text: 294 -->Wednesday, 14 August<!-- /react-text --></p></div></div><div class=\"EventPanel__event_panel_arrow_container___3pjY3\" data-reactid=\"295\"><span class=\"EventPanel__event_panel_arrow___1BSm6\" data-reactid=\"296\"></span></div></a></div></div></div></div></div><a class=\"button\" href=\"/education?format=events\" data-reactid=\"297\">View All Events</a></div></div><div class=\"content-area home-content-area -arrow-down -white home-alumni_wrapper\" data-reactid=\"298\"><div class=\"g-row\" data-reactid=\"299\"><div class=\"g-column xlarge-9\" data-reactid=\"300\"><div class=\"Submasthead__submasthead___2ya1W\" data-reactid=\"301\"><div class=\"g-row\" data-reactid=\"302\"><div class=\"g-column large-4 medium-6 xsmall-12\" data-reactid=\"303\"><a href=\"/financing/catalyst-income-share-agreement\" data-reactid=\"304\"><h2 data-reactid=\"305\">Pay Later, Learn Now</h2></a><p class=\"-medium\" data-reactid=\"306\">With GA’s Catalyst program, you can take a full-time GA immersive course at no upfront cost, then pay back your tuition in manageable monthly installments.</p><a class=\"button\" href=\"/financing/catalyst-income-share-agreement\" data-reactid=\"307\">Get Info</a></div><div class=\"g-column large-8 medium-6 xsmall-hide medium-show\" data-reactid=\"308\"><div class=\"Submasthead__submasthead_image_wrapper___3YgHO\" data-reactid=\"309\"><a href=\"/financing/catalyst-income-share-agreement\" data-reactid=\"310\"><img alt=\"Employer-Sponsored Education\" src=\"/assets/images/submasthead_3zE21.jpg\" data-reactid=\"311\"/></a></div></div></div></div></div><div class=\"g-column xlarge-3 home-facts\" data-reactid=\"312\"><div class=\"facts medium_wide xlarge_narrow\" data-reactid=\"313\"><div class=\"facts_title_wrapper\" data-reactid=\"314\"><h3 data-reactid=\"315\">Our Global Community</h3></div><div class=\"facts_list\" data-reactid=\"316\"><div class=\"facts_list_item\" data-reactid=\"317\"><a href=\"/locations\" data-reactid=\"318\"><div class=\"facts_list_item_quantity\" data-reactid=\"319\">20</div><div class=\"facts_list_item_type\" data-reactid=\"320\">Campuses Worldwide</div></a></div><div class=\"facts_list_item\" data-reactid=\"321\"><a href=\"/alumni\" data-reactid=\"322\"><div class=\"facts_list_item_quantity\" data-reactid=\"323\">70,000+</div><div class=\"facts_list_item_type\" data-reactid=\"324\">Global Alumni</div></a></div><div class=\"facts_list_item\" data-reactid=\"325\"><a href=\"/how-we-work/teach-at-general-assembly\" data-reactid=\"326\"><div class=\"facts_list_item_quantity\" data-reactid=\"327\">20,000+</div><div class=\"facts_list_item_type\" data-reactid=\"328\">Expert Instructors</div></a></div><div class=\"facts_list_item\" data-reactid=\"329\"><a href=\"/talent\" data-reactid=\"330\"><div class=\"facts_list_item_quantity\" data-reactid=\"331\">19,000+</div><div class=\"facts_list_item_type\" data-reactid=\"332\">Hiring Partners</div></a></div></div></div></div></div></div><div class=\"content-area home-content-area -arrow-down -white\" data-reactid=\"333\"><div class=\"home-corporate-training\" data-reactid=\"334\"><div class=\"g-row\" data-reactid=\"335\"><div class=\"g-column medium-5 large-6\" data-reactid=\"336\"><img class=\"home-corporate-training_image_fluid\" src=\"/assets/images/corporate-training_1E3YQ.jpg\" alt=\"GA corporate training for businesses\" data-reactid=\"337\"/></div><div class=\"g-column medium-7 large-6\" data-reactid=\"338\"><h2 data-reactid=\"339\">Transform Your Company by Boosting Skills and Building Teams</h2><p class=\"-medium\" data-reactid=\"340\">General Assembly’s commitment to cultivating in-demand skills and leading-edge talent extends to your workforce.</p><p class=\"-medium\" data-reactid=\"341\">We transform companies of all sizes by providing, assessing, and training talent in today’s top tech, design, and business strategies.</p><a class=\"button\" href=\"/corporate-digital-training\" data-reactid=\"342\">Learn More</a></div></div></div><div class=\"g-row\" data-reactid=\"343\"><div class=\"g-column\" data-reactid=\"344\"><div class=\"Employers__light___FCu_N\" data-reactid=\"345\"><div class=\"Employers__title_wrapper___1erof\" data-reactid=\"346\"><h3 data-reactid=\"347\">Clients and Hiring Partners</h3></div><div class=\"Employers__list___1cuG_\" data-reactid=\"348\"><div class=\"Employers__list_item_microsoft___2w9oG\" data-reactid=\"349\">Microsoft</div><div class=\"Employers__list_item_google___18kpO\" data-reactid=\"350\">Google</div><div class=\"Employers__list_item_conde_nast___oAAG4\" data-reactid=\"351\">Condé Nast</div><div class=\"Employers__list_item_visa___3sCE7\" data-reactid=\"352\">Visa</div><div class=\"Employers__list_item_loreal___16zEi\" data-reactid=\"353\">L’Oréal</div></div></div></div></div></div><script type=\"application/ld+json\" data-reactid=\"354\">{\"@context\":\"http://schema.org\",\"@type\":\"Organization\",\"@id\":\"https://generalassemb.ly\",\"name\":\"General Assembly\",\"url\":\"https://generalassemb.ly\",\"logo\":\"http://static-assets.generalassemb.ly/logos/generalassembly-open-graph.png\",\"sameAs\":[\"http://www.facebook.com/gnrlassembly\",\"https://twitter.com/ga\",\"http://www.linkedin.com/company/2408664\",\"http://instagram.com/generalassembly\",\"https://plus.google.com/+GeneralAssembly\",\"https://www.youtube.com/user/gnrlassembly\"],\"subOrganization\":[]}</script></div></div>\\n    \\n\\n<div data-homepage-modal id=\\'homepage-modal\\'>\\n<div class=\\'homepage-modal_confirmation\\' data-homepage-modal-confirmation>\\n<header class=\\'u-text-center\\'>\\n<h2 class=\\'vanilla-modal_title\\'>Thanks!</h2>\\n<p>Your submission was received.<br>One of our admissions advisors will get in touch shortly.</p>\\n</header>\\n</div>\\n<div class=\\'homepage-modal_content -active\\' data-homepage-modal-content>\\n<header class=\\'u-text-center\\'>\\n<h2 class=\\'vanilla-modal_title\\'>Tell Us About Yourself</h2>\\n<p>Get matched with the course that\\'s right for you. Provide your information below and a member of our admissions team will give you a call soon.</p>\\n</header>\\n<form data-homepage-modal-form=\"true\" action=\"\" accept-charset=\"UTF-8\" data-remote=\"true\" method=\"post\"><input name=\"utf8\" type=\"hidden\" value=\"&#x2713;\" /><label for=\"lead_name\">Name</label>\\n<input id=\"homepage-modal-name\" placeholder=\"First and Last Name\" required=\"required\" type=\"text\" name=\"lead[name]\" />\\n<label for=\"lead_email\">Email Address</label>\\n<input id=\"homepage-modal-email\" placeholder=\"email@email.com\" required=\"required\" type=\"email\" name=\"lead[email]\" />\\n<label for=\"lead_phone\">Phone Number</label>\\n<input id=\"homepage-modal-phone\" placeholder=\"xxx-xxx-xxxx\" type=\"tel\" name=\"lead[phone]\" />\\n<div class=\\'styled-select\\'>\\n<label for=\"lead_metro_slug\">Where Would You Like To Learn?</label>\\n<select name=\"lead[metro_slug]\" id=\"lead_metro_slug\"><option value=\"atlanta\">Atlanta</option>\\n<option value=\"austin\">Austin</option>\\n<option value=\"boston\">Boston</option>\\n<option value=\"chicago\">Chicago</option>\\n<option value=\"dallas\">Dallas</option>\\n<option value=\"denver\">Denver</option>\\n<option value=\"houston\">Houston</option>\\n<option value=\"london\">London</option>\\n<option value=\"los-angeles\">Los Angeles</option>\\n<option value=\"melbourne\">Melbourne</option>\\n<option selected=\"selected\" value=\"new-york-city\">New York City</option>\\n<option value=\"orlando\">Orlando</option>\\n<option value=\"paris\">Paris</option>\\n<option value=\"phoenix\">Phoenix</option>\\n<option value=\"providence\">Providence</option>\\n<option value=\"san-diego\">San Diego</option>\\n<option value=\"san-francisco\">San Francisco</option>\\n<option value=\"seattle\">Seattle</option>\\n<option value=\"singapore\">Singapore</option>\\n<option value=\"stamford\">Stamford</option>\\n<option value=\"sydney\">Sydney</option>\\n<option value=\"toronto\">Toronto</option>\\n<option value=\"washington-dc\">Washington, D.C.</option>\\n<option value=\"online\">Online</option></select>\\n</div>\\n<label class=\"-wrapper\" data-lead-optin-label=\"true\" for=\"lead_opt_in\"><input data-lead-optin-checkbox=\"true\" type=\"checkbox\" value=\"true\" name=\"lead[opt_in]\" id=\"lead_opt_in\" />\\nYes! Please keep me posted on GA news, events and happenings.\\n</label><p><input type=\"submit\" name=\"commit\" value=\"Let&#39;s Connect\" class=\"button -fluid\" data-disable-with=\"Let&#39;s Connect\" /></p>\\n</form>\\nBy providing us with your email, you agree to the terms of our\\n<a href=\"/privacy_policy\">Privacy Policy</a>\\nand\\n<a href=\"/terms_of_service\">Terms of Service</a>\\n\\n</div>\\n</div>\\n<div class=\\'vanilla-modal\\' data-homepage-modal data-vanilla-modal>\\n<div class=\\'vanilla-modal_inner\\' data-vanilla-modal-inner>\\n<a class=\\'vanilla-modal_close-btn\\' data-vanilla-modal-close>&times;</a>\\n<div class=\\'vanilla-modal_content\\' data-vanilla-modal-content></div>\\n</div>\\n</div>\\n\\n</div>\\n<div data-navi-footer-ip-address=\"72.226.35.235\"><footer class=\\'navi_footer\\' data-global-footer data-navi-footer>\\n<div class=\\'navi_footer-grid\\'>\\n<div class=\\'navi_footer-grid-one-half navi_footer-main-col\\'>\\n<p class=\\'navi_footer-standfirst\\'>General Assembly is a pioneer in education and career transformation, specializing in today’s most in-demand skills. The leading source for training, staffing, and career transitions, we foster a flourishing community of professionals pursuing careers they love.</p>\\n<a class=\\'navi_footer-social-icons_facebook\\' href=\\'http://www.facebook.com/gnrlassembly\\' target=\\'_blank\\' title=\\'Visit General Assembly on Facebook\\'>\\nFacebook\\n</a>\\n<a class=\\'navi_footer-social-icons_twitter\\' href=\\'https://twitter.com/ga\\' target=\\'_blank\\' title=\\'Follow @GA on Twitter\\'>\\nTwitter\\n</a>\\n<a class=\\'navi_footer-social-icons_linkedin\\' href=\\'http://www.linkedin.com/company/2408664\\' target=\\'_blank\\' title=\\'Network with General Assembly on LinkedIn\\'>\\nLinkedIn\\n</a>\\n<a class=\\'navi_footer-social-icons_instagram\\' href=\\'http://instagram.com/generalassembly\\' target=\\'_blank\\' title=\\'See what’s happening on GA’s Instagram.\\'>\\nInstagram\\n</a>\\n<a class=\\'navi_footer-social-icons_googleplus\\' href=\\'https://plus.google.com/+GeneralAssembly\\' rel=\\'publisher\\' target=\\'_blank\\' title=\\'Visit General Assembly on Google Plus\\'>\\nGoogle+\\n</a>\\n<a class=\\'navi_footer-social-icons_youtube\\' href=\\'https://www.youtube.com/channel/UCh1rrm00DbprS8UcLd4ochw\\' rel=\\'publisher\\' target=\\'_blank\\' title=\\'Visit General Assembly on YouTube\\'>\\nYouTube\\n</a>\\n<div class=\\'navi_footer-signup-container\\' data-navi-footer-signup></div>\\n<p class=\\'singapore-footnote\\' data-singapore-footnote>\\nGeneral Assembly Space Academy\\n<br>\\nACRA UEN NUMBER: 201524437R\\n<br>\\nERF Registration Period: 8 September 2015 - 7 September 2016\\n</p>\\n</div>\\n<div class=\\'navi_footer-grid-one-half ga-end-row\\'>\\n<div class=\\'navi_footer-grid-full\\'>\\n<div class=\\'navi_footer-grid-one-half\\'>\\n<div class=\\'nav_footer-links\\'>\\n<h2 class=\\'navi_footer-links_header\\'>Company</h2>\\n<ul class=\\'navi_footer-links_list\\'>\\n<li><a class=\"navi_footer-links_list_item\" href=\"/why-ga-is-worth-it\">About</a></li>\\n<li><a class=\"navi_footer-links_list_item\" href=\"/locations\">Locations</a></li>\\n<li><a class=\"navi_footer-links_list_item\" href=\"https://theindex.generalassemb.ly/\">Blog</a></li>\\n<li><a class=\"navi_footer-links_list_item\" href=\"/careers\">Careers</a></li>\\n<li><a class=\"navi_footer-links_list_item\" href=\"/contact\">Contact</a></li>\\n<li><a class=\"navi_footer-links_list_item\" href=\"/faq\">FAQ</a></li>\\n<li><a class=\"navi_footer-links_list_item\" href=\"/press\">Press</a></li>\\n</ul>\\n</div>\\n</div>\\n<div class=\\'navi_footer-grid-one-half ga-end-row\\'>\\n<div class=\\'nav_footer-links\\'>\\n<h2 class=\\'navi_footer-links_header\\'>Community</h2>\\n<ul class=\\'navi_footer-links_list\\'>\\n<li><a class=\"navi_footer-links_list_item\" href=\"/teach-at-ga\">Become an Instructor</a></li>\\n<li><a class=\"navi_footer-links_list_item\" href=\"/gi-bill\">Veteran Resources</a></li>\\n<li><a class=\"navi_footer-links_list_item\" href=\"/corporate-digital-training\">Corporate Digital Training</a></li>\\n<li><a class=\"navi_footer-links_list_item\" href=\"/opportunity-fund/partners\">Fund a Scholarship</a></li>\\n<li><a class=\"navi_footer-links_list_item\" href=\"/corporate-digital-training/talent-acquisition\">Talent Acquisition</a></li>\\n<li><a class=\"navi_footer-links_list_item\" href=\"/corporate-digital-training/talent-assessment\">Benchmark Talent</a></li>\\n</ul>\\n</div>\\n</div>\\n</div>\\n</div>\\n</div>\\n<div class=\\'navi_footer-grid\\'>\\n<div class=\\'navi_footer-grid-one-whole navi_footer-footnote\\'>\\n<p class=\\'navi_footer-footnote_copyright\\'>\\n&copy;\\n2019\\nGeneral Assembly. All rights reserved.\\n</p>\\n<ul class=\\'navi_footer-footnote_links\\'>\\n<li><a href=\"/regulatory-information\">Regulatory Information</a></li>\\n<li><a href=\"/terms_of_service\">Terms</a></li>\\n<li><a href=\"/privacy_policy\">Privacy</a></li>\\n</ul>\\n<p class=\\'navi_footer-footnote_builtin\\'>\\n<a target=\"_blank\" href=\"http://nytm.org/made-in-nyc\">Assembled in NYC</a>\\n</p>\\n</div>\\n</div>\\n</footer>\\n</div>\\n<div data-new-user-lightbox-ip-address=\"72.226.35.235\" data-new-user-lightbox-current-metro-id=\"1\"><section class=\\'new_user_lightbox disabled\\' data-metros=\"&lt;option disabled=\\'disabled\\' hidden=\\'hidden\\' selected=\\'selected\\' value=\\'\\'&gt;Please choose&lt;/option&gt;,&lt;option data-metro-id=\\'16\\' value=\\'online\\'&gt;Online&lt;/option&gt;,&lt;option disabled=\\'disabled\\' value=\\'\\'&gt;──────────&lt;/option&gt;,&lt;option data-metro-id=\\'13\\' value=\\'atlanta\\'&gt;Atlanta&lt;/option&gt;,&lt;option data-metro-id=\\'11\\' value=\\'austin\\'&gt;Austin&lt;/option&gt;,&lt;option data-metro-id=\\'7\\' value=\\'boston\\'&gt;Boston&lt;/option&gt;,&lt;option data-metro-id=\\'15\\' value=\\'chicago\\'&gt;Chicago&lt;/option&gt;,&lt;option data-metro-id=\\'17\\' value=\\'dallas\\'&gt;Dallas&lt;/option&gt;,&lt;option data-metro-id=\\'19\\' value=\\'denver\\'&gt;Denver&lt;/option&gt;,&lt;option data-metro-id=\\'71\\' value=\\'houston\\'&gt;Houston&lt;/option&gt;,&lt;option data-metro-id=\\'3\\' value=\\'london\\'&gt;London&lt;/option&gt;,&lt;option data-metro-id=\\'8\\' value=\\'los-angeles\\'&gt;Los Angeles&lt;/option&gt;,&lt;option data-metro-id=\\'9\\' value=\\'melbourne\\'&gt;Melbourne&lt;/option&gt;,&lt;option data-metro-id=\\'1\\' value=\\'new-york-city\\'&gt;New York City&lt;/option&gt;,&lt;option data-metro-id=\\'30\\' value=\\'orlando\\'&gt;Orlando&lt;/option&gt;,&lt;option data-metro-id=\\'70\\' value=\\'paris\\'&gt;Paris&lt;/option&gt;,&lt;option data-metro-id=\\'31\\' value=\\'phoenix\\'&gt;Phoenix&lt;/option&gt;,&lt;option data-metro-id=\\'24\\' value=\\'providence\\'&gt;Providence&lt;/option&gt;,&lt;option data-metro-id=\\'25\\' value=\\'san-diego\\'&gt;San Diego&lt;/option&gt;,&lt;option data-metro-id=\\'2\\' value=\\'san-francisco\\'&gt;San Francisco&lt;/option&gt;,&lt;option data-metro-id=\\'14\\' value=\\'seattle\\'&gt;Seattle&lt;/option&gt;,&lt;option data-metro-id=\\'18\\' value=\\'singapore\\'&gt;Singapore&lt;/option&gt;,&lt;option data-metro-id=\\'36\\' value=\\'stamford\\'&gt;Stamford&lt;/option&gt;,&lt;option data-metro-id=\\'5\\' value=\\'sydney\\'&gt;Sydney&lt;/option&gt;,&lt;option data-metro-id=\\'21\\' value=\\'toronto\\'&gt;Toronto&lt;/option&gt;,&lt;option data-metro-id=\\'10\\' value=\\'washington-dc\\'&gt;Washington, D.C.&lt;/option&gt;\" data-navi-new-user-lightbox data-topics=\"&lt;label for=\\'coding\\'&gt;&lt;input type=\\'checkbox\\' name=\\'topics\\' id=\\'coding\\' value=\\'coding\\'&gt;Coding&lt;/label&gt;&lt;label for=\\'marketing\\'&gt;&lt;input type=\\'checkbox\\' name=\\'topics\\' id=\\'marketing\\' value=\\'marketing\\'&gt;Marketing&lt;/label&gt;&lt;label for=\\'design\\'&gt;&lt;input type=\\'checkbox\\' name=\\'topics\\' id=\\'design\\' value=\\'design\\'&gt;Design&lt;/label&gt;&lt;label for=\\'data\\'&gt;&lt;input type=\\'checkbox\\' name=\\'topics\\' id=\\'data\\' value=\\'data\\'&gt;Data&lt;/label&gt;&lt;label for=\\'business\\'&gt;&lt;input type=\\'checkbox\\' name=\\'topics\\' id=\\'business\\' value=\\'business\\'&gt;Business&lt;/label&gt;\"></section>\\n</div>\\n<div id=\"ga-analytics\" style=\"display: none\" data-pinterest-domain-code=\"7dc9da01bd1d54afbb191ba94edbba29\" data-google-property-id=\"UA-18018358-1\" data-google-domain=\"generalassemb.ly\" data-blitz-code=\"mu-4d45fc15-539c4c39-eb0064d8-4db45b83\" data-current-metro-id=\"1\" data-current-metro=\"new-york-city\" data-current-ip=\"72.226.35.235\" data-current-lat=\"40.7465\" data-current-lon=\"-73.909\" data-domain=\"generalassemb.ly\" data-current-page=\"homepage\"></div>\\n<script src=\"https://ga-shop-production-herokuapp-com.global.ssl.fastly.net/assets/application-b998999e23134a46a0efa2ad2f2d509734c2bd64eb73c87c14685191d4470757.js\"></script>\\n\\n<script src=\"https://ga-navi-production-herokuapp-com.global.ssl.fastly.net/assets/application-eca80d88b9ba6b3855e123e8264c373acf7a90c4aa46a43b03c2a4987e2285ee.js\"></script>\\n</body>\\n</html>\\n'"
      ]
     },
     "execution_count": 14,
     "metadata": {},
     "output_type": "execute_result"
    }
   ],
   "source": [
    "# we can also get the content of our request embedded as text\n",
    "req.text"
   ]
  },
  {
   "cell_type": "code",
   "execution_count": 16,
   "metadata": {
    "slideshow": {
     "slide_type": "slide"
    }
   },
   "outputs": [
    {
     "ename": "JSONDecodeError",
     "evalue": "Expecting value: line 1 column 1 (char 0)",
     "output_type": "error",
     "traceback": [
      "\u001b[1;31m---------------------------------------------------------------------------\u001b[0m",
      "\u001b[1;31mJSONDecodeError\u001b[0m                           Traceback (most recent call last)",
      "\u001b[1;32m<ipython-input-16-ea8849b3977c>\u001b[0m in \u001b[0;36m<module>\u001b[1;34m\u001b[0m\n\u001b[1;32m----> 1\u001b[1;33m \u001b[0mreq\u001b[0m\u001b[1;33m.\u001b[0m\u001b[0mjson\u001b[0m\u001b[1;33m(\u001b[0m\u001b[1;33m)\u001b[0m\u001b[1;33m\u001b[0m\u001b[1;33m\u001b[0m\u001b[0m\n\u001b[0m",
      "\u001b[1;32m~\\Anaconda\\lib\\site-packages\\requests\\models.py\u001b[0m in \u001b[0;36mjson\u001b[1;34m(self, **kwargs)\u001b[0m\n\u001b[0;32m    895\u001b[0m                     \u001b[1;31m# used.\u001b[0m\u001b[1;33m\u001b[0m\u001b[1;33m\u001b[0m\u001b[1;33m\u001b[0m\u001b[0m\n\u001b[0;32m    896\u001b[0m                     \u001b[1;32mpass\u001b[0m\u001b[1;33m\u001b[0m\u001b[1;33m\u001b[0m\u001b[0m\n\u001b[1;32m--> 897\u001b[1;33m         \u001b[1;32mreturn\u001b[0m \u001b[0mcomplexjson\u001b[0m\u001b[1;33m.\u001b[0m\u001b[0mloads\u001b[0m\u001b[1;33m(\u001b[0m\u001b[0mself\u001b[0m\u001b[1;33m.\u001b[0m\u001b[0mtext\u001b[0m\u001b[1;33m,\u001b[0m \u001b[1;33m**\u001b[0m\u001b[0mkwargs\u001b[0m\u001b[1;33m)\u001b[0m\u001b[1;33m\u001b[0m\u001b[1;33m\u001b[0m\u001b[0m\n\u001b[0m\u001b[0;32m    898\u001b[0m \u001b[1;33m\u001b[0m\u001b[0m\n\u001b[0;32m    899\u001b[0m     \u001b[1;33m@\u001b[0m\u001b[0mproperty\u001b[0m\u001b[1;33m\u001b[0m\u001b[1;33m\u001b[0m\u001b[0m\n",
      "\u001b[1;32m~\\Anaconda\\lib\\site-packages\\simplejson\\__init__.py\u001b[0m in \u001b[0;36mloads\u001b[1;34m(s, encoding, cls, object_hook, parse_float, parse_int, parse_constant, object_pairs_hook, use_decimal, **kw)\u001b[0m\n\u001b[0;32m    516\u001b[0m             \u001b[0mparse_constant\u001b[0m \u001b[1;32mis\u001b[0m \u001b[1;32mNone\u001b[0m \u001b[1;32mand\u001b[0m \u001b[0mobject_pairs_hook\u001b[0m \u001b[1;32mis\u001b[0m \u001b[1;32mNone\u001b[0m\u001b[1;33m\u001b[0m\u001b[1;33m\u001b[0m\u001b[0m\n\u001b[0;32m    517\u001b[0m             and not use_decimal and not kw):\n\u001b[1;32m--> 518\u001b[1;33m         \u001b[1;32mreturn\u001b[0m \u001b[0m_default_decoder\u001b[0m\u001b[1;33m.\u001b[0m\u001b[0mdecode\u001b[0m\u001b[1;33m(\u001b[0m\u001b[0ms\u001b[0m\u001b[1;33m)\u001b[0m\u001b[1;33m\u001b[0m\u001b[1;33m\u001b[0m\u001b[0m\n\u001b[0m\u001b[0;32m    519\u001b[0m     \u001b[1;32mif\u001b[0m \u001b[0mcls\u001b[0m \u001b[1;32mis\u001b[0m \u001b[1;32mNone\u001b[0m\u001b[1;33m:\u001b[0m\u001b[1;33m\u001b[0m\u001b[1;33m\u001b[0m\u001b[0m\n\u001b[0;32m    520\u001b[0m         \u001b[0mcls\u001b[0m \u001b[1;33m=\u001b[0m \u001b[0mJSONDecoder\u001b[0m\u001b[1;33m\u001b[0m\u001b[1;33m\u001b[0m\u001b[0m\n",
      "\u001b[1;32m~\\Anaconda\\lib\\site-packages\\simplejson\\decoder.py\u001b[0m in \u001b[0;36mdecode\u001b[1;34m(self, s, _w, _PY3)\u001b[0m\n\u001b[0;32m    368\u001b[0m         \u001b[1;32mif\u001b[0m \u001b[0m_PY3\u001b[0m \u001b[1;32mand\u001b[0m \u001b[0misinstance\u001b[0m\u001b[1;33m(\u001b[0m\u001b[0ms\u001b[0m\u001b[1;33m,\u001b[0m \u001b[0mbytes\u001b[0m\u001b[1;33m)\u001b[0m\u001b[1;33m:\u001b[0m\u001b[1;33m\u001b[0m\u001b[1;33m\u001b[0m\u001b[0m\n\u001b[0;32m    369\u001b[0m             \u001b[0ms\u001b[0m \u001b[1;33m=\u001b[0m \u001b[0mstr\u001b[0m\u001b[1;33m(\u001b[0m\u001b[0ms\u001b[0m\u001b[1;33m,\u001b[0m \u001b[0mself\u001b[0m\u001b[1;33m.\u001b[0m\u001b[0mencoding\u001b[0m\u001b[1;33m)\u001b[0m\u001b[1;33m\u001b[0m\u001b[1;33m\u001b[0m\u001b[0m\n\u001b[1;32m--> 370\u001b[1;33m         \u001b[0mobj\u001b[0m\u001b[1;33m,\u001b[0m \u001b[0mend\u001b[0m \u001b[1;33m=\u001b[0m \u001b[0mself\u001b[0m\u001b[1;33m.\u001b[0m\u001b[0mraw_decode\u001b[0m\u001b[1;33m(\u001b[0m\u001b[0ms\u001b[0m\u001b[1;33m)\u001b[0m\u001b[1;33m\u001b[0m\u001b[1;33m\u001b[0m\u001b[0m\n\u001b[0m\u001b[0;32m    371\u001b[0m         \u001b[0mend\u001b[0m \u001b[1;33m=\u001b[0m \u001b[0m_w\u001b[0m\u001b[1;33m(\u001b[0m\u001b[0ms\u001b[0m\u001b[1;33m,\u001b[0m \u001b[0mend\u001b[0m\u001b[1;33m)\u001b[0m\u001b[1;33m.\u001b[0m\u001b[0mend\u001b[0m\u001b[1;33m(\u001b[0m\u001b[1;33m)\u001b[0m\u001b[1;33m\u001b[0m\u001b[1;33m\u001b[0m\u001b[0m\n\u001b[0;32m    372\u001b[0m         \u001b[1;32mif\u001b[0m \u001b[0mend\u001b[0m \u001b[1;33m!=\u001b[0m \u001b[0mlen\u001b[0m\u001b[1;33m(\u001b[0m\u001b[0ms\u001b[0m\u001b[1;33m)\u001b[0m\u001b[1;33m:\u001b[0m\u001b[1;33m\u001b[0m\u001b[1;33m\u001b[0m\u001b[0m\n",
      "\u001b[1;32m~\\Anaconda\\lib\\site-packages\\simplejson\\decoder.py\u001b[0m in \u001b[0;36mraw_decode\u001b[1;34m(self, s, idx, _w, _PY3)\u001b[0m\n\u001b[0;32m    398\u001b[0m             \u001b[1;32melif\u001b[0m \u001b[0mord0\u001b[0m \u001b[1;33m==\u001b[0m \u001b[1;36m0xef\u001b[0m \u001b[1;32mand\u001b[0m \u001b[0ms\u001b[0m\u001b[1;33m[\u001b[0m\u001b[0midx\u001b[0m\u001b[1;33m:\u001b[0m\u001b[0midx\u001b[0m \u001b[1;33m+\u001b[0m \u001b[1;36m3\u001b[0m\u001b[1;33m]\u001b[0m \u001b[1;33m==\u001b[0m \u001b[1;34m'\\xef\\xbb\\xbf'\u001b[0m\u001b[1;33m:\u001b[0m\u001b[1;33m\u001b[0m\u001b[1;33m\u001b[0m\u001b[0m\n\u001b[0;32m    399\u001b[0m                 \u001b[0midx\u001b[0m \u001b[1;33m+=\u001b[0m \u001b[1;36m3\u001b[0m\u001b[1;33m\u001b[0m\u001b[1;33m\u001b[0m\u001b[0m\n\u001b[1;32m--> 400\u001b[1;33m         \u001b[1;32mreturn\u001b[0m \u001b[0mself\u001b[0m\u001b[1;33m.\u001b[0m\u001b[0mscan_once\u001b[0m\u001b[1;33m(\u001b[0m\u001b[0ms\u001b[0m\u001b[1;33m,\u001b[0m \u001b[0midx\u001b[0m\u001b[1;33m=\u001b[0m\u001b[0m_w\u001b[0m\u001b[1;33m(\u001b[0m\u001b[0ms\u001b[0m\u001b[1;33m,\u001b[0m \u001b[0midx\u001b[0m\u001b[1;33m)\u001b[0m\u001b[1;33m.\u001b[0m\u001b[0mend\u001b[0m\u001b[1;33m(\u001b[0m\u001b[1;33m)\u001b[0m\u001b[1;33m)\u001b[0m\u001b[1;33m\u001b[0m\u001b[1;33m\u001b[0m\u001b[0m\n\u001b[0m",
      "\u001b[1;32m~\\Anaconda\\lib\\site-packages\\simplejson\\scanner.py\u001b[0m in \u001b[0;36mscan_once\u001b[1;34m(string, idx)\u001b[0m\n\u001b[0;32m     77\u001b[0m             \u001b[1;32mraise\u001b[0m \u001b[0mJSONDecodeError\u001b[0m\u001b[1;33m(\u001b[0m\u001b[1;34m'Expecting value'\u001b[0m\u001b[1;33m,\u001b[0m \u001b[0mstring\u001b[0m\u001b[1;33m,\u001b[0m \u001b[0midx\u001b[0m\u001b[1;33m)\u001b[0m\u001b[1;33m\u001b[0m\u001b[1;33m\u001b[0m\u001b[0m\n\u001b[0;32m     78\u001b[0m         \u001b[1;32mtry\u001b[0m\u001b[1;33m:\u001b[0m\u001b[1;33m\u001b[0m\u001b[1;33m\u001b[0m\u001b[0m\n\u001b[1;32m---> 79\u001b[1;33m             \u001b[1;32mreturn\u001b[0m \u001b[0m_scan_once\u001b[0m\u001b[1;33m(\u001b[0m\u001b[0mstring\u001b[0m\u001b[1;33m,\u001b[0m \u001b[0midx\u001b[0m\u001b[1;33m)\u001b[0m\u001b[1;33m\u001b[0m\u001b[1;33m\u001b[0m\u001b[0m\n\u001b[0m\u001b[0;32m     80\u001b[0m         \u001b[1;32mfinally\u001b[0m\u001b[1;33m:\u001b[0m\u001b[1;33m\u001b[0m\u001b[1;33m\u001b[0m\u001b[0m\n\u001b[0;32m     81\u001b[0m             \u001b[0mmemo\u001b[0m\u001b[1;33m.\u001b[0m\u001b[0mclear\u001b[0m\u001b[1;33m(\u001b[0m\u001b[1;33m)\u001b[0m\u001b[1;33m\u001b[0m\u001b[1;33m\u001b[0m\u001b[0m\n",
      "\u001b[1;32m~\\Anaconda\\lib\\site-packages\\simplejson\\scanner.py\u001b[0m in \u001b[0;36m_scan_once\u001b[1;34m(string, idx)\u001b[0m\n\u001b[0;32m     68\u001b[0m             \u001b[1;32mreturn\u001b[0m \u001b[0mparse_constant\u001b[0m\u001b[1;33m(\u001b[0m\u001b[1;34m'-Infinity'\u001b[0m\u001b[1;33m)\u001b[0m\u001b[1;33m,\u001b[0m \u001b[0midx\u001b[0m \u001b[1;33m+\u001b[0m \u001b[1;36m9\u001b[0m\u001b[1;33m\u001b[0m\u001b[1;33m\u001b[0m\u001b[0m\n\u001b[0;32m     69\u001b[0m         \u001b[1;32melse\u001b[0m\u001b[1;33m:\u001b[0m\u001b[1;33m\u001b[0m\u001b[1;33m\u001b[0m\u001b[0m\n\u001b[1;32m---> 70\u001b[1;33m             \u001b[1;32mraise\u001b[0m \u001b[0mJSONDecodeError\u001b[0m\u001b[1;33m(\u001b[0m\u001b[0merrmsg\u001b[0m\u001b[1;33m,\u001b[0m \u001b[0mstring\u001b[0m\u001b[1;33m,\u001b[0m \u001b[0midx\u001b[0m\u001b[1;33m)\u001b[0m\u001b[1;33m\u001b[0m\u001b[1;33m\u001b[0m\u001b[0m\n\u001b[0m\u001b[0;32m     71\u001b[0m \u001b[1;33m\u001b[0m\u001b[0m\n\u001b[0;32m     72\u001b[0m     \u001b[1;32mdef\u001b[0m \u001b[0mscan_once\u001b[0m\u001b[1;33m(\u001b[0m\u001b[0mstring\u001b[0m\u001b[1;33m,\u001b[0m \u001b[0midx\u001b[0m\u001b[1;33m)\u001b[0m\u001b[1;33m:\u001b[0m\u001b[1;33m\u001b[0m\u001b[1;33m\u001b[0m\u001b[0m\n",
      "\u001b[1;31mJSONDecodeError\u001b[0m: Expecting value: line 1 column 1 (char 0)"
     ]
    }
   ],
   "source": [
    "# this request does NOT provide data as JSON\n",
    "req.json()"
   ]
  },
  {
   "cell_type": "markdown",
   "metadata": {
    "slideshow": {
     "slide_type": "slide"
    }
   },
   "source": [
    "<a id='ex1-star-wars'></a>\n",
    "### Further Example: Star Wars\n",
    "\n",
    "The Star Wars API (SWAPI) is a large collection of data about Star Wars. It can be browsed at the address: http://swapi.co/.\n",
    "\n",
    "**Let's try for example to retrieve the data about the \"Obi-Wan Kenobi\".**\n",
    "\n",
    "Referencing the [SWAPI Documentation](http://swapi.co/documentation), lets create a query to search for characters with \"obi\" in their name.\n",
    "\n",
    "**In a browser, paste:**\n",
    "\n",
    "    https://swapi.co/api/people/?format=json&search=obi\n"
   ]
  },
  {
   "cell_type": "code",
   "execution_count": 17,
   "metadata": {
    "slideshow": {
     "slide_type": "slide"
    }
   },
   "outputs": [
    {
     "data": {
      "text/plain": [
       "{'count': 1,\n",
       " 'next': None,\n",
       " 'previous': None,\n",
       " 'results': [{'name': 'Obi-Wan Kenobi',\n",
       "   'height': '182',\n",
       "   'mass': '77',\n",
       "   'hair_color': 'auburn, white',\n",
       "   'skin_color': 'fair',\n",
       "   'eye_color': 'blue-gray',\n",
       "   'birth_year': '57BBY',\n",
       "   'gender': 'male',\n",
       "   'homeworld': 'https://swapi.co/api/planets/20/',\n",
       "   'films': ['https://swapi.co/api/films/2/',\n",
       "    'https://swapi.co/api/films/5/',\n",
       "    'https://swapi.co/api/films/4/',\n",
       "    'https://swapi.co/api/films/6/',\n",
       "    'https://swapi.co/api/films/3/',\n",
       "    'https://swapi.co/api/films/1/'],\n",
       "   'species': ['https://swapi.co/api/species/1/'],\n",
       "   'vehicles': ['https://swapi.co/api/vehicles/38/'],\n",
       "   'starships': ['https://swapi.co/api/starships/48/',\n",
       "    'https://swapi.co/api/starships/59/',\n",
       "    'https://swapi.co/api/starships/64/',\n",
       "    'https://swapi.co/api/starships/65/',\n",
       "    'https://swapi.co/api/starships/74/'],\n",
       "   'created': '2014-12-10T16:16:29.192000Z',\n",
       "   'edited': '2014-12-20T21:17:50.325000Z',\n",
       "   'url': 'https://swapi.co/api/people/10/'}]}"
      ]
     },
     "execution_count": 17,
     "metadata": {},
     "output_type": "execute_result"
    }
   ],
   "source": [
    "# Request example for the SWAPI example\n",
    "import pandas as pd\n",
    "import requests\n",
    "\n",
    "result = requests.get(\"https://swapi.co/api/people/?format=json&search=obi\")\n",
    "result.json()"
   ]
  },
  {
   "cell_type": "code",
   "execution_count": 31,
   "metadata": {
    "slideshow": {
     "slide_type": "slide"
    }
   },
   "outputs": [
    {
     "data": {
      "text/plain": [
       "[{'name': 'Obi-Wan Kenobi',\n",
       "  'height': '182',\n",
       "  'mass': '77',\n",
       "  'hair_color': 'auburn, white',\n",
       "  'skin_color': 'fair',\n",
       "  'eye_color': 'blue-gray',\n",
       "  'birth_year': '57BBY',\n",
       "  'gender': 'male',\n",
       "  'homeworld': 'https://swapi.co/api/planets/20/',\n",
       "  'films': ['https://swapi.co/api/films/2/',\n",
       "   'https://swapi.co/api/films/5/',\n",
       "   'https://swapi.co/api/films/4/',\n",
       "   'https://swapi.co/api/films/6/',\n",
       "   'https://swapi.co/api/films/3/',\n",
       "   'https://swapi.co/api/films/1/'],\n",
       "  'species': ['https://swapi.co/api/species/1/'],\n",
       "  'vehicles': ['https://swapi.co/api/vehicles/38/'],\n",
       "  'starships': ['https://swapi.co/api/starships/48/',\n",
       "   'https://swapi.co/api/starships/59/',\n",
       "   'https://swapi.co/api/starships/64/',\n",
       "   'https://swapi.co/api/starships/65/',\n",
       "   'https://swapi.co/api/starships/74/'],\n",
       "  'created': '2014-12-10T16:16:29.192000Z',\n",
       "  'edited': '2014-12-20T21:17:50.325000Z',\n",
       "  'url': 'https://swapi.co/api/people/10/'}]"
      ]
     },
     "execution_count": 31,
     "metadata": {},
     "output_type": "execute_result"
    }
   ],
   "source": [
    "# this gives us access to the appropriate data that we need\n",
    "result.json()['results']"
   ]
  },
  {
   "cell_type": "code",
   "execution_count": 32,
   "metadata": {
    "slideshow": {
     "slide_type": "slide"
    }
   },
   "outputs": [
    {
     "data": {
      "text/html": [
       "<div>\n",
       "<style scoped>\n",
       "    .dataframe tbody tr th:only-of-type {\n",
       "        vertical-align: middle;\n",
       "    }\n",
       "\n",
       "    .dataframe tbody tr th {\n",
       "        vertical-align: top;\n",
       "    }\n",
       "\n",
       "    .dataframe thead th {\n",
       "        text-align: right;\n",
       "    }\n",
       "</style>\n",
       "<table border=\"1\" class=\"dataframe\">\n",
       "  <thead>\n",
       "    <tr style=\"text-align: right;\">\n",
       "      <th></th>\n",
       "      <th>birth_year</th>\n",
       "      <th>created</th>\n",
       "      <th>edited</th>\n",
       "      <th>eye_color</th>\n",
       "      <th>films</th>\n",
       "      <th>gender</th>\n",
       "      <th>hair_color</th>\n",
       "      <th>height</th>\n",
       "      <th>homeworld</th>\n",
       "      <th>mass</th>\n",
       "      <th>name</th>\n",
       "      <th>skin_color</th>\n",
       "      <th>species</th>\n",
       "      <th>starships</th>\n",
       "      <th>url</th>\n",
       "      <th>vehicles</th>\n",
       "    </tr>\n",
       "  </thead>\n",
       "  <tbody>\n",
       "    <tr>\n",
       "      <th>0</th>\n",
       "      <td>57BBY</td>\n",
       "      <td>2014-12-10T16:16:29.192000Z</td>\n",
       "      <td>2014-12-20T21:17:50.325000Z</td>\n",
       "      <td>blue-gray</td>\n",
       "      <td>[https://swapi.co/api/films/2/, https://swapi....</td>\n",
       "      <td>male</td>\n",
       "      <td>auburn, white</td>\n",
       "      <td>182</td>\n",
       "      <td>https://swapi.co/api/planets/20/</td>\n",
       "      <td>77</td>\n",
       "      <td>Obi-Wan Kenobi</td>\n",
       "      <td>fair</td>\n",
       "      <td>[https://swapi.co/api/species/1/]</td>\n",
       "      <td>[https://swapi.co/api/starships/48/, https://s...</td>\n",
       "      <td>https://swapi.co/api/people/10/</td>\n",
       "      <td>[https://swapi.co/api/vehicles/38/]</td>\n",
       "    </tr>\n",
       "  </tbody>\n",
       "</table>\n",
       "</div>"
      ],
      "text/plain": [
       "  birth_year                      created                       edited  \\\n",
       "0      57BBY  2014-12-10T16:16:29.192000Z  2014-12-20T21:17:50.325000Z   \n",
       "\n",
       "   eye_color                                              films gender  \\\n",
       "0  blue-gray  [https://swapi.co/api/films/2/, https://swapi....   male   \n",
       "\n",
       "      hair_color height                         homeworld mass  \\\n",
       "0  auburn, white    182  https://swapi.co/api/planets/20/   77   \n",
       "\n",
       "             name skin_color                            species  \\\n",
       "0  Obi-Wan Kenobi       fair  [https://swapi.co/api/species/1/]   \n",
       "\n",
       "                                           starships  \\\n",
       "0  [https://swapi.co/api/starships/48/, https://s...   \n",
       "\n",
       "                               url                             vehicles  \n",
       "0  https://swapi.co/api/people/10/  [https://swapi.co/api/vehicles/38/]  "
      ]
     },
     "execution_count": 32,
     "metadata": {},
     "output_type": "execute_result"
    }
   ],
   "source": [
    "df = pd.DataFrame(result.json()['results'])\n",
    "df.head()"
   ]
  },
  {
   "cell_type": "markdown",
   "metadata": {
    "slideshow": {
     "slide_type": "slide"
    }
   },
   "source": [
    "<a id='ex2-geocode'></a>\n",
    "### Example 2: Google Geocode API\n",
    "\n",
    "Google offers a freely accessible API to query their GEO databases.  One of the many features Google Maps API provides is a way to get longitude and latitude coordinates from addresses.\n",
    "\n",
    "**Try pasting the following line in your browser:**\n",
    "\n",
    "    https://maps.googleapis.com/maps/api/geocode/json?address=225+Bush+St+San+Francisco+CA"
   ]
  },
  {
   "cell_type": "code",
   "execution_count": 2,
   "metadata": {},
   "outputs": [
    {
     "name": "stdout",
     "output_type": "stream",
     "text": [
      "{'lat': 37.790841, 'lng': -122.4012802}\n"
     ]
    }
   ],
   "source": [
    "# Request the resource from google maps\n",
    "result = requests.get(\"https://maps.googleapis.com/maps/api/geocode/json?address=225+Bush+St+San+Francisco+CA\")\n",
    "google_result = result.json()\n",
    "\n",
    "# Loop through results and display lat, lon values for reverse geocode\n",
    "for item in google_result['results']:\n",
    "    print(item['geometry']['location'])"
   ]
  },
  {
   "cell_type": "markdown",
   "metadata": {
    "slideshow": {
     "slide_type": "slide"
    }
   },
   "source": [
    "<a id='oauth'></a>\n",
    "## OAuth\n",
    "\n",
    "---\n",
    "\n",
    "**OAuth (Open Authorization)** is simply a secure authorization protocol that often deals with the authorization of a third-party application to access a user's data without exposing their password (e.g., Login with Facebook, gPlus, Twitter in many websites). \n",
    "\n",
    "For example, before your application can access a user's Facebook data, the user must give your application consent first. As you can imagine, this is a more complex process than before since it involves the user.\n",
    "\n",
    "There are three parties involved: **OAuth Provider**, **OAuth Client**, and the **Owner**.\n",
    "\n",
    "- OAuth Client (Application Which wants to access your credential)\n",
    "- OAuth Provider (eg. facebook, twitter...)\n",
    "- Owner (the one with facebook,twitter.. account )\n",
    "\n",
    "There are various levels of OAuth access. For security, some APIs (such as the Yelp API) require OAuth access despite there not being any conventional users. These sites require a less complicated OAuth procedure.\n",
    "\n",
    "### Implementing OAuth in Python\n",
    "\n",
    "There are a number of OAuth libraries available in Python. If you are using a popular website such as Facebook, it is recommended to use their official Python library to handle the OAuth. If not, it is possible to code your own OAuth procedure. Because OAuth requires back-and-forth with your web application, discussing implementation details is outside of the scope of this lesson.\n",
    "\n",
    "You can read more about OAuth here: http://oauth.net/2/"
   ]
  },
  {
   "cell_type": "markdown",
   "metadata": {
    "slideshow": {
     "slide_type": "slide"
    }
   },
   "source": [
    "### OAuth Example:  client work with instagram\n",
    "\n",
    "![](assets/oAuth1.png)"
   ]
  },
  {
   "cell_type": "markdown",
   "metadata": {
    "slideshow": {
     "slide_type": "skip"
    }
   },
   "source": [
    "![](assets/oAuth2.png)"
   ]
  },
  {
   "cell_type": "markdown",
   "metadata": {
    "slideshow": {
     "slide_type": "slide"
    }
   },
   "source": [
    "![](assets/oAuth3.png)"
   ]
  },
  {
   "cell_type": "markdown",
   "metadata": {
    "slideshow": {
     "slide_type": "slide"
    }
   },
   "source": [
    "<a name=\"ind-practice2\"></a>\n",
    "## Independent Practice: Python APIs\n",
    "\n",
    "---\n",
    "\n",
    "**Form pairs and do the following:** \n",
    "\n",
    "Go to http://www.pythonforbeginners.com/api/list-of-python-apis  \n",
    "or   \n",
    "https://github.com/realpython/list-of-python-api-wrappers\n",
    "  \n",
    "  \n",
    "- Choose an API: what data is available with your chosen API?\n",
    "- Install Python module (if available for API), try to extract data.\n",
    "- Discuss: How could you leverage that api? How could you use the data?"
   ]
  }
 ],
 "metadata": {
  "anaconda-cloud": {},
  "celltoolbar": "Slideshow",
  "kernelspec": {
   "display_name": "Python 3",
   "language": "python",
   "name": "python3"
  },
  "language_info": {
   "codemirror_mode": {
    "name": "ipython",
    "version": 3
   },
   "file_extension": ".py",
   "mimetype": "text/x-python",
   "name": "python",
   "nbconvert_exporter": "python",
   "pygments_lexer": "ipython3",
   "version": "3.7.1"
  }
 },
 "nbformat": 4,
 "nbformat_minor": 1
}
