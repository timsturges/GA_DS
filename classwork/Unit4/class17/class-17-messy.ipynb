{
 "cells": [
  {
   "cell_type": "code",
   "execution_count": 1,
   "metadata": {},
   "outputs": [],
   "source": [
    "import pandas as pd\n",
    "import mysql.connector as sql"
   ]
  },
  {
   "cell_type": "code",
   "execution_count": 2,
   "metadata": {},
   "outputs": [],
   "source": [
    "import json"
   ]
  },
  {
   "cell_type": "code",
   "execution_count": 11,
   "metadata": {},
   "outputs": [],
   "source": [
    "with open('code/example.json') as f:\n",
    "    data = json.load(f)"
   ]
  },
  {
   "cell_type": "code",
   "execution_count": 12,
   "metadata": {},
   "outputs": [
    {
     "data": {
      "text/plain": [
       "{'glossary': {'title': 'example glossary',\n",
       "  'GlossDiv': {'title': 'S',\n",
       "   'GlossList': {'GlossEntry': {'ID': 'SGML',\n",
       "     'SortAs': 'SGML',\n",
       "     'GlossTerm': 'Standard Generalized Markup Language',\n",
       "     'Acronym': 'SGML',\n",
       "     'Abbrev': 'ISO 8879:1986',\n",
       "     'GlossDef': {'para': 'A meta-markup language, used to create markup languages such as DocBook.',\n",
       "      'GlossSeeAlso': ['GML', 'XML']},\n",
       "     'GlossSee': 'markup'}}}}}"
      ]
     },
     "execution_count": 12,
     "metadata": {},
     "output_type": "execute_result"
    }
   ],
   "source": [
    "data"
   ]
  },
  {
   "cell_type": "code",
   "execution_count": 16,
   "metadata": {},
   "outputs": [],
   "source": [
    "df = pd.read_html('https://finance.yahoo.com/quote/BABA/history?p=BABA')[0]"
   ]
  },
  {
   "cell_type": "code",
   "execution_count": 17,
   "metadata": {},
   "outputs": [
    {
     "data": {
      "text/html": [
       "<div>\n",
       "<style scoped>\n",
       "    .dataframe tbody tr th:only-of-type {\n",
       "        vertical-align: middle;\n",
       "    }\n",
       "\n",
       "    .dataframe tbody tr th {\n",
       "        vertical-align: top;\n",
       "    }\n",
       "\n",
       "    .dataframe thead th {\n",
       "        text-align: right;\n",
       "    }\n",
       "</style>\n",
       "<table border=\"1\" class=\"dataframe\">\n",
       "  <thead>\n",
       "    <tr style=\"text-align: right;\">\n",
       "      <th></th>\n",
       "      <th>Date</th>\n",
       "      <th>Open</th>\n",
       "      <th>High</th>\n",
       "      <th>Low</th>\n",
       "      <th>Close*</th>\n",
       "      <th>Adj Close**</th>\n",
       "      <th>Volume</th>\n",
       "    </tr>\n",
       "  </thead>\n",
       "  <tbody>\n",
       "    <tr>\n",
       "      <th>0</th>\n",
       "      <td>Aug 19, 2019</td>\n",
       "      <td>177.43</td>\n",
       "      <td>178.80</td>\n",
       "      <td>175.59</td>\n",
       "      <td>178.28</td>\n",
       "      <td>178.28</td>\n",
       "      <td>15533983.0</td>\n",
       "    </tr>\n",
       "    <tr>\n",
       "      <th>1</th>\n",
       "      <td>Aug 16, 2019</td>\n",
       "      <td>170.00</td>\n",
       "      <td>177.55</td>\n",
       "      <td>164.36</td>\n",
       "      <td>174.60</td>\n",
       "      <td>174.60</td>\n",
       "      <td>25365500.0</td>\n",
       "    </tr>\n",
       "    <tr>\n",
       "      <th>2</th>\n",
       "      <td>Aug 15, 2019</td>\n",
       "      <td>170.11</td>\n",
       "      <td>171.00</td>\n",
       "      <td>164.36</td>\n",
       "      <td>166.97</td>\n",
       "      <td>166.97</td>\n",
       "      <td>34899100.0</td>\n",
       "    </tr>\n",
       "    <tr>\n",
       "      <th>3</th>\n",
       "      <td>Aug 14, 2019</td>\n",
       "      <td>161.34</td>\n",
       "      <td>163.00</td>\n",
       "      <td>159.21</td>\n",
       "      <td>162.06</td>\n",
       "      <td>162.06</td>\n",
       "      <td>20803700.0</td>\n",
       "    </tr>\n",
       "    <tr>\n",
       "      <th>4</th>\n",
       "      <td>Aug 13, 2019</td>\n",
       "      <td>160.64</td>\n",
       "      <td>167.36</td>\n",
       "      <td>159.57</td>\n",
       "      <td>164.03</td>\n",
       "      <td>164.03</td>\n",
       "      <td>22842900.0</td>\n",
       "    </tr>\n",
       "  </tbody>\n",
       "</table>\n",
       "</div>"
      ],
      "text/plain": [
       "           Date    Open    High     Low  Close*  Adj Close**      Volume\n",
       "0  Aug 19, 2019  177.43  178.80  175.59  178.28       178.28  15533983.0\n",
       "1  Aug 16, 2019  170.00  177.55  164.36  174.60       174.60  25365500.0\n",
       "2  Aug 15, 2019  170.11  171.00  164.36  166.97       166.97  34899100.0\n",
       "3  Aug 14, 2019  161.34  163.00  159.21  162.06       162.06  20803700.0\n",
       "4  Aug 13, 2019  160.64  167.36  159.57  164.03       164.03  22842900.0"
      ]
     },
     "execution_count": 17,
     "metadata": {},
     "output_type": "execute_result"
    }
   ],
   "source": [
    "df.head()"
   ]
  },
  {
   "cell_type": "code",
   "execution_count": 18,
   "metadata": {},
   "outputs": [],
   "source": [
    "baba = pd.read_html('https://finance.yahoo.com/quote/BABA/history?period1=1411099200&period2=1566187200&interval=1wk&filter=history&frequency=1wk')[0]"
   ]
  },
  {
   "cell_type": "code",
   "execution_count": 19,
   "metadata": {},
   "outputs": [
    {
     "data": {
      "text/html": [
       "<div>\n",
       "<style scoped>\n",
       "    .dataframe tbody tr th:only-of-type {\n",
       "        vertical-align: middle;\n",
       "    }\n",
       "\n",
       "    .dataframe tbody tr th {\n",
       "        vertical-align: top;\n",
       "    }\n",
       "\n",
       "    .dataframe thead th {\n",
       "        text-align: right;\n",
       "    }\n",
       "</style>\n",
       "<table border=\"1\" class=\"dataframe\">\n",
       "  <thead>\n",
       "    <tr style=\"text-align: right;\">\n",
       "      <th></th>\n",
       "      <th>Date</th>\n",
       "      <th>Open</th>\n",
       "      <th>High</th>\n",
       "      <th>Low</th>\n",
       "      <th>Close*</th>\n",
       "      <th>Adj Close**</th>\n",
       "      <th>Volume</th>\n",
       "    </tr>\n",
       "  </thead>\n",
       "  <tbody>\n",
       "    <tr>\n",
       "      <th>0</th>\n",
       "      <td>Aug 12, 2019</td>\n",
       "      <td>157.50</td>\n",
       "      <td>177.55</td>\n",
       "      <td>155.54</td>\n",
       "      <td>174.60</td>\n",
       "      <td>174.60</td>\n",
       "      <td>118335600.0</td>\n",
       "    </tr>\n",
       "    <tr>\n",
       "      <th>1</th>\n",
       "      <td>Aug 05, 2019</td>\n",
       "      <td>155.03</td>\n",
       "      <td>162.30</td>\n",
       "      <td>151.85</td>\n",
       "      <td>159.12</td>\n",
       "      <td>159.12</td>\n",
       "      <td>102988300.0</td>\n",
       "    </tr>\n",
       "    <tr>\n",
       "      <th>2</th>\n",
       "      <td>Jul 29, 2019</td>\n",
       "      <td>178.43</td>\n",
       "      <td>179.88</td>\n",
       "      <td>160.35</td>\n",
       "      <td>161.00</td>\n",
       "      <td>161.00</td>\n",
       "      <td>103892700.0</td>\n",
       "    </tr>\n",
       "    <tr>\n",
       "      <th>3</th>\n",
       "      <td>Jul 22, 2019</td>\n",
       "      <td>173.50</td>\n",
       "      <td>179.40</td>\n",
       "      <td>171.44</td>\n",
       "      <td>178.74</td>\n",
       "      <td>178.74</td>\n",
       "      <td>83635500.0</td>\n",
       "    </tr>\n",
       "    <tr>\n",
       "      <th>4</th>\n",
       "      <td>Jul 15, 2019</td>\n",
       "      <td>171.50</td>\n",
       "      <td>176.22</td>\n",
       "      <td>170.42</td>\n",
       "      <td>172.99</td>\n",
       "      <td>172.99</td>\n",
       "      <td>85530700.0</td>\n",
       "    </tr>\n",
       "  </tbody>\n",
       "</table>\n",
       "</div>"
      ],
      "text/plain": [
       "           Date    Open    High     Low  Close*  Adj Close**       Volume\n",
       "0  Aug 12, 2019  157.50  177.55  155.54  174.60       174.60  118335600.0\n",
       "1  Aug 05, 2019  155.03  162.30  151.85  159.12       159.12  102988300.0\n",
       "2  Jul 29, 2019  178.43  179.88  160.35  161.00       161.00  103892700.0\n",
       "3  Jul 22, 2019  173.50  179.40  171.44  178.74       178.74   83635500.0\n",
       "4  Jul 15, 2019  171.50  176.22  170.42  172.99       172.99   85530700.0"
      ]
     },
     "execution_count": 19,
     "metadata": {},
     "output_type": "execute_result"
    }
   ],
   "source": [
    "baba.head()"
   ]
  },
  {
   "cell_type": "code",
   "execution_count": 20,
   "metadata": {},
   "outputs": [
    {
     "data": {
      "text/html": [
       "<div>\n",
       "<style scoped>\n",
       "    .dataframe tbody tr th:only-of-type {\n",
       "        vertical-align: middle;\n",
       "    }\n",
       "\n",
       "    .dataframe tbody tr th {\n",
       "        vertical-align: top;\n",
       "    }\n",
       "\n",
       "    .dataframe thead th {\n",
       "        text-align: right;\n",
       "    }\n",
       "</style>\n",
       "<table border=\"1\" class=\"dataframe\">\n",
       "  <thead>\n",
       "    <tr style=\"text-align: right;\">\n",
       "      <th></th>\n",
       "      <th>Date</th>\n",
       "      <th>Open</th>\n",
       "      <th>High</th>\n",
       "      <th>Low</th>\n",
       "      <th>Close*</th>\n",
       "      <th>Adj Close**</th>\n",
       "      <th>Volume</th>\n",
       "    </tr>\n",
       "  </thead>\n",
       "  <tbody>\n",
       "    <tr>\n",
       "      <th>96</th>\n",
       "      <td>Oct 09, 2017</td>\n",
       "      <td>178.97</td>\n",
       "      <td>184.70</td>\n",
       "      <td>177.97</td>\n",
       "      <td>178.45</td>\n",
       "      <td>178.45</td>\n",
       "      <td>73736200.0</td>\n",
       "    </tr>\n",
       "    <tr>\n",
       "      <th>97</th>\n",
       "      <td>Oct 02, 2017</td>\n",
       "      <td>174.57</td>\n",
       "      <td>180.00</td>\n",
       "      <td>172.57</td>\n",
       "      <td>179.20</td>\n",
       "      <td>179.20</td>\n",
       "      <td>61343200.0</td>\n",
       "    </tr>\n",
       "    <tr>\n",
       "      <th>98</th>\n",
       "      <td>Sep 25, 2017</td>\n",
       "      <td>176.48</td>\n",
       "      <td>177.00</td>\n",
       "      <td>166.79</td>\n",
       "      <td>172.71</td>\n",
       "      <td>172.71</td>\n",
       "      <td>104532900.0</td>\n",
       "    </tr>\n",
       "    <tr>\n",
       "      <th>99</th>\n",
       "      <td>Sep 18, 2017</td>\n",
       "      <td>178.89</td>\n",
       "      <td>180.87</td>\n",
       "      <td>175.30</td>\n",
       "      <td>178.14</td>\n",
       "      <td>178.14</td>\n",
       "      <td>80396900.0</td>\n",
       "    </tr>\n",
       "    <tr>\n",
       "      <th>100</th>\n",
       "      <td>*Close price adjusted for splits.**Adjusted cl...</td>\n",
       "      <td>NaN</td>\n",
       "      <td>NaN</td>\n",
       "      <td>NaN</td>\n",
       "      <td>NaN</td>\n",
       "      <td>NaN</td>\n",
       "      <td>NaN</td>\n",
       "    </tr>\n",
       "  </tbody>\n",
       "</table>\n",
       "</div>"
      ],
      "text/plain": [
       "                                                  Date    Open    High  \\\n",
       "96                                        Oct 09, 2017  178.97  184.70   \n",
       "97                                        Oct 02, 2017  174.57  180.00   \n",
       "98                                        Sep 25, 2017  176.48  177.00   \n",
       "99                                        Sep 18, 2017  178.89  180.87   \n",
       "100  *Close price adjusted for splits.**Adjusted cl...     NaN     NaN   \n",
       "\n",
       "        Low  Close*  Adj Close**       Volume  \n",
       "96   177.97  178.45       178.45   73736200.0  \n",
       "97   172.57  179.20       179.20   61343200.0  \n",
       "98   166.79  172.71       172.71  104532900.0  \n",
       "99   175.30  178.14       178.14   80396900.0  \n",
       "100     NaN     NaN          NaN          NaN  "
      ]
     },
     "execution_count": 20,
     "metadata": {},
     "output_type": "execute_result"
    }
   ],
   "source": [
    "baba.tail()"
   ]
  },
  {
   "cell_type": "code",
   "execution_count": 21,
   "metadata": {},
   "outputs": [
    {
     "data": {
      "text/plain": [
       "(101, 7)"
      ]
     },
     "execution_count": 21,
     "metadata": {},
     "output_type": "execute_result"
    }
   ],
   "source": [
    "baba.shape"
   ]
  },
  {
   "cell_type": "code",
   "execution_count": 23,
   "metadata": {},
   "outputs": [
    {
     "data": {
      "text/plain": [
       "1471579200"
      ]
     },
     "execution_count": 23,
     "metadata": {},
     "output_type": "execute_result"
    }
   ],
   "source": [
    "1411099200 + ((86400 * 7)*100)"
   ]
  },
  {
   "cell_type": "code",
   "execution_count": null,
   "metadata": {},
   "outputs": [],
   "source": []
  }
 ],
 "metadata": {
  "kernelspec": {
   "display_name": "Python 3",
   "language": "python",
   "name": "python3"
  },
  "language_info": {
   "codemirror_mode": {
    "name": "ipython",
    "version": 3
   },
   "file_extension": ".py",
   "mimetype": "text/x-python",
   "name": "python",
   "nbconvert_exporter": "python",
   "pygments_lexer": "ipython3",
   "version": "3.7.1"
  }
 },
 "nbformat": 4,
 "nbformat_minor": 2
}
