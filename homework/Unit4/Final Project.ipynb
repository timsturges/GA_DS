{
 "cells": [
  {
   "cell_type": "markdown",
   "metadata": {},
   "source": [
    "### General Assembly Part-Time Data Science Final Project\n",
    "\n",
    "### Proposal:\n",
    "I've decided to investigate the suggested craft beer dataset. My goal is to attempt to predict quality ratings and popularity from the available data. The initial dataset is from Kaggle, which includes a list of beers and a list of breweries, but not ratings. (https://www.kaggle.com/nickhould/craft-cans)\n",
    "\n",
    "I submitted a request to RateBeer.com for API access, but did not receive a response. As an alternative source for ratings data, I decided to scrape a popular wesbite, Beer Advocate (https://www.beeradvocate.com). This would give me their Beer Advocate score, as well as user ratings and how many users had rated the beer. I also liked this approach because it would provide me a challenge as my first foray into web scraping.\n",
    "\n",
    "The features would be what was available in the original dataset, and what could be engineered from it, and the targets would be the average user score, and the number of ratings (as a proxy for popularity)."
   ]
  },
  {
   "cell_type": "code",
   "execution_count": 1,
   "metadata": {},
   "outputs": [],
   "source": [
    "# import statements and configuration\n",
    "import matplotlib.pyplot as plt\n",
    "import numpy as np\n",
    "import pandas as pd\n",
    "import re\n",
    "import requests\n",
    "import seaborn as sns\n",
    "from sklearn.ensemble import RandomForestRegressor\n",
    "from sklearn.linear_model import LinearRegression, Ridge, Lasso\n",
    "from sklearn.metrics import make_scorer, mean_squared_error\n",
    "from sklearn.model_selection import GridSearchCV, train_test_split\n",
    "from sklearn.pipeline import Pipeline\n",
    "from sklearn.preprocessing import StandardScaler\n",
    "import statsmodels.api as sm\n",
    "import time\n",
    "import warnings\n",
    "\n",
    "warnings.filterwarnings('ignore')\n",
    "\n",
    "%matplotlib inline\n",
    "plt.style.use('fivethirtyeight')\n",
    "\n",
    "df_beer = pd.read_csv('data/beers.csv')\n",
    "df_brew = pd.read_csv('data/breweries.csv')"
   ]
  },
  {
   "cell_type": "code",
   "execution_count": 2,
   "metadata": {},
   "outputs": [
    {
     "data": {
      "text/html": [
       "<div>\n",
       "<style scoped>\n",
       "    .dataframe tbody tr th:only-of-type {\n",
       "        vertical-align: middle;\n",
       "    }\n",
       "\n",
       "    .dataframe tbody tr th {\n",
       "        vertical-align: top;\n",
       "    }\n",
       "\n",
       "    .dataframe thead th {\n",
       "        text-align: right;\n",
       "    }\n",
       "</style>\n",
       "<table border=\"1\" class=\"dataframe\">\n",
       "  <thead>\n",
       "    <tr style=\"text-align: right;\">\n",
       "      <th></th>\n",
       "      <th>Unnamed: 0</th>\n",
       "      <th>abv</th>\n",
       "      <th>ibu</th>\n",
       "      <th>id</th>\n",
       "      <th>name</th>\n",
       "      <th>style</th>\n",
       "      <th>brewery_id</th>\n",
       "      <th>ounces</th>\n",
       "    </tr>\n",
       "  </thead>\n",
       "  <tbody>\n",
       "    <tr>\n",
       "      <th>0</th>\n",
       "      <td>0</td>\n",
       "      <td>0.050</td>\n",
       "      <td>NaN</td>\n",
       "      <td>1436</td>\n",
       "      <td>Pub Beer</td>\n",
       "      <td>American Pale Lager</td>\n",
       "      <td>408</td>\n",
       "      <td>12.0</td>\n",
       "    </tr>\n",
       "    <tr>\n",
       "      <th>1</th>\n",
       "      <td>1</td>\n",
       "      <td>0.066</td>\n",
       "      <td>NaN</td>\n",
       "      <td>2265</td>\n",
       "      <td>Devil's Cup</td>\n",
       "      <td>American Pale Ale (APA)</td>\n",
       "      <td>177</td>\n",
       "      <td>12.0</td>\n",
       "    </tr>\n",
       "    <tr>\n",
       "      <th>2</th>\n",
       "      <td>2</td>\n",
       "      <td>0.071</td>\n",
       "      <td>NaN</td>\n",
       "      <td>2264</td>\n",
       "      <td>Rise of the Phoenix</td>\n",
       "      <td>American IPA</td>\n",
       "      <td>177</td>\n",
       "      <td>12.0</td>\n",
       "    </tr>\n",
       "    <tr>\n",
       "      <th>3</th>\n",
       "      <td>3</td>\n",
       "      <td>0.090</td>\n",
       "      <td>NaN</td>\n",
       "      <td>2263</td>\n",
       "      <td>Sinister</td>\n",
       "      <td>American Double / Imperial IPA</td>\n",
       "      <td>177</td>\n",
       "      <td>12.0</td>\n",
       "    </tr>\n",
       "    <tr>\n",
       "      <th>4</th>\n",
       "      <td>4</td>\n",
       "      <td>0.075</td>\n",
       "      <td>NaN</td>\n",
       "      <td>2262</td>\n",
       "      <td>Sex and Candy</td>\n",
       "      <td>American IPA</td>\n",
       "      <td>177</td>\n",
       "      <td>12.0</td>\n",
       "    </tr>\n",
       "  </tbody>\n",
       "</table>\n",
       "</div>"
      ],
      "text/plain": [
       "   Unnamed: 0    abv  ibu    id                 name  \\\n",
       "0           0  0.050  NaN  1436             Pub Beer   \n",
       "1           1  0.066  NaN  2265          Devil's Cup   \n",
       "2           2  0.071  NaN  2264  Rise of the Phoenix   \n",
       "3           3  0.090  NaN  2263             Sinister   \n",
       "4           4  0.075  NaN  2262        Sex and Candy   \n",
       "\n",
       "                            style  brewery_id  ounces  \n",
       "0             American Pale Lager         408    12.0  \n",
       "1         American Pale Ale (APA)         177    12.0  \n",
       "2                    American IPA         177    12.0  \n",
       "3  American Double / Imperial IPA         177    12.0  \n",
       "4                    American IPA         177    12.0  "
      ]
     },
     "execution_count": 2,
     "metadata": {},
     "output_type": "execute_result"
    }
   ],
   "source": [
    "df_beer.head()"
   ]
  },
  {
   "cell_type": "code",
   "execution_count": 3,
   "metadata": {},
   "outputs": [
    {
     "data": {
      "text/html": [
       "<div>\n",
       "<style scoped>\n",
       "    .dataframe tbody tr th:only-of-type {\n",
       "        vertical-align: middle;\n",
       "    }\n",
       "\n",
       "    .dataframe tbody tr th {\n",
       "        vertical-align: top;\n",
       "    }\n",
       "\n",
       "    .dataframe thead th {\n",
       "        text-align: right;\n",
       "    }\n",
       "</style>\n",
       "<table border=\"1\" class=\"dataframe\">\n",
       "  <thead>\n",
       "    <tr style=\"text-align: right;\">\n",
       "      <th></th>\n",
       "      <th>Unnamed: 0</th>\n",
       "      <th>name</th>\n",
       "      <th>city</th>\n",
       "      <th>state</th>\n",
       "    </tr>\n",
       "  </thead>\n",
       "  <tbody>\n",
       "    <tr>\n",
       "      <th>0</th>\n",
       "      <td>0</td>\n",
       "      <td>NorthGate Brewing</td>\n",
       "      <td>Minneapolis</td>\n",
       "      <td>MN</td>\n",
       "    </tr>\n",
       "    <tr>\n",
       "      <th>1</th>\n",
       "      <td>1</td>\n",
       "      <td>Against the Grain Brewery</td>\n",
       "      <td>Louisville</td>\n",
       "      <td>KY</td>\n",
       "    </tr>\n",
       "    <tr>\n",
       "      <th>2</th>\n",
       "      <td>2</td>\n",
       "      <td>Jack's Abby Craft Lagers</td>\n",
       "      <td>Framingham</td>\n",
       "      <td>MA</td>\n",
       "    </tr>\n",
       "    <tr>\n",
       "      <th>3</th>\n",
       "      <td>3</td>\n",
       "      <td>Mike Hess Brewing Company</td>\n",
       "      <td>San Diego</td>\n",
       "      <td>CA</td>\n",
       "    </tr>\n",
       "    <tr>\n",
       "      <th>4</th>\n",
       "      <td>4</td>\n",
       "      <td>Fort Point Beer Company</td>\n",
       "      <td>San Francisco</td>\n",
       "      <td>CA</td>\n",
       "    </tr>\n",
       "  </tbody>\n",
       "</table>\n",
       "</div>"
      ],
      "text/plain": [
       "   Unnamed: 0                       name           city state\n",
       "0           0         NorthGate Brewing     Minneapolis    MN\n",
       "1           1  Against the Grain Brewery     Louisville    KY\n",
       "2           2   Jack's Abby Craft Lagers     Framingham    MA\n",
       "3           3  Mike Hess Brewing Company      San Diego    CA\n",
       "4           4    Fort Point Beer Company  San Francisco    CA"
      ]
     },
     "execution_count": 3,
     "metadata": {},
     "output_type": "execute_result"
    }
   ],
   "source": [
    "df_brew.head()"
   ]
  },
  {
   "cell_type": "markdown",
   "metadata": {},
   "source": [
    "### Project Brief & Cleaning, Part I\n",
    "\n",
    "The kaggle data came as two separate datasets, so it was necessar to merge the datasets. This was straightforward since the two datasets shared a brewery id number, so they were mereged without issue."
   ]
  },
  {
   "cell_type": "code",
   "execution_count": 4,
   "metadata": {},
   "outputs": [],
   "source": [
    "df = pd.merge(df_beer,\n",
    "              df_brew,\n",
    "              left_on = 'brewery_id',\n",
    "              right_on = 'Unnamed: 0')\n",
    "\n",
    "df.drop(['Unnamed: 0_x', 'brewery_id', 'Unnamed: 0_y','id'],\n",
    "        axis = 1,\n",
    "        inplace = True)\n",
    "\n",
    "cols = df.columns.tolist()\n",
    "cols[2] = 'name'\n",
    "cols[5] = 'brewery'\n",
    "df.columns = cols"
   ]
  },
  {
   "cell_type": "code",
   "execution_count": 5,
   "metadata": {},
   "outputs": [
    {
     "data": {
      "text/html": [
       "<div>\n",
       "<style scoped>\n",
       "    .dataframe tbody tr th:only-of-type {\n",
       "        vertical-align: middle;\n",
       "    }\n",
       "\n",
       "    .dataframe tbody tr th {\n",
       "        vertical-align: top;\n",
       "    }\n",
       "\n",
       "    .dataframe thead th {\n",
       "        text-align: right;\n",
       "    }\n",
       "</style>\n",
       "<table border=\"1\" class=\"dataframe\">\n",
       "  <thead>\n",
       "    <tr style=\"text-align: right;\">\n",
       "      <th></th>\n",
       "      <th>abv</th>\n",
       "      <th>ibu</th>\n",
       "      <th>name</th>\n",
       "      <th>style</th>\n",
       "      <th>ounces</th>\n",
       "      <th>brewery</th>\n",
       "      <th>city</th>\n",
       "      <th>state</th>\n",
       "    </tr>\n",
       "  </thead>\n",
       "  <tbody>\n",
       "    <tr>\n",
       "      <th>0</th>\n",
       "      <td>0.050</td>\n",
       "      <td>NaN</td>\n",
       "      <td>Pub Beer</td>\n",
       "      <td>American Pale Lager</td>\n",
       "      <td>12.0</td>\n",
       "      <td>10 Barrel Brewing Company</td>\n",
       "      <td>Bend</td>\n",
       "      <td>OR</td>\n",
       "    </tr>\n",
       "    <tr>\n",
       "      <th>1</th>\n",
       "      <td>0.066</td>\n",
       "      <td>NaN</td>\n",
       "      <td>Devil's Cup</td>\n",
       "      <td>American Pale Ale (APA)</td>\n",
       "      <td>12.0</td>\n",
       "      <td>18th Street Brewery</td>\n",
       "      <td>Gary</td>\n",
       "      <td>IN</td>\n",
       "    </tr>\n",
       "    <tr>\n",
       "      <th>2</th>\n",
       "      <td>0.071</td>\n",
       "      <td>NaN</td>\n",
       "      <td>Rise of the Phoenix</td>\n",
       "      <td>American IPA</td>\n",
       "      <td>12.0</td>\n",
       "      <td>18th Street Brewery</td>\n",
       "      <td>Gary</td>\n",
       "      <td>IN</td>\n",
       "    </tr>\n",
       "    <tr>\n",
       "      <th>3</th>\n",
       "      <td>0.090</td>\n",
       "      <td>NaN</td>\n",
       "      <td>Sinister</td>\n",
       "      <td>American Double / Imperial IPA</td>\n",
       "      <td>12.0</td>\n",
       "      <td>18th Street Brewery</td>\n",
       "      <td>Gary</td>\n",
       "      <td>IN</td>\n",
       "    </tr>\n",
       "    <tr>\n",
       "      <th>4</th>\n",
       "      <td>0.075</td>\n",
       "      <td>NaN</td>\n",
       "      <td>Sex and Candy</td>\n",
       "      <td>American IPA</td>\n",
       "      <td>12.0</td>\n",
       "      <td>18th Street Brewery</td>\n",
       "      <td>Gary</td>\n",
       "      <td>IN</td>\n",
       "    </tr>\n",
       "  </tbody>\n",
       "</table>\n",
       "</div>"
      ],
      "text/plain": [
       "     abv  ibu                 name                           style  ounces  \\\n",
       "0  0.050  NaN             Pub Beer             American Pale Lager    12.0   \n",
       "1  0.066  NaN          Devil's Cup         American Pale Ale (APA)    12.0   \n",
       "2  0.071  NaN  Rise of the Phoenix                    American IPA    12.0   \n",
       "3  0.090  NaN             Sinister  American Double / Imperial IPA    12.0   \n",
       "4  0.075  NaN        Sex and Candy                    American IPA    12.0   \n",
       "\n",
       "                     brewery  city state  \n",
       "0  10 Barrel Brewing Company  Bend    OR  \n",
       "1        18th Street Brewery  Gary    IN  \n",
       "2        18th Street Brewery  Gary    IN  \n",
       "3        18th Street Brewery  Gary    IN  \n",
       "4        18th Street Brewery  Gary    IN  "
      ]
     },
     "execution_count": 5,
     "metadata": {},
     "output_type": "execute_result"
    }
   ],
   "source": [
    "df.head()"
   ]
  },
  {
   "cell_type": "code",
   "execution_count": 6,
   "metadata": {
    "scrolled": true
   },
   "outputs": [
    {
     "name": "stdout",
     "output_type": "stream",
     "text": [
      "<class 'pandas.core.frame.DataFrame'>\n",
      "Int64Index: 2410 entries, 0 to 2409\n",
      "Data columns (total 8 columns):\n",
      "abv        2348 non-null float64\n",
      "ibu        1405 non-null float64\n",
      "name       2410 non-null object\n",
      "style      2405 non-null object\n",
      "ounces     2410 non-null float64\n",
      "brewery    2410 non-null object\n",
      "city       2410 non-null object\n",
      "state      2410 non-null object\n",
      "dtypes: float64(3), object(5)\n",
      "memory usage: 169.5+ KB\n"
     ]
    }
   ],
   "source": [
    "# There are only three numeric columns, one of which had a significant amount of missing data. There were also some \n",
    "# nulls in the style column\n",
    "df.info()"
   ]
  },
  {
   "cell_type": "code",
   "execution_count": 7,
   "metadata": {},
   "outputs": [
    {
     "data": {
      "text/html": [
       "<div>\n",
       "<style scoped>\n",
       "    .dataframe tbody tr th:only-of-type {\n",
       "        vertical-align: middle;\n",
       "    }\n",
       "\n",
       "    .dataframe tbody tr th {\n",
       "        vertical-align: top;\n",
       "    }\n",
       "\n",
       "    .dataframe thead th {\n",
       "        text-align: right;\n",
       "    }\n",
       "</style>\n",
       "<table border=\"1\" class=\"dataframe\">\n",
       "  <thead>\n",
       "    <tr style=\"text-align: right;\">\n",
       "      <th></th>\n",
       "      <th>abv</th>\n",
       "      <th>ibu</th>\n",
       "      <th>name</th>\n",
       "      <th>style</th>\n",
       "      <th>ounces</th>\n",
       "      <th>brewery</th>\n",
       "      <th>city</th>\n",
       "      <th>state</th>\n",
       "    </tr>\n",
       "  </thead>\n",
       "  <tbody>\n",
       "    <tr>\n",
       "      <th>566</th>\n",
       "      <td>NaN</td>\n",
       "      <td>NaN</td>\n",
       "      <td>Special Release</td>\n",
       "      <td>NaN</td>\n",
       "      <td>16.0</td>\n",
       "      <td>Cedar Creek Brewery</td>\n",
       "      <td>Seven Points</td>\n",
       "      <td>TX</td>\n",
       "    </tr>\n",
       "    <tr>\n",
       "      <th>853</th>\n",
       "      <td>0.060</td>\n",
       "      <td>21.0</td>\n",
       "      <td>Kilt Lifter Scottish-Style Ale</td>\n",
       "      <td>NaN</td>\n",
       "      <td>12.0</td>\n",
       "      <td>Four Peaks Brewing Company</td>\n",
       "      <td>Tempe</td>\n",
       "      <td>AZ</td>\n",
       "    </tr>\n",
       "    <tr>\n",
       "      <th>866</th>\n",
       "      <td>0.053</td>\n",
       "      <td>27.0</td>\n",
       "      <td>OktoberFiesta</td>\n",
       "      <td>NaN</td>\n",
       "      <td>12.0</td>\n",
       "      <td>Freetail Brewing Company</td>\n",
       "      <td>San Antonio</td>\n",
       "      <td>TX</td>\n",
       "    </tr>\n",
       "    <tr>\n",
       "      <th>1554</th>\n",
       "      <td>NaN</td>\n",
       "      <td>NaN</td>\n",
       "      <td>The CROWLER™</td>\n",
       "      <td>NaN</td>\n",
       "      <td>32.0</td>\n",
       "      <td>Oskar Blues Brewery</td>\n",
       "      <td>Longmont</td>\n",
       "      <td>CO</td>\n",
       "    </tr>\n",
       "    <tr>\n",
       "      <th>1555</th>\n",
       "      <td>NaN</td>\n",
       "      <td>NaN</td>\n",
       "      <td>CAN'D AID Foundation</td>\n",
       "      <td>NaN</td>\n",
       "      <td>12.0</td>\n",
       "      <td>Oskar Blues Brewery</td>\n",
       "      <td>Longmont</td>\n",
       "      <td>CO</td>\n",
       "    </tr>\n",
       "  </tbody>\n",
       "</table>\n",
       "</div>"
      ],
      "text/plain": [
       "        abv   ibu                            name style  ounces  \\\n",
       "566     NaN   NaN                 Special Release   NaN    16.0   \n",
       "853   0.060  21.0  Kilt Lifter Scottish-Style Ale   NaN    12.0   \n",
       "866   0.053  27.0                   OktoberFiesta   NaN    12.0   \n",
       "1554    NaN   NaN                    The CROWLER™   NaN    32.0   \n",
       "1555    NaN   NaN            CAN'D AID Foundation   NaN    12.0   \n",
       "\n",
       "                         brewery          city state  \n",
       "566          Cedar Creek Brewery  Seven Points    TX  \n",
       "853   Four Peaks Brewing Company         Tempe    AZ  \n",
       "866     Freetail Brewing Company   San Antonio    TX  \n",
       "1554         Oskar Blues Brewery      Longmont    CO  \n",
       "1555         Oskar Blues Brewery      Longmont    CO  "
      ]
     },
     "execution_count": 7,
     "metadata": {},
     "output_type": "execute_result"
    }
   ],
   "source": [
    "# 'style' I figured would be useful for imputing the missing abv and ibu data. Although there were 99 distinct styles\n",
    "# 80 styles of which had fewer than 30 in the value counts. I knew this would need to be drastically simplified, \n",
    "# but first I thought that type of granularity would be helpful for imputing the missing data.\n",
    "df[df['style'].isnull()]"
   ]
  },
  {
   "cell_type": "code",
   "execution_count": 8,
   "metadata": {},
   "outputs": [],
   "source": [
    "# Web-based research for these five:\n",
    "# Special Release, Can'd Aid and the Crowler are a multiple different kinds of beers: they will be dropped\n",
    "# Kilt Lifter Scottish-Style Ale: Scottish Ale\n",
    "# OktoberFiesta: Märzen / Oktoberfest\n",
    "df.drop([566,1554,1555], inplace = True)\n",
    "df.loc[853,'style'] = 'Scottish Ale'\n",
    "df.loc[866,'style'] = 'Märzen / Oktoberfest'"
   ]
  },
  {
   "cell_type": "code",
   "execution_count": 9,
   "metadata": {},
   "outputs": [],
   "source": [
    "# I noticed in my exploration many duplicated entries which would throw off style-grouped means, so before proceeding\n",
    "# with null value imputation, I'm going to check for duplicates.\n",
    "# Also, I'm intending to merge some scraped data into the set later. Based on exploratory analysis, the scraped\n",
    "# data from beer advocate isn't distinguishing different year releases. Thus, years data would be removed from \n",
    "# beer names"
   ]
  },
  {
   "cell_type": "code",
   "execution_count": 10,
   "metadata": {},
   "outputs": [
    {
     "data": {
      "text/plain": [
       "2407"
      ]
     },
     "execution_count": 10,
     "metadata": {},
     "output_type": "execute_result"
    }
   ],
   "source": [
    "df.shape[0]"
   ]
  },
  {
   "cell_type": "code",
   "execution_count": 11,
   "metadata": {},
   "outputs": [
    {
     "data": {
      "text/plain": [
       "2374"
      ]
     },
     "execution_count": 11,
     "metadata": {},
     "output_type": "execute_result"
    }
   ],
   "source": [
    "df.drop_duplicates(inplace = True, keep = 'first')\n",
    "df.shape[0]"
   ]
  },
  {
   "cell_type": "code",
   "execution_count": 12,
   "metadata": {},
   "outputs": [
    {
     "data": {
      "text/plain": [
       "2047"
      ]
     },
     "execution_count": 12,
     "metadata": {},
     "output_type": "execute_result"
    }
   ],
   "source": [
    "# Elimiinating the release years data\n",
    "df['name'] = df['name'].str.replace(' \\(\\d{1,4}\\)', '')\n",
    "\n",
    "# true duplicates\n",
    "df.drop_duplicates(['abv','ibu','name','brewery'],\n",
    "                   keep = False, \n",
    "                   inplace = True)\n",
    "\n",
    "# by and large, there weren't significant differences in the release year beers, so \n",
    "df.drop_duplicates(['name','brewery'],\n",
    "                   keep = False, \n",
    "                   inplace = True)\n",
    "\n",
    "df.shape[0]"
   ]
  },
  {
   "cell_type": "code",
   "execution_count": 13,
   "metadata": {},
   "outputs": [],
   "source": [
    "df['abv'] = df.groupby(\"style\")[\"abv\"].transform(lambda x: x.fillna(x.mean()))\n",
    "df['ibu'] = df.groupby(\"style\")[\"ibu\"].transform(lambda x: x.fillna(x.mean()))"
   ]
  },
  {
   "cell_type": "code",
   "execution_count": 14,
   "metadata": {},
   "outputs": [
    {
     "data": {
      "text/plain": [
       "Cider                   35\n",
       "Mead                     5\n",
       "Shandy                   3\n",
       "Bière de Garde           3\n",
       "Rauchbier                2\n",
       "Flanders Red Ale         1\n",
       "American Malt Liquor     1\n",
       "Braggot                  1\n",
       "Low Alcohol Beer         1\n",
       "Kristalweizen            1\n",
       "Name: style, dtype: int64"
      ]
     },
     "execution_count": 14,
     "metadata": {},
     "output_type": "execute_result"
    }
   ],
   "source": [
    "# not all of the ibus could be imputed from grouped means, but with only a few remaining styles, I could simply\n",
    "# research these to determine appropriate ibu values to impute\n",
    "df[df['ibu'].isnull()]['style'].value_counts()"
   ]
  },
  {
   "cell_type": "code",
   "execution_count": 15,
   "metadata": {},
   "outputs": [],
   "source": [
    "df.loc[(df['ibu'].isnull()) & (df['style'] == 'Cider'),'ibu'] = 1.0\n",
    "df.loc[(df['ibu'].isnull()) & (df['style'] == 'Mead'),'ibu'] = 0.0\n",
    "df.loc[(df['ibu'].isnull()) & (df['style'] == 'Shandy'),'ibu'] = 0.0\n",
    "df.loc[(df['ibu'].isnull()) & (df['style'] == 'Rauchbier'),'ibu'] = 35.0\n",
    "df.loc[(df['ibu'].isnull()) & (df['style'] == 'Bière de Garde'),'ibu'] = 25.0\n",
    "df.loc[(df['ibu'].isnull()) & (df['style'] == 'Flanders Red Ale'),'ibu'] = 40.0\n",
    "df.loc[(df['ibu'].isnull()) & (df['style'] == 'Kristalweizen'),'ibu'] = 15.0\n",
    "df.loc[(df['ibu'].isnull()) & (df['style'] == 'American Malt Liquor'),'ibu'] = 15.0\n",
    "df.loc[(df['ibu'].isnull()) & (df['style'] == 'Braggot'),'ibu'] = 25.0\n",
    "df.loc[(df['ibu'].isnull()) & (df['style'] == 'Low Alcohol Beer'),'ibu'] = 15.0"
   ]
  },
  {
   "cell_type": "code",
   "execution_count": 16,
   "metadata": {},
   "outputs": [
    {
     "name": "stdout",
     "output_type": "stream",
     "text": [
      "<class 'pandas.core.frame.DataFrame'>\n",
      "Int64Index: 2047 entries, 0 to 2408\n",
      "Data columns (total 8 columns):\n",
      "abv        2047 non-null float64\n",
      "ibu        2047 non-null float64\n",
      "name       2047 non-null object\n",
      "style      2047 non-null object\n",
      "ounces     2047 non-null float64\n",
      "brewery    2047 non-null object\n",
      "city       2047 non-null object\n",
      "state      2047 non-null object\n",
      "dtypes: float64(3), object(5)\n",
      "memory usage: 143.9+ KB\n"
     ]
    }
   ],
   "source": [
    "df.info()"
   ]
  },
  {
   "cell_type": "markdown",
   "metadata": {},
   "source": [
    "### EDA, Part I\n",
    "\n",
    "Having completed the initial data cleaning, I was prepared to do some initial exploratory analysis, with so few numeric variables at this stage, there wasn't that much to explore."
   ]
  },
  {
   "cell_type": "code",
   "execution_count": 17,
   "metadata": {},
   "outputs": [
    {
     "data": {
      "image/png": "[encoded data removed]",
      "text/plain": [
       "<Figure size 432x288 with 1 Axes>"
      ]
     },
     "metadata": {
      "needs_background": "light"
     },
     "output_type": "display_data"
    }
   ],
   "source": [
    "# histogram of abv\n",
    "sns.distplot(df['abv'], kde = False);"
   ]
  },
  {
   "cell_type": "code",
   "execution_count": 18,
   "metadata": {},
   "outputs": [
    {
     "data": {
      "image/png": "[encoded data removed]",
      "text/plain": [
       "<Figure size 432x288 with 1 Axes>"
      ]
     },
     "metadata": {
      "needs_background": "light"
     },
     "output_type": "display_data"
    }
   ],
   "source": [
    "# histogram of ibu\n",
    "sns.distplot(df['ibu'], kde = False);"
   ]
  },
  {
   "cell_type": "code",
   "execution_count": 19,
   "metadata": {
    "scrolled": true
   },
   "outputs": [
    {
     "data": {
      "image/png": "[encoded data removed]",
      "text/plain": [
       "<Figure size 360x360 with 1 Axes>"
      ]
     },
     "metadata": {
      "needs_background": "light"
     },
     "output_type": "display_data"
    }
   ],
   "source": [
    "# I became curious to know if there tended to be any relationship between abv and ibu. It turns out there is one\n",
    "# It's a bit messy, but there is a trend to observe.\n",
    "sns.lmplot(x = 'abv', y = 'ibu', data = df);"
   ]
  },
  {
   "cell_type": "code",
   "execution_count": 20,
   "metadata": {},
   "outputs": [],
   "source": [
    "# Although there were a few outliers in the above relationship, at this point it isn't clear that these are \n",
    "# worth dropping, since we don't know how these variables will relate to each other in any models."
   ]
  },
  {
   "cell_type": "markdown",
   "metadata": {},
   "source": [
    "### Additional Data Acquisition\n",
    "\n",
    "Having not received by this stage a response from my API request to RateBeer, I determined that I would need to procure additional data to perform modeling, by any means. I considered scraping Rate Beer, however some manual searching turned up few results as compared to Beer Advocate, so I thought I would get more mileage out of Beer Advocate anyway.\n",
    "\n",
    "I took the combined brewery name and beer name from the data that I had, and did some exploratory manual searches with them. What I found was that the search queries were pretty simple, and there were three types of responses:\n",
    "\n",
    "1) The exact match was found, and would take me to the page of interest\n",
    "2) Multiple matches were found, in which case I would assume the first result, and follow as though it were response 1.\n",
    "3) No results were found.\n",
    "\n",
    "I wrote a simple scraper which accounted for each of these possibilities. It takes the cleaned dataframe as input, loops through it, and passes as searches the brewery and beer name. The returned dataframe would indicate if no result has been found, or whether or not an exact match had been found, and the data I wanted from the site, which was the Score (score), the Average User Rating (avg) and the Number of Ratings (n_ratings), the last of which I thought could be interesting to explore as a proxy for popularity. The return also would have the index to merge the scraped data to the input data."
   ]
  },
  {
   "cell_type": "code",
   "execution_count": 21,
   "metadata": {},
   "outputs": [],
   "source": [
    "# First, I needed to reset the index so I wouldn't have trouble merging the data.\n",
    "df.reset_index(drop = True, inplace = True)"
   ]
  },
  {
   "cell_type": "code",
   "execution_count": null,
   "metadata": {},
   "outputs": [],
   "source": [
    "def ba_scraper(df):\n",
    "    # instantiate return data frame\n",
    "    results = pd.DataFrame()\n",
    "    \n",
    "    # loop through the data frame\n",
    "    for i in range(len(df)):\n",
    "        # instantiate a new row to append to the return data frame\n",
    "        result_dict = {'index': i,\n",
    "                       'found': True,\n",
    "                       'exact': True,\n",
    "                       'score': None,\n",
    "                       'avg': None, \n",
    "                       'n_ratings': None,\n",
    "                       'url': None\n",
    "                      }\n",
    "\n",
    "        # form search query and submit\n",
    "        srch = '+'.join(' '.join([df['brewery'][i], df['name'][i]]).split())\n",
    "        url = 'https://www.beeradvocate.com/search/?q=' + srch + '&qt=beer'\n",
    "        r = requests.post(url)\n",
    "        \n",
    "        # print statements to keep me sane\n",
    "        print(i, r)\n",
    "        \n",
    "        # conditional for query not found \n",
    "        if re.search('No results', r.content.decode('utf-8')):\n",
    "            print('not found\\n')\n",
    "            result_dict['found'] = False\n",
    "            results = results.append(result_dict, ignore_index = True)\n",
    "            continue\n",
    "        \n",
    "        # conditional for multiple results; take first result path\n",
    "        if re.search('Found: \\d', r.content.decode('utf-8')):\n",
    "            print('took first result\\n')\n",
    "            result_dict['exact'] = False\n",
    "            redirect = re.search('(\\/beer\\/profile\\/\\d{1,5}\\/\\d{1,7})',\n",
    "                                 r.content.decode('utf-8'))\n",
    "            url = 'https://www.beeradvocate.com' + redirect.group(1)\n",
    "            r = requests.post(url)\n",
    "            \n",
    "        # scraping the score, n_ratings, and user average rating\n",
    "        score = re.search('Score: (\\d{1,3}) ', r.content.decode('utf-8'))\n",
    "        n_ratings = re.search('Number of ratings for this beer\\.\\\"\\>(\\d{1,3}|\\d{1,3}\\,\\d{3})\\<', r.content.decode('utf-8'))\n",
    "        avg = re.search('across all ratings for this beer\\.\\\"\\>(\\d\\.\\d)', r.content.decode('utf-8'))\n",
    "        \n",
    "        # conditionals in case these values were blank\n",
    "        if score:\n",
    "            result_dict['score'] = int(score.group(1))\n",
    "        if avg:\n",
    "            result_dict['avg'] = float(avg.group(1))\n",
    "        if n_ratings:\n",
    "            result_dict['n_ratings'] = int(n_ratings.group(1).replace(',',''))\n",
    "            \n",
    "        # also included the source url for QC\n",
    "        result_dict['url'] = url\n",
    "        \n",
    "        \n",
    "        results = results.append(result_dict, ignore_index = True)\n",
    "        print(result_dict)\n",
    "        \n",
    "        # since this was my only data source, I really didn't want to get my IP blocked, overwhelm the host \n",
    "        # or otherwise stymie my data acquisition. thus I added this delay. When I finally got everything working\n",
    "        # correctly, it would take a little over an hour to submit 2000+ requests\n",
    "        time.sleep(1)\n",
    "    \n",
    "    return results"
   ]
  },
  {
   "cell_type": "code",
   "execution_count": null,
   "metadata": {},
   "outputs": [],
   "source": [
    "# scrape_df = ba_scraper(df)"
   ]
  },
  {
   "cell_type": "code",
   "execution_count": null,
   "metadata": {},
   "outputs": [],
   "source": [
    "# After getting it right, I didn't want to have to do that again, so I saved the results offline\n",
    "# scrape_df.to_csv('./data/ba_scrape.csv')"
   ]
  },
  {
   "cell_type": "code",
   "execution_count": 92,
   "metadata": {},
   "outputs": [],
   "source": [
    "scrape_df = pd.read_csv('./data/ba_scrape.csv')"
   ]
  },
  {
   "cell_type": "code",
   "execution_count": 93,
   "metadata": {},
   "outputs": [
    {
     "data": {
      "text/plain": [
       "47.28871519296531"
      ]
     },
     "execution_count": 93,
     "metadata": {},
     "output_type": "execute_result"
    }
   ],
   "source": [
    "# Percentage not found ~ 47.3\n",
    "scrape_df[(scrape_df['found'] == 0)].shape[0] / scrape_df.shape[0] * 100"
   ]
  },
  {
   "cell_type": "code",
   "execution_count": 94,
   "metadata": {
    "scrolled": true
   },
   "outputs": [
    {
     "data": {
      "text/plain": [
       "1.0    735\n",
       "0.0    344\n",
       "Name: exact, dtype: int64"
      ]
     },
     "execution_count": 94,
     "metadata": {},
     "output_type": "execute_result"
    }
   ],
   "source": [
    "# Almost 70% returned exact results. I felt that was not bad for my first web scraper. Unfortunately though, a little \n",
    "# less than %50 were not found, and would need to be excluded for lacking target data.\n",
    "# some sample QC into the inexact matches showed ~ 80% success rate, which was also pleasing.\n",
    "scrape_df[(scrape_df['found'] != 0)]['exact'].value_counts()"
   ]
  },
  {
   "cell_type": "code",
   "execution_count": 95,
   "metadata": {},
   "outputs": [],
   "source": [
    "# exclude the data not found\n",
    "scrape_df = scrape_df[(scrape_df['found'] != 0)]"
   ]
  },
  {
   "cell_type": "code",
   "execution_count": 96,
   "metadata": {},
   "outputs": [
    {
     "name": "stdout",
     "output_type": "stream",
     "text": [
      "<class 'pandas.core.frame.DataFrame'>\n",
      "Int64Index: 1079 entries, 1 to 2046\n",
      "Data columns (total 16 columns):\n",
      "abv           1079 non-null float64\n",
      "ibu           1079 non-null float64\n",
      "name          1079 non-null object\n",
      "style         1079 non-null object\n",
      "ounces        1079 non-null float64\n",
      "brewery       1079 non-null object\n",
      "city          1079 non-null object\n",
      "state         1079 non-null object\n",
      "Unnamed: 0    1079 non-null int64\n",
      "avg           1066 non-null float64\n",
      "exact         1079 non-null float64\n",
      "found         1079 non-null float64\n",
      "index         1079 non-null float64\n",
      "n_ratings     1079 non-null float64\n",
      "score         1006 non-null float64\n",
      "url           1079 non-null object\n",
      "dtypes: float64(9), int64(1), object(6)\n",
      "memory usage: 143.3+ KB\n"
     ]
    }
   ],
   "source": [
    "# merge into the original dataset for further analysis\n",
    "df_fnl = pd.merge(df,\n",
    "                  scrape_df,\n",
    "                  left_index = True,\n",
    "                  right_index = True)\n",
    "df_fnl.info()"
   ]
  },
  {
   "cell_type": "code",
   "execution_count": 97,
   "metadata": {},
   "outputs": [],
   "source": [
    "# more observations are eliminated due to lack of target data\n",
    "df_fnl = df_fnl[~df_fnl['score'].isna()]\n",
    "df_fnl = df_fnl[~df_fnl['avg'].isna()]\n",
    "\n",
    "# some scraped data needs to be recast as float / int\n",
    "df_fnl['avg'] = df_fnl['avg'].astype('float')\n",
    "df_fnl['n_ratings'] = df_fnl['n_ratings'].astype('int')\n",
    "df_fnl['score'] = df_fnl['score'].astype('int')"
   ]
  },
  {
   "cell_type": "code",
   "execution_count": 98,
   "metadata": {},
   "outputs": [],
   "source": [
    "# again, wanted to save my progress to this point\n",
    "df_fnl.to_csv('./data/df_final.csv')"
   ]
  },
  {
   "cell_type": "code",
   "execution_count": 76,
   "metadata": {},
   "outputs": [],
   "source": [
    "# df_fnl = pd.read_csv('./data/df_final.csv')"
   ]
  },
  {
   "cell_type": "markdown",
   "metadata": {},
   "source": [
    "### Cleaning, Part II\n",
    "\n",
    "I was finally ready to drop some columns which I did not think would be useful. 'name' and 'brewery' had served their purpose for acquiring additional data. 'city' and 'state' were likely irrelevant relevant, 'found', 'index', and 'url' were no longer need.\n",
    "\n",
    "With an otherwise clean dataset, it was finally time to simplify 'style' into potentially useful variables."
   ]
  },
  {
   "cell_type": "code",
   "execution_count": 99,
   "metadata": {},
   "outputs": [
    {
     "data": {
      "text/html": [
       "<div>\n",
       "<style scoped>\n",
       "    .dataframe tbody tr th:only-of-type {\n",
       "        vertical-align: middle;\n",
       "    }\n",
       "\n",
       "    .dataframe tbody tr th {\n",
       "        vertical-align: top;\n",
       "    }\n",
       "\n",
       "    .dataframe thead th {\n",
       "        text-align: right;\n",
       "    }\n",
       "</style>\n",
       "<table border=\"1\" class=\"dataframe\">\n",
       "  <thead>\n",
       "    <tr style=\"text-align: right;\">\n",
       "      <th></th>\n",
       "      <th>abv</th>\n",
       "      <th>ibu</th>\n",
       "      <th>name</th>\n",
       "      <th>style</th>\n",
       "      <th>ounces</th>\n",
       "      <th>brewery</th>\n",
       "      <th>city</th>\n",
       "      <th>state</th>\n",
       "      <th>Unnamed: 0</th>\n",
       "      <th>avg</th>\n",
       "      <th>exact</th>\n",
       "      <th>found</th>\n",
       "      <th>index</th>\n",
       "      <th>n_ratings</th>\n",
       "      <th>score</th>\n",
       "      <th>url</th>\n",
       "    </tr>\n",
       "  </thead>\n",
       "  <tbody>\n",
       "    <tr>\n",
       "      <th>1</th>\n",
       "      <td>0.066</td>\n",
       "      <td>41.850467</td>\n",
       "      <td>Devil's Cup</td>\n",
       "      <td>American Pale Ale (APA)</td>\n",
       "      <td>12.0</td>\n",
       "      <td>18th Street Brewery</td>\n",
       "      <td>Gary</td>\n",
       "      <td>IN</td>\n",
       "      <td>1</td>\n",
       "      <td>3.9</td>\n",
       "      <td>1.0</td>\n",
       "      <td>1.0</td>\n",
       "      <td>1.0</td>\n",
       "      <td>112</td>\n",
       "      <td>87</td>\n",
       "      <td>https://www.beeradvocate.com/search/?q=18th+St...</td>\n",
       "    </tr>\n",
       "    <tr>\n",
       "      <th>2</th>\n",
       "      <td>0.071</td>\n",
       "      <td>67.711297</td>\n",
       "      <td>Rise of the Phoenix</td>\n",
       "      <td>American IPA</td>\n",
       "      <td>12.0</td>\n",
       "      <td>18th Street Brewery</td>\n",
       "      <td>Gary</td>\n",
       "      <td>IN</td>\n",
       "      <td>2</td>\n",
       "      <td>4.1</td>\n",
       "      <td>1.0</td>\n",
       "      <td>1.0</td>\n",
       "      <td>2.0</td>\n",
       "      <td>61</td>\n",
       "      <td>90</td>\n",
       "      <td>https://www.beeradvocate.com/search/?q=18th+St...</td>\n",
       "    </tr>\n",
       "    <tr>\n",
       "      <th>3</th>\n",
       "      <td>0.090</td>\n",
       "      <td>92.645161</td>\n",
       "      <td>Sinister</td>\n",
       "      <td>American Double / Imperial IPA</td>\n",
       "      <td>12.0</td>\n",
       "      <td>18th Street Brewery</td>\n",
       "      <td>Gary</td>\n",
       "      <td>IN</td>\n",
       "      <td>3</td>\n",
       "      <td>4.1</td>\n",
       "      <td>1.0</td>\n",
       "      <td>1.0</td>\n",
       "      <td>3.0</td>\n",
       "      <td>183</td>\n",
       "      <td>92</td>\n",
       "      <td>https://www.beeradvocate.com/search/?q=18th+St...</td>\n",
       "    </tr>\n",
       "    <tr>\n",
       "      <th>4</th>\n",
       "      <td>0.075</td>\n",
       "      <td>67.711297</td>\n",
       "      <td>Sex and Candy</td>\n",
       "      <td>American IPA</td>\n",
       "      <td>12.0</td>\n",
       "      <td>18th Street Brewery</td>\n",
       "      <td>Gary</td>\n",
       "      <td>IN</td>\n",
       "      <td>4</td>\n",
       "      <td>3.9</td>\n",
       "      <td>1.0</td>\n",
       "      <td>1.0</td>\n",
       "      <td>4.0</td>\n",
       "      <td>201</td>\n",
       "      <td>89</td>\n",
       "      <td>https://www.beeradvocate.com/search/?q=18th+St...</td>\n",
       "    </tr>\n",
       "    <tr>\n",
       "      <th>5</th>\n",
       "      <td>0.077</td>\n",
       "      <td>33.750000</td>\n",
       "      <td>Black Exodus</td>\n",
       "      <td>Oatmeal Stout</td>\n",
       "      <td>12.0</td>\n",
       "      <td>18th Street Brewery</td>\n",
       "      <td>Gary</td>\n",
       "      <td>IN</td>\n",
       "      <td>5</td>\n",
       "      <td>4.1</td>\n",
       "      <td>0.0</td>\n",
       "      <td>1.0</td>\n",
       "      <td>5.0</td>\n",
       "      <td>137</td>\n",
       "      <td>90</td>\n",
       "      <td>https://www.beeradvocate.com/beer/profile/3104...</td>\n",
       "    </tr>\n",
       "  </tbody>\n",
       "</table>\n",
       "</div>"
      ],
      "text/plain": [
       "     abv        ibu                 name                           style  \\\n",
       "1  0.066  41.850467          Devil's Cup         American Pale Ale (APA)   \n",
       "2  0.071  67.711297  Rise of the Phoenix                    American IPA   \n",
       "3  0.090  92.645161             Sinister  American Double / Imperial IPA   \n",
       "4  0.075  67.711297        Sex and Candy                    American IPA   \n",
       "5  0.077  33.750000         Black Exodus                   Oatmeal Stout   \n",
       "\n",
       "   ounces              brewery  city state  Unnamed: 0  avg  exact  found  \\\n",
       "1    12.0  18th Street Brewery  Gary    IN           1  3.9    1.0    1.0   \n",
       "2    12.0  18th Street Brewery  Gary    IN           2  4.1    1.0    1.0   \n",
       "3    12.0  18th Street Brewery  Gary    IN           3  4.1    1.0    1.0   \n",
       "4    12.0  18th Street Brewery  Gary    IN           4  3.9    1.0    1.0   \n",
       "5    12.0  18th Street Brewery  Gary    IN           5  4.1    0.0    1.0   \n",
       "\n",
       "   index  n_ratings  score                                                url  \n",
       "1    1.0        112     87  https://www.beeradvocate.com/search/?q=18th+St...  \n",
       "2    2.0         61     90  https://www.beeradvocate.com/search/?q=18th+St...  \n",
       "3    3.0        183     92  https://www.beeradvocate.com/search/?q=18th+St...  \n",
       "4    4.0        201     89  https://www.beeradvocate.com/search/?q=18th+St...  \n",
       "5    5.0        137     90  https://www.beeradvocate.com/beer/profile/3104...  "
      ]
     },
     "execution_count": 99,
     "metadata": {},
     "output_type": "execute_result"
    }
   ],
   "source": [
    "df_fnl.head()"
   ]
  },
  {
   "cell_type": "code",
   "execution_count": 100,
   "metadata": {},
   "outputs": [],
   "source": [
    "df_fnl.drop(['name', # insufficient value counts\n",
    "             'brewery', # insufficient value counts\n",
    "             'city', # insufficient value counts\n",
    "             'state', # sufficient value counts for some, but questionable value\n",
    "             'found', # 0 variance\n",
    "             'index', # garbage data\n",
    "             'Unnamed: 0', # garbage data\n",
    "             'url'], # no longer used\n",
    "            axis = 1, \n",
    "            inplace = True)"
   ]
  },
  {
   "cell_type": "code",
   "execution_count": 101,
   "metadata": {},
   "outputs": [
    {
     "name": "stdout",
     "output_type": "stream",
     "text": [
      "Engl 32\n",
      "Belg 34\n",
      "America 596\n",
      "Scot 11\n",
      "Munic 11\n",
      "Berlin 8\n"
     ]
    }
   ],
   "source": [
    "# style contained two types of keywords I thought would be interesting, one was regional, as seen here.\n",
    "locs = ['Engl',\n",
    "        'Belg',\n",
    "        'America',\n",
    "        'Scot',\n",
    "        'Munic',\n",
    "        'Berlin']\n",
    "\n",
    "for l in locs:\n",
    "    print(l, df_fnl[df_fnl['style'].str.contains(l)].shape[0])"
   ]
  },
  {
   "cell_type": "code",
   "execution_count": 102,
   "metadata": {},
   "outputs": [
    {
     "name": "stdout",
     "output_type": "stream",
     "text": [
      "Ale 416\n",
      "APA 97\n",
      "IPA 235\n",
      "Lager 56\n",
      "Pils 36\n",
      "Cider 3\n",
      "Stout 55\n",
      "wine 5\n",
      "beer 38\n",
      "bier 46\n",
      "imperial 49\n",
      "Kölsch 17\n",
      "Porter 36\n",
      "Märzen 13\n",
      "Gose 7\n",
      "tripel 5\n",
      "bock 6\n",
      "Bière 2\n",
      "Bock 6\n",
      "Hefeweizen 14\n"
     ]
    }
   ],
   "source": [
    "# The other was the type of beer.\n",
    "styles = ['Ale',\n",
    "          'APA',\n",
    "          'IPA',\n",
    "          'Lager',\n",
    "          'Pils',\n",
    "          'Cider',\n",
    "          'Stout',\n",
    "          'wine',\n",
    "          'beer',\n",
    "          'bier',\n",
    "          'imperial',\n",
    "          'Kölsch',\n",
    "          'Porter',\n",
    "          'Märzen',\n",
    "          'Gose',\n",
    "          'tripel',\n",
    "          'bock',\n",
    "          'Bière',\n",
    "          'Bock',\n",
    "          'Hefeweizen']\n",
    "\n",
    "for s in styles:\n",
    "    print(s, df_fnl[df_fnl['style'].str.contains(s,case = False)].shape[0])"
   ]
  },
  {
   "cell_type": "code",
   "execution_count": 103,
   "metadata": {},
   "outputs": [
    {
     "name": "stdout",
     "output_type": "stream",
     "text": [
      "<class 'pandas.core.frame.DataFrame'>\n",
      "Int64Index: 1001 entries, 1 to 2046\n",
      "Data columns (total 17 columns):\n",
      "abv          1001 non-null float64\n",
      "ibu          1001 non-null float64\n",
      "ounces       1001 non-null float64\n",
      "avg          1001 non-null float64\n",
      "exact        1001 non-null float64\n",
      "n_ratings    1001 non-null int64\n",
      "score        1001 non-null int64\n",
      "America      1001 non-null int64\n",
      "English      1001 non-null int64\n",
      "Belgian      1001 non-null int64\n",
      "ale          1001 non-null int64\n",
      "lager        1001 non-null int64\n",
      "pils         1001 non-null int64\n",
      "stout        1001 non-null int64\n",
      "beer         1001 non-null int64\n",
      "porter       1001 non-null int64\n",
      "imperial     1001 non-null int64\n",
      "dtypes: float64(5), int64(12)\n",
      "memory usage: 140.8 KB\n"
     ]
    }
   ],
   "source": [
    "# I binarized style on the basis of the presence of those keywords if they numbered greater than 30\n",
    "df_fnl['America'] = np.where(df_fnl['style'].str.contains('America|APA'), 1, 0)\n",
    "df_fnl['English'] = np.where(df_fnl['style'].str.contains('Engl'), 1, 0)\n",
    "df_fnl['Belgian'] = np.where(df_fnl['style'].str.contains('Belg'), 1, 0)\n",
    "\n",
    "df_fnl['ale'] = np.where(df_fnl['style'].str.contains('ala|apa|ipa', case = False), 1, 0)\n",
    "df_fnl['lager'] = np.where(df_fnl['style'].str.contains('lager', case = False), 1, 0)\n",
    "df_fnl['pils'] = np.where(df_fnl['style'].str.contains('pils', case = False), 1, 0)\n",
    "df_fnl['stout'] = np.where(df_fnl['style'].str.contains('stout', case = False), 1, 0)\n",
    "df_fnl['beer'] = np.where(df_fnl['style'].str.contains('beer|bier|Bière', case = False), 1, 0)\n",
    "df_fnl['porter'] = np.where(df_fnl['style'].str.contains('porter', case = False), 1, 0)\n",
    "df_fnl['imperial'] = np.where(df_fnl['style'].str.contains('imperial', case = False), 1, 0)\n",
    "\n",
    "df_fnl.drop('style',axis = 1, inplace = True)\n",
    "df_fnl.info()"
   ]
  },
  {
   "cell_type": "markdown",
   "metadata": {},
   "source": [
    "### EDA, Part 2 and Modeling Preparation"
   ]
  },
  {
   "cell_type": "code",
   "execution_count": 104,
   "metadata": {},
   "outputs": [
    {
     "data": {
      "text/html": [
       "<div>\n",
       "<style scoped>\n",
       "    .dataframe tbody tr th:only-of-type {\n",
       "        vertical-align: middle;\n",
       "    }\n",
       "\n",
       "    .dataframe tbody tr th {\n",
       "        vertical-align: top;\n",
       "    }\n",
       "\n",
       "    .dataframe thead th {\n",
       "        text-align: right;\n",
       "    }\n",
       "</style>\n",
       "<table border=\"1\" class=\"dataframe\">\n",
       "  <thead>\n",
       "    <tr style=\"text-align: right;\">\n",
       "      <th></th>\n",
       "      <th></th>\n",
       "      <th>corr</th>\n",
       "    </tr>\n",
       "  </thead>\n",
       "  <tbody>\n",
       "    <tr>\n",
       "      <th>avg</th>\n",
       "      <th>score</th>\n",
       "      <td>0.956215</td>\n",
       "    </tr>\n",
       "    <tr>\n",
       "      <th>score</th>\n",
       "      <th>avg</th>\n",
       "      <td>0.956215</td>\n",
       "    </tr>\n",
       "    <tr>\n",
       "      <th>ibu</th>\n",
       "      <th>ale</th>\n",
       "      <td>0.665458</td>\n",
       "    </tr>\n",
       "    <tr>\n",
       "      <th>ale</th>\n",
       "      <th>ibu</th>\n",
       "      <td>0.665458</td>\n",
       "    </tr>\n",
       "    <tr>\n",
       "      <th>abv</th>\n",
       "      <th>ibu</th>\n",
       "      <td>0.556142</td>\n",
       "    </tr>\n",
       "    <tr>\n",
       "      <th>ibu</th>\n",
       "      <th>abv</th>\n",
       "      <td>0.556142</td>\n",
       "    </tr>\n",
       "    <tr>\n",
       "      <th>ale</th>\n",
       "      <th>America</th>\n",
       "      <td>0.528833</td>\n",
       "    </tr>\n",
       "    <tr>\n",
       "      <th>America</th>\n",
       "      <th>ale</th>\n",
       "      <td>0.528833</td>\n",
       "    </tr>\n",
       "    <tr>\n",
       "      <th>ibu</th>\n",
       "      <th>America</th>\n",
       "      <td>0.481042</td>\n",
       "    </tr>\n",
       "    <tr>\n",
       "      <th>America</th>\n",
       "      <th>ibu</th>\n",
       "      <td>0.481042</td>\n",
       "    </tr>\n",
       "    <tr>\n",
       "      <th>imperial</th>\n",
       "      <th>ibu</th>\n",
       "      <td>0.476266</td>\n",
       "    </tr>\n",
       "    <tr>\n",
       "      <th>ibu</th>\n",
       "      <th>imperial</th>\n",
       "      <td>0.476266</td>\n",
       "    </tr>\n",
       "    <tr>\n",
       "      <th>abv</th>\n",
       "      <th>imperial</th>\n",
       "      <td>0.461264</td>\n",
       "    </tr>\n",
       "    <tr>\n",
       "      <th>imperial</th>\n",
       "      <th>abv</th>\n",
       "      <td>0.461264</td>\n",
       "    </tr>\n",
       "    <tr>\n",
       "      <th>score</th>\n",
       "      <th>abv</th>\n",
       "      <td>0.446705</td>\n",
       "    </tr>\n",
       "    <tr>\n",
       "      <th>abv</th>\n",
       "      <th>score</th>\n",
       "      <td>0.446705</td>\n",
       "    </tr>\n",
       "    <tr>\n",
       "      <th>score</th>\n",
       "      <th>ibu</th>\n",
       "      <td>0.422295</td>\n",
       "    </tr>\n",
       "    <tr>\n",
       "      <th>ibu</th>\n",
       "      <th>score</th>\n",
       "      <td>0.422295</td>\n",
       "    </tr>\n",
       "    <tr>\n",
       "      <th>avg</th>\n",
       "      <th>abv</th>\n",
       "      <td>0.409138</td>\n",
       "    </tr>\n",
       "    <tr>\n",
       "      <th>abv</th>\n",
       "      <th>avg</th>\n",
       "      <td>0.409138</td>\n",
       "    </tr>\n",
       "    <tr>\n",
       "      <th>beer</th>\n",
       "      <th>America</th>\n",
       "      <td>0.371907</td>\n",
       "    </tr>\n",
       "    <tr>\n",
       "      <th>America</th>\n",
       "      <th>beer</th>\n",
       "      <td>0.371907</td>\n",
       "    </tr>\n",
       "    <tr>\n",
       "      <th>n_ratings</th>\n",
       "      <th>score</th>\n",
       "      <td>0.365664</td>\n",
       "    </tr>\n",
       "    <tr>\n",
       "      <th>score</th>\n",
       "      <th>n_ratings</th>\n",
       "      <td>0.365664</td>\n",
       "    </tr>\n",
       "    <tr>\n",
       "      <th>avg</th>\n",
       "      <th>ibu</th>\n",
       "      <td>0.356152</td>\n",
       "    </tr>\n",
       "    <tr>\n",
       "      <th>ibu</th>\n",
       "      <th>avg</th>\n",
       "      <td>0.356152</td>\n",
       "    </tr>\n",
       "    <tr>\n",
       "      <th>n_ratings</th>\n",
       "      <th>avg</th>\n",
       "      <td>0.325368</td>\n",
       "    </tr>\n",
       "    <tr>\n",
       "      <th>avg</th>\n",
       "      <th>n_ratings</th>\n",
       "      <td>0.325368</td>\n",
       "    </tr>\n",
       "    <tr>\n",
       "      <th>exact</th>\n",
       "      <th>score</th>\n",
       "      <td>0.277697</td>\n",
       "    </tr>\n",
       "    <tr>\n",
       "      <th>score</th>\n",
       "      <th>exact</th>\n",
       "      <td>0.277697</td>\n",
       "    </tr>\n",
       "    <tr>\n",
       "      <th>...</th>\n",
       "      <th>...</th>\n",
       "      <td>...</td>\n",
       "    </tr>\n",
       "    <tr>\n",
       "      <th>exact</th>\n",
       "      <th>pils</th>\n",
       "      <td>0.022108</td>\n",
       "    </tr>\n",
       "    <tr>\n",
       "      <th>pils</th>\n",
       "      <th>exact</th>\n",
       "      <td>0.022108</td>\n",
       "    </tr>\n",
       "    <tr>\n",
       "      <th>exact</th>\n",
       "      <th>ounces</th>\n",
       "      <td>0.020099</td>\n",
       "    </tr>\n",
       "    <tr>\n",
       "      <th>ounces</th>\n",
       "      <th>exact</th>\n",
       "      <td>0.020099</td>\n",
       "    </tr>\n",
       "    <tr>\n",
       "      <th>imperial</th>\n",
       "      <th>pils</th>\n",
       "      <td>0.018954</td>\n",
       "    </tr>\n",
       "    <tr>\n",
       "      <th>pils</th>\n",
       "      <th>imperial</th>\n",
       "      <td>0.018954</td>\n",
       "    </tr>\n",
       "    <tr>\n",
       "      <th>stout</th>\n",
       "      <th>English</th>\n",
       "      <td>0.018896</td>\n",
       "    </tr>\n",
       "    <tr>\n",
       "      <th rowspan=\"2\" valign=\"top\">English</th>\n",
       "      <th>stout</th>\n",
       "      <td>0.018896</td>\n",
       "    </tr>\n",
       "    <tr>\n",
       "      <th>score</th>\n",
       "      <td>0.017245</td>\n",
       "    </tr>\n",
       "    <tr>\n",
       "      <th>score</th>\n",
       "      <th>English</th>\n",
       "      <td>0.017245</td>\n",
       "    </tr>\n",
       "    <tr>\n",
       "      <th>n_ratings</th>\n",
       "      <th>porter</th>\n",
       "      <td>0.016414</td>\n",
       "    </tr>\n",
       "    <tr>\n",
       "      <th>porter</th>\n",
       "      <th>n_ratings</th>\n",
       "      <td>0.016414</td>\n",
       "    </tr>\n",
       "    <tr>\n",
       "      <th>beer</th>\n",
       "      <th>ounces</th>\n",
       "      <td>0.016059</td>\n",
       "    </tr>\n",
       "    <tr>\n",
       "      <th>ounces</th>\n",
       "      <th>beer</th>\n",
       "      <td>0.016059</td>\n",
       "    </tr>\n",
       "    <tr>\n",
       "      <th>exact</th>\n",
       "      <th>Belgian</th>\n",
       "      <td>0.014955</td>\n",
       "    </tr>\n",
       "    <tr>\n",
       "      <th>Belgian</th>\n",
       "      <th>exact</th>\n",
       "      <td>0.014955</td>\n",
       "    </tr>\n",
       "    <tr>\n",
       "      <th>n_ratings</th>\n",
       "      <th>beer</th>\n",
       "      <td>0.012384</td>\n",
       "    </tr>\n",
       "    <tr>\n",
       "      <th>beer</th>\n",
       "      <th>n_ratings</th>\n",
       "      <td>0.012384</td>\n",
       "    </tr>\n",
       "    <tr>\n",
       "      <th>America</th>\n",
       "      <th>ounces</th>\n",
       "      <td>0.009399</td>\n",
       "    </tr>\n",
       "    <tr>\n",
       "      <th>ounces</th>\n",
       "      <th>America</th>\n",
       "      <td>0.009399</td>\n",
       "    </tr>\n",
       "    <tr>\n",
       "      <th>English</th>\n",
       "      <th>ounces</th>\n",
       "      <td>0.008922</td>\n",
       "    </tr>\n",
       "    <tr>\n",
       "      <th>ounces</th>\n",
       "      <th>English</th>\n",
       "      <td>0.008922</td>\n",
       "    </tr>\n",
       "    <tr>\n",
       "      <th>English</th>\n",
       "      <th>exact</th>\n",
       "      <td>0.004663</td>\n",
       "    </tr>\n",
       "    <tr>\n",
       "      <th>exact</th>\n",
       "      <th>English</th>\n",
       "      <td>0.004663</td>\n",
       "    </tr>\n",
       "    <tr>\n",
       "      <th>lager</th>\n",
       "      <th>n_ratings</th>\n",
       "      <td>0.003733</td>\n",
       "    </tr>\n",
       "    <tr>\n",
       "      <th>n_ratings</th>\n",
       "      <th>lager</th>\n",
       "      <td>0.003733</td>\n",
       "    </tr>\n",
       "    <tr>\n",
       "      <th>abv</th>\n",
       "      <th>porter</th>\n",
       "      <td>0.003259</td>\n",
       "    </tr>\n",
       "    <tr>\n",
       "      <th>porter</th>\n",
       "      <th>abv</th>\n",
       "      <td>0.003259</td>\n",
       "    </tr>\n",
       "    <tr>\n",
       "      <th>ounces</th>\n",
       "      <th>porter</th>\n",
       "      <td>0.002980</td>\n",
       "    </tr>\n",
       "    <tr>\n",
       "      <th>porter</th>\n",
       "      <th>ounces</th>\n",
       "      <td>0.002980</td>\n",
       "    </tr>\n",
       "  </tbody>\n",
       "</table>\n",
       "<p>272 rows × 1 columns</p>\n",
       "</div>"
      ],
      "text/plain": [
       "                         corr\n",
       "avg       score      0.956215\n",
       "score     avg        0.956215\n",
       "ibu       ale        0.665458\n",
       "ale       ibu        0.665458\n",
       "abv       ibu        0.556142\n",
       "ibu       abv        0.556142\n",
       "ale       America    0.528833\n",
       "America   ale        0.528833\n",
       "ibu       America    0.481042\n",
       "America   ibu        0.481042\n",
       "imperial  ibu        0.476266\n",
       "ibu       imperial   0.476266\n",
       "abv       imperial   0.461264\n",
       "imperial  abv        0.461264\n",
       "score     abv        0.446705\n",
       "abv       score      0.446705\n",
       "score     ibu        0.422295\n",
       "ibu       score      0.422295\n",
       "avg       abv        0.409138\n",
       "abv       avg        0.409138\n",
       "beer      America    0.371907\n",
       "America   beer       0.371907\n",
       "n_ratings score      0.365664\n",
       "score     n_ratings  0.365664\n",
       "avg       ibu        0.356152\n",
       "ibu       avg        0.356152\n",
       "n_ratings avg        0.325368\n",
       "avg       n_ratings  0.325368\n",
       "exact     score      0.277697\n",
       "score     exact      0.277697\n",
       "...                       ...\n",
       "exact     pils       0.022108\n",
       "pils      exact      0.022108\n",
       "exact     ounces     0.020099\n",
       "ounces    exact      0.020099\n",
       "imperial  pils       0.018954\n",
       "pils      imperial   0.018954\n",
       "stout     English    0.018896\n",
       "English   stout      0.018896\n",
       "          score      0.017245\n",
       "score     English    0.017245\n",
       "n_ratings porter     0.016414\n",
       "porter    n_ratings  0.016414\n",
       "beer      ounces     0.016059\n",
       "ounces    beer       0.016059\n",
       "exact     Belgian    0.014955\n",
       "Belgian   exact      0.014955\n",
       "n_ratings beer       0.012384\n",
       "beer      n_ratings  0.012384\n",
       "America   ounces     0.009399\n",
       "ounces    America    0.009399\n",
       "English   ounces     0.008922\n",
       "ounces    English    0.008922\n",
       "English   exact      0.004663\n",
       "exact     English    0.004663\n",
       "lager     n_ratings  0.003733\n",
       "n_ratings lager      0.003733\n",
       "abv       porter     0.003259\n",
       "porter    abv        0.003259\n",
       "ounces    porter     0.002980\n",
       "porter    ounces     0.002980\n",
       "\n",
       "[272 rows x 1 columns]"
      ]
     },
     "execution_count": 104,
     "metadata": {},
     "output_type": "execute_result"
    }
   ],
   "source": [
    "# looking for highly correlated variables to remove\n",
    "df_corr = pd.DataFrame(df_fnl.corr().abs().unstack().sort_values(ascending = False))\n",
    "df_corr.columns = ['corr']\n",
    "df_corr[df_corr['corr'] < 1]"
   ]
  },
  {
   "cell_type": "code",
   "execution_count": 105,
   "metadata": {},
   "outputs": [],
   "source": [
    "# I noticed that avg and score were very highly correlated. \n",
    "# BA's score methodology is simply the percentage of ratings which were above 3.75 out of 5.\n",
    "# With such a tight relationship, it was clear one would go, which I decided would be 'score', since I felt \n",
    "# BA's methodology meant that information was being lost\n",
    "df_fnl.drop('score',axis = 1, inplace = True)"
   ]
  },
  {
   "cell_type": "code",
   "execution_count": 107,
   "metadata": {},
   "outputs": [
    {
     "data": {
      "text/html": [
       "<div>\n",
       "<style scoped>\n",
       "    .dataframe tbody tr th:only-of-type {\n",
       "        vertical-align: middle;\n",
       "    }\n",
       "\n",
       "    .dataframe tbody tr th {\n",
       "        vertical-align: top;\n",
       "    }\n",
       "\n",
       "    .dataframe thead th {\n",
       "        text-align: right;\n",
       "    }\n",
       "</style>\n",
       "<table border=\"1\" class=\"dataframe\">\n",
       "  <thead>\n",
       "    <tr style=\"text-align: right;\">\n",
       "      <th></th>\n",
       "      <th>abv</th>\n",
       "      <th>ibu</th>\n",
       "      <th>avg</th>\n",
       "      <th>n_ratings</th>\n",
       "    </tr>\n",
       "  </thead>\n",
       "  <tbody>\n",
       "    <tr>\n",
       "      <th>count</th>\n",
       "      <td>1001.000000</td>\n",
       "      <td>1001.000000</td>\n",
       "      <td>1001.000000</td>\n",
       "      <td>1001.000000</td>\n",
       "    </tr>\n",
       "    <tr>\n",
       "      <th>mean</th>\n",
       "      <td>0.060103</td>\n",
       "      <td>40.024008</td>\n",
       "      <td>3.671229</td>\n",
       "      <td>527.962038</td>\n",
       "    </tr>\n",
       "    <tr>\n",
       "      <th>std</th>\n",
       "      <td>0.013668</td>\n",
       "      <td>23.802254</td>\n",
       "      <td>0.304025</td>\n",
       "      <td>1485.123932</td>\n",
       "    </tr>\n",
       "    <tr>\n",
       "      <th>min</th>\n",
       "      <td>0.027000</td>\n",
       "      <td>0.000000</td>\n",
       "      <td>1.900000</td>\n",
       "      <td>10.000000</td>\n",
       "    </tr>\n",
       "    <tr>\n",
       "      <th>25%</th>\n",
       "      <td>0.050000</td>\n",
       "      <td>21.027027</td>\n",
       "      <td>3.500000</td>\n",
       "      <td>50.000000</td>\n",
       "    </tr>\n",
       "    <tr>\n",
       "      <th>50%</th>\n",
       "      <td>0.057000</td>\n",
       "      <td>33.750000</td>\n",
       "      <td>3.700000</td>\n",
       "      <td>129.000000</td>\n",
       "    </tr>\n",
       "    <tr>\n",
       "      <th>75%</th>\n",
       "      <td>0.068000</td>\n",
       "      <td>57.800000</td>\n",
       "      <td>3.800000</td>\n",
       "      <td>386.000000</td>\n",
       "    </tr>\n",
       "    <tr>\n",
       "      <th>max</th>\n",
       "      <td>0.125000</td>\n",
       "      <td>138.000000</td>\n",
       "      <td>4.700000</td>\n",
       "      <td>15243.000000</td>\n",
       "    </tr>\n",
       "  </tbody>\n",
       "</table>\n",
       "</div>"
      ],
      "text/plain": [
       "               abv          ibu          avg     n_ratings\n",
       "count  1001.000000  1001.000000  1001.000000   1001.000000\n",
       "mean      0.060103    40.024008     3.671229    527.962038\n",
       "std       0.013668    23.802254     0.304025   1485.123932\n",
       "min       0.027000     0.000000     1.900000     10.000000\n",
       "25%       0.050000    21.027027     3.500000     50.000000\n",
       "50%       0.057000    33.750000     3.700000    129.000000\n",
       "75%       0.068000    57.800000     3.800000    386.000000\n",
       "max       0.125000   138.000000     4.700000  15243.000000"
      ]
     },
     "execution_count": 107,
     "metadata": {},
     "output_type": "execute_result"
    }
   ],
   "source": [
    "df_fnl[['abv','ibu','avg','n_ratings']].describe()"
   ]
  },
  {
   "cell_type": "code",
   "execution_count": 108,
   "metadata": {},
   "outputs": [
    {
     "data": {
      "image/png": "[encoded data removed]",
      "text/plain": [
       "<Figure size 864x432 with 1 Axes>"
      ]
     },
     "metadata": {
      "needs_background": "light"
     },
     "output_type": "display_data"
    }
   ],
   "source": [
    "# of the non-binary variables, n_ratings was the only standout which seemed to require additional intervention\n",
    "df_fnl['n_ratings'].hist(bins = 100, figsize = (12,6));"
   ]
  },
  {
   "cell_type": "code",
   "execution_count": 109,
   "metadata": {},
   "outputs": [
    {
     "data": {
      "image/png": "[encoded data removed]",
      "text/plain": [
       "<Figure size 864x432 with 1 Axes>"
      ]
     },
     "metadata": {
      "needs_background": "light"
     },
     "output_type": "display_data"
    }
   ],
   "source": [
    "# with severely right-skewed data, and non-negative values, log transformation seemed the most appropriate\n",
    "np.log(df_fnl['n_ratings']).hist(figsize = (12,6));"
   ]
  },
  {
   "cell_type": "code",
   "execution_count": 110,
   "metadata": {},
   "outputs": [
    {
     "data": {
      "text/plain": [
       "count    1001.000000\n",
       "mean        4.986252\n",
       "std         1.466504\n",
       "min         2.302585\n",
       "25%         3.912023\n",
       "50%         4.859812\n",
       "75%         5.955837\n",
       "max         9.631876\n",
       "Name: n_ratings, dtype: float64"
      ]
     },
     "execution_count": 110,
     "metadata": {},
     "output_type": "execute_result"
    }
   ],
   "source": [
    "df_fnl['n_ratings'] = np.log(df_fnl['n_ratings'])\n",
    "df_fnl['n_ratings'].describe()"
   ]
  },
  {
   "cell_type": "markdown",
   "metadata": {},
   "source": [
    "### Modeling\n",
    "\n",
    "I decided to leverage Pipelines and GridSearch so that I could efficiently test Ridge and Lasso linear models, as well as Random Forest Regressors.\n",
    "\n",
    "The X1 model is my attempt to model the 'avg' rating, and the X2 model is the attempt to predict 'n_ratings'."
   ]
  },
  {
   "cell_type": "code",
   "execution_count": 111,
   "metadata": {},
   "outputs": [],
   "source": [
    "# identifying the columns of interst\n",
    "X1_cols = df_fnl.columns[df_fnl.columns != 'avg']\n",
    "X2_cols = df_fnl.columns[df_fnl.columns != 'n_ratings']\n",
    "\n",
    "# copying to more conviently model two different target variables\n",
    "X1 = df_fnl[X1_cols]\n",
    "y1 = df_fnl['avg']\n",
    "X2 = df_fnl[X2_cols]\n",
    "y2 = df_fnl['n_ratings']\n",
    "\n",
    "# X1_train, X1_test, y1_train, y1_test = train_test_split(X1,\n",
    "#                                                         y1,\n",
    "#                                                         test_size = 0.2,\n",
    "#                                                         random_state=1)\n",
    "\n",
    "# X2_train, X2_test, y2_train, y2_test = train_test_split(X2,\n",
    "#                                                         y2,\n",
    "#                                                         test_size = 0.2,\n",
    "#                                                         random_state=1)"
   ]
  },
  {
   "cell_type": "markdown",
   "metadata": {},
   "source": [
    "#### Baselines\n",
    "\n",
    "Since this isn't part of a competition, I need some kind of baseline for comparison. For this I used a simple OLS Linear Model from statsmodels, because I also wanted to get some idea of feature statistics."
   ]
  },
  {
   "cell_type": "code",
   "execution_count": 128,
   "metadata": {},
   "outputs": [],
   "source": [
    "lr = LinearRegression()"
   ]
  },
  {
   "cell_type": "code",
   "execution_count": 129,
   "metadata": {
    "scrolled": true
   },
   "outputs": [],
   "source": [
    "# standardizing the inputs for the linear model\n",
    "X1_std = (X1 - X1.mean()) / X1.std()\n",
    "X2_std = (X2 - X2.mean()) / X2.std()"
   ]
  },
  {
   "cell_type": "code",
   "execution_count": 130,
   "metadata": {},
   "outputs": [
    {
     "data": {
      "text/plain": [
       "0.31310897763312096"
      ]
     },
     "execution_count": 130,
     "metadata": {},
     "output_type": "execute_result"
    }
   ],
   "source": [
    "lr.fit(X1_std, y1)\n",
    "lr.score(X1_std, y1)"
   ]
  },
  {
   "cell_type": "code",
   "execution_count": 131,
   "metadata": {},
   "outputs": [
    {
     "data": {
      "text/html": [
       "<div>\n",
       "<style scoped>\n",
       "    .dataframe tbody tr th:only-of-type {\n",
       "        vertical-align: middle;\n",
       "    }\n",
       "\n",
       "    .dataframe tbody tr th {\n",
       "        vertical-align: top;\n",
       "    }\n",
       "\n",
       "    .dataframe thead th {\n",
       "        text-align: right;\n",
       "    }\n",
       "</style>\n",
       "<table border=\"1\" class=\"dataframe\">\n",
       "  <thead>\n",
       "    <tr style=\"text-align: right;\">\n",
       "      <th></th>\n",
       "      <th>Vars</th>\n",
       "      <th>Weight</th>\n",
       "    </tr>\n",
       "  </thead>\n",
       "  <tbody>\n",
       "    <tr>\n",
       "      <th>4</th>\n",
       "      <td>n_ratings</td>\n",
       "      <td>0.077366</td>\n",
       "    </tr>\n",
       "    <tr>\n",
       "      <th>0</th>\n",
       "      <td>abv</td>\n",
       "      <td>0.069082</td>\n",
       "    </tr>\n",
       "    <tr>\n",
       "      <th>1</th>\n",
       "      <td>ibu</td>\n",
       "      <td>0.049047</td>\n",
       "    </tr>\n",
       "    <tr>\n",
       "      <th>13</th>\n",
       "      <td>porter</td>\n",
       "      <td>0.033248</td>\n",
       "    </tr>\n",
       "    <tr>\n",
       "      <th>2</th>\n",
       "      <td>ounces</td>\n",
       "      <td>0.033022</td>\n",
       "    </tr>\n",
       "    <tr>\n",
       "      <th>11</th>\n",
       "      <td>stout</td>\n",
       "      <td>0.020949</td>\n",
       "    </tr>\n",
       "    <tr>\n",
       "      <th>6</th>\n",
       "      <td>English</td>\n",
       "      <td>0.013459</td>\n",
       "    </tr>\n",
       "    <tr>\n",
       "      <th>7</th>\n",
       "      <td>Belgian</td>\n",
       "      <td>0.007873</td>\n",
       "    </tr>\n",
       "    <tr>\n",
       "      <th>8</th>\n",
       "      <td>ale</td>\n",
       "      <td>0.006305</td>\n",
       "    </tr>\n",
       "    <tr>\n",
       "      <th>12</th>\n",
       "      <td>beer</td>\n",
       "      <td>0.002246</td>\n",
       "    </tr>\n",
       "    <tr>\n",
       "      <th>14</th>\n",
       "      <td>imperial</td>\n",
       "      <td>0.001432</td>\n",
       "    </tr>\n",
       "    <tr>\n",
       "      <th>10</th>\n",
       "      <td>pils</td>\n",
       "      <td>-0.002018</td>\n",
       "    </tr>\n",
       "    <tr>\n",
       "      <th>5</th>\n",
       "      <td>America</td>\n",
       "      <td>-0.017088</td>\n",
       "    </tr>\n",
       "    <tr>\n",
       "      <th>9</th>\n",
       "      <td>lager</td>\n",
       "      <td>-0.025584</td>\n",
       "    </tr>\n",
       "    <tr>\n",
       "      <th>3</th>\n",
       "      <td>exact</td>\n",
       "      <td>-0.032111</td>\n",
       "    </tr>\n",
       "  </tbody>\n",
       "</table>\n",
       "</div>"
      ],
      "text/plain": [
       "         Vars    Weight\n",
       "4   n_ratings  0.077366\n",
       "0         abv  0.069082\n",
       "1         ibu  0.049047\n",
       "13     porter  0.033248\n",
       "2      ounces  0.033022\n",
       "11      stout  0.020949\n",
       "6     English  0.013459\n",
       "7     Belgian  0.007873\n",
       "8         ale  0.006305\n",
       "12       beer  0.002246\n",
       "14   imperial  0.001432\n",
       "10       pils -0.002018\n",
       "5     America -0.017088\n",
       "9       lager -0.025584\n",
       "3       exact -0.032111"
      ]
     },
     "execution_count": 131,
     "metadata": {},
     "output_type": "execute_result"
    }
   ],
   "source": [
    "coeffs = pd.DataFrame({\n",
    "    'Vars': X1.columns,\n",
    "    'Weight': lr.coef_\n",
    "}).sort_values(by='Weight', ascending=False)\n",
    "coeffs"
   ]
  },
  {
   "cell_type": "code",
   "execution_count": 132,
   "metadata": {},
   "outputs": [
    {
     "data": {
      "text/plain": [
       "0.2271098632387082"
      ]
     },
     "execution_count": 132,
     "metadata": {},
     "output_type": "execute_result"
    }
   ],
   "source": [
    "lr.fit(X2_std, y2)\n",
    "lr.score(X2_std, y2)"
   ]
  },
  {
   "cell_type": "code",
   "execution_count": 133,
   "metadata": {},
   "outputs": [
    {
     "data": {
      "text/html": [
       "<div>\n",
       "<style scoped>\n",
       "    .dataframe tbody tr th:only-of-type {\n",
       "        vertical-align: middle;\n",
       "    }\n",
       "\n",
       "    .dataframe tbody tr th {\n",
       "        vertical-align: top;\n",
       "    }\n",
       "\n",
       "    .dataframe thead th {\n",
       "        text-align: right;\n",
       "    }\n",
       "</style>\n",
       "<table border=\"1\" class=\"dataframe\">\n",
       "  <thead>\n",
       "    <tr style=\"text-align: right;\">\n",
       "      <th></th>\n",
       "      <th>Vars</th>\n",
       "      <th>Weight</th>\n",
       "    </tr>\n",
       "  </thead>\n",
       "  <tbody>\n",
       "    <tr>\n",
       "      <th>3</th>\n",
       "      <td>exact</td>\n",
       "      <td>0.419910</td>\n",
       "    </tr>\n",
       "    <tr>\n",
       "      <th>8</th>\n",
       "      <td>ale</td>\n",
       "      <td>0.125413</td>\n",
       "    </tr>\n",
       "    <tr>\n",
       "      <th>14</th>\n",
       "      <td>imperial</td>\n",
       "      <td>0.058030</td>\n",
       "    </tr>\n",
       "    <tr>\n",
       "      <th>1</th>\n",
       "      <td>ibu</td>\n",
       "      <td>0.003846</td>\n",
       "    </tr>\n",
       "    <tr>\n",
       "      <th>12</th>\n",
       "      <td>beer</td>\n",
       "      <td>-0.003891</td>\n",
       "    </tr>\n",
       "    <tr>\n",
       "      <th>9</th>\n",
       "      <td>lager</td>\n",
       "      <td>-0.019513</td>\n",
       "    </tr>\n",
       "    <tr>\n",
       "      <th>5</th>\n",
       "      <td>America</td>\n",
       "      <td>-0.035036</td>\n",
       "    </tr>\n",
       "    <tr>\n",
       "      <th>10</th>\n",
       "      <td>pils</td>\n",
       "      <td>-0.060046</td>\n",
       "    </tr>\n",
       "    <tr>\n",
       "      <th>6</th>\n",
       "      <td>English</td>\n",
       "      <td>-0.062434</td>\n",
       "    </tr>\n",
       "    <tr>\n",
       "      <th>0</th>\n",
       "      <td>abv</td>\n",
       "      <td>-0.064598</td>\n",
       "    </tr>\n",
       "    <tr>\n",
       "      <th>11</th>\n",
       "      <td>stout</td>\n",
       "      <td>-0.076713</td>\n",
       "    </tr>\n",
       "    <tr>\n",
       "      <th>13</th>\n",
       "      <td>porter</td>\n",
       "      <td>-0.100777</td>\n",
       "    </tr>\n",
       "    <tr>\n",
       "      <th>7</th>\n",
       "      <td>Belgian</td>\n",
       "      <td>-0.131281</td>\n",
       "    </tr>\n",
       "    <tr>\n",
       "      <th>2</th>\n",
       "      <td>ounces</td>\n",
       "      <td>-0.290753</td>\n",
       "    </tr>\n",
       "    <tr>\n",
       "      <th>4</th>\n",
       "      <td>n_ratings</td>\n",
       "      <td>-0.362061</td>\n",
       "    </tr>\n",
       "  </tbody>\n",
       "</table>\n",
       "</div>"
      ],
      "text/plain": [
       "         Vars    Weight\n",
       "3       exact  0.419910\n",
       "8         ale  0.125413\n",
       "14   imperial  0.058030\n",
       "1         ibu  0.003846\n",
       "12       beer -0.003891\n",
       "9       lager -0.019513\n",
       "5     America -0.035036\n",
       "10       pils -0.060046\n",
       "6     English -0.062434\n",
       "0         abv -0.064598\n",
       "11      stout -0.076713\n",
       "13     porter -0.100777\n",
       "7     Belgian -0.131281\n",
       "2      ounces -0.290753\n",
       "4   n_ratings -0.362061"
      ]
     },
     "execution_count": 133,
     "metadata": {},
     "output_type": "execute_result"
    }
   ],
   "source": [
    "coeffs = pd.DataFrame({\n",
    "    'Vars': X1.columns,\n",
    "    'Weight': lr.coef_\n",
    "}).sort_values(by='Weight', ascending=False)\n",
    "coeffs"
   ]
  },
  {
   "cell_type": "code",
   "execution_count": 134,
   "metadata": {},
   "outputs": [],
   "source": [
    "# instantiating the models\n",
    "ss = StandardScaler()\n",
    "lass = Lasso()\n",
    "rr = Ridge()\n",
    "rf = RandomForestRegressor()"
   ]
  },
  {
   "cell_type": "code",
   "execution_count": 192,
   "metadata": {},
   "outputs": [],
   "source": [
    "# creating three pipes and param grids to feed into GridSearchCV\n",
    "pipe1 = Pipeline([('ss', ss), ('lasso', lass)])\n",
    "pipe2 = Pipeline([('ss', ss), ('ridge', rr)])\n",
    "pipe3 = Pipeline([('ss', ss), ('rf', rf)])\n",
    "\n",
    "param_grid1 = {'lasso__alpha': np.logspace(-3, 1, 200)}\n",
    "param_grid2 = {'ridge__alpha': np.logspace(-6, 6, 200)}\n",
    "param_grid3 = {'rf__max_features': [1,2,0.5,'sqrt','log2'],\n",
    "               'rf__min_samples_leaf': [1,2,3,5,10],\n",
    "               'rf__n_estimators': [1,5,10,25,100,1000]}\n",
    "\n",
    "grid1 = GridSearchCV(estimator=pipe1, param_grid=param_grid1, cv=8)\n",
    "grid2 = GridSearchCV(estimator=pipe2, param_grid=param_grid2, cv=8)\n",
    "grid3 = GridSearchCV(estimator=pipe3, param_grid=param_grid3, cv=8)"
   ]
  },
  {
   "cell_type": "code",
   "execution_count": 193,
   "metadata": {},
   "outputs": [
    {
     "data": {
      "text/plain": [
       "GridSearchCV(cv=8, error_score='raise-deprecating',\n",
       "       estimator=Pipeline(memory=None,\n",
       "     steps=[('ss', StandardScaler(copy=True, with_mean=True, with_std=True)), ('lasso', Lasso(alpha=0.006368249944718587, copy_X=True, fit_intercept=True,\n",
       "   max_iter=1000, normalize=False, positive=False, precompute=False,\n",
       "   random_state=None, selection='cyclic', tol=0.0001, warm_start=False))]),\n",
       "       fit_params=None, iid='warn', n_jobs=None,\n",
       "       param_grid={'lasso__alpha': array([1.00000e-03, 1.04737e-03, ..., 9.54772e+00, 1.00000e+01])},\n",
       "       pre_dispatch='2*n_jobs', refit=True, return_train_score='warn',\n",
       "       scoring=None, verbose=0)"
      ]
     },
     "execution_count": 193,
     "metadata": {},
     "output_type": "execute_result"
    }
   ],
   "source": [
    "grid1.fit(X1, y1)"
   ]
  },
  {
   "cell_type": "code",
   "execution_count": 194,
   "metadata": {},
   "outputs": [
    {
     "data": {
      "text/html": [
       "<div>\n",
       "<style scoped>\n",
       "    .dataframe tbody tr th:only-of-type {\n",
       "        vertical-align: middle;\n",
       "    }\n",
       "\n",
       "    .dataframe tbody tr th {\n",
       "        vertical-align: top;\n",
       "    }\n",
       "\n",
       "    .dataframe thead th {\n",
       "        text-align: right;\n",
       "    }\n",
       "</style>\n",
       "<table border=\"1\" class=\"dataframe\">\n",
       "  <thead>\n",
       "    <tr style=\"text-align: right;\">\n",
       "      <th></th>\n",
       "      <th>mean_fit_time</th>\n",
       "      <th>std_fit_time</th>\n",
       "      <th>mean_score_time</th>\n",
       "      <th>std_score_time</th>\n",
       "      <th>param_lasso__alpha</th>\n",
       "      <th>params</th>\n",
       "      <th>split0_test_score</th>\n",
       "      <th>split1_test_score</th>\n",
       "      <th>split2_test_score</th>\n",
       "      <th>split3_test_score</th>\n",
       "      <th>...</th>\n",
       "      <th>split0_train_score</th>\n",
       "      <th>split1_train_score</th>\n",
       "      <th>split2_train_score</th>\n",
       "      <th>split3_train_score</th>\n",
       "      <th>split4_train_score</th>\n",
       "      <th>split5_train_score</th>\n",
       "      <th>split6_train_score</th>\n",
       "      <th>split7_train_score</th>\n",
       "      <th>mean_train_score</th>\n",
       "      <th>std_train_score</th>\n",
       "    </tr>\n",
       "  </thead>\n",
       "  <tbody>\n",
       "    <tr>\n",
       "      <th>38</th>\n",
       "      <td>0.002326</td>\n",
       "      <td>0.000034</td>\n",
       "      <td>0.000742</td>\n",
       "      <td>0.000009</td>\n",
       "      <td>0.00580523</td>\n",
       "      <td>{'lasso__alpha': 0.005805225516094896}</td>\n",
       "      <td>0.272079</td>\n",
       "      <td>0.069898</td>\n",
       "      <td>0.264163</td>\n",
       "      <td>0.300076</td>\n",
       "      <td>...</td>\n",
       "      <td>0.312284</td>\n",
       "      <td>0.33257</td>\n",
       "      <td>0.312668</td>\n",
       "      <td>0.297714</td>\n",
       "      <td>0.330149</td>\n",
       "      <td>0.3218</td>\n",
       "      <td>0.274134</td>\n",
       "      <td>0.316855</td>\n",
       "      <td>0.312272</td>\n",
       "      <td>0.017713</td>\n",
       "    </tr>\n",
       "  </tbody>\n",
       "</table>\n",
       "<p>1 rows × 27 columns</p>\n",
       "</div>"
      ],
      "text/plain": [
       "    mean_fit_time  std_fit_time  mean_score_time  std_score_time  \\\n",
       "38       0.002326      0.000034         0.000742        0.000009   \n",
       "\n",
       "   param_lasso__alpha                                  params  \\\n",
       "38         0.00580523  {'lasso__alpha': 0.005805225516094896}   \n",
       "\n",
       "    split0_test_score  split1_test_score  split2_test_score  \\\n",
       "38           0.272079           0.069898           0.264163   \n",
       "\n",
       "    split3_test_score       ...         split0_train_score  \\\n",
       "38           0.300076       ...                   0.312284   \n",
       "\n",
       "    split1_train_score  split2_train_score  split3_train_score  \\\n",
       "38             0.33257            0.312668            0.297714   \n",
       "\n",
       "    split4_train_score  split5_train_score  split6_train_score  \\\n",
       "38            0.330149              0.3218            0.274134   \n",
       "\n",
       "    split7_train_score  mean_train_score  std_train_score  \n",
       "38            0.316855          0.312272         0.017713  \n",
       "\n",
       "[1 rows x 27 columns]"
      ]
     },
     "execution_count": 194,
     "metadata": {},
     "output_type": "execute_result"
    }
   ],
   "source": [
    "grid1_results = pd.DataFrame(grid1.cv_results_)\n",
    "grid1_results[grid1_results['rank_test_score'] == 1]"
   ]
  },
  {
   "cell_type": "code",
   "execution_count": 199,
   "metadata": {},
   "outputs": [
    {
     "data": {
      "text/plain": [
       "0.25011907723341187"
      ]
     },
     "execution_count": 199,
     "metadata": {},
     "output_type": "execute_result"
    }
   ],
   "source": [
    "lass.set_params(alpha = 0.005805225516094896)\n",
    "lass.fit(X1, y1)\n",
    "lass.score(X1, y1)"
   ]
  },
  {
   "cell_type": "code",
   "execution_count": 197,
   "metadata": {},
   "outputs": [
    {
     "data": {
      "text/plain": [
       "GridSearchCV(cv=8, error_score='raise-deprecating',\n",
       "       estimator=Pipeline(memory=None,\n",
       "     steps=[('ss', StandardScaler(copy=True, with_mean=True, with_std=True)), ('ridge', Ridge(alpha=1.0, copy_X=True, fit_intercept=True, max_iter=None,\n",
       "   normalize=False, random_state=None, solver='auto', tol=0.001))]),\n",
       "       fit_params=None, iid='warn', n_jobs=None,\n",
       "       param_grid={'ridge__alpha': array([1.00000e-06, 1.14895e-06, ..., 8.70359e+05, 1.00000e+06])},\n",
       "       pre_dispatch='2*n_jobs', refit=True, return_train_score='warn',\n",
       "       scoring=None, verbose=0)"
      ]
     },
     "execution_count": 197,
     "metadata": {},
     "output_type": "execute_result"
    }
   ],
   "source": [
    "grid2.fit(X1, y1)"
   ]
  },
  {
   "cell_type": "code",
   "execution_count": 201,
   "metadata": {},
   "outputs": [
    {
     "data": {
      "text/html": [
       "<div>\n",
       "<style scoped>\n",
       "    .dataframe tbody tr th:only-of-type {\n",
       "        vertical-align: middle;\n",
       "    }\n",
       "\n",
       "    .dataframe tbody tr th {\n",
       "        vertical-align: top;\n",
       "    }\n",
       "\n",
       "    .dataframe thead th {\n",
       "        text-align: right;\n",
       "    }\n",
       "</style>\n",
       "<table border=\"1\" class=\"dataframe\">\n",
       "  <thead>\n",
       "    <tr style=\"text-align: right;\">\n",
       "      <th></th>\n",
       "      <th>mean_fit_time</th>\n",
       "      <th>std_fit_time</th>\n",
       "      <th>mean_score_time</th>\n",
       "      <th>std_score_time</th>\n",
       "      <th>param_ridge__alpha</th>\n",
       "      <th>params</th>\n",
       "      <th>split0_test_score</th>\n",
       "      <th>split1_test_score</th>\n",
       "      <th>split2_test_score</th>\n",
       "      <th>split3_test_score</th>\n",
       "      <th>...</th>\n",
       "      <th>split0_train_score</th>\n",
       "      <th>split1_train_score</th>\n",
       "      <th>split2_train_score</th>\n",
       "      <th>split3_train_score</th>\n",
       "      <th>split4_train_score</th>\n",
       "      <th>split5_train_score</th>\n",
       "      <th>split6_train_score</th>\n",
       "      <th>split7_train_score</th>\n",
       "      <th>mean_train_score</th>\n",
       "      <th>std_train_score</th>\n",
       "    </tr>\n",
       "  </thead>\n",
       "  <tbody>\n",
       "    <tr>\n",
       "      <th>139</th>\n",
       "      <td>0.002372</td>\n",
       "      <td>0.000011</td>\n",
       "      <td>0.00074</td>\n",
       "      <td>0.000004</td>\n",
       "      <td>240.94</td>\n",
       "      <td>{'ridge__alpha': 240.9403560239527}</td>\n",
       "      <td>0.263451</td>\n",
       "      <td>0.084398</td>\n",
       "      <td>0.27929</td>\n",
       "      <td>0.276723</td>\n",
       "      <td>...</td>\n",
       "      <td>0.309068</td>\n",
       "      <td>0.328495</td>\n",
       "      <td>0.308505</td>\n",
       "      <td>0.294999</td>\n",
       "      <td>0.32454</td>\n",
       "      <td>0.317588</td>\n",
       "      <td>0.271962</td>\n",
       "      <td>0.313062</td>\n",
       "      <td>0.308527</td>\n",
       "      <td>0.016875</td>\n",
       "    </tr>\n",
       "  </tbody>\n",
       "</table>\n",
       "<p>1 rows × 27 columns</p>\n",
       "</div>"
      ],
      "text/plain": [
       "     mean_fit_time  std_fit_time  mean_score_time  std_score_time  \\\n",
       "139       0.002372      0.000011          0.00074        0.000004   \n",
       "\n",
       "    param_ridge__alpha                               params  \\\n",
       "139             240.94  {'ridge__alpha': 240.9403560239527}   \n",
       "\n",
       "     split0_test_score  split1_test_score  split2_test_score  \\\n",
       "139           0.263451           0.084398            0.27929   \n",
       "\n",
       "     split3_test_score       ...         split0_train_score  \\\n",
       "139           0.276723       ...                   0.309068   \n",
       "\n",
       "     split1_train_score  split2_train_score  split3_train_score  \\\n",
       "139            0.328495            0.308505            0.294999   \n",
       "\n",
       "     split4_train_score  split5_train_score  split6_train_score  \\\n",
       "139             0.32454            0.317588            0.271962   \n",
       "\n",
       "     split7_train_score  mean_train_score  std_train_score  \n",
       "139            0.313062          0.308527         0.016875  \n",
       "\n",
       "[1 rows x 27 columns]"
      ]
     },
     "execution_count": 201,
     "metadata": {},
     "output_type": "execute_result"
    }
   ],
   "source": [
    "grid2_results = pd.DataFrame(grid2.cv_results_)\n",
    "grid2_results[grid2_results['rank_test_score'] == 1]"
   ]
  },
  {
   "cell_type": "code",
   "execution_count": 202,
   "metadata": {},
   "outputs": [
    {
     "data": {
      "text/plain": [
       "0.25042447835926485"
      ]
     },
     "execution_count": 202,
     "metadata": {},
     "output_type": "execute_result"
    }
   ],
   "source": [
    "rr.set_params(alpha = 240.9403560239527)\n",
    "rr.fit(X1, y1)\n",
    "rr.score(X1, y1)"
   ]
  },
  {
   "cell_type": "code",
   "execution_count": 203,
   "metadata": {},
   "outputs": [
    {
     "data": {
      "text/plain": [
       "GridSearchCV(cv=8, error_score='raise-deprecating',\n",
       "       estimator=Pipeline(memory=None,\n",
       "     steps=[('ss', StandardScaler(copy=True, with_mean=True, with_std=True)), ('rf', RandomForestRegressor(bootstrap=True, criterion='mse', max_depth=None,\n",
       "           max_features='auto', max_leaf_nodes=None,\n",
       "           min_impurity_decrease=0.0, min_impurity_split=No...='warn', n_jobs=None,\n",
       "           oob_score=False, random_state=None, verbose=0, warm_start=False))]),\n",
       "       fit_params=None, iid='warn', n_jobs=None,\n",
       "       param_grid={'rf__max_features': [1, 2, 0.5, 'sqrt', 'log2'], 'rf__min_samples_leaf': [1, 2, 3, 5, 10], 'rf__n_estimators': [1, 5, 10, 25, 100, 1000]},\n",
       "       pre_dispatch='2*n_jobs', refit=True, return_train_score='warn',\n",
       "       scoring=None, verbose=0)"
      ]
     },
     "execution_count": 203,
     "metadata": {},
     "output_type": "execute_result"
    }
   ],
   "source": [
    "grid3.fit(X1, y1)"
   ]
  },
  {
   "cell_type": "code",
   "execution_count": 204,
   "metadata": {},
   "outputs": [
    {
     "data": {
      "text/html": [
       "<div>\n",
       "<style scoped>\n",
       "    .dataframe tbody tr th:only-of-type {\n",
       "        vertical-align: middle;\n",
       "    }\n",
       "\n",
       "    .dataframe tbody tr th {\n",
       "        vertical-align: top;\n",
       "    }\n",
       "\n",
       "    .dataframe thead th {\n",
       "        text-align: right;\n",
       "    }\n",
       "</style>\n",
       "<table border=\"1\" class=\"dataframe\">\n",
       "  <thead>\n",
       "    <tr style=\"text-align: right;\">\n",
       "      <th></th>\n",
       "      <th>mean_fit_time</th>\n",
       "      <th>std_fit_time</th>\n",
       "      <th>mean_score_time</th>\n",
       "      <th>std_score_time</th>\n",
       "      <th>param_rf__max_features</th>\n",
       "      <th>param_rf__min_samples_leaf</th>\n",
       "      <th>param_rf__n_estimators</th>\n",
       "      <th>params</th>\n",
       "      <th>split0_test_score</th>\n",
       "      <th>split1_test_score</th>\n",
       "      <th>...</th>\n",
       "      <th>split0_train_score</th>\n",
       "      <th>split1_train_score</th>\n",
       "      <th>split2_train_score</th>\n",
       "      <th>split3_train_score</th>\n",
       "      <th>split4_train_score</th>\n",
       "      <th>split5_train_score</th>\n",
       "      <th>split6_train_score</th>\n",
       "      <th>split7_train_score</th>\n",
       "      <th>mean_train_score</th>\n",
       "      <th>std_train_score</th>\n",
       "    </tr>\n",
       "  </thead>\n",
       "  <tbody>\n",
       "    <tr>\n",
       "      <th>112</th>\n",
       "      <td>0.058903</td>\n",
       "      <td>0.000271</td>\n",
       "      <td>0.004466</td>\n",
       "      <td>0.000044</td>\n",
       "      <td>sqrt</td>\n",
       "      <td>5</td>\n",
       "      <td>100</td>\n",
       "      <td>{'rf__max_features': 'sqrt', 'rf__min_samples_...</td>\n",
       "      <td>0.279382</td>\n",
       "      <td>0.158465</td>\n",
       "      <td>...</td>\n",
       "      <td>0.478368</td>\n",
       "      <td>0.485706</td>\n",
       "      <td>0.47881</td>\n",
       "      <td>0.463639</td>\n",
       "      <td>0.476965</td>\n",
       "      <td>0.477098</td>\n",
       "      <td>0.440736</td>\n",
       "      <td>0.474042</td>\n",
       "      <td>0.47192</td>\n",
       "      <td>0.013119</td>\n",
       "    </tr>\n",
       "  </tbody>\n",
       "</table>\n",
       "<p>1 rows × 29 columns</p>\n",
       "</div>"
      ],
      "text/plain": [
       "     mean_fit_time  std_fit_time  mean_score_time  std_score_time  \\\n",
       "112       0.058903      0.000271         0.004466        0.000044   \n",
       "\n",
       "    param_rf__max_features param_rf__min_samples_leaf param_rf__n_estimators  \\\n",
       "112                   sqrt                          5                    100   \n",
       "\n",
       "                                                params  split0_test_score  \\\n",
       "112  {'rf__max_features': 'sqrt', 'rf__min_samples_...           0.279382   \n",
       "\n",
       "     split1_test_score       ...         split0_train_score  \\\n",
       "112           0.158465       ...                   0.478368   \n",
       "\n",
       "     split1_train_score  split2_train_score  split3_train_score  \\\n",
       "112            0.485706             0.47881            0.463639   \n",
       "\n",
       "     split4_train_score  split5_train_score  split6_train_score  \\\n",
       "112            0.476965            0.477098            0.440736   \n",
       "\n",
       "     split7_train_score  mean_train_score  std_train_score  \n",
       "112            0.474042           0.47192         0.013119  \n",
       "\n",
       "[1 rows x 29 columns]"
      ]
     },
     "execution_count": 204,
     "metadata": {},
     "output_type": "execute_result"
    }
   ],
   "source": [
    "grid3_results = pd.DataFrame(grid3.cv_results_)\n",
    "grid3_results[grid3_results['rank_test_score'] == 1]"
   ]
  },
  {
   "cell_type": "code",
   "execution_count": 205,
   "metadata": {},
   "outputs": [
    {
     "data": {
      "text/plain": [
       "0.47261287563450705"
      ]
     },
     "execution_count": 205,
     "metadata": {},
     "output_type": "execute_result"
    }
   ],
   "source": [
    "rf.set_params(max_features = 'sqrt',\n",
    "              min_samples_leaf = 5,\n",
    "              n_estimators = 100)\n",
    "rf.fit(X1, y1)\n",
    "rf.score(X1, y1)"
   ]
  },
  {
   "cell_type": "code",
   "execution_count": 206,
   "metadata": {},
   "outputs": [
    {
     "data": {
      "text/plain": [
       "[(0.2626775999956124, 'n_ratings'),\n",
       " (0.2485442364180717, 'abv'),\n",
       " (0.2202374177343676, 'ibu'),\n",
       " (0.06618975091164808, 'exact'),\n",
       " (0.048775996001954106, 'ounces'),\n",
       " (0.03952099785767117, 'lager'),\n",
       " (0.03122151373188972, 'imperial'),\n",
       " (0.02539674644291162, 'ale'),\n",
       " (0.021587343449474185, 'America'),\n",
       " (0.010166287336313678, 'stout'),\n",
       " (0.00836205079966227, 'porter'),\n",
       " (0.00695996458550652, 'beer'),\n",
       " (0.004185227827652544, 'pils'),\n",
       " (0.003380852595957459, 'Belgian'),\n",
       " (0.0027940143113069187, 'English')]"
      ]
     },
     "execution_count": 206,
     "metadata": {},
     "output_type": "execute_result"
    }
   ],
   "source": [
    "sorted(list(zip(rf.feature_importances_, X1_cols)), reverse = True)"
   ]
  },
  {
   "cell_type": "code",
   "execution_count": null,
   "metadata": {},
   "outputs": [],
   "source": [
    "# attempting to predict n_ratings"
   ]
  },
  {
   "cell_type": "code",
   "execution_count": 207,
   "metadata": {},
   "outputs": [
    {
     "data": {
      "text/plain": [
       "GridSearchCV(cv=8, error_score='raise-deprecating',\n",
       "       estimator=Pipeline(memory=None,\n",
       "     steps=[('ss', StandardScaler(copy=True, with_mean=True, with_std=True)), ('lasso', Lasso(alpha=0.005805225516094896, copy_X=True, fit_intercept=True,\n",
       "   max_iter=1000, normalize=False, positive=False, precompute=False,\n",
       "   random_state=None, selection='cyclic', tol=0.0001, warm_start=False))]),\n",
       "       fit_params=None, iid='warn', n_jobs=None,\n",
       "       param_grid={'lasso__alpha': array([1.00000e-03, 1.04737e-03, ..., 9.54772e+00, 1.00000e+01])},\n",
       "       pre_dispatch='2*n_jobs', refit=True, return_train_score='warn',\n",
       "       scoring=None, verbose=0)"
      ]
     },
     "execution_count": 207,
     "metadata": {},
     "output_type": "execute_result"
    }
   ],
   "source": [
    "grid1.fit(X2, y2)"
   ]
  },
  {
   "cell_type": "code",
   "execution_count": 208,
   "metadata": {},
   "outputs": [
    {
     "data": {
      "text/html": [
       "<div>\n",
       "<style scoped>\n",
       "    .dataframe tbody tr th:only-of-type {\n",
       "        vertical-align: middle;\n",
       "    }\n",
       "\n",
       "    .dataframe tbody tr th {\n",
       "        vertical-align: top;\n",
       "    }\n",
       "\n",
       "    .dataframe thead th {\n",
       "        text-align: right;\n",
       "    }\n",
       "</style>\n",
       "<table border=\"1\" class=\"dataframe\">\n",
       "  <thead>\n",
       "    <tr style=\"text-align: right;\">\n",
       "      <th></th>\n",
       "      <th>mean_fit_time</th>\n",
       "      <th>std_fit_time</th>\n",
       "      <th>mean_score_time</th>\n",
       "      <th>std_score_time</th>\n",
       "      <th>param_lasso__alpha</th>\n",
       "      <th>params</th>\n",
       "      <th>split0_test_score</th>\n",
       "      <th>split1_test_score</th>\n",
       "      <th>split2_test_score</th>\n",
       "      <th>split3_test_score</th>\n",
       "      <th>...</th>\n",
       "      <th>split0_train_score</th>\n",
       "      <th>split1_train_score</th>\n",
       "      <th>split2_train_score</th>\n",
       "      <th>split3_train_score</th>\n",
       "      <th>split4_train_score</th>\n",
       "      <th>split5_train_score</th>\n",
       "      <th>split6_train_score</th>\n",
       "      <th>split7_train_score</th>\n",
       "      <th>mean_train_score</th>\n",
       "      <th>std_train_score</th>\n",
       "    </tr>\n",
       "  </thead>\n",
       "  <tbody>\n",
       "    <tr>\n",
       "      <th>87</th>\n",
       "      <td>0.002301</td>\n",
       "      <td>0.000015</td>\n",
       "      <td>0.000742</td>\n",
       "      <td>0.000003</td>\n",
       "      <td>0.0560717</td>\n",
       "      <td>{'lasso__alpha': 0.05607169938205458}</td>\n",
       "      <td>0.090527</td>\n",
       "      <td>0.028368</td>\n",
       "      <td>0.269723</td>\n",
       "      <td>0.350265</td>\n",
       "      <td>...</td>\n",
       "      <td>0.231062</td>\n",
       "      <td>0.237005</td>\n",
       "      <td>0.199305</td>\n",
       "      <td>0.175688</td>\n",
       "      <td>0.249614</td>\n",
       "      <td>0.21318</td>\n",
       "      <td>0.208234</td>\n",
       "      <td>0.20807</td>\n",
       "      <td>0.21527</td>\n",
       "      <td>0.021876</td>\n",
       "    </tr>\n",
       "  </tbody>\n",
       "</table>\n",
       "<p>1 rows × 27 columns</p>\n",
       "</div>"
      ],
      "text/plain": [
       "    mean_fit_time  std_fit_time  mean_score_time  std_score_time  \\\n",
       "87       0.002301      0.000015         0.000742        0.000003   \n",
       "\n",
       "   param_lasso__alpha                                 params  \\\n",
       "87          0.0560717  {'lasso__alpha': 0.05607169938205458}   \n",
       "\n",
       "    split0_test_score  split1_test_score  split2_test_score  \\\n",
       "87           0.090527           0.028368           0.269723   \n",
       "\n",
       "    split3_test_score       ...         split0_train_score  \\\n",
       "87           0.350265       ...                   0.231062   \n",
       "\n",
       "    split1_train_score  split2_train_score  split3_train_score  \\\n",
       "87            0.237005            0.199305            0.175688   \n",
       "\n",
       "    split4_train_score  split5_train_score  split6_train_score  \\\n",
       "87            0.249614             0.21318            0.208234   \n",
       "\n",
       "    split7_train_score  mean_train_score  std_train_score  \n",
       "87             0.20807           0.21527         0.021876  \n",
       "\n",
       "[1 rows x 27 columns]"
      ]
     },
     "execution_count": 208,
     "metadata": {},
     "output_type": "execute_result"
    }
   ],
   "source": [
    "grid1_results = pd.DataFrame(grid1.cv_results_)\n",
    "grid1_results[grid1_results['rank_test_score'] == 1]"
   ]
  },
  {
   "cell_type": "code",
   "execution_count": 210,
   "metadata": {},
   "outputs": [
    {
     "data": {
      "text/plain": [
       "0.17956277653704678"
      ]
     },
     "execution_count": 210,
     "metadata": {},
     "output_type": "execute_result"
    }
   ],
   "source": [
    "lass.set_params(alpha = 0.05607169938205458)\n",
    "lass.fit(X2, y2)\n",
    "lass.score(X2, y2)"
   ]
  },
  {
   "cell_type": "code",
   "execution_count": 211,
   "metadata": {},
   "outputs": [
    {
     "data": {
      "text/plain": [
       "GridSearchCV(cv=8, error_score='raise-deprecating',\n",
       "       estimator=Pipeline(memory=None,\n",
       "     steps=[('ss', StandardScaler(copy=True, with_mean=True, with_std=True)), ('ridge', Ridge(alpha=240.9403560239527, copy_X=True, fit_intercept=True, max_iter=None,\n",
       "   normalize=False, random_state=None, solver='auto', tol=0.001))]),\n",
       "       fit_params=None, iid='warn', n_jobs=None,\n",
       "       param_grid={'ridge__alpha': array([1.00000e-06, 1.14895e-06, ..., 8.70359e+05, 1.00000e+06])},\n",
       "       pre_dispatch='2*n_jobs', refit=True, return_train_score='warn',\n",
       "       scoring=None, verbose=0)"
      ]
     },
     "execution_count": 211,
     "metadata": {},
     "output_type": "execute_result"
    }
   ],
   "source": [
    "grid2.fit(X2, y2)"
   ]
  },
  {
   "cell_type": "code",
   "execution_count": 212,
   "metadata": {},
   "outputs": [
    {
     "data": {
      "text/html": [
       "<div>\n",
       "<style scoped>\n",
       "    .dataframe tbody tr th:only-of-type {\n",
       "        vertical-align: middle;\n",
       "    }\n",
       "\n",
       "    .dataframe tbody tr th {\n",
       "        vertical-align: top;\n",
       "    }\n",
       "\n",
       "    .dataframe thead th {\n",
       "        text-align: right;\n",
       "    }\n",
       "</style>\n",
       "<table border=\"1\" class=\"dataframe\">\n",
       "  <thead>\n",
       "    <tr style=\"text-align: right;\">\n",
       "      <th></th>\n",
       "      <th>mean_fit_time</th>\n",
       "      <th>std_fit_time</th>\n",
       "      <th>mean_score_time</th>\n",
       "      <th>std_score_time</th>\n",
       "      <th>param_ridge__alpha</th>\n",
       "      <th>params</th>\n",
       "      <th>split0_test_score</th>\n",
       "      <th>split1_test_score</th>\n",
       "      <th>split2_test_score</th>\n",
       "      <th>split3_test_score</th>\n",
       "      <th>...</th>\n",
       "      <th>split0_train_score</th>\n",
       "      <th>split1_train_score</th>\n",
       "      <th>split2_train_score</th>\n",
       "      <th>split3_train_score</th>\n",
       "      <th>split4_train_score</th>\n",
       "      <th>split5_train_score</th>\n",
       "      <th>split6_train_score</th>\n",
       "      <th>split7_train_score</th>\n",
       "      <th>mean_train_score</th>\n",
       "      <th>std_train_score</th>\n",
       "    </tr>\n",
       "  </thead>\n",
       "  <tbody>\n",
       "    <tr>\n",
       "      <th>141</th>\n",
       "      <td>0.00235</td>\n",
       "      <td>0.00001</td>\n",
       "      <td>0.000734</td>\n",
       "      <td>0.000004</td>\n",
       "      <td>318.063</td>\n",
       "      <td>{'ridge__alpha': 318.0625692794119}</td>\n",
       "      <td>0.092048</td>\n",
       "      <td>0.048863</td>\n",
       "      <td>0.253233</td>\n",
       "      <td>0.314082</td>\n",
       "      <td>...</td>\n",
       "      <td>0.228695</td>\n",
       "      <td>0.235743</td>\n",
       "      <td>0.200928</td>\n",
       "      <td>0.178465</td>\n",
       "      <td>0.245909</td>\n",
       "      <td>0.211746</td>\n",
       "      <td>0.20711</td>\n",
       "      <td>0.207719</td>\n",
       "      <td>0.21454</td>\n",
       "      <td>0.020094</td>\n",
       "    </tr>\n",
       "  </tbody>\n",
       "</table>\n",
       "<p>1 rows × 27 columns</p>\n",
       "</div>"
      ],
      "text/plain": [
       "     mean_fit_time  std_fit_time  mean_score_time  std_score_time  \\\n",
       "141        0.00235       0.00001         0.000734        0.000004   \n",
       "\n",
       "    param_ridge__alpha                               params  \\\n",
       "141            318.063  {'ridge__alpha': 318.0625692794119}   \n",
       "\n",
       "     split0_test_score  split1_test_score  split2_test_score  \\\n",
       "141           0.092048           0.048863           0.253233   \n",
       "\n",
       "     split3_test_score       ...         split0_train_score  \\\n",
       "141           0.314082       ...                   0.228695   \n",
       "\n",
       "     split1_train_score  split2_train_score  split3_train_score  \\\n",
       "141            0.235743            0.200928            0.178465   \n",
       "\n",
       "     split4_train_score  split5_train_score  split6_train_score  \\\n",
       "141            0.245909            0.211746             0.20711   \n",
       "\n",
       "     split7_train_score  mean_train_score  std_train_score  \n",
       "141            0.207719           0.21454         0.020094  \n",
       "\n",
       "[1 rows x 27 columns]"
      ]
     },
     "execution_count": 212,
     "metadata": {},
     "output_type": "execute_result"
    }
   ],
   "source": [
    "grid2_results = pd.DataFrame(grid2.cv_results_)\n",
    "grid2_results[grid2_results['rank_test_score'] == 1]"
   ]
  },
  {
   "cell_type": "code",
   "execution_count": 213,
   "metadata": {},
   "outputs": [
    {
     "data": {
      "text/plain": [
       "0.14633084477453584"
      ]
     },
     "execution_count": 213,
     "metadata": {},
     "output_type": "execute_result"
    }
   ],
   "source": [
    "rr.set_params(alpha = 318.0625692794119)\n",
    "rr.fit(X2, y2)\n",
    "rr.score(X2, y2)"
   ]
  },
  {
   "cell_type": "code",
   "execution_count": 214,
   "metadata": {},
   "outputs": [
    {
     "data": {
      "text/plain": [
       "GridSearchCV(cv=8, error_score='raise-deprecating',\n",
       "       estimator=Pipeline(memory=None,\n",
       "     steps=[('ss', StandardScaler(copy=True, with_mean=True, with_std=True)), ('rf', RandomForestRegressor(bootstrap=True, criterion='mse', max_depth=None,\n",
       "           max_features='sqrt', max_leaf_nodes=None,\n",
       "           min_impurity_decrease=0.0, min_impurity_split=No...ors=100, n_jobs=None,\n",
       "           oob_score=False, random_state=None, verbose=0, warm_start=False))]),\n",
       "       fit_params=None, iid='warn', n_jobs=None,\n",
       "       param_grid={'rf__max_features': [1, 2, 0.5, 'sqrt', 'log2'], 'rf__min_samples_leaf': [1, 2, 3, 5, 10], 'rf__n_estimators': [1, 5, 10, 25, 100, 1000]},\n",
       "       pre_dispatch='2*n_jobs', refit=True, return_train_score='warn',\n",
       "       scoring=None, verbose=0)"
      ]
     },
     "execution_count": 214,
     "metadata": {},
     "output_type": "execute_result"
    }
   ],
   "source": [
    "grid3.fit(X2, y2)"
   ]
  },
  {
   "cell_type": "code",
   "execution_count": 215,
   "metadata": {},
   "outputs": [
    {
     "data": {
      "text/html": [
       "<div>\n",
       "<style scoped>\n",
       "    .dataframe tbody tr th:only-of-type {\n",
       "        vertical-align: middle;\n",
       "    }\n",
       "\n",
       "    .dataframe tbody tr th {\n",
       "        vertical-align: top;\n",
       "    }\n",
       "\n",
       "    .dataframe thead th {\n",
       "        text-align: right;\n",
       "    }\n",
       "</style>\n",
       "<table border=\"1\" class=\"dataframe\">\n",
       "  <thead>\n",
       "    <tr style=\"text-align: right;\">\n",
       "      <th></th>\n",
       "      <th>mean_fit_time</th>\n",
       "      <th>std_fit_time</th>\n",
       "      <th>mean_score_time</th>\n",
       "      <th>std_score_time</th>\n",
       "      <th>param_rf__max_features</th>\n",
       "      <th>param_rf__min_samples_leaf</th>\n",
       "      <th>param_rf__n_estimators</th>\n",
       "      <th>params</th>\n",
       "      <th>split0_test_score</th>\n",
       "      <th>split1_test_score</th>\n",
       "      <th>...</th>\n",
       "      <th>split0_train_score</th>\n",
       "      <th>split1_train_score</th>\n",
       "      <th>split2_train_score</th>\n",
       "      <th>split3_train_score</th>\n",
       "      <th>split4_train_score</th>\n",
       "      <th>split5_train_score</th>\n",
       "      <th>split6_train_score</th>\n",
       "      <th>split7_train_score</th>\n",
       "      <th>mean_train_score</th>\n",
       "      <th>std_train_score</th>\n",
       "    </tr>\n",
       "  </thead>\n",
       "  <tbody>\n",
       "    <tr>\n",
       "      <th>88</th>\n",
       "      <td>0.068053</td>\n",
       "      <td>0.00043</td>\n",
       "      <td>0.004513</td>\n",
       "      <td>0.000037</td>\n",
       "      <td>0.5</td>\n",
       "      <td>10</td>\n",
       "      <td>100</td>\n",
       "      <td>{'rf__max_features': 0.5, 'rf__min_samples_lea...</td>\n",
       "      <td>0.123187</td>\n",
       "      <td>0.147636</td>\n",
       "      <td>...</td>\n",
       "      <td>0.403626</td>\n",
       "      <td>0.391412</td>\n",
       "      <td>0.388092</td>\n",
       "      <td>0.352132</td>\n",
       "      <td>0.398112</td>\n",
       "      <td>0.394539</td>\n",
       "      <td>0.391381</td>\n",
       "      <td>0.386005</td>\n",
       "      <td>0.388162</td>\n",
       "      <td>0.014588</td>\n",
       "    </tr>\n",
       "  </tbody>\n",
       "</table>\n",
       "<p>1 rows × 29 columns</p>\n",
       "</div>"
      ],
      "text/plain": [
       "    mean_fit_time  std_fit_time  mean_score_time  std_score_time  \\\n",
       "88       0.068053       0.00043         0.004513        0.000037   \n",
       "\n",
       "   param_rf__max_features param_rf__min_samples_leaf param_rf__n_estimators  \\\n",
       "88                    0.5                         10                    100   \n",
       "\n",
       "                                               params  split0_test_score  \\\n",
       "88  {'rf__max_features': 0.5, 'rf__min_samples_lea...           0.123187   \n",
       "\n",
       "    split1_test_score       ...         split0_train_score  \\\n",
       "88           0.147636       ...                   0.403626   \n",
       "\n",
       "    split1_train_score  split2_train_score  split3_train_score  \\\n",
       "88            0.391412            0.388092            0.352132   \n",
       "\n",
       "    split4_train_score  split5_train_score  split6_train_score  \\\n",
       "88            0.398112            0.394539            0.391381   \n",
       "\n",
       "    split7_train_score  mean_train_score  std_train_score  \n",
       "88            0.386005          0.388162         0.014588  \n",
       "\n",
       "[1 rows x 29 columns]"
      ]
     },
     "execution_count": 215,
     "metadata": {},
     "output_type": "execute_result"
    }
   ],
   "source": [
    "grid3_results = pd.DataFrame(grid3.cv_results_)\n",
    "grid3_results[grid3_results['rank_test_score'] == 1]"
   ]
  },
  {
   "cell_type": "code",
   "execution_count": 217,
   "metadata": {},
   "outputs": [
    {
     "data": {
      "text/plain": [
       "0.3895161776013467"
      ]
     },
     "execution_count": 217,
     "metadata": {},
     "output_type": "execute_result"
    }
   ],
   "source": [
    "rf.set_params(max_features = 0.5,\n",
    "              min_samples_leaf = 10,\n",
    "              n_estimators = 100)\n",
    "rf.fit(X2, y2)\n",
    "rf.score(X2, y2)"
   ]
  },
  {
   "cell_type": "code",
   "execution_count": 219,
   "metadata": {},
   "outputs": [
    {
     "data": {
      "text/plain": [
       "[(0.3489025534937988, 'avg'),\n",
       " (0.1900801293128658, 'ibu'),\n",
       " (0.18684100943947235, 'exact'),\n",
       " (0.10515125698483697, 'ounces'),\n",
       " (0.09304568060098177, 'abv'),\n",
       " (0.040192537940149785, 'ale'),\n",
       " (0.016388437273430128, 'America'),\n",
       " (0.007806127105568075, 'lager'),\n",
       " (0.004265733445013785, 'Belgian'),\n",
       " (0.0031111674106754504, 'beer'),\n",
       " (0.00158402700736165, 'imperial'),\n",
       " (0.0013358226582321912, 'stout'),\n",
       " (0.0008043657633663502, 'porter'),\n",
       " (0.0003483594155380207, 'pils'),\n",
       " (0.00014279214870899058, 'English')]"
      ]
     },
     "execution_count": 219,
     "metadata": {},
     "output_type": "execute_result"
    }
   ],
   "source": [
    "sorted(list(zip(rf.feature_importances_, X2_cols)), reverse = True)"
   ]
  },
  {
   "cell_type": "code",
   "execution_count": null,
   "metadata": {},
   "outputs": [],
   "source": []
  }
 ],
 "metadata": {
  "kernelspec": {
   "display_name": "Python 3",
   "language": "python",
   "name": "python3"
  },
  "language_info": {
   "codemirror_mode": {
    "name": "ipython",
    "version": 3
   },
   "file_extension": ".py",
   "mimetype": "text/x-python",
   "name": "python",
   "nbconvert_exporter": "python",
   "pygments_lexer": "ipython3",
   "version": "3.7.1"
  }
 },
 "nbformat": 4,
 "nbformat_minor": 2
}
