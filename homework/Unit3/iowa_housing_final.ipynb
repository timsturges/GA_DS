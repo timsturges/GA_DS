{
 "cells": [
  {
   "cell_type": "code",
   "execution_count": 1,
   "metadata": {},
   "outputs": [],
   "source": [
    "import matplotlib.pyplot as plt\n",
    "import numpy as np\n",
    "import pandas as pd\n",
    "import seaborn as sns\n",
    "from sklearn.ensemble import RandomForestRegressor\n",
    "from sklearn.metrics import make_scorer, mean_squared_error\n",
    "from sklearn.model_selection import GridSearchCV #cross_val_score#, train_test_split\n",
    "from sklearn.preprocessing import StandardScaler, LabelEncoder\n",
    "\n",
    "%matplotlib inline\n",
    "plt.style.use('fivethirtyeight')\n",
    "\n",
    "df_train = pd.read_csv('./data/iowa_housing/train.csv')\n",
    "df_test = pd.read_csv('./data/iowa_housing/test.csv')\n",
    "\n",
    "df_train.drop('Id', axis = 1, inplace = True)\n",
    "df_test.drop('Id', axis = 1, inplace = True)"
   ]
  },
  {
   "cell_type": "code",
   "execution_count": 2,
   "metadata": {},
   "outputs": [],
   "source": [
    "def rmse(estimator, X, y):\n",
    "    preds = estimator.predict(X)\n",
    "    error = np.sqrt(np.mean((preds - y)**2))\n",
    "    return error"
   ]
  },
  {
   "cell_type": "code",
   "execution_count": 3,
   "metadata": {},
   "outputs": [],
   "source": [
    "num_col = ['MSSubClass',\n",
    "           'LotFrontage',\n",
    "           'LotArea',\n",
    "           'LotConfig',\n",
    "           'LandSlope',\n",
    "           'OverallCond',\n",
    "           'OverallQual',\n",
    "           'YearBuilt',\n",
    "           'YearRemodAdd',\n",
    "           'MasVnrArea',\n",
    "           'BsmtFinSF1',\n",
    "           'BsmtFinSF2',\n",
    "           'BsmtUnfSF',\n",
    "           'TotalBsmtSF',\n",
    "           '1stFlrSF',\n",
    "           '2ndFlrSF',\n",
    "           'LowQualFinSF',\n",
    "           'GrLivArea',\n",
    "           'BsmtFullBath',\n",
    "           'BsmtHalfBath',\n",
    "           'FullBath',\n",
    "           'HalfBath',\n",
    "           'KitchenQual',\n",
    "           'TotRmsAbvGrd',\n",
    "           'Fireplaces',\n",
    "           'GarageYrBlt',\n",
    "           'GarageCars',\n",
    "           'GarageArea',\n",
    "           'WoodDeckSF',\n",
    "           'OpenPorchSF',\n",
    "           'EnclosedPorch',\n",
    "           '3SsnPorch',\n",
    "           'ScreenPorch',\n",
    "           'PoolArea',\n",
    "           'MiscVal',\n",
    "           'MoSold',\n",
    "           'YrSold'\n",
    "          ]\n",
    "\n",
    "cat_ord_col = ['Utilities', \n",
    "               'ExterQual', \n",
    "               'ExterCond',\n",
    "               'BsmtQual',\n",
    "               'BsmtCond',\n",
    "               'BsmtExposure',\n",
    "               'BsmtFinType1',\n",
    "               'BsmtFinType2',\n",
    "               'HeatingQC',\n",
    "               'CentralAir',\n",
    "               'Electrical',\n",
    "               'Functional',\n",
    "               'FireplaceQu',\n",
    "               'GarageType',\n",
    "               'GarageFinish',\n",
    "               'GarageQual',\n",
    "               'GarageCond',\n",
    "               'PavedDrive',\n",
    "               'PoolQC',\n",
    "               'Fence',\n",
    "               'SaleType'\n",
    "              ]\n",
    "\n",
    "cat_not_ord = ['MSZoning',\n",
    "               'Street',\n",
    "               'Alley',\n",
    "               'LotShape',\n",
    "               'LandContour',\n",
    "               'Neighborhood',\n",
    "               'Condition1',\n",
    "               'Condition2',\n",
    "               'BldgType',\n",
    "               'HouseStyle',\n",
    "               'RoofStyle',\n",
    "               'RoofMatl',\n",
    "               'Exterior1st', \n",
    "               'Exterior2nd',\n",
    "               'MasVnrType',\n",
    "               'Foundation',\n",
    "               'Heating',\n",
    "               'MiscFeature',\n",
    "               'SaleCondition'\n",
    "              ]"
   ]
  },
  {
   "cell_type": "code",
   "execution_count": 4,
   "metadata": {},
   "outputs": [
    {
     "name": "stdout",
     "output_type": "stream",
     "text": [
      "<class 'pandas.core.frame.DataFrame'>\n",
      "RangeIndex: 1460 entries, 0 to 1459\n",
      "Data columns (total 37 columns):\n",
      "MSSubClass       1460 non-null int64\n",
      "LotFrontage      1201 non-null float64\n",
      "LotArea          1460 non-null int64\n",
      "LotConfig        1460 non-null object\n",
      "LandSlope        1460 non-null object\n",
      "OverallCond      1460 non-null int64\n",
      "OverallQual      1460 non-null int64\n",
      "YearBuilt        1460 non-null int64\n",
      "YearRemodAdd     1460 non-null int64\n",
      "MasVnrArea       1452 non-null float64\n",
      "BsmtFinSF1       1460 non-null int64\n",
      "BsmtFinSF2       1460 non-null int64\n",
      "BsmtUnfSF        1460 non-null int64\n",
      "TotalBsmtSF      1460 non-null int64\n",
      "1stFlrSF         1460 non-null int64\n",
      "2ndFlrSF         1460 non-null int64\n",
      "LowQualFinSF     1460 non-null int64\n",
      "GrLivArea        1460 non-null int64\n",
      "BsmtFullBath     1460 non-null int64\n",
      "BsmtHalfBath     1460 non-null int64\n",
      "FullBath         1460 non-null int64\n",
      "HalfBath         1460 non-null int64\n",
      "KitchenQual      1460 non-null object\n",
      "TotRmsAbvGrd     1460 non-null int64\n",
      "Fireplaces       1460 non-null int64\n",
      "GarageYrBlt      1379 non-null float64\n",
      "GarageCars       1460 non-null int64\n",
      "GarageArea       1460 non-null int64\n",
      "WoodDeckSF       1460 non-null int64\n",
      "OpenPorchSF      1460 non-null int64\n",
      "EnclosedPorch    1460 non-null int64\n",
      "3SsnPorch        1460 non-null int64\n",
      "ScreenPorch      1460 non-null int64\n",
      "PoolArea         1460 non-null int64\n",
      "MiscVal          1460 non-null int64\n",
      "MoSold           1460 non-null int64\n",
      "YrSold           1460 non-null int64\n",
      "dtypes: float64(3), int64(31), object(3)\n",
      "memory usage: 422.1+ KB\n"
     ]
    }
   ],
   "source": [
    "df_train[num_col].info()"
   ]
  },
  {
   "cell_type": "markdown",
   "metadata": {},
   "source": [
    "### Attempting to improve upon the previous results. First order of business is to address the null columns"
   ]
  },
  {
   "cell_type": "markdown",
   "metadata": {},
   "source": [
    "### Preceding are the columns with null values.\n",
    "It's clear that we need some feature transformation to clean up the dataset, including null value handling (likely imputation). We can break these down into numeric types, and categorical, the latter we'll determine ordinality."
   ]
  },
  {
   "cell_type": "code",
   "execution_count": 5,
   "metadata": {},
   "outputs": [],
   "source": [
    "num_cols = df_train.select_dtypes(include=np.number).columns.tolist()\n",
    "num_cols.remove('SalePrice')"
   ]
  },
  {
   "cell_type": "code",
   "execution_count": 6,
   "metadata": {},
   "outputs": [
    {
     "data": {
      "text/plain": [
       "Index(['MSSubClass', 'MSZoning', 'LotFrontage', 'LotArea', 'Street', 'Alley',\n",
       "       'LotShape', 'LandContour', 'Utilities', 'LotConfig', 'LandSlope',\n",
       "       'Neighborhood', 'Condition1', 'Condition2', 'BldgType', 'HouseStyle',\n",
       "       'OverallQual', 'OverallCond', 'YearBuilt', 'YearRemodAdd', 'RoofStyle',\n",
       "       'RoofMatl', 'Exterior1st', 'Exterior2nd', 'MasVnrType', 'MasVnrArea',\n",
       "       'ExterQual', 'ExterCond', 'Foundation', 'BsmtQual', 'BsmtCond',\n",
       "       'BsmtExposure', 'BsmtFinType1', 'BsmtFinSF1', 'BsmtFinType2',\n",
       "       'BsmtFinSF2', 'BsmtUnfSF', 'TotalBsmtSF', 'Heating', 'HeatingQC',\n",
       "       'CentralAir', 'Electrical', '1stFlrSF', '2ndFlrSF', 'LowQualFinSF',\n",
       "       'GrLivArea', 'BsmtFullBath', 'BsmtHalfBath', 'FullBath', 'HalfBath',\n",
       "       'BedroomAbvGr', 'KitchenAbvGr', 'KitchenQual', 'TotRmsAbvGrd',\n",
       "       'Functional', 'Fireplaces', 'FireplaceQu', 'GarageType', 'GarageYrBlt',\n",
       "       'GarageFinish', 'GarageCars', 'GarageArea', 'GarageQual', 'GarageCond',\n",
       "       'PavedDrive', 'WoodDeckSF', 'OpenPorchSF', 'EnclosedPorch', '3SsnPorch',\n",
       "       'ScreenPorch', 'PoolArea', 'PoolQC', 'Fence', 'MiscFeature', 'MiscVal',\n",
       "       'MoSold', 'YrSold', 'SaleType', 'SaleCondition', 'SalePrice'],\n",
       "      dtype='object')"
      ]
     },
     "execution_count": 6,
     "metadata": {},
     "output_type": "execute_result"
    }
   ],
   "source": [
    "df_train.columns"
   ]
  },
  {
   "cell_type": "code",
   "execution_count": 7,
   "metadata": {},
   "outputs": [],
   "source": [
    "obj_cols = list(set(df_train.columns.tolist()) - set (num_cols))\n",
    "obj_cols.remove('SalePrice')"
   ]
  },
  {
   "cell_type": "code",
   "execution_count": 8,
   "metadata": {},
   "outputs": [
    {
     "name": "stdout",
     "output_type": "stream",
     "text": [
      "RL         1151\n",
      "RM          218\n",
      "FV           65\n",
      "RH           16\n",
      "C (all)      10\n",
      "Name: MSZoning, dtype: int64\n",
      "Pave    1454\n",
      "Grvl       6\n",
      "Name: Street, dtype: int64\n",
      "NaN     1369\n",
      "Grvl      50\n",
      "Pave      41\n",
      "Name: Alley, dtype: int64\n",
      "Reg    925\n",
      "IR1    484\n",
      "IR2     41\n",
      "IR3     10\n",
      "Name: LotShape, dtype: int64\n",
      "Lvl    1311\n",
      "Bnk      63\n",
      "HLS      50\n",
      "Low      36\n",
      "Name: LandContour, dtype: int64\n",
      "NAmes      225\n",
      "CollgCr    150\n",
      "OldTown    113\n",
      "Edwards    100\n",
      "Somerst     86\n",
      "Gilbert     79\n",
      "NridgHt     77\n",
      "Sawyer      74\n",
      "NWAmes      73\n",
      "SawyerW     59\n",
      "BrkSide     58\n",
      "Crawfor     51\n",
      "Mitchel     49\n",
      "NoRidge     41\n",
      "Timber      38\n",
      "IDOTRR      37\n",
      "ClearCr     28\n",
      "StoneBr     25\n",
      "SWISU       25\n",
      "Blmngtn     17\n",
      "MeadowV     17\n",
      "BrDale      16\n",
      "Veenker     11\n",
      "NPkVill      9\n",
      "Blueste      2\n",
      "Name: Neighborhood, dtype: int64\n",
      "Norm      1260\n",
      "Feedr       81\n",
      "Artery      48\n",
      "RRAn        26\n",
      "PosN        19\n",
      "RRAe        11\n",
      "PosA         8\n",
      "RRNn         5\n",
      "RRNe         2\n",
      "Name: Condition1, dtype: int64\n",
      "Norm      1445\n",
      "Feedr        6\n",
      "Artery       2\n",
      "PosN         2\n",
      "RRNn         2\n",
      "RRAe         1\n",
      "RRAn         1\n",
      "PosA         1\n",
      "Name: Condition2, dtype: int64\n",
      "1Fam      1220\n",
      "TwnhsE     114\n",
      "Duplex      52\n",
      "Twnhs       43\n",
      "2fmCon      31\n",
      "Name: BldgType, dtype: int64\n",
      "1Story    726\n",
      "2Story    445\n",
      "1.5Fin    154\n",
      "SLvl       65\n",
      "SFoyer     37\n",
      "1.5Unf     14\n",
      "2.5Unf     11\n",
      "2.5Fin      8\n",
      "Name: HouseStyle, dtype: int64\n",
      "Gable      1141\n",
      "Hip         286\n",
      "Flat         13\n",
      "Gambrel      11\n",
      "Mansard       7\n",
      "Shed          2\n",
      "Name: RoofStyle, dtype: int64\n",
      "CompShg    1434\n",
      "Tar&Grv      11\n",
      "WdShngl       6\n",
      "WdShake       5\n",
      "Roll          1\n",
      "ClyTile       1\n",
      "Metal         1\n",
      "Membran       1\n",
      "Name: RoofMatl, dtype: int64\n",
      "VinylSd    515\n",
      "HdBoard    222\n",
      "MetalSd    220\n",
      "Wd Sdng    206\n",
      "Plywood    108\n",
      "CemntBd     61\n",
      "BrkFace     50\n",
      "WdShing     26\n",
      "Stucco      25\n",
      "AsbShng     20\n",
      "Stone        2\n",
      "BrkComm      2\n",
      "CBlock       1\n",
      "AsphShn      1\n",
      "ImStucc      1\n",
      "Name: Exterior1st, dtype: int64\n",
      "VinylSd    504\n",
      "MetalSd    214\n",
      "HdBoard    207\n",
      "Wd Sdng    197\n",
      "Plywood    142\n",
      "CmentBd     60\n",
      "Wd Shng     38\n",
      "Stucco      26\n",
      "BrkFace     25\n",
      "AsbShng     20\n",
      "ImStucc     10\n",
      "Brk Cmn      7\n",
      "Stone        5\n",
      "AsphShn      3\n",
      "CBlock       1\n",
      "Other        1\n",
      "Name: Exterior2nd, dtype: int64\n",
      "None       864\n",
      "BrkFace    445\n",
      "Stone      128\n",
      "BrkCmn      15\n",
      "NaN          8\n",
      "Name: MasVnrType, dtype: int64\n",
      "PConc     647\n",
      "CBlock    634\n",
      "BrkTil    146\n",
      "Slab       24\n",
      "Stone       6\n",
      "Wood        3\n",
      "Name: Foundation, dtype: int64\n",
      "GasA     1428\n",
      "GasW       18\n",
      "Grav        7\n",
      "Wall        4\n",
      "OthW        2\n",
      "Floor       1\n",
      "Name: Heating, dtype: int64\n",
      "NaN     1406\n",
      "Shed      49\n",
      "Othr       2\n",
      "Gar2       2\n",
      "TenC       1\n",
      "Name: MiscFeature, dtype: int64\n",
      "Normal     1198\n",
      "Partial     125\n",
      "Abnorml     101\n",
      "Family       20\n",
      "Alloca       12\n",
      "AdjLand       4\n",
      "Name: SaleCondition, dtype: int64\n"
     ]
    }
   ],
   "source": [
    "for x in cat_not_ord:\n",
    "    print(df_train[x].value_counts(dropna = False))"
   ]
  },
  {
   "cell_type": "code",
   "execution_count": 9,
   "metadata": {},
   "outputs": [],
   "source": [
    "def cat_not_ord_dealer(df):\n",
    "    dropped = []\n",
    "    for c in cat_not_ord:\n",
    "        if c not in df.columns:\n",
    "            break\n",
    "        if df[c].isnull().any():\n",
    "            df[c].fillna('other', inplace = True)\n",
    "        sizes = df[c].value_counts()\n",
    "        if (sizes[0] > df.shape[0] - 30):\n",
    "            df.drop(c, axis = 1, inplace = True)\n",
    "            dropped.append(c)\n",
    "        else:\n",
    "            bad = sizes.index[sizes < 30]\n",
    "            df.loc[df[c].isin(bad), c] = 'other'\n",
    "    return dropped"
   ]
  },
  {
   "cell_type": "code",
   "execution_count": 10,
   "metadata": {},
   "outputs": [
    {
     "data": {
      "text/plain": [
       "['Street', 'Condition2', 'RoofMatl']"
      ]
     },
     "execution_count": 10,
     "metadata": {},
     "output_type": "execute_result"
    }
   ],
   "source": [
    "dropped_train = cat_not_ord_dealer(df_train)\n",
    "dropped_train"
   ]
  },
  {
   "cell_type": "code",
   "execution_count": 11,
   "metadata": {},
   "outputs": [
    {
     "data": {
      "text/plain": [
       "['Street', 'Condition2', 'RoofMatl', 'Heating']"
      ]
     },
     "execution_count": 11,
     "metadata": {},
     "output_type": "execute_result"
    }
   ],
   "source": [
    "dropped_test = cat_not_ord_dealer(df_test)\n",
    "dropped_test"
   ]
  },
  {
   "cell_type": "code",
   "execution_count": 12,
   "metadata": {},
   "outputs": [
    {
     "data": {
      "text/plain": [
       "{'Heating', 'SalePrice'}"
      ]
     },
     "execution_count": 12,
     "metadata": {},
     "output_type": "execute_result"
    }
   ],
   "source": [
    "set(df_train.columns) - set(df_test.columns)"
   ]
  },
  {
   "cell_type": "code",
   "execution_count": 13,
   "metadata": {},
   "outputs": [],
   "source": [
    "df_train.drop('Heating', axis = 1, inplace = True)"
   ]
  },
  {
   "cell_type": "code",
   "execution_count": 14,
   "metadata": {},
   "outputs": [],
   "source": [
    "def num_col_handler(df):\n",
    "    numeric_cols = df.select_dtypes(include=np.number).columns.tolist()\n",
    "    if 'SalePrice' in numeric_cols:\n",
    "        numeric_cols.remove('SalePrice')\n",
    "    for c in numeric_cols:\n",
    "        if df[c].isnull().any():\n",
    "            df[c].fillna(df[c].mean(), inplace = True)\n",
    "    return 'done'"
   ]
  },
  {
   "cell_type": "code",
   "execution_count": 15,
   "metadata": {},
   "outputs": [
    {
     "data": {
      "text/plain": [
       "'done'"
      ]
     },
     "execution_count": 15,
     "metadata": {},
     "output_type": "execute_result"
    }
   ],
   "source": [
    "num_col_handler(df_train)"
   ]
  },
  {
   "cell_type": "code",
   "execution_count": 16,
   "metadata": {},
   "outputs": [
    {
     "data": {
      "text/plain": [
       "'done'"
      ]
     },
     "execution_count": 16,
     "metadata": {},
     "output_type": "execute_result"
    }
   ],
   "source": [
    "num_col_handler(df_test)"
   ]
  },
  {
   "cell_type": "code",
   "execution_count": 17,
   "metadata": {},
   "outputs": [
    {
     "data": {
      "text/plain": [
       "{'SalePrice'}"
      ]
     },
     "execution_count": 17,
     "metadata": {},
     "output_type": "execute_result"
    }
   ],
   "source": [
    "set(df_train.columns.tolist()) - set(df_test.columns.tolist())"
   ]
  },
  {
   "cell_type": "code",
   "execution_count": 19,
   "metadata": {},
   "outputs": [],
   "source": [
    "num_cols = df_train.select_dtypes(include=np.number).columns.tolist()\n",
    "num_cols.remove('SalePrice')"
   ]
  },
  {
   "cell_type": "code",
   "execution_count": 40,
   "metadata": {},
   "outputs": [],
   "source": [
    "cols_drop = list(set(df_train.columns) - set(df_test.columns)) + list(set(df_test.columns) - set(df_train.columns))\n",
    "cols_drop.remove('SalePrice')"
   ]
  },
  {
   "cell_type": "code",
   "execution_count": 41,
   "metadata": {},
   "outputs": [],
   "source": [
    "for c in cols_drop:\n",
    "    if c in df_train.columns: df_train.drop(c, axis = 1, inplace = True)\n",
    "    if c in df_test.columns: df_test.drop(c, axis = 1, inplace = True)"
   ]
  },
  {
   "cell_type": "code",
   "execution_count": 42,
   "metadata": {},
   "outputs": [],
   "source": [
    "non_num_cols = list(set(df_train.columns) - set(num_cols))"
   ]
  },
  {
   "cell_type": "code",
   "execution_count": 43,
   "metadata": {},
   "outputs": [],
   "source": [
    "train_mean = df_train[num_cols].mean()\n",
    "train_std = df_train[num_cols].std()"
   ]
  },
  {
   "cell_type": "code",
   "execution_count": 44,
   "metadata": {},
   "outputs": [],
   "source": [
    "df_train[num_cols] = (df_train[num_cols] - train_mean) / train_std\n",
    "df_test[num_cols] = (df_test[num_cols] - train_mean) / train_std"
   ]
  },
  {
   "cell_type": "code",
   "execution_count": 45,
   "metadata": {},
   "outputs": [],
   "source": [
    "df_train = pd.get_dummies(df_train, drop_first = True)\n",
    "df_test = pd.get_dummies(df_test, drop_first = True)"
   ]
  },
  {
   "cell_type": "code",
   "execution_count": 46,
   "metadata": {},
   "outputs": [],
   "source": [
    "cols_drop = list(set(df_train.columns) - set(df_test.columns)) + list(set(df_test.columns) - set(df_train.columns))\n",
    "cols_drop.remove('SalePrice')"
   ]
  },
  {
   "cell_type": "code",
   "execution_count": 47,
   "metadata": {},
   "outputs": [],
   "source": [
    "for c in cols_drop:\n",
    "    if c in df_train.columns: df_train.drop(c, axis = 1, inplace = True)\n",
    "    if c in df_test.columns: df_test.drop(c, axis = 1, inplace = True)"
   ]
  },
  {
   "cell_type": "code",
   "execution_count": null,
   "metadata": {},
   "outputs": [],
   "source": []
  },
  {
   "cell_type": "code",
   "execution_count": 48,
   "metadata": {},
   "outputs": [],
   "source": [
    "X_train = df_train.loc[:, df_train.columns != 'SalePrice']\n",
    "y_train = np.log(df_train['SalePrice'])\n",
    "X_test = df_test.loc[:, df_test.columns != 'SalePrice']"
   ]
  },
  {
   "cell_type": "markdown",
   "metadata": {},
   "source": [
    "Ready to Fit"
   ]
  },
  {
   "cell_type": "code",
   "execution_count": 49,
   "metadata": {},
   "outputs": [],
   "source": [
    "rfc = RandomForestRegressor()"
   ]
  },
  {
   "cell_type": "code",
   "execution_count": 50,
   "metadata": {},
   "outputs": [],
   "source": [
    "rfc_param_grid = {\n",
    "    'max_features': [1,2,0.5,'sqrt','log2'],\n",
    "    'min_samples_leaf': [1,2,3,5,10],\n",
    "    'n_estimators': [1,5,10,25,100,1000]\n",
    "}"
   ]
  },
  {
   "cell_type": "code",
   "execution_count": 51,
   "metadata": {},
   "outputs": [],
   "source": [
    "scorer = make_scorer(mean_squared_error, greater_is_better = False)"
   ]
  },
  {
   "cell_type": "code",
   "execution_count": 52,
   "metadata": {},
   "outputs": [],
   "source": [
    "grid = GridSearchCV(estimator = rfc, param_grid = rfc_param_grid, cv = 10, scoring = scorer)"
   ]
  },
  {
   "cell_type": "code",
   "execution_count": 66,
   "metadata": {},
   "outputs": [
    {
     "data": {
      "text/plain": [
       "GridSearchCV(cv=10, error_score='raise-deprecating',\n",
       "       estimator=RandomForestRegressor(bootstrap=True, criterion='mse', max_depth=None,\n",
       "           max_features=0.5, max_leaf_nodes=None,\n",
       "           min_impurity_decrease=0.0, min_impurity_split=None,\n",
       "           min_samples_leaf=1, min_samples_split=2,\n",
       "           min_weight_fraction_leaf=0.0, n_estimators=1000, n_jobs=None,\n",
       "           oob_score=False, random_state=None, verbose=0, warm_start=False),\n",
       "       fit_params=None, iid='warn', n_jobs=None,\n",
       "       param_grid={'max_features': [1, 2, 0.5, 'sqrt', 'log2'], 'min_samples_leaf': [1, 2, 3, 5, 10], 'n_estimators': [1, 5, 10, 25, 100, 1000]},\n",
       "       pre_dispatch='2*n_jobs', refit=True, return_train_score='warn',\n",
       "       scoring=make_scorer(mean_squared_error, greater_is_better=False),\n",
       "       verbose=0)"
      ]
     },
     "execution_count": 66,
     "metadata": {},
     "output_type": "execute_result"
    }
   ],
   "source": [
    "grid.fit(X_train, y_train)"
   ]
  },
  {
   "cell_type": "code",
   "execution_count": 67,
   "metadata": {},
   "outputs": [
    {
     "data": {
      "text/plain": [
       "-0.0025745271972179014"
      ]
     },
     "execution_count": 67,
     "metadata": {},
     "output_type": "execute_result"
    }
   ],
   "source": [
    "grid.score(X_train, y_train)"
   ]
  },
  {
   "cell_type": "code",
   "execution_count": 68,
   "metadata": {},
   "outputs": [
    {
     "data": {
      "text/plain": [
       "{'max_features': 0.5, 'min_samples_leaf': 1, 'n_estimators': 1000}"
      ]
     },
     "execution_count": 68,
     "metadata": {},
     "output_type": "execute_result"
    }
   ],
   "source": [
    "grid.best_params_"
   ]
  },
  {
   "cell_type": "code",
   "execution_count": 53,
   "metadata": {},
   "outputs": [
    {
     "data": {
      "text/plain": [
       "RandomForestRegressor(bootstrap=True, criterion='mse', max_depth=None,\n",
       "           max_features=0.5, max_leaf_nodes=None,\n",
       "           min_impurity_decrease=0.0, min_impurity_split=None,\n",
       "           min_samples_leaf=1, min_samples_split=2,\n",
       "           min_weight_fraction_leaf=0.0, n_estimators=1000, n_jobs=None,\n",
       "           oob_score=False, random_state=None, verbose=0, warm_start=False)"
      ]
     },
     "execution_count": 53,
     "metadata": {},
     "output_type": "execute_result"
    }
   ],
   "source": [
    "rfc.set_params(n_estimators = 1000, \n",
    "              max_features = 0.5, \n",
    "              min_samples_leaf = 1)\n",
    "rfc.fit(X_train, y_train)"
   ]
  },
  {
   "cell_type": "code",
   "execution_count": 54,
   "metadata": {},
   "outputs": [],
   "source": [
    "y_test = np.expm1(rfc.predict(X_test))"
   ]
  },
  {
   "cell_type": "code",
   "execution_count": 56,
   "metadata": {},
   "outputs": [],
   "source": [
    "df_submission = pd.read_csv('./data/iowa_housing/sample_predictions.csv')\n",
    "df_submission['SalePrice'] = pd.Series(y_test)"
   ]
  },
  {
   "cell_type": "code",
   "execution_count": 57,
   "metadata": {},
   "outputs": [],
   "source": [
    "df_submission.to_csv('./data/iowa_housing/ts_predictions_2.csv', index=False)"
   ]
  },
  {
   "cell_type": "code",
   "execution_count": 58,
   "metadata": {},
   "outputs": [
    {
     "data": {
      "text/html": [
       "<div>\n",
       "<style scoped>\n",
       "    .dataframe tbody tr th:only-of-type {\n",
       "        vertical-align: middle;\n",
       "    }\n",
       "\n",
       "    .dataframe tbody tr th {\n",
       "        vertical-align: top;\n",
       "    }\n",
       "\n",
       "    .dataframe thead th {\n",
       "        text-align: right;\n",
       "    }\n",
       "</style>\n",
       "<table border=\"1\" class=\"dataframe\">\n",
       "  <thead>\n",
       "    <tr style=\"text-align: right;\">\n",
       "      <th></th>\n",
       "      <th>Id</th>\n",
       "      <th>SalePrice</th>\n",
       "    </tr>\n",
       "  </thead>\n",
       "  <tbody>\n",
       "    <tr>\n",
       "      <th>0</th>\n",
       "      <td>1461</td>\n",
       "      <td>124046.010191</td>\n",
       "    </tr>\n",
       "    <tr>\n",
       "      <th>1</th>\n",
       "      <td>1462</td>\n",
       "      <td>152941.335770</td>\n",
       "    </tr>\n",
       "    <tr>\n",
       "      <th>2</th>\n",
       "      <td>1463</td>\n",
       "      <td>178682.722523</td>\n",
       "    </tr>\n",
       "    <tr>\n",
       "      <th>3</th>\n",
       "      <td>1464</td>\n",
       "      <td>182991.903583</td>\n",
       "    </tr>\n",
       "    <tr>\n",
       "      <th>4</th>\n",
       "      <td>1465</td>\n",
       "      <td>196141.730901</td>\n",
       "    </tr>\n",
       "    <tr>\n",
       "      <th>5</th>\n",
       "      <td>1466</td>\n",
       "      <td>183778.361753</td>\n",
       "    </tr>\n",
       "    <tr>\n",
       "      <th>6</th>\n",
       "      <td>1467</td>\n",
       "      <td>170138.665246</td>\n",
       "    </tr>\n",
       "    <tr>\n",
       "      <th>7</th>\n",
       "      <td>1468</td>\n",
       "      <td>175492.775121</td>\n",
       "    </tr>\n",
       "    <tr>\n",
       "      <th>8</th>\n",
       "      <td>1469</td>\n",
       "      <td>182793.567654</td>\n",
       "    </tr>\n",
       "    <tr>\n",
       "      <th>9</th>\n",
       "      <td>1470</td>\n",
       "      <td>122661.428239</td>\n",
       "    </tr>\n",
       "    <tr>\n",
       "      <th>10</th>\n",
       "      <td>1471</td>\n",
       "      <td>201557.995598</td>\n",
       "    </tr>\n",
       "    <tr>\n",
       "      <th>11</th>\n",
       "      <td>1472</td>\n",
       "      <td>93840.820497</td>\n",
       "    </tr>\n",
       "    <tr>\n",
       "      <th>12</th>\n",
       "      <td>1473</td>\n",
       "      <td>96687.176850</td>\n",
       "    </tr>\n",
       "    <tr>\n",
       "      <th>13</th>\n",
       "      <td>1474</td>\n",
       "      <td>152036.526964</td>\n",
       "    </tr>\n",
       "    <tr>\n",
       "      <th>14</th>\n",
       "      <td>1475</td>\n",
       "      <td>133405.102812</td>\n",
       "    </tr>\n",
       "    <tr>\n",
       "      <th>15</th>\n",
       "      <td>1476</td>\n",
       "      <td>367895.550430</td>\n",
       "    </tr>\n",
       "    <tr>\n",
       "      <th>16</th>\n",
       "      <td>1477</td>\n",
       "      <td>251838.471794</td>\n",
       "    </tr>\n",
       "    <tr>\n",
       "      <th>17</th>\n",
       "      <td>1478</td>\n",
       "      <td>300828.977964</td>\n",
       "    </tr>\n",
       "    <tr>\n",
       "      <th>18</th>\n",
       "      <td>1479</td>\n",
       "      <td>251565.450396</td>\n",
       "    </tr>\n",
       "    <tr>\n",
       "      <th>19</th>\n",
       "      <td>1480</td>\n",
       "      <td>466997.545071</td>\n",
       "    </tr>\n",
       "    <tr>\n",
       "      <th>20</th>\n",
       "      <td>1481</td>\n",
       "      <td>303807.293744</td>\n",
       "    </tr>\n",
       "    <tr>\n",
       "      <th>21</th>\n",
       "      <td>1482</td>\n",
       "      <td>205294.335148</td>\n",
       "    </tr>\n",
       "    <tr>\n",
       "      <th>22</th>\n",
       "      <td>1483</td>\n",
       "      <td>178852.486947</td>\n",
       "    </tr>\n",
       "    <tr>\n",
       "      <th>23</th>\n",
       "      <td>1484</td>\n",
       "      <td>173305.173705</td>\n",
       "    </tr>\n",
       "    <tr>\n",
       "      <th>24</th>\n",
       "      <td>1485</td>\n",
       "      <td>173201.103214</td>\n",
       "    </tr>\n",
       "    <tr>\n",
       "      <th>25</th>\n",
       "      <td>1486</td>\n",
       "      <td>197933.295731</td>\n",
       "    </tr>\n",
       "    <tr>\n",
       "      <th>26</th>\n",
       "      <td>1487</td>\n",
       "      <td>305739.338981</td>\n",
       "    </tr>\n",
       "    <tr>\n",
       "      <th>27</th>\n",
       "      <td>1488</td>\n",
       "      <td>232227.910757</td>\n",
       "    </tr>\n",
       "    <tr>\n",
       "      <th>28</th>\n",
       "      <td>1489</td>\n",
       "      <td>208257.341012</td>\n",
       "    </tr>\n",
       "    <tr>\n",
       "      <th>29</th>\n",
       "      <td>1490</td>\n",
       "      <td>199135.708290</td>\n",
       "    </tr>\n",
       "    <tr>\n",
       "      <th>...</th>\n",
       "      <td>...</td>\n",
       "      <td>...</td>\n",
       "    </tr>\n",
       "    <tr>\n",
       "      <th>1429</th>\n",
       "      <td>2890</td>\n",
       "      <td>83268.367690</td>\n",
       "    </tr>\n",
       "    <tr>\n",
       "      <th>1430</th>\n",
       "      <td>2891</td>\n",
       "      <td>137814.430048</td>\n",
       "    </tr>\n",
       "    <tr>\n",
       "      <th>1431</th>\n",
       "      <td>2892</td>\n",
       "      <td>61245.988662</td>\n",
       "    </tr>\n",
       "    <tr>\n",
       "      <th>1432</th>\n",
       "      <td>2893</td>\n",
       "      <td>103421.750921</td>\n",
       "    </tr>\n",
       "    <tr>\n",
       "      <th>1433</th>\n",
       "      <td>2894</td>\n",
       "      <td>63117.128579</td>\n",
       "    </tr>\n",
       "    <tr>\n",
       "      <th>1434</th>\n",
       "      <td>2895</td>\n",
       "      <td>307865.542377</td>\n",
       "    </tr>\n",
       "    <tr>\n",
       "      <th>1435</th>\n",
       "      <td>2896</td>\n",
       "      <td>283832.973919</td>\n",
       "    </tr>\n",
       "    <tr>\n",
       "      <th>1436</th>\n",
       "      <td>2897</td>\n",
       "      <td>196870.515033</td>\n",
       "    </tr>\n",
       "    <tr>\n",
       "      <th>1437</th>\n",
       "      <td>2898</td>\n",
       "      <td>147100.907095</td>\n",
       "    </tr>\n",
       "    <tr>\n",
       "      <th>1438</th>\n",
       "      <td>2899</td>\n",
       "      <td>228219.308587</td>\n",
       "    </tr>\n",
       "    <tr>\n",
       "      <th>1439</th>\n",
       "      <td>2900</td>\n",
       "      <td>156137.263751</td>\n",
       "    </tr>\n",
       "    <tr>\n",
       "      <th>1440</th>\n",
       "      <td>2901</td>\n",
       "      <td>186260.923241</td>\n",
       "    </tr>\n",
       "    <tr>\n",
       "      <th>1441</th>\n",
       "      <td>2902</td>\n",
       "      <td>187046.080861</td>\n",
       "    </tr>\n",
       "    <tr>\n",
       "      <th>1442</th>\n",
       "      <td>2903</td>\n",
       "      <td>344377.123280</td>\n",
       "    </tr>\n",
       "    <tr>\n",
       "      <th>1443</th>\n",
       "      <td>2904</td>\n",
       "      <td>348945.087474</td>\n",
       "    </tr>\n",
       "    <tr>\n",
       "      <th>1444</th>\n",
       "      <td>2905</td>\n",
       "      <td>105450.985793</td>\n",
       "    </tr>\n",
       "    <tr>\n",
       "      <th>1445</th>\n",
       "      <td>2906</td>\n",
       "      <td>202729.434077</td>\n",
       "    </tr>\n",
       "    <tr>\n",
       "      <th>1446</th>\n",
       "      <td>2907</td>\n",
       "      <td>114735.479502</td>\n",
       "    </tr>\n",
       "    <tr>\n",
       "      <th>1447</th>\n",
       "      <td>2908</td>\n",
       "      <td>128173.184293</td>\n",
       "    </tr>\n",
       "    <tr>\n",
       "      <th>1448</th>\n",
       "      <td>2909</td>\n",
       "      <td>142499.179412</td>\n",
       "    </tr>\n",
       "    <tr>\n",
       "      <th>1449</th>\n",
       "      <td>2910</td>\n",
       "      <td>83401.090715</td>\n",
       "    </tr>\n",
       "    <tr>\n",
       "      <th>1450</th>\n",
       "      <td>2911</td>\n",
       "      <td>85418.068144</td>\n",
       "    </tr>\n",
       "    <tr>\n",
       "      <th>1451</th>\n",
       "      <td>2912</td>\n",
       "      <td>152628.619529</td>\n",
       "    </tr>\n",
       "    <tr>\n",
       "      <th>1452</th>\n",
       "      <td>2913</td>\n",
       "      <td>88612.669189</td>\n",
       "    </tr>\n",
       "    <tr>\n",
       "      <th>1453</th>\n",
       "      <td>2914</td>\n",
       "      <td>84466.500197</td>\n",
       "    </tr>\n",
       "    <tr>\n",
       "      <th>1454</th>\n",
       "      <td>2915</td>\n",
       "      <td>85485.552699</td>\n",
       "    </tr>\n",
       "    <tr>\n",
       "      <th>1455</th>\n",
       "      <td>2916</td>\n",
       "      <td>86633.435712</td>\n",
       "    </tr>\n",
       "    <tr>\n",
       "      <th>1456</th>\n",
       "      <td>2917</td>\n",
       "      <td>154138.165206</td>\n",
       "    </tr>\n",
       "    <tr>\n",
       "      <th>1457</th>\n",
       "      <td>2918</td>\n",
       "      <td>112571.044011</td>\n",
       "    </tr>\n",
       "    <tr>\n",
       "      <th>1458</th>\n",
       "      <td>2919</td>\n",
       "      <td>229797.870195</td>\n",
       "    </tr>\n",
       "  </tbody>\n",
       "</table>\n",
       "<p>1459 rows × 2 columns</p>\n",
       "</div>"
      ],
      "text/plain": [
       "        Id      SalePrice\n",
       "0     1461  124046.010191\n",
       "1     1462  152941.335770\n",
       "2     1463  178682.722523\n",
       "3     1464  182991.903583\n",
       "4     1465  196141.730901\n",
       "5     1466  183778.361753\n",
       "6     1467  170138.665246\n",
       "7     1468  175492.775121\n",
       "8     1469  182793.567654\n",
       "9     1470  122661.428239\n",
       "10    1471  201557.995598\n",
       "11    1472   93840.820497\n",
       "12    1473   96687.176850\n",
       "13    1474  152036.526964\n",
       "14    1475  133405.102812\n",
       "15    1476  367895.550430\n",
       "16    1477  251838.471794\n",
       "17    1478  300828.977964\n",
       "18    1479  251565.450396\n",
       "19    1480  466997.545071\n",
       "20    1481  303807.293744\n",
       "21    1482  205294.335148\n",
       "22    1483  178852.486947\n",
       "23    1484  173305.173705\n",
       "24    1485  173201.103214\n",
       "25    1486  197933.295731\n",
       "26    1487  305739.338981\n",
       "27    1488  232227.910757\n",
       "28    1489  208257.341012\n",
       "29    1490  199135.708290\n",
       "...    ...            ...\n",
       "1429  2890   83268.367690\n",
       "1430  2891  137814.430048\n",
       "1431  2892   61245.988662\n",
       "1432  2893  103421.750921\n",
       "1433  2894   63117.128579\n",
       "1434  2895  307865.542377\n",
       "1435  2896  283832.973919\n",
       "1436  2897  196870.515033\n",
       "1437  2898  147100.907095\n",
       "1438  2899  228219.308587\n",
       "1439  2900  156137.263751\n",
       "1440  2901  186260.923241\n",
       "1441  2902  187046.080861\n",
       "1442  2903  344377.123280\n",
       "1443  2904  348945.087474\n",
       "1444  2905  105450.985793\n",
       "1445  2906  202729.434077\n",
       "1446  2907  114735.479502\n",
       "1447  2908  128173.184293\n",
       "1448  2909  142499.179412\n",
       "1449  2910   83401.090715\n",
       "1450  2911   85418.068144\n",
       "1451  2912  152628.619529\n",
       "1452  2913   88612.669189\n",
       "1453  2914   84466.500197\n",
       "1454  2915   85485.552699\n",
       "1455  2916   86633.435712\n",
       "1456  2917  154138.165206\n",
       "1457  2918  112571.044011\n",
       "1458  2919  229797.870195\n",
       "\n",
       "[1459 rows x 2 columns]"
      ]
     },
     "execution_count": 58,
     "metadata": {},
     "output_type": "execute_result"
    }
   ],
   "source": [
    "df_submission"
   ]
  },
  {
   "cell_type": "code",
   "execution_count": null,
   "metadata": {},
   "outputs": [],
   "source": [
    "# old score: 0.16798\n",
    "# first round: 0.14225\n",
    "# second round: 0.14192"
   ]
  },
  {
   "cell_type": "code",
   "execution_count": 63,
   "metadata": {},
   "outputs": [
    {
     "data": {
      "text/plain": [
       "[(0.3358257714851593, 'OverallQual'),\n",
       " (0.1613311354898265, 'GrLivArea'),\n",
       " (0.07318595986094313, 'YearBuilt'),\n",
       " (0.04425295848742036, 'TotalBsmtSF'),\n",
       " (0.0435606078052571, 'GarageCars'),\n",
       " (0.038594421014799506, 'ExterQual_TA'),\n",
       " (0.032939909180598345, '1stFlrSF'),\n",
       " (0.032143881496938524, 'GarageArea'),\n",
       " (0.019846601508318948, 'BsmtFinSF1'),\n",
       " (0.01720665064586645, 'LotArea'),\n",
       " (0.016758847513766634, 'FullBath'),\n",
       " (0.012616633553219282, 'Fireplaces'),\n",
       " (0.01203103230061818, 'CentralAir_Y'),\n",
       " (0.010672200529539702, '2ndFlrSF'),\n",
       " (0.010465427064154478, 'YearRemodAdd'),\n",
       " (0.010323817447840233, 'OverallCond'),\n",
       " (0.009363186932242175, 'GarageYrBlt'),\n",
       " (0.007812465096475638, 'LotFrontage'),\n",
       " (0.005638046682409965, 'BsmtUnfSF'),\n",
       " (0.00465751317204866, 'TotRmsAbvGrd'),\n",
       " (0.004412764505529028, 'OpenPorchSF'),\n",
       " (0.003772895582416073, 'GarageType_Attchd'),\n",
       " (0.0036096902199339817, 'MasVnrArea'),\n",
       " (0.0033750995719894184, 'MoSold'),\n",
       " (0.0032112310641367607, 'MSZoning_RM'),\n",
       " (0.0031471965836505546, 'MSSubClass'),\n",
       " (0.0030782911414131927, 'WoodDeckSF'),\n",
       " (0.003047209806943229, 'KitchenQual_TA'),\n",
       " (0.0027536436094727245, 'BsmtQual_Gd'),\n",
       " (0.0026912903841857564, 'BedroomAbvGr'),\n",
       " (0.0023016277500400133, 'GarageType_Detchd'),\n",
       " (0.001968824776547485, 'GarageQual_TA'),\n",
       " (0.0019508209863341834, 'KitchenQual_Gd'),\n",
       " (0.001711792857619849, 'YrSold'),\n",
       " (0.0016946032168555821, 'MSZoning_other'),\n",
       " (0.0016166737258147335, 'GarageCond_TA'),\n",
       " (0.0015890224779394372, 'MSZoning_RL'),\n",
       " (0.0015499811333212806, 'EnclosedPorch'),\n",
       " (0.001538658316805583, 'GarageFinish_Unf'),\n",
       " (0.0014781417314034906, 'ExterQual_Gd'),\n",
       " (0.0014231016271900074, 'BsmtFullBath'),\n",
       " (0.0013940548094575574, 'HalfBath'),\n",
       " (0.001298584845156063, 'ExterCond_Fa'),\n",
       " (0.0012697669030241844, 'KitchenAbvGr'),\n",
       " (0.0011840244444954815, 'SaleCondition_Normal'),\n",
       " (0.0011082083152166157, 'LotShape_Reg'),\n",
       " (0.0010343128857017432, 'ExterQual_Fa'),\n",
       " (0.0009817189011374953, 'PavedDrive_Y'),\n",
       " (0.0009559872968387263, 'Neighborhood_Edwards'),\n",
       " (0.0009112141084603006, 'Neighborhood_Crawfor'),\n",
       " (0.0008819748944526715, 'Neighborhood_IDOTRR'),\n",
       " (0.0008375233940329122, 'BsmtExposure_Gd'),\n",
       " (0.0008282607936480967, 'Fence_GdWo'),\n",
       " (0.0008249374917446217, 'BsmtFinType1_GLQ'),\n",
       " (0.0007590215845611146, 'BsmtFinType1_Unf'),\n",
       " (0.0007516402386589581, 'Neighborhood_OldTown'),\n",
       " (0.000746882374370743, 'Functional_Typ'),\n",
       " (0.0007214528514608385, 'BsmtExposure_No'),\n",
       " (0.0007121546023173065, 'Foundation_PConc'),\n",
       " (0.0007104138437276861, 'BsmtQual_TA'),\n",
       " (0.0007050656099863817, 'LandContour_Lvl'),\n",
       " (0.000701675299600091, 'HeatingQC_Fa'),\n",
       " (0.0006816840680296392, 'Exterior1st_VinylSd'),\n",
       " (0.00066392898071493, 'SaleCondition_other'),\n",
       " (0.0006589952468403757, 'FireplaceQu_Gd'),\n",
       " (0.0006418510759173495, 'BsmtFinSF2'),\n",
       " (0.0006366179542366681, 'Exterior2nd_VinylSd'),\n",
       " (0.000628183240241981, 'GarageFinish_RFn'),\n",
       " (0.0006259720017837467, 'Electrical_SBrkr'),\n",
       " (0.0006255320832578459, 'BsmtCond_TA'),\n",
       " (0.0006021767485265583, 'RoofStyle_Hip'),\n",
       " (0.000589471389169584, 'HeatingQC_TA'),\n",
       " (0.000565487938309955, 'KitchenQual_Fa'),\n",
       " (0.0005609558659531308, 'Condition1_Norm'),\n",
       " (0.0005544391373514337, 'ExterCond_TA'),\n",
       " (0.0005362329156433689, 'Alley_other'),\n",
       " (0.0004989288279567356, 'ScreenPorch'),\n",
       " (0.0004732716839809027, 'Foundation_CBlock'),\n",
       " (0.0004700581608220847, 'SaleType_WD'),\n",
       " (0.00046908435825047327, 'HouseStyle_2Story'),\n",
       " (0.00046892648977301743, 'LotConfig_Inside'),\n",
       " (0.0004598507578371229, 'Functional_Mod'),\n",
       " (0.00045966692082274283, 'LandSlope_Mod'),\n",
       " (0.0004570636758229164, 'Alley_Pave'),\n",
       " (0.0004501053854137594, 'HouseStyle_1Story'),\n",
       " (0.0004428485847941322, 'Neighborhood_other'),\n",
       " (0.0004375521051798881, 'Exterior1st_other'),\n",
       " (0.0004181432019158435, 'Neighborhood_NAmes'),\n",
       " (0.00040513869575748676, 'Exterior1st_Wd Sdng'),\n",
       " (0.0003856724868878784, 'Exterior2nd_other'),\n",
       " (0.0003843067117253681, 'Condition1_Feedr'),\n",
       " (0.00036327468535324764, 'FireplaceQu_TA'),\n",
       " (0.0003563229451472988, 'ExterCond_Gd'),\n",
       " (0.00035148439540406105, 'Functional_Maj2'),\n",
       " (0.00034012632695157985, 'HeatingQC_Gd'),\n",
       " (0.0003253093414344635, 'MasVnrType_None'),\n",
       " (0.0003226349751802471, 'Exterior2nd_Wd Sdng'),\n",
       " (0.00032077202708256355, 'Exterior1st_MetalSd'),\n",
       " (0.00031359825684002364, 'RoofStyle_other'),\n",
       " (0.0003012287927599114, 'MasVnrType_Stone'),\n",
       " (0.000296970136236199, 'Fence_MnPrv'),\n",
       " (0.000291286356007299, 'FireplaceQu_Po'),\n",
       " (0.00028612769048208607, 'Exterior2nd_MetalSd'),\n",
       " (0.0002804522817691287, 'SaleCondition_Partial'),\n",
       " (0.0002621601089402649, 'Exterior1st_Plywood'),\n",
       " (0.00026142508208171813, 'BsmtHalfBath'),\n",
       " (0.00025784753928627895, 'BsmtQual_Fa'),\n",
       " (0.0002557810443490039, 'Exterior2nd_Plywood'),\n",
       " (0.00025285038458954797, 'MiscVal'),\n",
       " (0.0002508166396322612, 'Neighborhood_Sawyer'),\n",
       " (0.000250807518267942, 'LandContour_HLS'),\n",
       " (0.00024852650951429366, 'Exterior1st_HdBoard'),\n",
       " (0.00024819745965179495, 'Exterior2nd_HdBoard'),\n",
       " (0.0002449641496708644, 'BsmtFinType1_Rec'),\n",
       " (0.00024004695284666352, 'Neighborhood_CollgCr'),\n",
       " (0.00023843916636579122, 'BsmtFinType2_Unf'),\n",
       " (0.00023036419053582924, 'SaleType_New'),\n",
       " (0.0002289388017073377, 'Exterior1st_CemntBd'),\n",
       " (0.0002287160735420237, 'BsmtFinType1_BLQ'),\n",
       " (0.00021183051884651624, 'BsmtFinType1_LwQ'),\n",
       " (0.00021131326707707966, 'Neighborhood_Somerst'),\n",
       " (0.00020929718035212887, 'HouseStyle_SLvl'),\n",
       " (0.00020108019637426347, 'Condition1_other'),\n",
       " (0.00019852092317808713, 'BldgType_Duplex'),\n",
       " (0.00019491870089533697, 'LowQualFinSF'),\n",
       " (0.00019430337599744843, 'LotConfig_CulDSac'),\n",
       " (0.00019408189336289633, 'Neighborhood_NridgHt'),\n",
       " (0.00018916663218169745, 'GarageCond_Fa'),\n",
       " (0.00018446876917086214, 'PavedDrive_P'),\n",
       " (0.00018317815161864677, 'BsmtExposure_Mn'),\n",
       " (0.00018067980204698213, 'Neighborhood_NWAmes'),\n",
       " (0.00017918482966924749, 'Neighborhood_NoRidge'),\n",
       " (0.00016986278734894785, 'GarageType_CarPort'),\n",
       " (0.0001698448505188624, 'BsmtFinType2_BLQ'),\n",
       " (0.0001621011950213896, 'BsmtCond_Gd'),\n",
       " (0.00015857211736410536, 'Neighborhood_Mitchel'),\n",
       " (0.00015569995050293038, 'MasVnrType_other'),\n",
       " (0.0001445601619363347, 'GarageType_BuiltIn'),\n",
       " (0.00014175173723290953, 'GarageType_Basment'),\n",
       " (0.00013714781309526118, 'LotConfig_FR2'),\n",
       " (0.00013371461460505874, 'Foundation_other'),\n",
       " (0.0001315965813753634, 'Electrical_FuseF'),\n",
       " (0.0001280200182293241, 'Exterior2nd_Wd Shng'),\n",
       " (0.00012178432697741559, 'Neighborhood_Gilbert'),\n",
       " (0.00011784250141091789, 'MiscFeature_other'),\n",
       " (0.00011706549501770291, '3SsnPorch'),\n",
       " (0.00011358099229523707, 'LotShape_IR2'),\n",
       " (0.00011021655476360195, 'Functional_Min2'),\n",
       " (0.00010740133089892238, 'HouseStyle_other'),\n",
       " (0.00010673337007855443, 'LandSlope_Sev'),\n",
       " (0.00010342622839576698, 'LotShape_other'),\n",
       " (0.00010278482411476364, 'BldgType_TwnhsE'),\n",
       " (9.79809288685312e-05, 'Functional_Min1'),\n",
       " (9.270201550688555e-05, 'PoolArea'),\n",
       " (8.372051678865895e-05, 'Neighborhood_SawyerW'),\n",
       " (8.074313103125514e-05, 'BsmtFinType2_LwQ'),\n",
       " (8.064882146546887e-05, 'BsmtFinType2_Rec'),\n",
       " (7.640678330399853e-05, 'Neighborhood_Timber'),\n",
       " (7.19085748942885e-05, 'BldgType_Twnhs'),\n",
       " (6.996725865787049e-05, 'SaleType_ConLD'),\n",
       " (6.27935965431488e-05, 'PoolQC_Gd'),\n",
       " (5.7106967433189505e-05, 'BldgType_2fmCon'),\n",
       " (5.2747990743882586e-05, 'Functional_Sev'),\n",
       " (5.1384682023911286e-05, 'GarageCond_Po'),\n",
       " (4.981583797161634e-05, 'Electrical_FuseP'),\n",
       " (3.702954250594309e-05, 'FireplaceQu_Fa'),\n",
       " (3.4488197380966205e-05, 'BsmtCond_Po'),\n",
       " (3.3590019028311555e-05, 'HouseStyle_SFoyer'),\n",
       " (3.223161116981486e-05, 'BsmtFinType2_GLQ'),\n",
       " (2.9061186280417332e-05, 'GarageQual_Gd'),\n",
       " (2.8352487291524415e-05, 'GarageQual_Po'),\n",
       " (2.287501626095516e-05, 'SaleType_Oth'),\n",
       " (2.1744439510086102e-05, 'ExterCond_Po'),\n",
       " (1.8089885660433022e-05, 'LotConfig_FR3'),\n",
       " (1.7409376211665623e-05, 'SaleType_ConLI'),\n",
       " (1.5509393651629994e-05, 'SaleType_CWD'),\n",
       " (1.5460266688622094e-05, 'GarageCond_Gd'),\n",
       " (1.484484080255845e-05, 'SaleType_ConLw'),\n",
       " (1.1352328809187374e-05, 'Fence_MnWw'),\n",
       " (2.4452123789198538e-06, 'SaleType_Con'),\n",
       " (1.7370496002031015e-06, 'HeatingQC_Po')]"
      ]
     },
     "execution_count": 63,
     "metadata": {},
     "output_type": "execute_result"
    }
   ],
   "source": [
    "sorted(list(zip(rfc.feature_importances_, X_train.columns)), reverse = True)"
   ]
  },
  {
   "cell_type": "markdown",
   "metadata": {},
   "source": [
    "### Old Code"
   ]
  },
  {
   "cell_type": "code",
   "execution_count": null,
   "metadata": {},
   "outputs": [],
   "source": [
    "# to conveniently optimize the random forest model, use three nested loops to tune 3 model parameters\n",
    "rf_scores = []\n",
    "\n",
    "n_tr = [1, 10, 25, 50, 100, 1000]\n",
    "spl = [1, 2, 4, 8, 16, 32]\n",
    "mx_ft = [1, 0.5, 'sqrt', 'log2', len(X_train.columns) - 1]\n",
    "\n",
    "for t in n_tr:\n",
    "    print(\"# Trees: \", t)\n",
    "    for m in mx_ft:\n",
    "        for s in spl:\n",
    "            rf.set_params(n_estimators = t,\n",
    "                          max_features = m, \n",
    "                          min_samples_leaf = s,\n",
    "                          n_jobs = -1)\n",
    "            scores = cross_val_score(estimator = rf, X = X_train, y = y_train, scoring = rmse, cv = 10)\n",
    "            rf_scores.append((np.mean(scores), t, m, s))"
   ]
  },
  {
   "cell_type": "code",
   "execution_count": null,
   "metadata": {},
   "outputs": [],
   "source": [
    "min(rf_scores)"
   ]
  },
  {
   "cell_type": "code",
   "execution_count": null,
   "metadata": {},
   "outputs": [],
   "source": [
    "rf.set_params(n_estimators = 1000, \n",
    "              max_features = 0.5, \n",
    "              min_samples_leaf = 1, \n",
    "              n_jobs = -1)\n",
    "rf.fit(X_train, y_train)"
   ]
  },
  {
   "cell_type": "code",
   "execution_count": null,
   "metadata": {},
   "outputs": [],
   "source": [
    "to_drop_train = list(set(X_train.columns) - set(X_test.columns))"
   ]
  },
  {
   "cell_type": "code",
   "execution_count": null,
   "metadata": {},
   "outputs": [],
   "source": [
    "if to_drop_train: \n",
    "    df_train.drop(to_drop_train, axis = 1,  inplace = True)"
   ]
  },
  {
   "cell_type": "code",
   "execution_count": null,
   "metadata": {},
   "outputs": [],
   "source": [
    "to_drop_test = list(set(X_test.columns) - set(X_train.columns))"
   ]
  },
  {
   "cell_type": "code",
   "execution_count": null,
   "metadata": {},
   "outputs": [],
   "source": [
    "if to_drop_test: \n",
    "    df_test.drop(to_drop_test, axis = 1,  inplace = True)"
   ]
  },
  {
   "cell_type": "code",
   "execution_count": null,
   "metadata": {},
   "outputs": [],
   "source": [
    "y_test = np.expm1(rfc.predict(X_test))"
   ]
  },
  {
   "cell_type": "code",
   "execution_count": null,
   "metadata": {},
   "outputs": [],
   "source": []
  },
  {
   "cell_type": "code",
   "execution_count": null,
   "metadata": {},
   "outputs": [],
   "source": []
  },
  {
   "cell_type": "code",
   "execution_count": null,
   "metadata": {},
   "outputs": [],
   "source": []
  },
  {
   "cell_type": "code",
   "execution_count": null,
   "metadata": {},
   "outputs": [],
   "source": [
    "rf_scores = []\n",
    "spl = [1, 2, 4, 8]\n",
    "mx_ft = [1, 0.5, 'sqrt', 'log2']\n",
    "\n",
    "for m in mx_ft:\n",
    "    for s in spl:\n",
    "        rf.set_params(max_features = m, min_samples_leaf = s, n_jobs = -1)\n",
    "        scores = cross_val_score(estimator = rf, X = X_train, y = y_train, scoring = rmse, cv = 10)\n",
    "        rf_scores.append((np.mean(scores), m, s))"
   ]
  },
  {
   "cell_type": "code",
   "execution_count": null,
   "metadata": {},
   "outputs": [],
   "source": [
    "min(rf_scores)"
   ]
  },
  {
   "cell_type": "code",
   "execution_count": null,
   "metadata": {},
   "outputs": [],
   "source": [
    "rf.set_params(max_features = 'log2', min_samples_leaf = 1, n_jobs = -1)"
   ]
  },
  {
   "cell_type": "code",
   "execution_count": null,
   "metadata": {},
   "outputs": [],
   "source": [
    "rf.fit(X_train, y_train)"
   ]
  },
  {
   "cell_type": "code",
   "execution_count": null,
   "metadata": {},
   "outputs": [],
   "source": [
    "df_test['prediction'] = rf.predict(df_test)"
   ]
  },
  {
   "cell_type": "code",
   "execution_count": null,
   "metadata": {},
   "outputs": [],
   "source": []
  },
  {
   "cell_type": "code",
   "execution_count": null,
   "metadata": {},
   "outputs": [],
   "source": []
  },
  {
   "cell_type": "code",
   "execution_count": null,
   "metadata": {},
   "outputs": [],
   "source": [
    "df_submission['SalePrice'] = pd.Series(y_test)"
   ]
  },
  {
   "cell_type": "code",
   "execution_count": null,
   "metadata": {},
   "outputs": [],
   "source": [
    "# df_submission['SalePrice'] = np.exp(df_test['prediction'])\n",
    "# old score: 0.16798"
   ]
  },
  {
   "cell_type": "code",
   "execution_count": null,
   "metadata": {},
   "outputs": [],
   "source": []
  },
  {
   "cell_type": "code",
   "execution_count": null,
   "metadata": {},
   "outputs": [],
   "source": []
  },
  {
   "cell_type": "code",
   "execution_count": null,
   "metadata": {},
   "outputs": [],
   "source": []
  }
 ],
 "metadata": {
  "kernelspec": {
   "display_name": "Python 3",
   "language": "python",
   "name": "python3"
  },
  "language_info": {
   "codemirror_mode": {
    "name": "ipython",
    "version": 3
   },
   "file_extension": ".py",
   "mimetype": "text/x-python",
   "name": "python",
   "nbconvert_exporter": "python",
   "pygments_lexer": "ipython3",
   "version": "3.7.1"
  }
 },
 "nbformat": 4,
 "nbformat_minor": 2
}
