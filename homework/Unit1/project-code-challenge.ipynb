{
 "cells": [
  {
   "cell_type": "markdown",
   "metadata": {},
   "source": [
    "<img src=\"http://imgur.com/1ZcRyrc.png\" style=\"float: left; margin: 20px; height: 55px\">\n",
    "\n",
    "# Project 1: Python Coding Exercises\n",
    "\n",
    "_Authors: Joseph Nelson (DC) _\n",
    "\n",
    "---"
   ]
  },
  {
   "cell_type": "markdown",
   "metadata": {},
   "source": [
    "The following code challenges are drawn from common exercises used in technical interviews.\n",
    "\n",
    "Please note that there may be several ways to approach each challenge. If you get stuck, try mapping out your approach in pseudocode first. Finally, while solutions to problems like these may be found online, remember that if you copy/paste code that you can't explain, you'll be missing out on the point of the project. The only way to truly learn a new skill is through practice, trial, and error - we can only help you improve by understanding where you are having trouble."
   ]
  },
  {
   "cell_type": "markdown",
   "metadata": {},
   "source": [
    "### Challenge 1: Largest Palindrome\n",
    "A palindromic number reads the same both ways. For example, 1234321 is a palindrome. The largest palindrome made from the product of two two-digit numbers is 9009 = 91 × 99. Find the largest palindrome made from the product of two three-digit numbers. Afterward, write a brief explanation walking through your code's logic in markdown."
   ]
  },
  {
   "cell_type": "code",
   "execution_count": 11,
   "metadata": {},
   "outputs": [
    {
     "name": "stdout",
     "output_type": "stream",
     "text": [
      "906609\n"
     ]
    }
   ],
   "source": [
    "# initialize empty list to append products of pairs of numbers in the range of interest\n",
    "product_list = []\n",
    "# we use two nested loops to non-redundantly calculate the product of all pairs of three digit numbers\n",
    "# the result is appended to a list of products of two three-digit numbers\n",
    "for i_1 in range(100,1000):\n",
    "    for i_2 in range(i_1,1000):\n",
    "        product_list.append(i_1 * i_2)\n",
    "\n",
    "# the product list is reversed sorted so that the largest values are first\n",
    "product_list = sorted(product_list, reverse = True)\n",
    "\n",
    "# loop through each element of the list, starting with the first and largest, and checking for if it is a palindrome\n",
    "for x in product_list:\n",
    "    # break each list element into a list; to do this requires the element to be cast as a string first\n",
    "    y = list(str(x))\n",
    "    # get the len of y for interating\n",
    "    y_len = len(y)\n",
    "    # initialize an empty list for storing the equivalence test results\n",
    "    pair_equality = []\n",
    "    # check first and last elements, second and second-last, etc\n",
    "    for i in range(y_len):\n",
    "        pair_equality.append(y[i] == y[y_len - i - 1])\n",
    "    # if all values in the pair_equality list are True, then all checks succeeded, and we've identified the first\n",
    "    # and therefore largest palindrome in our list of products of two-digit numbers; the loop is broken at this point\n",
    "    if all(pair_equality):\n",
    "        print(x)\n",
    "        break"
   ]
  },
  {
   "cell_type": "markdown",
   "metadata": {},
   "source": [
    "### Challenge 1 Solution\n",
    "###### 906609\n",
    "\n",
    "### Challenge 1 Solution Methodology\n",
    "\n",
    "The largest palindromatic number that is the product of two three digit numbers limits the range of interest to products of pairs of numbers in the range from 100 to 999. After producing a non-redundant list of all possible products of pairs, the list of products is ordered in descending order such that the largest value in the list is the first element of the list.\n",
    "\n",
    "After this list is created, a second set of nested loops steps through each element of the product list, converting each element to a string, so that it can be split to a list. An iterator checks the equivalence of the first list element against the last, then the second element against the second-to-last, and so on until the last value is checked against the first. The truth value of each check is recorded in a list. If all of the values in the truth list are True, then we have identified the larget palindrome by virtue of the fact that is the first palindromatic number identified in the decrease list."
   ]
  },
  {
   "cell_type": "markdown",
   "metadata": {},
   "source": [
    "\n",
    "### Challenge 2: Summation of Primes\n",
    "The sum of the primes below 10 is 2 + 3 + 5 + 7 = 17. Find the sum of all the primes below 2,000. Afterward, write a brief explanation walking through your code's logic in markdown."
   ]
  },
  {
   "cell_type": "code",
   "execution_count": null,
   "metadata": {
    "collapsed": true
   },
   "outputs": [],
   "source": []
  },
  {
   "cell_type": "markdown",
   "metadata": {},
   "source": [
    "### Challenge 3: Multiples of 3 and 5\n",
    "If we list all of the natural numbers below 10 that are multiples of 3 or 5, we get 3, 5, 6, and 9. The sum of these multiples is 23. Find the sum of all the multiples of 3 and 5 below 1,000. Afterward, write a brief explanation walking through your code's logic in markdown."
   ]
  },
  {
   "cell_type": "code",
   "execution_count": null,
   "metadata": {
    "collapsed": true
   },
   "outputs": [],
   "source": []
  },
  {
   "cell_type": "markdown",
   "metadata": {},
   "source": [
    "### Challenge 4: String Compressor\n",
    "Implement a method to perform basic string compression using the counts of repeated characters. (This is called run-length encoding.) For example, the string \"aabcccccaaa\" would become a2b1c5a3. If the “compressed” string would not become smaller than the original string, your method should return the original string. You can assume the string has only uppercase and lowercase letters (a–z). Specify whether your solution is case sensitive or case insensitive and what you would need to change to make it the other. Afterward, write a brief explanation walking through your code's logic in markdown."
   ]
  },
  {
   "cell_type": "code",
   "execution_count": null,
   "metadata": {
    "collapsed": true
   },
   "outputs": [],
   "source": []
  },
  {
   "cell_type": "markdown",
   "metadata": {},
   "source": [
    "### *BONUS* Challenge: FizzBuzz\n",
    "Write a program that prints all of the numbers from 1 to 100. For multiples of 3, instead of the number, print \"Fizz;\" for multiples of 5, print \"Buzz.\" For numbers that are multiples of both 3 and 5, print \"FizzBuzz.\" Afterward, write a brief explanation walking through your code's logic in markdown."
   ]
  },
  {
   "cell_type": "code",
   "execution_count": null,
   "metadata": {
    "collapsed": true
   },
   "outputs": [],
   "source": []
  }
 ],
 "metadata": {
  "anaconda-cloud": {},
  "kernelspec": {
   "display_name": "Python 3",
   "language": "python",
   "name": "python3"
  },
  "language_info": {
   "codemirror_mode": {
    "name": "ipython",
    "version": 3
   },
   "file_extension": ".py",
   "mimetype": "text/x-python",
   "name": "python",
   "nbconvert_exporter": "python",
   "pygments_lexer": "ipython3",
   "version": "3.7.1"
  }
 },
 "nbformat": 4,
 "nbformat_minor": 2
}
